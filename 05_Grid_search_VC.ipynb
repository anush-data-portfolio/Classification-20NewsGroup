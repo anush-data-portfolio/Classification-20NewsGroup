{
 "cells": [
  {
   "cell_type": "code",
   "execution_count": 1,
   "metadata": {},
   "outputs": [
    {
     "name": "stdout",
     "output_type": "stream",
     "text": [
      "\n",
      "\u001b[1m[\u001b[0m\u001b[34;49mnotice\u001b[0m\u001b[1;39;49m]\u001b[0m\u001b[39;49m A new release of pip is available: \u001b[0m\u001b[31;49m23.2.1\u001b[0m\u001b[39;49m -> \u001b[0m\u001b[32;49m23.3.1\u001b[0m\n",
      "\u001b[1m[\u001b[0m\u001b[34;49mnotice\u001b[0m\u001b[1;39;49m]\u001b[0m\u001b[39;49m To update, run: \u001b[0m\u001b[32;49mpip install --upgrade pip\u001b[0m\n",
      "\n",
      "\u001b[1m[\u001b[0m\u001b[34;49mnotice\u001b[0m\u001b[1;39;49m]\u001b[0m\u001b[39;49m A new release of pip is available: \u001b[0m\u001b[31;49m23.2.1\u001b[0m\u001b[39;49m -> \u001b[0m\u001b[32;49m23.3.1\u001b[0m\n",
      "\u001b[1m[\u001b[0m\u001b[34;49mnotice\u001b[0m\u001b[1;39;49m]\u001b[0m\u001b[39;49m To update, run: \u001b[0m\u001b[32;49mpip install --upgrade pip\u001b[0m\n",
      "\n",
      "\u001b[1m[\u001b[0m\u001b[34;49mnotice\u001b[0m\u001b[1;39;49m]\u001b[0m\u001b[39;49m A new release of pip is available: \u001b[0m\u001b[31;49m23.2.1\u001b[0m\u001b[39;49m -> \u001b[0m\u001b[32;49m23.3.1\u001b[0m\n",
      "\u001b[1m[\u001b[0m\u001b[34;49mnotice\u001b[0m\u001b[1;39;49m]\u001b[0m\u001b[39;49m To update, run: \u001b[0m\u001b[32;49mpip install --upgrade pip\u001b[0m\n",
      "\n",
      "\u001b[1m[\u001b[0m\u001b[34;49mnotice\u001b[0m\u001b[1;39;49m]\u001b[0m\u001b[39;49m A new release of pip is available: \u001b[0m\u001b[31;49m23.2.1\u001b[0m\u001b[39;49m -> \u001b[0m\u001b[32;49m23.3.1\u001b[0m\n",
      "\u001b[1m[\u001b[0m\u001b[34;49mnotice\u001b[0m\u001b[1;39;49m]\u001b[0m\u001b[39;49m To update, run: \u001b[0m\u001b[32;49mpip install --upgrade pip\u001b[0m\n",
      "\n",
      "\u001b[1m[\u001b[0m\u001b[34;49mnotice\u001b[0m\u001b[1;39;49m]\u001b[0m\u001b[39;49m A new release of pip is available: \u001b[0m\u001b[31;49m23.2.1\u001b[0m\u001b[39;49m -> \u001b[0m\u001b[32;49m23.3.1\u001b[0m\n",
      "\u001b[1m[\u001b[0m\u001b[34;49mnotice\u001b[0m\u001b[1;39;49m]\u001b[0m\u001b[39;49m To update, run: \u001b[0m\u001b[32;49mpip install --upgrade pip\u001b[0m\n",
      "\u001b[31mERROR: Could not find a version that satisfies the requirement seab (from versions: none)\u001b[0m\u001b[31m\n",
      "\u001b[0m\u001b[31mERROR: No matching distribution found for seab\u001b[0m\u001b[31m\n",
      "\u001b[0m\n",
      "\u001b[1m[\u001b[0m\u001b[34;49mnotice\u001b[0m\u001b[1;39;49m]\u001b[0m\u001b[39;49m A new release of pip is available: \u001b[0m\u001b[31;49m23.2.1\u001b[0m\u001b[39;49m -> \u001b[0m\u001b[32;49m23.3.1\u001b[0m\n",
      "\u001b[1m[\u001b[0m\u001b[34;49mnotice\u001b[0m\u001b[1;39;49m]\u001b[0m\u001b[39;49m To update, run: \u001b[0m\u001b[32;49mpip install --upgrade pip\u001b[0m\n",
      "\n",
      "\u001b[1m[\u001b[0m\u001b[34;49mnotice\u001b[0m\u001b[1;39;49m]\u001b[0m\u001b[39;49m A new release of pip is available: \u001b[0m\u001b[31;49m23.2.1\u001b[0m\u001b[39;49m -> \u001b[0m\u001b[32;49m23.3.1\u001b[0m\n",
      "\u001b[1m[\u001b[0m\u001b[34;49mnotice\u001b[0m\u001b[1;39;49m]\u001b[0m\u001b[39;49m To update, run: \u001b[0m\u001b[32;49mpip install --upgrade pip\u001b[0m\n",
      "\u001b[38;5;2m✔ Download and installation successful\u001b[0m\n",
      "You can now load the package via spacy.load('en_core_web_sm')\n",
      "\n",
      "\u001b[1m[\u001b[0m\u001b[34;49mnotice\u001b[0m\u001b[1;39;49m]\u001b[0m\u001b[39;49m A new release of pip is available: \u001b[0m\u001b[31;49m23.2.1\u001b[0m\u001b[39;49m -> \u001b[0m\u001b[32;49m23.3.1\u001b[0m\n",
      "\u001b[1m[\u001b[0m\u001b[34;49mnotice\u001b[0m\u001b[1;39;49m]\u001b[0m\u001b[39;49m To update, run: \u001b[0m\u001b[32;49mpip install --upgrade pip\u001b[0m\n"
     ]
    }
   ],
   "source": [
    "!pip3 install beautifulsoup4 --quiet\n",
    "!pip3 install lxml --quiet\n",
    "!pip3 install requests --quiet\n",
    "!pip3 install nltk --quiet\n",
    "!pip3 install spacy --quiet\n",
    "!pip3 install seab\n",
    "!python3 -m spacy download en_core_web_sm --quiet\n",
    "!pip3 install imblearn --quiet"
   ]
  },
  {
   "cell_type": "markdown",
   "metadata": {},
   "source": [
    "After the following experiminets, we found Penalised SVM and Logistic Regression to be the best models\n",
    "Next we will try to tune the hyperparameters of these models to see if we can improve the performance\n",
    "We will use GridSearchCV to tune the hyperparameters\n"
   ]
  },
  {
   "cell_type": "code",
   "execution_count": 2,
   "metadata": {},
   "outputs": [
    {
     "data": {
      "text/html": [
       "<div>\n",
       "<style scoped>\n",
       "    .dataframe tbody tr th:only-of-type {\n",
       "        vertical-align: middle;\n",
       "    }\n",
       "\n",
       "    .dataframe tbody tr th {\n",
       "        vertical-align: top;\n",
       "    }\n",
       "\n",
       "    .dataframe thead th {\n",
       "        text-align: right;\n",
       "    }\n",
       "</style>\n",
       "<table border=\"1\" class=\"dataframe\">\n",
       "  <thead>\n",
       "    <tr style=\"text-align: right;\">\n",
       "      <th></th>\n",
       "      <th>text</th>\n",
       "      <th>category</th>\n",
       "      <th>topic</th>\n",
       "    </tr>\n",
       "  </thead>\n",
       "  <tbody>\n",
       "    <tr>\n",
       "      <th>0</th>\n",
       "      <td>From: Mamatha Devineni Ratnam &lt;mr47+@andrew.cm...</td>\n",
       "      <td>10</td>\n",
       "      <td>rec.sport.hockey</td>\n",
       "    </tr>\n",
       "    <tr>\n",
       "      <th>7</th>\n",
       "      <td>From: dchhabra@stpl.ists.ca (Deepak Chhabra)\\n...</td>\n",
       "      <td>10</td>\n",
       "      <td>rec.sport.hockey</td>\n",
       "    </tr>\n",
       "    <tr>\n",
       "      <th>8</th>\n",
       "      <td>From: dchhabra@stpl.ists.ca (Deepak Chhabra)\\n...</td>\n",
       "      <td>10</td>\n",
       "      <td>rec.sport.hockey</td>\n",
       "    </tr>\n",
       "    <tr>\n",
       "      <th>24</th>\n",
       "      <td>From: cs902043@ariel.yorku.ca (SHAWN LUDDINGTO...</td>\n",
       "      <td>10</td>\n",
       "      <td>rec.sport.hockey</td>\n",
       "    </tr>\n",
       "    <tr>\n",
       "      <th>44</th>\n",
       "      <td>From: gritter@cs.purdue.edu (Carl Gritter)\\nSu...</td>\n",
       "      <td>10</td>\n",
       "      <td>rec.sport.hockey</td>\n",
       "    </tr>\n",
       "  </tbody>\n",
       "</table>\n",
       "</div>"
      ],
      "text/plain": [
       "                                                 text  category  \\\n",
       "0   From: Mamatha Devineni Ratnam <mr47+@andrew.cm...        10   \n",
       "7   From: dchhabra@stpl.ists.ca (Deepak Chhabra)\\n...        10   \n",
       "8   From: dchhabra@stpl.ists.ca (Deepak Chhabra)\\n...        10   \n",
       "24  From: cs902043@ariel.yorku.ca (SHAWN LUDDINGTO...        10   \n",
       "44  From: gritter@cs.purdue.edu (Carl Gritter)\\nSu...        10   \n",
       "\n",
       "               topic  \n",
       "0   rec.sport.hockey  \n",
       "7   rec.sport.hockey  \n",
       "8   rec.sport.hockey  \n",
       "24  rec.sport.hockey  \n",
       "44  rec.sport.hockey  "
      ]
     },
     "execution_count": 2,
     "metadata": {},
     "output_type": "execute_result"
    }
   ],
   "source": [
    "from sklearn.datasets import fetch_20newsgroups\n",
    "import numpy as np\n",
    "import pandas as pd\n",
    "import matplotlib.pyplot as plt\n",
    "\n",
    "news = fetch_20newsgroups(subset='all') # subset='all' means we want all the data ( train + test)\n",
    "prefix = \"/home/codespace/scikit_learn_data/20news_home/\"\n",
    "df = pd.DataFrame({'text': news.data, 'category': news.target, 'filename': news.filenames})\n",
    "# removing the prefix from the filename\n",
    "df['topic'] = df['filename'].apply(lambda x: x.split(\"/\")[-2])\n",
    "# dropping the filename column\n",
    "df.drop(columns=['filename'], inplace=True)\n",
    "\n",
    "df[df['category'] == 10].head()\n",
    "\n"
   ]
  },
  {
   "cell_type": "code",
   "execution_count": 3,
   "metadata": {},
   "outputs": [
    {
     "data": {
      "text/html": [
       "<div>\n",
       "<style scoped>\n",
       "    .dataframe tbody tr th:only-of-type {\n",
       "        vertical-align: middle;\n",
       "    }\n",
       "\n",
       "    .dataframe tbody tr th {\n",
       "        vertical-align: top;\n",
       "    }\n",
       "\n",
       "    .dataframe thead th {\n",
       "        text-align: right;\n",
       "    }\n",
       "</style>\n",
       "<table border=\"1\" class=\"dataframe\">\n",
       "  <thead>\n",
       "    <tr style=\"text-align: right;\">\n",
       "      <th></th>\n",
       "      <th>text</th>\n",
       "      <th>category</th>\n",
       "      <th>topic</th>\n",
       "    </tr>\n",
       "  </thead>\n",
       "  <tbody>\n",
       "    <tr>\n",
       "      <th>1</th>\n",
       "      <td>From: mblawson@midway.ecn.uoknor.edu (Matthew ...</td>\n",
       "      <td>3</td>\n",
       "      <td>comp.sys.ibm.pc.hardware</td>\n",
       "    </tr>\n",
       "    <tr>\n",
       "      <th>3</th>\n",
       "      <td>From: guyd@austin.ibm.com (Guy Dawson)\\nSubjec...</td>\n",
       "      <td>3</td>\n",
       "      <td>comp.sys.ibm.pc.hardware</td>\n",
       "    </tr>\n",
       "    <tr>\n",
       "      <th>70</th>\n",
       "      <td>From: dwayne@stratsft.uucp (Dwayne Bailey)\\nSu...</td>\n",
       "      <td>3</td>\n",
       "      <td>comp.sys.ibm.pc.hardware</td>\n",
       "    </tr>\n",
       "    <tr>\n",
       "      <th>95</th>\n",
       "      <td>From: jcmorris@mbunix.mitre.org (Morris)\\nSubj...</td>\n",
       "      <td>3</td>\n",
       "      <td>comp.sys.ibm.pc.hardware</td>\n",
       "    </tr>\n",
       "    <tr>\n",
       "      <th>120</th>\n",
       "      <td>From: \"Mohammad Al-Ansari\" &lt;alansari@mango.ucs...</td>\n",
       "      <td>3</td>\n",
       "      <td>comp.sys.ibm.pc.hardware</td>\n",
       "    </tr>\n",
       "  </tbody>\n",
       "</table>\n",
       "</div>"
      ],
      "text/plain": [
       "                                                  text  category  \\\n",
       "1    From: mblawson@midway.ecn.uoknor.edu (Matthew ...         3   \n",
       "3    From: guyd@austin.ibm.com (Guy Dawson)\\nSubjec...         3   \n",
       "70   From: dwayne@stratsft.uucp (Dwayne Bailey)\\nSu...         3   \n",
       "95   From: jcmorris@mbunix.mitre.org (Morris)\\nSubj...         3   \n",
       "120  From: \"Mohammad Al-Ansari\" <alansari@mango.ucs...         3   \n",
       "\n",
       "                        topic  \n",
       "1    comp.sys.ibm.pc.hardware  \n",
       "3    comp.sys.ibm.pc.hardware  \n",
       "70   comp.sys.ibm.pc.hardware  \n",
       "95   comp.sys.ibm.pc.hardware  \n",
       "120  comp.sys.ibm.pc.hardware  "
      ]
     },
     "execution_count": 3,
     "metadata": {},
     "output_type": "execute_result"
    }
   ],
   "source": [
    "# category where topic is comp.sys.ibm.pc.hardware\n",
    "\n",
    "df[df['topic'] == 'comp.sys.ibm.pc.hardware'].head()\n",
    "\n"
   ]
  },
  {
   "cell_type": "code",
   "execution_count": 4,
   "metadata": {},
   "outputs": [
    {
     "name": "stdout",
     "output_type": "stream",
     "text": [
      "rec.sport.hockey\n",
      "From: Mamatha Devineni Ratnam <mr47+@andrew.cmu.edu>\n",
      "Subject: Pens fans reactions\n",
      "Organization: Post Office, Carnegie Mellon, Pittsburgh, PA\n",
      "Lines: 12\n",
      "NNTP-Posting-Host: po4.andrew.cmu.edu\n",
      "\n",
      "\n",
      "\n",
      "I am sure some bashers of Pens fans are pretty confused about the lack\n",
      "of any kind of posts about the recent Pens massacre of the Devils. Actually,\n",
      "I am  bit puzzled too and a bit relieved. However, I am going to put an end\n",
      "to non-PIttsburghers' relief with a bit of praise for the Pens. Man, they\n",
      "are killing those Devils worse than I thought. Jagr just showed you why\n",
      "he is much better than his regular season stats. He is also a lot\n",
      "fo fun to watch in the playoffs. Bowman should let JAgr have a lot of\n",
      "fun in the next couple of games since the Pens are going to beat the pulp out of Jersey anyway. I was very disappointed not to see the Islanders lose the final\n",
      "regular season game.          PENS RULE!!!\n",
      "\n",
      "\n"
     ]
    }
   ],
   "source": [
    "# print a random text\n",
    "print(df['topic'][0])\n",
    "print(df['text'][0])\n"
   ]
  },
  {
   "cell_type": "markdown",
   "metadata": {},
   "source": []
  },
  {
   "cell_type": "markdown",
   "metadata": {},
   "source": [
    "## Extracting Categories from File Storage Folder Names\n",
    "\n",
    "Utilizing the folder names of the file storage, we can successfully extract the categories for each article in the Newsgroup20 dataset. Once the extraction is complete, we can proceed to drop the filename since it is no longer necessary for our analysis.\n",
    "\n",
    "### Addressing Imbalance in Average Text Length by Topic\n",
    "\n",
    "Upon examining the average text length of each article relative to its topic, we might identify an imbalance. It is crucial to address this imbalance, aligning with our efforts to handle class imbalances between the different categories. This ensures a more equitable representation of topics in our dataset, contributing to a more robust and unbiased analysis."
   ]
  },
  {
   "cell_type": "code",
   "execution_count": 5,
   "metadata": {},
   "outputs": [],
   "source": [
    "stop_word_add_on = ['from', 'to', 'subject', 'go', 'one', 'use', 'say', 'would', 'know', 'get', 'would', 'articl', 'think', 'get ', 'universe', 'like', 'know','univers', 'use', 'ask', 'want']\n"
   ]
  },
  {
   "cell_type": "code",
   "execution_count": 6,
   "metadata": {},
   "outputs": [
    {
     "name": "stderr",
     "output_type": "stream",
     "text": [
      "[nltk_data] Downloading package stopwords to\n",
      "[nltk_data]     /Users/anushkrishnav/nltk_data...\n",
      "[nltk_data]   Package stopwords is already up-to-date!\n",
      "[nltk_data] Downloading package punkt to\n",
      "[nltk_data]     /Users/anushkrishnav/nltk_data...\n",
      "[nltk_data]   Package punkt is already up-to-date!\n",
      "/var/folders/1s/d6cby_d90fsfb94qvy0p0ttm0000gn/T/ipykernel_83567/3102370166.py:23: MarkupResemblesLocatorWarning: The input looks more like a filename than markup. You may want to open this file and pass the filehandle into Beautiful Soup.\n",
      "  soup = BeautifulSoup(text, \"html.parser\")\n"
     ]
    }
   ],
   "source": [
    "# A test attempt to extract name and email from text\n",
    "import re\n",
    "from nltk.corpus import stopwords\n",
    "from nltk.tokenize import word_tokenize\n",
    "from bs4 import BeautifulSoup\n",
    "import ssl\n",
    "from nltk.stem.snowball import SnowballStemmer\n",
    "import nltk\n",
    "\n",
    "try:\n",
    "    _create_unverified_https_context = ssl._create_unverified_context\n",
    "except AttributeError:\n",
    "    pass\n",
    "else:\n",
    "    ssl._create_default_https_context = _create_unverified_https_context\n",
    "\n",
    "nltk.download('stopwords')\n",
    "nltk.download('punkt')\n",
    "\n",
    "\n",
    "\n",
    "def strip_tags(text):\n",
    "    soup = BeautifulSoup(text, \"html.parser\")\n",
    "    return soup.get_text()\n",
    "\n",
    "def strip_numeric(text):\n",
    "    return re.sub(r'\\d+', '', text)\n",
    "\n",
    "def strip_punctuation(text):\n",
    "    return re.sub(r'[^\\w\\s]', '', text)\n",
    "\n",
    "def strip_multiple_whitespaces(text):\n",
    "    return re.sub(r'\\s+', ' ', text).strip()\n",
    "\n",
    "def remove_newline(text):\n",
    "    return text.replace('\\n', '')\n",
    "\n",
    "def transform_to_lower(text):\n",
    "    return text.lower()\n",
    "\n",
    "def remove_stopwords(text):\n",
    "    stop_words = set(stopwords.words('english'))\n",
    "    # add more words to the set\n",
    "    stop_words.update(stop_word_add_on)\n",
    "    words = word_tokenize(text)\n",
    "    filtered_words = [word for word in words if word.lower() not in stop_words]\n",
    "    return ' '.join(filtered_words)\n",
    "\n",
    "def remove_single_char(text):\n",
    "    words = word_tokenize(text)\n",
    "    filtered_words = [word for word in words if len(word) > 1]\n",
    "    return ' '.join(filtered_words)\n",
    "\n",
    "def stem_text(text):\n",
    "    stemmer = SnowballStemmer(\"english\")\n",
    "    words = word_tokenize(text)\n",
    "    stemmed_words = [stemmer.stem(word) for word in words]\n",
    "    return ' '.join(stemmed_words)\n",
    "\n",
    "def clean_text(text):\n",
    "    if text is None:\n",
    "        return \"\"\n",
    "    text = strip_tags(text)\n",
    "    text = strip_numeric(text)\n",
    "    text = strip_punctuation(text)\n",
    "    text = remove_newline(text)\n",
    "    text = strip_multiple_whitespaces(text)\n",
    "    text = transform_to_lower(text)\n",
    "    text = remove_stopwords(text)\n",
    "    text = remove_single_char(text)\n",
    "    text = stem_text(text)\n",
    "    return text\n",
    "\n",
    "# check if cleaned_data.csv exists\n",
    "import os\n",
    "\n",
    "df['clean_text'] = df['text'].apply(clean_text)\n",
    "df.to_csv(\"cleaned_data.csv\", index=False)\n"
   ]
  },
  {
   "cell_type": "code",
   "execution_count": 7,
   "metadata": {},
   "outputs": [
    {
     "data": {
      "text/html": [
       "<div>\n",
       "<style scoped>\n",
       "    .dataframe tbody tr th:only-of-type {\n",
       "        vertical-align: middle;\n",
       "    }\n",
       "\n",
       "    .dataframe tbody tr th {\n",
       "        vertical-align: top;\n",
       "    }\n",
       "\n",
       "    .dataframe thead th {\n",
       "        text-align: right;\n",
       "    }\n",
       "</style>\n",
       "<table border=\"1\" class=\"dataframe\">\n",
       "  <thead>\n",
       "    <tr style=\"text-align: right;\">\n",
       "      <th></th>\n",
       "      <th>text</th>\n",
       "      <th>category</th>\n",
       "      <th>topic</th>\n",
       "      <th>clean_text</th>\n",
       "    </tr>\n",
       "  </thead>\n",
       "  <tbody>\n",
       "    <tr>\n",
       "      <th>0</th>\n",
       "      <td>From: Mamatha Devineni Ratnam &lt;mr47+@andrew.cm...</td>\n",
       "      <td>10</td>\n",
       "      <td>rec.sport.hockey</td>\n",
       "      <td>mamatha devineni ratnam pen fan reactionsorgan...</td>\n",
       "    </tr>\n",
       "    <tr>\n",
       "      <th>1</th>\n",
       "      <td>From: mblawson@midway.ecn.uoknor.edu (Matthew ...</td>\n",
       "      <td>3</td>\n",
       "      <td>comp.sys.ibm.pc.hardware</td>\n",
       "      <td>mblawsonmidwayecnuoknoredu matthew lawsonsubje...</td>\n",
       "    </tr>\n",
       "    <tr>\n",
       "      <th>2</th>\n",
       "      <td>From: hilmi-er@dsv.su.se (Hilmi Eren)\\nSubject...</td>\n",
       "      <td>17</td>\n",
       "      <td>talk.politics.mideast</td>\n",
       "      <td>hilmierdsvsus hilmi erensubject armenia say co...</td>\n",
       "    </tr>\n",
       "    <tr>\n",
       "      <th>3</th>\n",
       "      <td>From: guyd@austin.ibm.com (Guy Dawson)\\nSubjec...</td>\n",
       "      <td>3</td>\n",
       "      <td>comp.sys.ibm.pc.hardware</td>\n",
       "      <td>guydaustinibmcom guy dawsonsubject ide vs scsi...</td>\n",
       "    </tr>\n",
       "    <tr>\n",
       "      <th>4</th>\n",
       "      <td>From: Alexander Samuel McDiarmid &lt;am2o+@andrew...</td>\n",
       "      <td>4</td>\n",
       "      <td>comp.sys.mac.hardware</td>\n",
       "      <td>alexand samuel mcdiarmid driver organ sophomor...</td>\n",
       "    </tr>\n",
       "  </tbody>\n",
       "</table>\n",
       "</div>"
      ],
      "text/plain": [
       "                                                text  category  \\\n",
       "0  From: Mamatha Devineni Ratnam <mr47+@andrew.cm...        10   \n",
       "1  From: mblawson@midway.ecn.uoknor.edu (Matthew ...         3   \n",
       "2  From: hilmi-er@dsv.su.se (Hilmi Eren)\\nSubject...        17   \n",
       "3  From: guyd@austin.ibm.com (Guy Dawson)\\nSubjec...         3   \n",
       "4  From: Alexander Samuel McDiarmid <am2o+@andrew...         4   \n",
       "\n",
       "                      topic                                         clean_text  \n",
       "0          rec.sport.hockey  mamatha devineni ratnam pen fan reactionsorgan...  \n",
       "1  comp.sys.ibm.pc.hardware  mblawsonmidwayecnuoknoredu matthew lawsonsubje...  \n",
       "2     talk.politics.mideast  hilmierdsvsus hilmi erensubject armenia say co...  \n",
       "3  comp.sys.ibm.pc.hardware  guydaustinibmcom guy dawsonsubject ide vs scsi...  \n",
       "4     comp.sys.mac.hardware  alexand samuel mcdiarmid driver organ sophomor...  "
      ]
     },
     "execution_count": 7,
     "metadata": {},
     "output_type": "execute_result"
    }
   ],
   "source": [
    "df.head()\n"
   ]
  },
  {
   "cell_type": "code",
   "execution_count": 8,
   "metadata": {},
   "outputs": [
    {
     "data": {
      "image/png": "[encoded data removed]",
      "text/plain": [
       "<Figure size 500x500 with 1 Axes>"
      ]
     },
     "metadata": {},
     "output_type": "display_data"
    }
   ],
   "source": [
    "# topic distribution\n",
    "df['topic'].value_counts().plot(kind='bar', figsize=(5, 5))\n",
    "plt.title('Topic Distribution')\n",
    "plt.xlabel('Topic')\n",
    "plt.ylabel('Count')\n",
    "plt.show()\n"
   ]
  },
  {
   "cell_type": "code",
   "execution_count": 9,
   "metadata": {},
   "outputs": [
    {
     "data": {
      "text/html": [
       "<div>\n",
       "<style scoped>\n",
       "    .dataframe tbody tr th:only-of-type {\n",
       "        vertical-align: middle;\n",
       "    }\n",
       "\n",
       "    .dataframe tbody tr th {\n",
       "        vertical-align: top;\n",
       "    }\n",
       "\n",
       "    .dataframe thead th {\n",
       "        text-align: right;\n",
       "    }\n",
       "</style>\n",
       "<table border=\"1\" class=\"dataframe\">\n",
       "  <thead>\n",
       "    <tr style=\"text-align: right;\">\n",
       "      <th></th>\n",
       "      <th>text</th>\n",
       "      <th>category</th>\n",
       "      <th>topic</th>\n",
       "      <th>clean_text</th>\n",
       "    </tr>\n",
       "  </thead>\n",
       "  <tbody>\n",
       "    <tr>\n",
       "      <th>0</th>\n",
       "      <td>From: Mamatha Devineni Ratnam &lt;mr47+@andrew.cm...</td>\n",
       "      <td>10</td>\n",
       "      <td>rec.sport.hockey</td>\n",
       "      <td>mamatha devineni ratnam pen fan reactionsorgan...</td>\n",
       "    </tr>\n",
       "    <tr>\n",
       "      <th>1</th>\n",
       "      <td>From: mblawson@midway.ecn.uoknor.edu (Matthew ...</td>\n",
       "      <td>3</td>\n",
       "      <td>comp.sys.ibm.pc.hardware</td>\n",
       "      <td>mblawsonmidwayecnuoknoredu matthew lawsonsubje...</td>\n",
       "    </tr>\n",
       "    <tr>\n",
       "      <th>2</th>\n",
       "      <td>From: hilmi-er@dsv.su.se (Hilmi Eren)\\nSubject...</td>\n",
       "      <td>17</td>\n",
       "      <td>talk.politics.mideast</td>\n",
       "      <td>hilmierdsvsus hilmi erensubject armenia say co...</td>\n",
       "    </tr>\n",
       "    <tr>\n",
       "      <th>3</th>\n",
       "      <td>From: guyd@austin.ibm.com (Guy Dawson)\\nSubjec...</td>\n",
       "      <td>3</td>\n",
       "      <td>comp.sys.ibm.pc.hardware</td>\n",
       "      <td>guydaustinibmcom guy dawsonsubject ide vs scsi...</td>\n",
       "    </tr>\n",
       "    <tr>\n",
       "      <th>4</th>\n",
       "      <td>From: Alexander Samuel McDiarmid &lt;am2o+@andrew...</td>\n",
       "      <td>4</td>\n",
       "      <td>comp.sys.mac.hardware</td>\n",
       "      <td>alexand samuel mcdiarmid driver organ sophomor...</td>\n",
       "    </tr>\n",
       "    <tr>\n",
       "      <th>...</th>\n",
       "      <td>...</td>\n",
       "      <td>...</td>\n",
       "      <td>...</td>\n",
       "      <td>...</td>\n",
       "    </tr>\n",
       "    <tr>\n",
       "      <th>18841</th>\n",
       "      <td>From: jim.zisfein@factory.com (Jim Zisfein) \\n...</td>\n",
       "      <td>13</td>\n",
       "      <td>sci.med</td>\n",
       "      <td>jimzisfeinfactorycom jim zisfein migrain scans...</td>\n",
       "    </tr>\n",
       "    <tr>\n",
       "      <th>18842</th>\n",
       "      <td>From: rdell@cbnewsf.cb.att.com (richard.b.dell...</td>\n",
       "      <td>12</td>\n",
       "      <td>sci.electronics</td>\n",
       "      <td>rdellcbnewsfcbattcom richardbdellsubject quest...</td>\n",
       "    </tr>\n",
       "    <tr>\n",
       "      <th>18843</th>\n",
       "      <td>From: westes@netcom.com (Will Estes)\\nSubject:...</td>\n",
       "      <td>3</td>\n",
       "      <td>comp.sys.ibm.pc.hardware</td>\n",
       "      <td>westesnetcomcom estessubject mount cpu cooler ...</td>\n",
       "    </tr>\n",
       "    <tr>\n",
       "      <th>18844</th>\n",
       "      <td>From: steve@hcrlgw (Steven Collins)\\nSubject: ...</td>\n",
       "      <td>1</td>\n",
       "      <td>comp.graphics</td>\n",
       "      <td>stevehcrlgw steven collinssubject sphere point...</td>\n",
       "    </tr>\n",
       "    <tr>\n",
       "      <th>18845</th>\n",
       "      <td>From: chriss@netcom.com (Chris Silvester)\\nSub...</td>\n",
       "      <td>7</td>\n",
       "      <td>rec.autos</td>\n",
       "      <td>chrissnetcomcom chris silvestersubject product...</td>\n",
       "    </tr>\n",
       "  </tbody>\n",
       "</table>\n",
       "<p>18846 rows × 4 columns</p>\n",
       "</div>"
      ],
      "text/plain": [
       "                                                    text  category  \\\n",
       "0      From: Mamatha Devineni Ratnam <mr47+@andrew.cm...        10   \n",
       "1      From: mblawson@midway.ecn.uoknor.edu (Matthew ...         3   \n",
       "2      From: hilmi-er@dsv.su.se (Hilmi Eren)\\nSubject...        17   \n",
       "3      From: guyd@austin.ibm.com (Guy Dawson)\\nSubjec...         3   \n",
       "4      From: Alexander Samuel McDiarmid <am2o+@andrew...         4   \n",
       "...                                                  ...       ...   \n",
       "18841  From: jim.zisfein@factory.com (Jim Zisfein) \\n...        13   \n",
       "18842  From: rdell@cbnewsf.cb.att.com (richard.b.dell...        12   \n",
       "18843  From: westes@netcom.com (Will Estes)\\nSubject:...         3   \n",
       "18844  From: steve@hcrlgw (Steven Collins)\\nSubject: ...         1   \n",
       "18845  From: chriss@netcom.com (Chris Silvester)\\nSub...         7   \n",
       "\n",
       "                          topic  \\\n",
       "0              rec.sport.hockey   \n",
       "1      comp.sys.ibm.pc.hardware   \n",
       "2         talk.politics.mideast   \n",
       "3      comp.sys.ibm.pc.hardware   \n",
       "4         comp.sys.mac.hardware   \n",
       "...                         ...   \n",
       "18841                   sci.med   \n",
       "18842           sci.electronics   \n",
       "18843  comp.sys.ibm.pc.hardware   \n",
       "18844             comp.graphics   \n",
       "18845                 rec.autos   \n",
       "\n",
       "                                              clean_text  \n",
       "0      mamatha devineni ratnam pen fan reactionsorgan...  \n",
       "1      mblawsonmidwayecnuoknoredu matthew lawsonsubje...  \n",
       "2      hilmierdsvsus hilmi erensubject armenia say co...  \n",
       "3      guydaustinibmcom guy dawsonsubject ide vs scsi...  \n",
       "4      alexand samuel mcdiarmid driver organ sophomor...  \n",
       "...                                                  ...  \n",
       "18841  jimzisfeinfactorycom jim zisfein migrain scans...  \n",
       "18842  rdellcbnewsfcbattcom richardbdellsubject quest...  \n",
       "18843  westesnetcomcom estessubject mount cpu cooler ...  \n",
       "18844  stevehcrlgw steven collinssubject sphere point...  \n",
       "18845  chrissnetcomcom chris silvestersubject product...  \n",
       "\n",
       "[18846 rows x 4 columns]"
      ]
     },
     "execution_count": 9,
     "metadata": {},
     "output_type": "execute_result"
    }
   ],
   "source": [
    "df"
   ]
  },
  {
   "cell_type": "code",
   "execution_count": null,
   "metadata": {},
   "outputs": [
    {
     "name": "stdout",
     "output_type": "stream",
     "text": [
      "Fitting 5 folds for each of 108 candidates, totalling 540 fits\n"
     ]
    },
    {
     "name": "stdout",
     "output_type": "stream",
     "text": [
      "[CV] END classifier__logreg__class_weight=balanced, classifier__logreg__max_iter=5000, classifier__logreg__multi_class=multinomial, classifier__svc__C=0.1, classifier__svc__dual=False, classifier__svc__max_iter=500, classifier__svc__penalty=l1, classifier__vc__C=0.1, classifier__vc__class_weight=balanced, classifier__vc__kernel=linear; total time= 1.6min\n",
      "[CV] END classifier__logreg__class_weight=balanced, classifier__logreg__max_iter=5000, classifier__logreg__multi_class=multinomial, classifier__svc__C=0.1, classifier__svc__dual=False, classifier__svc__max_iter=500, classifier__svc__penalty=l1, classifier__vc__C=0.1, classifier__vc__class_weight=balanced, classifier__vc__kernel=linear; total time= 1.6min\n",
      "[CV] END classifier__logreg__class_weight=balanced, classifier__logreg__max_iter=5000, classifier__logreg__multi_class=multinomial, classifier__svc__C=0.1, classifier__svc__dual=False, classifier__svc__max_iter=500, classifier__svc__penalty=l1, classifier__vc__C=0.1, classifier__vc__class_weight=balanced, classifier__vc__kernel=linear; total time= 1.6min\n",
      "[CV] END classifier__logreg__class_weight=balanced, classifier__logreg__max_iter=5000, classifier__logreg__multi_class=multinomial, classifier__svc__C=0.1, classifier__svc__dual=False, classifier__svc__max_iter=500, classifier__svc__penalty=l1, classifier__vc__C=0.1, classifier__vc__class_weight=balanced, classifier__vc__kernel=linear; total time= 1.6min\n",
      "[CV] END classifier__logreg__class_weight=balanced, classifier__logreg__max_iter=5000, classifier__logreg__multi_class=multinomial, classifier__svc__C=0.1, classifier__svc__dual=False, classifier__svc__max_iter=500, classifier__svc__penalty=l1, classifier__vc__C=0.1, classifier__vc__class_weight=balanced, classifier__vc__kernel=linear; total time= 1.6min\n",
      "[CV] END classifier__logreg__class_weight=balanced, classifier__logreg__max_iter=5000, classifier__logreg__multi_class=multinomial, classifier__svc__C=0.1, classifier__svc__dual=False, classifier__svc__max_iter=500, classifier__svc__penalty=l1, classifier__vc__C=1, classifier__vc__class_weight=balanced, classifier__vc__kernel=linear; total time= 1.8min\n",
      "[CV] END classifier__logreg__class_weight=balanced, classifier__logreg__max_iter=5000, classifier__logreg__multi_class=multinomial, classifier__svc__C=0.1, classifier__svc__dual=False, classifier__svc__max_iter=500, classifier__svc__penalty=l1, classifier__vc__C=1, classifier__vc__class_weight=balanced, classifier__vc__kernel=linear; total time= 1.8min\n",
      "[CV] END classifier__logreg__class_weight=balanced, classifier__logreg__max_iter=5000, classifier__logreg__multi_class=multinomial, classifier__svc__C=0.1, classifier__svc__dual=False, classifier__svc__max_iter=500, classifier__svc__penalty=l1, classifier__vc__C=1, classifier__vc__class_weight=balanced, classifier__vc__kernel=linear; total time= 1.8min\n",
      "[CV] END classifier__logreg__class_weight=balanced, classifier__logreg__max_iter=5000, classifier__logreg__multi_class=multinomial, classifier__svc__C=0.1, classifier__svc__dual=False, classifier__svc__max_iter=500, classifier__svc__penalty=l1, classifier__vc__C=1, classifier__vc__class_weight=balanced, classifier__vc__kernel=linear; total time= 1.7min\n",
      "[CV] END classifier__logreg__class_weight=balanced, classifier__logreg__max_iter=5000, classifier__logreg__multi_class=multinomial, classifier__svc__C=0.1, classifier__svc__dual=False, classifier__svc__max_iter=500, classifier__svc__penalty=l1, classifier__vc__C=10, classifier__vc__class_weight=balanced, classifier__vc__kernel=linear; total time= 1.7min\n",
      "[CV] END classifier__logreg__class_weight=balanced, classifier__logreg__max_iter=5000, classifier__logreg__multi_class=multinomial, classifier__svc__C=0.1, classifier__svc__dual=False, classifier__svc__max_iter=500, classifier__svc__penalty=l1, classifier__vc__C=1, classifier__vc__class_weight=balanced, classifier__vc__kernel=linear; total time= 1.7min\n",
      "[CV] END classifier__logreg__class_weight=balanced, classifier__logreg__max_iter=5000, classifier__logreg__multi_class=multinomial, classifier__svc__C=0.1, classifier__svc__dual=False, classifier__svc__max_iter=500, classifier__svc__penalty=l1, classifier__vc__C=10, classifier__vc__class_weight=balanced, classifier__vc__kernel=linear; total time= 1.7min\n",
      "[CV] END classifier__logreg__class_weight=balanced, classifier__logreg__max_iter=5000, classifier__logreg__multi_class=multinomial, classifier__svc__C=0.1, classifier__svc__dual=False, classifier__svc__max_iter=500, classifier__svc__penalty=l1, classifier__vc__C=10, classifier__vc__class_weight=balanced, classifier__vc__kernel=linear; total time= 1.8min\n",
      "[CV] END classifier__logreg__class_weight=balanced, classifier__logreg__max_iter=5000, classifier__logreg__multi_class=multinomial, classifier__svc__C=0.1, classifier__svc__dual=False, classifier__svc__max_iter=500, classifier__svc__penalty=l2, classifier__vc__C=0.1, classifier__vc__class_weight=balanced, classifier__vc__kernel=linear; total time= 1.6min\n",
      "[CV] END classifier__logreg__class_weight=balanced, classifier__logreg__max_iter=5000, classifier__logreg__multi_class=multinomial, classifier__svc__C=0.1, classifier__svc__dual=False, classifier__svc__max_iter=500, classifier__svc__penalty=l1, classifier__vc__C=10, classifier__vc__class_weight=balanced, classifier__vc__kernel=linear; total time= 1.7min\n",
      "[CV] END classifier__logreg__class_weight=balanced, classifier__logreg__max_iter=5000, classifier__logreg__multi_class=multinomial, classifier__svc__C=0.1, classifier__svc__dual=False, classifier__svc__max_iter=500, classifier__svc__penalty=l1, classifier__vc__C=10, classifier__vc__class_weight=balanced, classifier__vc__kernel=linear; total time= 1.7min\n",
      "[CV] END classifier__logreg__class_weight=balanced, classifier__logreg__max_iter=5000, classifier__logreg__multi_class=multinomial, classifier__svc__C=0.1, classifier__svc__dual=False, classifier__svc__max_iter=500, classifier__svc__penalty=l2, classifier__vc__C=0.1, classifier__vc__class_weight=balanced, classifier__vc__kernel=linear; total time= 1.6min\n",
      "[CV] END classifier__logreg__class_weight=balanced, classifier__logreg__max_iter=5000, classifier__logreg__multi_class=multinomial, classifier__svc__C=0.1, classifier__svc__dual=False, classifier__svc__max_iter=500, classifier__svc__penalty=l2, classifier__vc__C=0.1, classifier__vc__class_weight=balanced, classifier__vc__kernel=linear; total time= 1.6min\n",
      "[CV] END classifier__logreg__class_weight=balanced, classifier__logreg__max_iter=5000, classifier__logreg__multi_class=multinomial, classifier__svc__C=0.1, classifier__svc__dual=False, classifier__svc__max_iter=500, classifier__svc__penalty=l2, classifier__vc__C=0.1, classifier__vc__class_weight=balanced, classifier__vc__kernel=linear; total time= 1.6min\n",
      "[CV] END classifier__logreg__class_weight=balanced, classifier__logreg__max_iter=5000, classifier__logreg__multi_class=multinomial, classifier__svc__C=0.1, classifier__svc__dual=False, classifier__svc__max_iter=500, classifier__svc__penalty=l2, classifier__vc__C=0.1, classifier__vc__class_weight=balanced, classifier__vc__kernel=linear; total time= 1.6min\n",
      "[CV] END classifier__logreg__class_weight=balanced, classifier__logreg__max_iter=5000, classifier__logreg__multi_class=multinomial, classifier__svc__C=0.1, classifier__svc__dual=False, classifier__svc__max_iter=500, classifier__svc__penalty=l2, classifier__vc__C=1, classifier__vc__class_weight=balanced, classifier__vc__kernel=linear; total time= 1.8min\n",
      "[CV] END classifier__logreg__class_weight=balanced, classifier__logreg__max_iter=5000, classifier__logreg__multi_class=multinomial, classifier__svc__C=0.1, classifier__svc__dual=False, classifier__svc__max_iter=500, classifier__svc__penalty=l2, classifier__vc__C=1, classifier__vc__class_weight=balanced, classifier__vc__kernel=linear; total time= 1.8min\n",
      "[CV] END classifier__logreg__class_weight=balanced, classifier__logreg__max_iter=5000, classifier__logreg__multi_class=multinomial, classifier__svc__C=0.1, classifier__svc__dual=False, classifier__svc__max_iter=500, classifier__svc__penalty=l2, classifier__vc__C=1, classifier__vc__class_weight=balanced, classifier__vc__kernel=linear; total time= 1.7min\n",
      "[CV] END classifier__logreg__class_weight=balanced, classifier__logreg__max_iter=5000, classifier__logreg__multi_class=multinomial, classifier__svc__C=0.1, classifier__svc__dual=False, classifier__svc__max_iter=500, classifier__svc__penalty=l2, classifier__vc__C=1, classifier__vc__class_weight=balanced, classifier__vc__kernel=linear; total time= 1.8min\n",
      "[CV] END classifier__logreg__class_weight=balanced, classifier__logreg__max_iter=5000, classifier__logreg__multi_class=multinomial, classifier__svc__C=0.1, classifier__svc__dual=False, classifier__svc__max_iter=500, classifier__svc__penalty=l2, classifier__vc__C=1, classifier__vc__class_weight=balanced, classifier__vc__kernel=linear; total time= 1.7min\n",
      "[CV] END classifier__logreg__class_weight=balanced, classifier__logreg__max_iter=5000, classifier__logreg__multi_class=multinomial, classifier__svc__C=0.1, classifier__svc__dual=False, classifier__svc__max_iter=500, classifier__svc__penalty=l2, classifier__vc__C=10, classifier__vc__class_weight=balanced, classifier__vc__kernel=linear; total time= 1.7min\n",
      "[CV] END classifier__logreg__class_weight=balanced, classifier__logreg__max_iter=5000, classifier__logreg__multi_class=multinomial, classifier__svc__C=0.1, classifier__svc__dual=False, classifier__svc__max_iter=500, classifier__svc__penalty=l2, classifier__vc__C=10, classifier__vc__class_weight=balanced, classifier__vc__kernel=linear; total time= 1.8min\n",
      "[CV] END classifier__logreg__class_weight=balanced, classifier__logreg__max_iter=5000, classifier__logreg__multi_class=multinomial, classifier__svc__C=0.1, classifier__svc__dual=False, classifier__svc__max_iter=500, classifier__svc__penalty=l2, classifier__vc__C=10, classifier__vc__class_weight=balanced, classifier__vc__kernel=linear; total time= 1.8min\n",
      "[CV] END classifier__logreg__class_weight=balanced, classifier__logreg__max_iter=5000, classifier__logreg__multi_class=multinomial, classifier__svc__C=0.1, classifier__svc__dual=False, classifier__svc__max_iter=1000, classifier__svc__penalty=l1, classifier__vc__C=0.1, classifier__vc__class_weight=balanced, classifier__vc__kernel=linear; total time= 1.6min\n",
      "[CV] END classifier__logreg__class_weight=balanced, classifier__logreg__max_iter=5000, classifier__logreg__multi_class=multinomial, classifier__svc__C=0.1, classifier__svc__dual=False, classifier__svc__max_iter=1000, classifier__svc__penalty=l1, classifier__vc__C=0.1, classifier__vc__class_weight=balanced, classifier__vc__kernel=linear; total time= 1.6min\n",
      "[CV] END classifier__logreg__class_weight=balanced, classifier__logreg__max_iter=5000, classifier__logreg__multi_class=multinomial, classifier__svc__C=0.1, classifier__svc__dual=False, classifier__svc__max_iter=500, classifier__svc__penalty=l2, classifier__vc__C=10, classifier__vc__class_weight=balanced, classifier__vc__kernel=linear; total time= 1.7min\n",
      "[CV] END classifier__logreg__class_weight=balanced, classifier__logreg__max_iter=5000, classifier__logreg__multi_class=multinomial, classifier__svc__C=0.1, classifier__svc__dual=False, classifier__svc__max_iter=500, classifier__svc__penalty=l2, classifier__vc__C=10, classifier__vc__class_weight=balanced, classifier__vc__kernel=linear; total time= 1.8min\n",
      "[CV] END classifier__logreg__class_weight=balanced, classifier__logreg__max_iter=5000, classifier__logreg__multi_class=multinomial, classifier__svc__C=0.1, classifier__svc__dual=False, classifier__svc__max_iter=1000, classifier__svc__penalty=l1, classifier__vc__C=0.1, classifier__vc__class_weight=balanced, classifier__vc__kernel=linear; total time= 1.6min\n",
      "[CV] END classifier__logreg__class_weight=balanced, classifier__logreg__max_iter=5000, classifier__logreg__multi_class=multinomial, classifier__svc__C=0.1, classifier__svc__dual=False, classifier__svc__max_iter=1000, classifier__svc__penalty=l1, classifier__vc__C=0.1, classifier__vc__class_weight=balanced, classifier__vc__kernel=linear; total time= 1.6min\n",
      "[CV] END classifier__logreg__class_weight=balanced, classifier__logreg__max_iter=5000, classifier__logreg__multi_class=multinomial, classifier__svc__C=0.1, classifier__svc__dual=False, classifier__svc__max_iter=1000, classifier__svc__penalty=l1, classifier__vc__C=0.1, classifier__vc__class_weight=balanced, classifier__vc__kernel=linear; total time= 1.6min\n",
      "[CV] END classifier__logreg__class_weight=balanced, classifier__logreg__max_iter=5000, classifier__logreg__multi_class=multinomial, classifier__svc__C=0.1, classifier__svc__dual=False, classifier__svc__max_iter=1000, classifier__svc__penalty=l1, classifier__vc__C=1, classifier__vc__class_weight=balanced, classifier__vc__kernel=linear; total time= 1.7min\n",
      "[CV] END classifier__logreg__class_weight=balanced, classifier__logreg__max_iter=5000, classifier__logreg__multi_class=multinomial, classifier__svc__C=0.1, classifier__svc__dual=False, classifier__svc__max_iter=1000, classifier__svc__penalty=l1, classifier__vc__C=1, classifier__vc__class_weight=balanced, classifier__vc__kernel=linear; total time= 1.8min\n",
      "[CV] END classifier__logreg__class_weight=balanced, classifier__logreg__max_iter=5000, classifier__logreg__multi_class=multinomial, classifier__svc__C=0.1, classifier__svc__dual=False, classifier__svc__max_iter=1000, classifier__svc__penalty=l1, classifier__vc__C=1, classifier__vc__class_weight=balanced, classifier__vc__kernel=linear; total time= 1.7min\n",
      "[CV] END classifier__logreg__class_weight=balanced, classifier__logreg__max_iter=5000, classifier__logreg__multi_class=multinomial, classifier__svc__C=0.1, classifier__svc__dual=False, classifier__svc__max_iter=1000, classifier__svc__penalty=l1, classifier__vc__C=1, classifier__vc__class_weight=balanced, classifier__vc__kernel=linear; total time= 1.7min\n",
      "[CV] END classifier__logreg__class_weight=balanced, classifier__logreg__max_iter=5000, classifier__logreg__multi_class=multinomial, classifier__svc__C=0.1, classifier__svc__dual=False, classifier__svc__max_iter=1000, classifier__svc__penalty=l1, classifier__vc__C=1, classifier__vc__class_weight=balanced, classifier__vc__kernel=linear; total time= 1.7min\n",
      "[CV] END classifier__logreg__class_weight=balanced, classifier__logreg__max_iter=5000, classifier__logreg__multi_class=multinomial, classifier__svc__C=0.1, classifier__svc__dual=False, classifier__svc__max_iter=1000, classifier__svc__penalty=l1, classifier__vc__C=10, classifier__vc__class_weight=balanced, classifier__vc__kernel=linear; total time= 1.7min\n",
      "[CV] END classifier__logreg__class_weight=balanced, classifier__logreg__max_iter=5000, classifier__logreg__multi_class=multinomial, classifier__svc__C=0.1, classifier__svc__dual=False, classifier__svc__max_iter=1000, classifier__svc__penalty=l1, classifier__vc__C=10, classifier__vc__class_weight=balanced, classifier__vc__kernel=linear; total time= 1.7min\n",
      "[CV] END classifier__logreg__class_weight=balanced, classifier__logreg__max_iter=5000, classifier__logreg__multi_class=multinomial, classifier__svc__C=0.1, classifier__svc__dual=False, classifier__svc__max_iter=1000, classifier__svc__penalty=l1, classifier__vc__C=10, classifier__vc__class_weight=balanced, classifier__vc__kernel=linear; total time= 1.8min\n",
      "[CV] END classifier__logreg__class_weight=balanced, classifier__logreg__max_iter=5000, classifier__logreg__multi_class=multinomial, classifier__svc__C=0.1, classifier__svc__dual=False, classifier__svc__max_iter=1000, classifier__svc__penalty=l2, classifier__vc__C=0.1, classifier__vc__class_weight=balanced, classifier__vc__kernel=linear; total time= 1.6min\n",
      "[CV] END classifier__logreg__class_weight=balanced, classifier__logreg__max_iter=5000, classifier__logreg__multi_class=multinomial, classifier__svc__C=0.1, classifier__svc__dual=False, classifier__svc__max_iter=1000, classifier__svc__penalty=l2, classifier__vc__C=0.1, classifier__vc__class_weight=balanced, classifier__vc__kernel=linear; total time= 1.6min\n",
      "[CV] END classifier__logreg__class_weight=balanced, classifier__logreg__max_iter=5000, classifier__logreg__multi_class=multinomial, classifier__svc__C=0.1, classifier__svc__dual=False, classifier__svc__max_iter=1000, classifier__svc__penalty=l1, classifier__vc__C=10, classifier__vc__class_weight=balanced, classifier__vc__kernel=linear; total time= 1.7min\n",
      "[CV] END classifier__logreg__class_weight=balanced, classifier__logreg__max_iter=5000, classifier__logreg__multi_class=multinomial, classifier__svc__C=0.1, classifier__svc__dual=False, classifier__svc__max_iter=1000, classifier__svc__penalty=l2, classifier__vc__C=0.1, classifier__vc__class_weight=balanced, classifier__vc__kernel=linear; total time= 1.6min\n",
      "[CV] END classifier__logreg__class_weight=balanced, classifier__logreg__max_iter=5000, classifier__logreg__multi_class=multinomial, classifier__svc__C=0.1, classifier__svc__dual=False, classifier__svc__max_iter=1000, classifier__svc__penalty=l1, classifier__vc__C=10, classifier__vc__class_weight=balanced, classifier__vc__kernel=linear; total time= 1.7min\n",
      "[CV] END classifier__logreg__class_weight=balanced, classifier__logreg__max_iter=5000, classifier__logreg__multi_class=multinomial, classifier__svc__C=0.1, classifier__svc__dual=False, classifier__svc__max_iter=1000, classifier__svc__penalty=l2, classifier__vc__C=0.1, classifier__vc__class_weight=balanced, classifier__vc__kernel=linear; total time= 3.0min\n",
      "[CV] END classifier__logreg__class_weight=balanced, classifier__logreg__max_iter=5000, classifier__logreg__multi_class=multinomial, classifier__svc__C=0.1, classifier__svc__dual=False, classifier__svc__max_iter=1000, classifier__svc__penalty=l2, classifier__vc__C=0.1, classifier__vc__class_weight=balanced, classifier__vc__kernel=linear; total time= 3.0min\n",
      "[CV] END classifier__logreg__class_weight=balanced, classifier__logreg__max_iter=5000, classifier__logreg__multi_class=multinomial, classifier__svc__C=0.1, classifier__svc__dual=False, classifier__svc__max_iter=1000, classifier__svc__penalty=l2, classifier__vc__C=1, classifier__vc__class_weight=balanced, classifier__vc__kernel=linear; total time= 3.1min\n",
      "[CV] END classifier__logreg__class_weight=balanced, classifier__logreg__max_iter=5000, classifier__logreg__multi_class=multinomial, classifier__svc__C=0.1, classifier__svc__dual=False, classifier__svc__max_iter=1000, classifier__svc__penalty=l2, classifier__vc__C=1, classifier__vc__class_weight=balanced, classifier__vc__kernel=linear; total time= 3.1min\n",
      "[CV] END classifier__logreg__class_weight=balanced, classifier__logreg__max_iter=5000, classifier__logreg__multi_class=multinomial, classifier__svc__C=0.1, classifier__svc__dual=False, classifier__svc__max_iter=1000, classifier__svc__penalty=l2, classifier__vc__C=1, classifier__vc__class_weight=balanced, classifier__vc__kernel=linear; total time= 3.2min\n",
      "[CV] END classifier__logreg__class_weight=balanced, classifier__logreg__max_iter=5000, classifier__logreg__multi_class=multinomial, classifier__svc__C=0.1, classifier__svc__dual=False, classifier__svc__max_iter=1000, classifier__svc__penalty=l2, classifier__vc__C=1, classifier__vc__class_weight=balanced, classifier__vc__kernel=linear; total time= 3.2min\n",
      "[CV] END classifier__logreg__class_weight=balanced, classifier__logreg__max_iter=5000, classifier__logreg__multi_class=multinomial, classifier__svc__C=0.1, classifier__svc__dual=False, classifier__svc__max_iter=1000, classifier__svc__penalty=l2, classifier__vc__C=10, classifier__vc__class_weight=balanced, classifier__vc__kernel=linear; total time= 3.1min\n",
      "[CV] END classifier__logreg__class_weight=balanced, classifier__logreg__max_iter=5000, classifier__logreg__multi_class=multinomial, classifier__svc__C=0.1, classifier__svc__dual=False, classifier__svc__max_iter=1000, classifier__svc__penalty=l2, classifier__vc__C=1, classifier__vc__class_weight=balanced, classifier__vc__kernel=linear; total time= 3.2min\n"
     ]
    },
    {
     "name": "stderr",
     "output_type": "stream",
     "text": [
      "/Users/anushkrishnav/.local/share/virtualenvs/newsgroup-u5VajpjS/lib/python3.11/site-packages/sklearn/svm/_base.py:1250: ConvergenceWarning: Liblinear failed to converge, increase the number of iterations.\n",
      "  warnings.warn(\n",
      "/Users/anushkrishnav/.local/share/virtualenvs/newsgroup-u5VajpjS/lib/python3.11/site-packages/sklearn/svm/_base.py:1250: ConvergenceWarning: Liblinear failed to converge, increase the number of iterations.\n",
      "  warnings.warn(\n",
      "/Users/anushkrishnav/.local/share/virtualenvs/newsgroup-u5VajpjS/lib/python3.11/site-packages/sklearn/svm/_base.py:1250: ConvergenceWarning: Liblinear failed to converge, increase the number of iterations.\n",
      "  warnings.warn(\n",
      "/Users/anushkrishnav/.local/share/virtualenvs/newsgroup-u5VajpjS/lib/python3.11/site-packages/sklearn/svm/_base.py:1250: ConvergenceWarning: Liblinear failed to converge, increase the number of iterations.\n",
      "  warnings.warn(\n"
     ]
    },
    {
     "name": "stdout",
     "output_type": "stream",
     "text": [
      "[CV] END classifier__logreg__class_weight=balanced, classifier__logreg__max_iter=5000, classifier__logreg__multi_class=multinomial, classifier__svc__C=0.1, classifier__svc__dual=False, classifier__svc__max_iter=1000, classifier__svc__penalty=l2, classifier__vc__C=10, classifier__vc__class_weight=balanced, classifier__vc__kernel=linear; total time= 1.8min\n",
      "[CV] END classifier__logreg__class_weight=balanced, classifier__logreg__max_iter=5000, classifier__logreg__multi_class=multinomial, classifier__svc__C=0.1, classifier__svc__dual=False, classifier__svc__max_iter=1000, classifier__svc__penalty=l2, classifier__vc__C=10, classifier__vc__class_weight=balanced, classifier__vc__kernel=linear; total time= 1.8min\n"
     ]
    },
    {
     "name": "stderr",
     "output_type": "stream",
     "text": [
      "/Users/anushkrishnav/.local/share/virtualenvs/newsgroup-u5VajpjS/lib/python3.11/site-packages/sklearn/svm/_base.py:1250: ConvergenceWarning: Liblinear failed to converge, increase the number of iterations.\n",
      "  warnings.warn(\n"
     ]
    },
    {
     "name": "stdout",
     "output_type": "stream",
     "text": [
      "[CV] END classifier__logreg__class_weight=balanced, classifier__logreg__max_iter=5000, classifier__logreg__multi_class=multinomial, classifier__svc__C=0.1, classifier__svc__dual=False, classifier__svc__max_iter=1000, classifier__svc__penalty=l2, classifier__vc__C=10, classifier__vc__class_weight=balanced, classifier__vc__kernel=linear; total time= 1.7min\n"
     ]
    },
    {
     "name": "stderr",
     "output_type": "stream",
     "text": [
      "/Users/anushkrishnav/.local/share/virtualenvs/newsgroup-u5VajpjS/lib/python3.11/site-packages/sklearn/svm/_base.py:1250: ConvergenceWarning: Liblinear failed to converge, increase the number of iterations.\n",
      "  warnings.warn(\n"
     ]
    },
    {
     "name": "stdout",
     "output_type": "stream",
     "text": [
      "[CV] END classifier__logreg__class_weight=balanced, classifier__logreg__max_iter=5000, classifier__logreg__multi_class=multinomial, classifier__svc__C=0.1, classifier__svc__dual=False, classifier__svc__max_iter=1000, classifier__svc__penalty=l2, classifier__vc__C=10, classifier__vc__class_weight=balanced, classifier__vc__kernel=linear; total time= 1.7min\n",
      "[CV] END classifier__logreg__class_weight=balanced, classifier__logreg__max_iter=5000, classifier__logreg__multi_class=multinomial, classifier__svc__C=1, classifier__svc__dual=False, classifier__svc__max_iter=500, classifier__svc__penalty=l1, classifier__vc__C=0.1, classifier__vc__class_weight=balanced, classifier__vc__kernel=linear; total time= 1.7min\n",
      "[CV] END classifier__logreg__class_weight=balanced, classifier__logreg__max_iter=5000, classifier__logreg__multi_class=multinomial, classifier__svc__C=1, classifier__svc__dual=False, classifier__svc__max_iter=500, classifier__svc__penalty=l1, classifier__vc__C=0.1, classifier__vc__class_weight=balanced, classifier__vc__kernel=linear; total time= 1.7min\n",
      "[CV] END classifier__logreg__class_weight=balanced, classifier__logreg__max_iter=5000, classifier__logreg__multi_class=multinomial, classifier__svc__C=1, classifier__svc__dual=False, classifier__svc__max_iter=500, classifier__svc__penalty=l1, classifier__vc__C=0.1, classifier__vc__class_weight=balanced, classifier__vc__kernel=linear; total time= 1.7min\n"
     ]
    },
    {
     "name": "stderr",
     "output_type": "stream",
     "text": [
      "/Users/anushkrishnav/.local/share/virtualenvs/newsgroup-u5VajpjS/lib/python3.11/site-packages/sklearn/svm/_base.py:1250: ConvergenceWarning: Liblinear failed to converge, increase the number of iterations.\n",
      "  warnings.warn(\n"
     ]
    },
    {
     "name": "stdout",
     "output_type": "stream",
     "text": [
      "[CV] END classifier__logreg__class_weight=balanced, classifier__logreg__max_iter=5000, classifier__logreg__multi_class=multinomial, classifier__svc__C=1, classifier__svc__dual=False, classifier__svc__max_iter=500, classifier__svc__penalty=l1, classifier__vc__C=0.1, classifier__vc__class_weight=balanced, classifier__vc__kernel=linear; total time= 1.7min\n"
     ]
    },
    {
     "name": "stderr",
     "output_type": "stream",
     "text": [
      "/Users/anushkrishnav/.local/share/virtualenvs/newsgroup-u5VajpjS/lib/python3.11/site-packages/sklearn/svm/_base.py:1250: ConvergenceWarning: Liblinear failed to converge, increase the number of iterations.\n",
      "  warnings.warn(\n",
      "/Users/anushkrishnav/.local/share/virtualenvs/newsgroup-u5VajpjS/lib/python3.11/site-packages/sklearn/svm/_base.py:1250: ConvergenceWarning: Liblinear failed to converge, increase the number of iterations.\n",
      "  warnings.warn(\n",
      "/Users/anushkrishnav/.local/share/virtualenvs/newsgroup-u5VajpjS/lib/python3.11/site-packages/sklearn/svm/_base.py:1250: ConvergenceWarning: Liblinear failed to converge, increase the number of iterations.\n",
      "  warnings.warn(\n",
      "/Users/anushkrishnav/.local/share/virtualenvs/newsgroup-u5VajpjS/lib/python3.11/site-packages/sklearn/svm/_base.py:1250: ConvergenceWarning: Liblinear failed to converge, increase the number of iterations.\n",
      "  warnings.warn(\n",
      "/Users/anushkrishnav/.local/share/virtualenvs/newsgroup-u5VajpjS/lib/python3.11/site-packages/sklearn/svm/_base.py:1250: ConvergenceWarning: Liblinear failed to converge, increase the number of iterations.\n",
      "  warnings.warn(\n"
     ]
    },
    {
     "name": "stdout",
     "output_type": "stream",
     "text": [
      "[CV] END classifier__logreg__class_weight=balanced, classifier__logreg__max_iter=5000, classifier__logreg__multi_class=multinomial, classifier__svc__C=1, classifier__svc__dual=False, classifier__svc__max_iter=500, classifier__svc__penalty=l1, classifier__vc__C=0.1, classifier__vc__class_weight=balanced, classifier__vc__kernel=linear; total time= 1.7min\n",
      "[CV] END classifier__logreg__class_weight=balanced, classifier__logreg__max_iter=5000, classifier__logreg__multi_class=multinomial, classifier__svc__C=1, classifier__svc__dual=False, classifier__svc__max_iter=500, classifier__svc__penalty=l1, classifier__vc__C=1, classifier__vc__class_weight=balanced, classifier__vc__kernel=linear; total time= 1.8min\n"
     ]
    },
    {
     "name": "stderr",
     "output_type": "stream",
     "text": [
      "/Users/anushkrishnav/.local/share/virtualenvs/newsgroup-u5VajpjS/lib/python3.11/site-packages/sklearn/svm/_base.py:1250: ConvergenceWarning: Liblinear failed to converge, increase the number of iterations.\n",
      "  warnings.warn(\n"
     ]
    },
    {
     "name": "stdout",
     "output_type": "stream",
     "text": [
      "[CV] END classifier__logreg__class_weight=balanced, classifier__logreg__max_iter=5000, classifier__logreg__multi_class=multinomial, classifier__svc__C=1, classifier__svc__dual=False, classifier__svc__max_iter=500, classifier__svc__penalty=l1, classifier__vc__C=1, classifier__vc__class_weight=balanced, classifier__vc__kernel=linear; total time= 1.9min\n"
     ]
    },
    {
     "name": "stderr",
     "output_type": "stream",
     "text": [
      "/Users/anushkrishnav/.local/share/virtualenvs/newsgroup-u5VajpjS/lib/python3.11/site-packages/sklearn/svm/_base.py:1250: ConvergenceWarning: Liblinear failed to converge, increase the number of iterations.\n",
      "  warnings.warn(\n"
     ]
    },
    {
     "name": "stdout",
     "output_type": "stream",
     "text": [
      "[CV] END classifier__logreg__class_weight=balanced, classifier__logreg__max_iter=5000, classifier__logreg__multi_class=multinomial, classifier__svc__C=1, classifier__svc__dual=False, classifier__svc__max_iter=500, classifier__svc__penalty=l1, classifier__vc__C=1, classifier__vc__class_weight=balanced, classifier__vc__kernel=linear; total time= 1.8min\n",
      "[CV] END classifier__logreg__class_weight=balanced, classifier__logreg__max_iter=5000, classifier__logreg__multi_class=multinomial, classifier__svc__C=1, classifier__svc__dual=False, classifier__svc__max_iter=500, classifier__svc__penalty=l1, classifier__vc__C=1, classifier__vc__class_weight=balanced, classifier__vc__kernel=linear; total time= 1.9min\n",
      "[CV] END classifier__logreg__class_weight=balanced, classifier__logreg__max_iter=5000, classifier__logreg__multi_class=multinomial, classifier__svc__C=1, classifier__svc__dual=False, classifier__svc__max_iter=500, classifier__svc__penalty=l1, classifier__vc__C=1, classifier__vc__class_weight=balanced, classifier__vc__kernel=linear; total time= 1.8min\n",
      "[CV] END classifier__logreg__class_weight=balanced, classifier__logreg__max_iter=5000, classifier__logreg__multi_class=multinomial, classifier__svc__C=1, classifier__svc__dual=False, classifier__svc__max_iter=500, classifier__svc__penalty=l1, classifier__vc__C=10, classifier__vc__class_weight=balanced, classifier__vc__kernel=linear; total time= 1.9min\n",
      "[CV] END classifier__logreg__class_weight=balanced, classifier__logreg__max_iter=5000, classifier__logreg__multi_class=multinomial, classifier__svc__C=1, classifier__svc__dual=False, classifier__svc__max_iter=500, classifier__svc__penalty=l1, classifier__vc__C=10, classifier__vc__class_weight=balanced, classifier__vc__kernel=linear; total time= 1.9min\n"
     ]
    },
    {
     "name": "stderr",
     "output_type": "stream",
     "text": [
      "/Users/anushkrishnav/.local/share/virtualenvs/newsgroup-u5VajpjS/lib/python3.11/site-packages/sklearn/svm/_base.py:1250: ConvergenceWarning: Liblinear failed to converge, increase the number of iterations.\n",
      "  warnings.warn(\n"
     ]
    },
    {
     "name": "stdout",
     "output_type": "stream",
     "text": [
      "[CV] END classifier__logreg__class_weight=balanced, classifier__logreg__max_iter=5000, classifier__logreg__multi_class=multinomial, classifier__svc__C=1, classifier__svc__dual=False, classifier__svc__max_iter=500, classifier__svc__penalty=l1, classifier__vc__C=10, classifier__vc__class_weight=balanced, classifier__vc__kernel=linear; total time= 1.9min\n",
      "[CV] END classifier__logreg__class_weight=balanced, classifier__logreg__max_iter=5000, classifier__logreg__multi_class=multinomial, classifier__svc__C=1, classifier__svc__dual=False, classifier__svc__max_iter=500, classifier__svc__penalty=l1, classifier__vc__C=10, classifier__vc__class_weight=balanced, classifier__vc__kernel=linear; total time= 1.9min\n",
      "[CV] END classifier__logreg__class_weight=balanced, classifier__logreg__max_iter=5000, classifier__logreg__multi_class=multinomial, classifier__svc__C=1, classifier__svc__dual=False, classifier__svc__max_iter=500, classifier__svc__penalty=l2, classifier__vc__C=0.1, classifier__vc__class_weight=balanced, classifier__vc__kernel=linear; total time= 1.7min\n",
      "[CV] END classifier__logreg__class_weight=balanced, classifier__logreg__max_iter=5000, classifier__logreg__multi_class=multinomial, classifier__svc__C=1, classifier__svc__dual=False, classifier__svc__max_iter=500, classifier__svc__penalty=l2, classifier__vc__C=0.1, classifier__vc__class_weight=balanced, classifier__vc__kernel=linear; total time= 1.7min\n",
      "[CV] END classifier__logreg__class_weight=balanced, classifier__logreg__max_iter=5000, classifier__logreg__multi_class=multinomial, classifier__svc__C=1, classifier__svc__dual=False, classifier__svc__max_iter=500, classifier__svc__penalty=l2, classifier__vc__C=0.1, classifier__vc__class_weight=balanced, classifier__vc__kernel=linear; total time= 1.7min\n",
      "[CV] END classifier__logreg__class_weight=balanced, classifier__logreg__max_iter=5000, classifier__logreg__multi_class=multinomial, classifier__svc__C=1, classifier__svc__dual=False, classifier__svc__max_iter=500, classifier__svc__penalty=l2, classifier__vc__C=0.1, classifier__vc__class_weight=balanced, classifier__vc__kernel=linear; total time= 1.7min\n",
      "[CV] END classifier__logreg__class_weight=balanced, classifier__logreg__max_iter=5000, classifier__logreg__multi_class=multinomial, classifier__svc__C=1, classifier__svc__dual=False, classifier__svc__max_iter=500, classifier__svc__penalty=l2, classifier__vc__C=0.1, classifier__vc__class_weight=balanced, classifier__vc__kernel=linear; total time= 1.7min\n",
      "[CV] END classifier__logreg__class_weight=balanced, classifier__logreg__max_iter=5000, classifier__logreg__multi_class=multinomial, classifier__svc__C=1, classifier__svc__dual=False, classifier__svc__max_iter=500, classifier__svc__penalty=l1, classifier__vc__C=10, classifier__vc__class_weight=balanced, classifier__vc__kernel=linear; total time= 1.9min\n",
      "[CV] END classifier__logreg__class_weight=balanced, classifier__logreg__max_iter=5000, classifier__logreg__multi_class=multinomial, classifier__svc__C=1, classifier__svc__dual=False, classifier__svc__max_iter=500, classifier__svc__penalty=l2, classifier__vc__C=1, classifier__vc__class_weight=balanced, classifier__vc__kernel=linear; total time= 1.7min\n",
      "[CV] END classifier__logreg__class_weight=balanced, classifier__logreg__max_iter=5000, classifier__logreg__multi_class=multinomial, classifier__svc__C=1, classifier__svc__dual=False, classifier__svc__max_iter=500, classifier__svc__penalty=l2, classifier__vc__C=1, classifier__vc__class_weight=balanced, classifier__vc__kernel=linear; total time= 1.8min\n",
      "[CV] END classifier__logreg__class_weight=balanced, classifier__logreg__max_iter=5000, classifier__logreg__multi_class=multinomial, classifier__svc__C=1, classifier__svc__dual=False, classifier__svc__max_iter=500, classifier__svc__penalty=l2, classifier__vc__C=1, classifier__vc__class_weight=balanced, classifier__vc__kernel=linear; total time= 1.8min\n",
      "[CV] END classifier__logreg__class_weight=balanced, classifier__logreg__max_iter=5000, classifier__logreg__multi_class=multinomial, classifier__svc__C=1, classifier__svc__dual=False, classifier__svc__max_iter=500, classifier__svc__penalty=l2, classifier__vc__C=1, classifier__vc__class_weight=balanced, classifier__vc__kernel=linear; total time= 1.7min\n",
      "[CV] END classifier__logreg__class_weight=balanced, classifier__logreg__max_iter=5000, classifier__logreg__multi_class=multinomial, classifier__svc__C=1, classifier__svc__dual=False, classifier__svc__max_iter=500, classifier__svc__penalty=l2, classifier__vc__C=10, classifier__vc__class_weight=balanced, classifier__vc__kernel=linear; total time= 1.7min\n",
      "[CV] END classifier__logreg__class_weight=balanced, classifier__logreg__max_iter=5000, classifier__logreg__multi_class=multinomial, classifier__svc__C=1, classifier__svc__dual=False, classifier__svc__max_iter=500, classifier__svc__penalty=l2, classifier__vc__C=1, classifier__vc__class_weight=balanced, classifier__vc__kernel=linear; total time= 1.8min\n",
      "[CV] END classifier__logreg__class_weight=balanced, classifier__logreg__max_iter=5000, classifier__logreg__multi_class=multinomial, classifier__svc__C=1, classifier__svc__dual=False, classifier__svc__max_iter=500, classifier__svc__penalty=l2, classifier__vc__C=10, classifier__vc__class_weight=balanced, classifier__vc__kernel=linear; total time= 1.8min\n",
      "[CV] END classifier__logreg__class_weight=balanced, classifier__logreg__max_iter=5000, classifier__logreg__multi_class=multinomial, classifier__svc__C=1, classifier__svc__dual=False, classifier__svc__max_iter=500, classifier__svc__penalty=l2, classifier__vc__C=10, classifier__vc__class_weight=balanced, classifier__vc__kernel=linear; total time= 1.8min\n"
     ]
    },
    {
     "name": "stderr",
     "output_type": "stream",
     "text": [
      "/Users/anushkrishnav/.local/share/virtualenvs/newsgroup-u5VajpjS/lib/python3.11/site-packages/sklearn/svm/_base.py:1250: ConvergenceWarning: Liblinear failed to converge, increase the number of iterations.\n",
      "  warnings.warn(\n"
     ]
    },
    {
     "name": "stdout",
     "output_type": "stream",
     "text": [
      "[CV] END classifier__logreg__class_weight=balanced, classifier__logreg__max_iter=5000, classifier__logreg__multi_class=multinomial, classifier__svc__C=1, classifier__svc__dual=False, classifier__svc__max_iter=500, classifier__svc__penalty=l2, classifier__vc__C=10, classifier__vc__class_weight=balanced, classifier__vc__kernel=linear; total time= 1.7min\n",
      "[CV] END classifier__logreg__class_weight=balanced, classifier__logreg__max_iter=5000, classifier__logreg__multi_class=multinomial, classifier__svc__C=1, classifier__svc__dual=False, classifier__svc__max_iter=500, classifier__svc__penalty=l2, classifier__vc__C=10, classifier__vc__class_weight=balanced, classifier__vc__kernel=linear; total time= 1.7min\n",
      "[CV] END classifier__logreg__class_weight=balanced, classifier__logreg__max_iter=5000, classifier__logreg__multi_class=multinomial, classifier__svc__C=1, classifier__svc__dual=False, classifier__svc__max_iter=1000, classifier__svc__penalty=l1, classifier__vc__C=0.1, classifier__vc__class_weight=balanced, classifier__vc__kernel=linear; total time= 1.7min\n"
     ]
    },
    {
     "name": "stderr",
     "output_type": "stream",
     "text": [
      "/Users/anushkrishnav/.local/share/virtualenvs/newsgroup-u5VajpjS/lib/python3.11/site-packages/sklearn/svm/_base.py:1250: ConvergenceWarning: Liblinear failed to converge, increase the number of iterations.\n",
      "  warnings.warn(\n"
     ]
    },
    {
     "name": "stdout",
     "output_type": "stream",
     "text": [
      "[CV] END classifier__logreg__class_weight=balanced, classifier__logreg__max_iter=5000, classifier__logreg__multi_class=multinomial, classifier__svc__C=1, classifier__svc__dual=False, classifier__svc__max_iter=1000, classifier__svc__penalty=l1, classifier__vc__C=0.1, classifier__vc__class_weight=balanced, classifier__vc__kernel=linear; total time= 1.7min\n",
      "[CV] END classifier__logreg__class_weight=balanced, classifier__logreg__max_iter=5000, classifier__logreg__multi_class=multinomial, classifier__svc__C=1, classifier__svc__dual=False, classifier__svc__max_iter=1000, classifier__svc__penalty=l1, classifier__vc__C=0.1, classifier__vc__class_weight=balanced, classifier__vc__kernel=linear; total time= 1.7min\n",
      "[CV] END classifier__logreg__class_weight=balanced, classifier__logreg__max_iter=5000, classifier__logreg__multi_class=multinomial, classifier__svc__C=1, classifier__svc__dual=False, classifier__svc__max_iter=1000, classifier__svc__penalty=l1, classifier__vc__C=0.1, classifier__vc__class_weight=balanced, classifier__vc__kernel=linear; total time= 1.7min\n"
     ]
    },
    {
     "name": "stderr",
     "output_type": "stream",
     "text": [
      "/Users/anushkrishnav/.local/share/virtualenvs/newsgroup-u5VajpjS/lib/python3.11/site-packages/sklearn/svm/_base.py:1250: ConvergenceWarning: Liblinear failed to converge, increase the number of iterations.\n",
      "  warnings.warn(\n"
     ]
    },
    {
     "name": "stdout",
     "output_type": "stream",
     "text": [
      "[CV] END classifier__logreg__class_weight=balanced, classifier__logreg__max_iter=5000, classifier__logreg__multi_class=multinomial, classifier__svc__C=1, classifier__svc__dual=False, classifier__svc__max_iter=1000, classifier__svc__penalty=l1, classifier__vc__C=0.1, classifier__vc__class_weight=balanced, classifier__vc__kernel=linear; total time= 2.2min\n"
     ]
    },
    {
     "name": "stderr",
     "output_type": "stream",
     "text": [
      "/Users/anushkrishnav/.local/share/virtualenvs/newsgroup-u5VajpjS/lib/python3.11/site-packages/sklearn/svm/_base.py:1250: ConvergenceWarning: Liblinear failed to converge, increase the number of iterations.\n",
      "  warnings.warn(\n"
     ]
    },
    {
     "name": "stdout",
     "output_type": "stream",
     "text": [
      "[CV] END classifier__logreg__class_weight=balanced, classifier__logreg__max_iter=5000, classifier__logreg__multi_class=multinomial, classifier__svc__C=1, classifier__svc__dual=False, classifier__svc__max_iter=1000, classifier__svc__penalty=l1, classifier__vc__C=1, classifier__vc__class_weight=balanced, classifier__vc__kernel=linear; total time= 2.6min\n"
     ]
    },
    {
     "name": "stderr",
     "output_type": "stream",
     "text": [
      "/Users/anushkrishnav/.local/share/virtualenvs/newsgroup-u5VajpjS/lib/python3.11/site-packages/sklearn/svm/_base.py:1250: ConvergenceWarning: Liblinear failed to converge, increase the number of iterations.\n",
      "  warnings.warn(\n",
      "/Users/anushkrishnav/.local/share/virtualenvs/newsgroup-u5VajpjS/lib/python3.11/site-packages/sklearn/svm/_base.py:1250: ConvergenceWarning: Liblinear failed to converge, increase the number of iterations.\n",
      "  warnings.warn(\n",
      "/Users/anushkrishnav/.local/share/virtualenvs/newsgroup-u5VajpjS/lib/python3.11/site-packages/sklearn/svm/_base.py:1250: ConvergenceWarning: Liblinear failed to converge, increase the number of iterations.\n",
      "  warnings.warn(\n"
     ]
    },
    {
     "name": "stdout",
     "output_type": "stream",
     "text": [
      "[CV] END classifier__logreg__class_weight=balanced, classifier__logreg__max_iter=5000, classifier__logreg__multi_class=multinomial, classifier__svc__C=1, classifier__svc__dual=False, classifier__svc__max_iter=1000, classifier__svc__penalty=l1, classifier__vc__C=1, classifier__vc__class_weight=balanced, classifier__vc__kernel=linear; total time= 2.7min\n",
      "[CV] END classifier__logreg__class_weight=balanced, classifier__logreg__max_iter=5000, classifier__logreg__multi_class=multinomial, classifier__svc__C=1, classifier__svc__dual=False, classifier__svc__max_iter=1000, classifier__svc__penalty=l1, classifier__vc__C=1, classifier__vc__class_weight=balanced, classifier__vc__kernel=linear; total time= 2.7min\n",
      "[CV] END classifier__logreg__class_weight=balanced, classifier__logreg__max_iter=5000, classifier__logreg__multi_class=multinomial, classifier__svc__C=1, classifier__svc__dual=False, classifier__svc__max_iter=1000, classifier__svc__penalty=l1, classifier__vc__C=1, classifier__vc__class_weight=balanced, classifier__vc__kernel=linear; total time= 2.7min\n",
      "[CV] END classifier__logreg__class_weight=balanced, classifier__logreg__max_iter=5000, classifier__logreg__multi_class=multinomial, classifier__svc__C=1, classifier__svc__dual=False, classifier__svc__max_iter=1000, classifier__svc__penalty=l1, classifier__vc__C=1, classifier__vc__class_weight=balanced, classifier__vc__kernel=linear; total time= 2.7min\n",
      "[CV] END classifier__logreg__class_weight=balanced, classifier__logreg__max_iter=5000, classifier__logreg__multi_class=multinomial, classifier__svc__C=1, classifier__svc__dual=False, classifier__svc__max_iter=1000, classifier__svc__penalty=l1, classifier__vc__C=10, classifier__vc__class_weight=balanced, classifier__vc__kernel=linear; total time= 2.7min\n",
      "[CV] END classifier__logreg__class_weight=balanced, classifier__logreg__max_iter=5000, classifier__logreg__multi_class=multinomial, classifier__svc__C=1, classifier__svc__dual=False, classifier__svc__max_iter=1000, classifier__svc__penalty=l1, classifier__vc__C=10, classifier__vc__class_weight=balanced, classifier__vc__kernel=linear; total time= 2.7min\n",
      "[CV] END classifier__logreg__class_weight=balanced, classifier__logreg__max_iter=5000, classifier__logreg__multi_class=multinomial, classifier__svc__C=1, classifier__svc__dual=False, classifier__svc__max_iter=1000, classifier__svc__penalty=l1, classifier__vc__C=10, classifier__vc__class_weight=balanced, classifier__vc__kernel=linear; total time= 2.2min\n",
      "[CV] END classifier__logreg__class_weight=balanced, classifier__logreg__max_iter=5000, classifier__logreg__multi_class=multinomial, classifier__svc__C=1, classifier__svc__dual=False, classifier__svc__max_iter=1000, classifier__svc__penalty=l1, classifier__vc__C=10, classifier__vc__class_weight=balanced, classifier__vc__kernel=linear; total time= 1.9min\n",
      "[CV] END classifier__logreg__class_weight=balanced, classifier__logreg__max_iter=5000, classifier__logreg__multi_class=multinomial, classifier__svc__C=1, classifier__svc__dual=False, classifier__svc__max_iter=1000, classifier__svc__penalty=l2, classifier__vc__C=0.1, classifier__vc__class_weight=balanced, classifier__vc__kernel=linear; total time= 8.2min\n",
      "[CV] END classifier__logreg__class_weight=balanced, classifier__logreg__max_iter=5000, classifier__logreg__multi_class=multinomial, classifier__svc__C=1, classifier__svc__dual=False, classifier__svc__max_iter=1000, classifier__svc__penalty=l2, classifier__vc__C=0.1, classifier__vc__class_weight=balanced, classifier__vc__kernel=linear; total time= 8.3min\n",
      "[CV] END classifier__logreg__class_weight=balanced, classifier__logreg__max_iter=5000, classifier__logreg__multi_class=multinomial, classifier__svc__C=1, classifier__svc__dual=False, classifier__svc__max_iter=1000, classifier__svc__penalty=l2, classifier__vc__C=0.1, classifier__vc__class_weight=balanced, classifier__vc__kernel=linear; total time= 8.3min\n",
      "[CV] END classifier__logreg__class_weight=balanced, classifier__logreg__max_iter=5000, classifier__logreg__multi_class=multinomial, classifier__svc__C=1, classifier__svc__dual=False, classifier__svc__max_iter=1000, classifier__svc__penalty=l1, classifier__vc__C=10, classifier__vc__class_weight=balanced, classifier__vc__kernel=linear; total time= 8.5min\n",
      "[CV] END classifier__logreg__class_weight=balanced, classifier__logreg__max_iter=5000, classifier__logreg__multi_class=multinomial, classifier__svc__C=1, classifier__svc__dual=False, classifier__svc__max_iter=1000, classifier__svc__penalty=l2, classifier__vc__C=0.1, classifier__vc__class_weight=balanced, classifier__vc__kernel=linear; total time= 8.3min\n",
      "[CV] END classifier__logreg__class_weight=balanced, classifier__logreg__max_iter=5000, classifier__logreg__multi_class=multinomial, classifier__svc__C=1, classifier__svc__dual=False, classifier__svc__max_iter=1000, classifier__svc__penalty=l2, classifier__vc__C=0.1, classifier__vc__class_weight=balanced, classifier__vc__kernel=linear; total time= 8.3min\n",
      "[CV] END classifier__logreg__class_weight=balanced, classifier__logreg__max_iter=5000, classifier__logreg__multi_class=multinomial, classifier__svc__C=1, classifier__svc__dual=False, classifier__svc__max_iter=1000, classifier__svc__penalty=l2, classifier__vc__C=1, classifier__vc__class_weight=balanced, classifier__vc__kernel=linear; total time= 8.4min\n",
      "[CV] END classifier__logreg__class_weight=balanced, classifier__logreg__max_iter=5000, classifier__logreg__multi_class=multinomial, classifier__svc__C=1, classifier__svc__dual=False, classifier__svc__max_iter=1000, classifier__svc__penalty=l2, classifier__vc__C=1, classifier__vc__class_weight=balanced, classifier__vc__kernel=linear; total time= 8.5min\n",
      "[CV] END classifier__logreg__class_weight=balanced, classifier__logreg__max_iter=5000, classifier__logreg__multi_class=multinomial, classifier__svc__C=1, classifier__svc__dual=False, classifier__svc__max_iter=1000, classifier__svc__penalty=l2, classifier__vc__C=1, classifier__vc__class_weight=balanced, classifier__vc__kernel=linear; total time= 1.8min\n",
      "[CV] END classifier__logreg__class_weight=balanced, classifier__logreg__max_iter=5000, classifier__logreg__multi_class=multinomial, classifier__svc__C=1, classifier__svc__dual=False, classifier__svc__max_iter=1000, classifier__svc__penalty=l2, classifier__vc__C=1, classifier__vc__class_weight=balanced, classifier__vc__kernel=linear; total time= 1.9min\n",
      "[CV] END classifier__logreg__class_weight=balanced, classifier__logreg__max_iter=5000, classifier__logreg__multi_class=multinomial, classifier__svc__C=1, classifier__svc__dual=False, classifier__svc__max_iter=1000, classifier__svc__penalty=l2, classifier__vc__C=10, classifier__vc__class_weight=balanced, classifier__vc__kernel=linear; total time= 1.8min\n",
      "[CV] END classifier__logreg__class_weight=balanced, classifier__logreg__max_iter=5000, classifier__logreg__multi_class=multinomial, classifier__svc__C=1, classifier__svc__dual=False, classifier__svc__max_iter=1000, classifier__svc__penalty=l2, classifier__vc__C=1, classifier__vc__class_weight=balanced, classifier__vc__kernel=linear; total time= 1.9min\n",
      "[CV] END classifier__logreg__class_weight=balanced, classifier__logreg__max_iter=5000, classifier__logreg__multi_class=multinomial, classifier__svc__C=1, classifier__svc__dual=False, classifier__svc__max_iter=1000, classifier__svc__penalty=l2, classifier__vc__C=10, classifier__vc__class_weight=balanced, classifier__vc__kernel=linear; total time= 1.9min\n"
     ]
    },
    {
     "name": "stderr",
     "output_type": "stream",
     "text": [
      "/Users/anushkrishnav/.local/share/virtualenvs/newsgroup-u5VajpjS/lib/python3.11/site-packages/sklearn/svm/_base.py:1250: ConvergenceWarning: Liblinear failed to converge, increase the number of iterations.\n",
      "  warnings.warn(\n"
     ]
    },
    {
     "name": "stdout",
     "output_type": "stream",
     "text": [
      "[CV] END classifier__logreg__class_weight=balanced, classifier__logreg__max_iter=5000, classifier__logreg__multi_class=multinomial, classifier__svc__C=1, classifier__svc__dual=False, classifier__svc__max_iter=1000, classifier__svc__penalty=l2, classifier__vc__C=10, classifier__vc__class_weight=balanced, classifier__vc__kernel=linear; total time= 1.8min\n"
     ]
    },
    {
     "name": "stderr",
     "output_type": "stream",
     "text": [
      "/Users/anushkrishnav/.local/share/virtualenvs/newsgroup-u5VajpjS/lib/python3.11/site-packages/sklearn/svm/_base.py:1250: ConvergenceWarning: Liblinear failed to converge, increase the number of iterations.\n",
      "  warnings.warn(\n",
      "/Users/anushkrishnav/.local/share/virtualenvs/newsgroup-u5VajpjS/lib/python3.11/site-packages/sklearn/svm/_base.py:1250: ConvergenceWarning: Liblinear failed to converge, increase the number of iterations.\n",
      "  warnings.warn(\n"
     ]
    },
    {
     "name": "stdout",
     "output_type": "stream",
     "text": [
      "[CV] END classifier__logreg__class_weight=balanced, classifier__logreg__max_iter=5000, classifier__logreg__multi_class=multinomial, classifier__svc__C=1, classifier__svc__dual=False, classifier__svc__max_iter=1000, classifier__svc__penalty=l2, classifier__vc__C=10, classifier__vc__class_weight=balanced, classifier__vc__kernel=linear; total time= 1.8min\n"
     ]
    },
    {
     "name": "stderr",
     "output_type": "stream",
     "text": [
      "/Users/anushkrishnav/.local/share/virtualenvs/newsgroup-u5VajpjS/lib/python3.11/site-packages/sklearn/svm/_base.py:1250: ConvergenceWarning: Liblinear failed to converge, increase the number of iterations.\n",
      "  warnings.warn(\n",
      "/Users/anushkrishnav/.local/share/virtualenvs/newsgroup-u5VajpjS/lib/python3.11/site-packages/sklearn/svm/_base.py:1250: ConvergenceWarning: Liblinear failed to converge, increase the number of iterations.\n",
      "  warnings.warn(\n",
      "/Users/anushkrishnav/.local/share/virtualenvs/newsgroup-u5VajpjS/lib/python3.11/site-packages/sklearn/svm/_base.py:1250: ConvergenceWarning: Liblinear failed to converge, increase the number of iterations.\n",
      "  warnings.warn(\n"
     ]
    },
    {
     "name": "stdout",
     "output_type": "stream",
     "text": [
      "[CV] END classifier__logreg__class_weight=balanced, classifier__logreg__max_iter=5000, classifier__logreg__multi_class=multinomial, classifier__svc__C=1, classifier__svc__dual=False, classifier__svc__max_iter=1000, classifier__svc__penalty=l2, classifier__vc__C=10, classifier__vc__class_weight=balanced, classifier__vc__kernel=linear; total time= 1.8min\n"
     ]
    },
    {
     "name": "stderr",
     "output_type": "stream",
     "text": [
      "/Users/anushkrishnav/.local/share/virtualenvs/newsgroup-u5VajpjS/lib/python3.11/site-packages/sklearn/svm/_base.py:1250: ConvergenceWarning: Liblinear failed to converge, increase the number of iterations.\n",
      "  warnings.warn(\n",
      "/Users/anushkrishnav/.local/share/virtualenvs/newsgroup-u5VajpjS/lib/python3.11/site-packages/sklearn/svm/_base.py:1250: ConvergenceWarning: Liblinear failed to converge, increase the number of iterations.\n",
      "  warnings.warn(\n"
     ]
    },
    {
     "name": "stdout",
     "output_type": "stream",
     "text": [
      "[CV] END classifier__logreg__class_weight=balanced, classifier__logreg__max_iter=5000, classifier__logreg__multi_class=multinomial, classifier__svc__C=10, classifier__svc__dual=False, classifier__svc__max_iter=500, classifier__svc__penalty=l1, classifier__vc__C=0.1, classifier__vc__class_weight=balanced, classifier__vc__kernel=linear; total time= 5.0min\n",
      "[CV] END classifier__logreg__class_weight=balanced, classifier__logreg__max_iter=5000, classifier__logreg__multi_class=multinomial, classifier__svc__C=10, classifier__svc__dual=False, classifier__svc__max_iter=500, classifier__svc__penalty=l1, classifier__vc__C=0.1, classifier__vc__class_weight=balanced, classifier__vc__kernel=linear; total time= 5.0min\n",
      "[CV] END classifier__logreg__class_weight=balanced, classifier__logreg__max_iter=5000, classifier__logreg__multi_class=multinomial, classifier__svc__C=10, classifier__svc__dual=False, classifier__svc__max_iter=500, classifier__svc__penalty=l1, classifier__vc__C=0.1, classifier__vc__class_weight=balanced, classifier__vc__kernel=linear; total time= 5.0min\n",
      "[CV] END classifier__logreg__class_weight=balanced, classifier__logreg__max_iter=5000, classifier__logreg__multi_class=multinomial, classifier__svc__C=10, classifier__svc__dual=False, classifier__svc__max_iter=500, classifier__svc__penalty=l1, classifier__vc__C=0.1, classifier__vc__class_weight=balanced, classifier__vc__kernel=linear; total time= 5.0min\n",
      "[CV] END classifier__logreg__class_weight=balanced, classifier__logreg__max_iter=5000, classifier__logreg__multi_class=multinomial, classifier__svc__C=10, classifier__svc__dual=False, classifier__svc__max_iter=500, classifier__svc__penalty=l1, classifier__vc__C=0.1, classifier__vc__class_weight=balanced, classifier__vc__kernel=linear; total time= 5.0min\n"
     ]
    },
    {
     "name": "stderr",
     "output_type": "stream",
     "text": [
      "/Users/anushkrishnav/.local/share/virtualenvs/newsgroup-u5VajpjS/lib/python3.11/site-packages/sklearn/svm/_base.py:1250: ConvergenceWarning: Liblinear failed to converge, increase the number of iterations.\n",
      "  warnings.warn(\n",
      "/Users/anushkrishnav/.local/share/virtualenvs/newsgroup-u5VajpjS/lib/python3.11/site-packages/sklearn/svm/_base.py:1250: ConvergenceWarning: Liblinear failed to converge, increase the number of iterations.\n",
      "  warnings.warn(\n",
      "/Users/anushkrishnav/.local/share/virtualenvs/newsgroup-u5VajpjS/lib/python3.11/site-packages/sklearn/svm/_base.py:1250: ConvergenceWarning: Liblinear failed to converge, increase the number of iterations.\n",
      "  warnings.warn(\n",
      "/Users/anushkrishnav/.local/share/virtualenvs/newsgroup-u5VajpjS/lib/python3.11/site-packages/sklearn/svm/_base.py:1250: ConvergenceWarning: Liblinear failed to converge, increase the number of iterations.\n",
      "  warnings.warn(\n"
     ]
    },
    {
     "name": "stdout",
     "output_type": "stream",
     "text": [
      "[CV] END classifier__logreg__class_weight=balanced, classifier__logreg__max_iter=5000, classifier__logreg__multi_class=multinomial, classifier__svc__C=10, classifier__svc__dual=False, classifier__svc__max_iter=500, classifier__svc__penalty=l1, classifier__vc__C=1, classifier__vc__class_weight=balanced, classifier__vc__kernel=linear; total time= 5.1min\n"
     ]
    },
    {
     "name": "stderr",
     "output_type": "stream",
     "text": [
      "/Users/anushkrishnav/.local/share/virtualenvs/newsgroup-u5VajpjS/lib/python3.11/site-packages/sklearn/svm/_base.py:1250: ConvergenceWarning: Liblinear failed to converge, increase the number of iterations.\n",
      "  warnings.warn(\n"
     ]
    },
    {
     "name": "stdout",
     "output_type": "stream",
     "text": [
      "[CV] END classifier__logreg__class_weight=balanced, classifier__logreg__max_iter=5000, classifier__logreg__multi_class=multinomial, classifier__svc__C=10, classifier__svc__dual=False, classifier__svc__max_iter=500, classifier__svc__penalty=l1, classifier__vc__C=1, classifier__vc__class_weight=balanced, classifier__vc__kernel=linear; total time= 5.2min\n"
     ]
    },
    {
     "name": "stderr",
     "output_type": "stream",
     "text": [
      "/Users/anushkrishnav/.local/share/virtualenvs/newsgroup-u5VajpjS/lib/python3.11/site-packages/sklearn/svm/_base.py:1250: ConvergenceWarning: Liblinear failed to converge, increase the number of iterations.\n",
      "  warnings.warn(\n"
     ]
    },
    {
     "name": "stdout",
     "output_type": "stream",
     "text": [
      "[CV] END classifier__logreg__class_weight=balanced, classifier__logreg__max_iter=5000, classifier__logreg__multi_class=multinomial, classifier__svc__C=10, classifier__svc__dual=False, classifier__svc__max_iter=500, classifier__svc__penalty=l1, classifier__vc__C=1, classifier__vc__class_weight=balanced, classifier__vc__kernel=linear; total time= 5.1min\n"
     ]
    },
    {
     "name": "stderr",
     "output_type": "stream",
     "text": [
      "/Users/anushkrishnav/.local/share/virtualenvs/newsgroup-u5VajpjS/lib/python3.11/site-packages/sklearn/svm/_base.py:1250: ConvergenceWarning: Liblinear failed to converge, increase the number of iterations.\n",
      "  warnings.warn(\n"
     ]
    },
    {
     "name": "stdout",
     "output_type": "stream",
     "text": [
      "[CV] END classifier__logreg__class_weight=balanced, classifier__logreg__max_iter=5000, classifier__logreg__multi_class=multinomial, classifier__svc__C=10, classifier__svc__dual=False, classifier__svc__max_iter=500, classifier__svc__penalty=l1, classifier__vc__C=1, classifier__vc__class_weight=balanced, classifier__vc__kernel=linear; total time= 1.8min\n",
      "[CV] END classifier__logreg__class_weight=balanced, classifier__logreg__max_iter=5000, classifier__logreg__multi_class=multinomial, classifier__svc__C=10, classifier__svc__dual=False, classifier__svc__max_iter=500, classifier__svc__penalty=l1, classifier__vc__C=1, classifier__vc__class_weight=balanced, classifier__vc__kernel=linear; total time= 1.8min\n",
      "[CV] END classifier__logreg__class_weight=balanced, classifier__logreg__max_iter=5000, classifier__logreg__multi_class=multinomial, classifier__svc__C=10, classifier__svc__dual=False, classifier__svc__max_iter=500, classifier__svc__penalty=l1, classifier__vc__C=10, classifier__vc__class_weight=balanced, classifier__vc__kernel=linear; total time= 1.8min\n",
      "[CV] END classifier__logreg__class_weight=balanced, classifier__logreg__max_iter=5000, classifier__logreg__multi_class=multinomial, classifier__svc__C=10, classifier__svc__dual=False, classifier__svc__max_iter=500, classifier__svc__penalty=l1, classifier__vc__C=10, classifier__vc__class_weight=balanced, classifier__vc__kernel=linear; total time= 1.9min\n",
      "[CV] END classifier__logreg__class_weight=balanced, classifier__logreg__max_iter=5000, classifier__logreg__multi_class=multinomial, classifier__svc__C=10, classifier__svc__dual=False, classifier__svc__max_iter=500, classifier__svc__penalty=l1, classifier__vc__C=10, classifier__vc__class_weight=balanced, classifier__vc__kernel=linear; total time= 1.9min\n",
      "[CV] END classifier__logreg__class_weight=balanced, classifier__logreg__max_iter=5000, classifier__logreg__multi_class=multinomial, classifier__svc__C=10, classifier__svc__dual=False, classifier__svc__max_iter=500, classifier__svc__penalty=l1, classifier__vc__C=10, classifier__vc__class_weight=balanced, classifier__vc__kernel=linear; total time= 1.8min\n",
      "[CV] END classifier__logreg__class_weight=balanced, classifier__logreg__max_iter=5000, classifier__logreg__multi_class=multinomial, classifier__svc__C=10, classifier__svc__dual=False, classifier__svc__max_iter=500, classifier__svc__penalty=l1, classifier__vc__C=10, classifier__vc__class_weight=balanced, classifier__vc__kernel=linear; total time= 1.8min\n",
      "[CV] END classifier__logreg__class_weight=balanced, classifier__logreg__max_iter=5000, classifier__logreg__multi_class=multinomial, classifier__svc__C=10, classifier__svc__dual=False, classifier__svc__max_iter=500, classifier__svc__penalty=l2, classifier__vc__C=0.1, classifier__vc__class_weight=balanced, classifier__vc__kernel=linear; total time= 1.8min\n",
      "[CV] END classifier__logreg__class_weight=balanced, classifier__logreg__max_iter=5000, classifier__logreg__multi_class=multinomial, classifier__svc__C=10, classifier__svc__dual=False, classifier__svc__max_iter=500, classifier__svc__penalty=l2, classifier__vc__C=0.1, classifier__vc__class_weight=balanced, classifier__vc__kernel=linear; total time= 8.9min\n",
      "[CV] END classifier__logreg__class_weight=balanced, classifier__logreg__max_iter=5000, classifier__logreg__multi_class=multinomial, classifier__svc__C=10, classifier__svc__dual=False, classifier__svc__max_iter=500, classifier__svc__penalty=l2, classifier__vc__C=0.1, classifier__vc__class_weight=balanced, classifier__vc__kernel=linear; total time= 8.9min\n",
      "[CV] END classifier__logreg__class_weight=balanced, classifier__logreg__max_iter=5000, classifier__logreg__multi_class=multinomial, classifier__svc__C=10, classifier__svc__dual=False, classifier__svc__max_iter=500, classifier__svc__penalty=l2, classifier__vc__C=0.1, classifier__vc__class_weight=balanced, classifier__vc__kernel=linear; total time= 8.9min\n",
      "[CV] END classifier__logreg__class_weight=balanced, classifier__logreg__max_iter=5000, classifier__logreg__multi_class=multinomial, classifier__svc__C=10, classifier__svc__dual=False, classifier__svc__max_iter=500, classifier__svc__penalty=l2, classifier__vc__C=0.1, classifier__vc__class_weight=balanced, classifier__vc__kernel=linear; total time= 8.9min\n",
      "[CV] END classifier__logreg__class_weight=balanced, classifier__logreg__max_iter=5000, classifier__logreg__multi_class=multinomial, classifier__svc__C=10, classifier__svc__dual=False, classifier__svc__max_iter=500, classifier__svc__penalty=l2, classifier__vc__C=1, classifier__vc__class_weight=balanced, classifier__vc__kernel=linear; total time= 9.0min\n",
      "[CV] END classifier__logreg__class_weight=balanced, classifier__logreg__max_iter=5000, classifier__logreg__multi_class=multinomial, classifier__svc__C=10, classifier__svc__dual=False, classifier__svc__max_iter=500, classifier__svc__penalty=l2, classifier__vc__C=1, classifier__vc__class_weight=balanced, classifier__vc__kernel=linear; total time= 9.1min\n",
      "[CV] END classifier__logreg__class_weight=balanced, classifier__logreg__max_iter=5000, classifier__logreg__multi_class=multinomial, classifier__svc__C=10, classifier__svc__dual=False, classifier__svc__max_iter=500, classifier__svc__penalty=l2, classifier__vc__C=1, classifier__vc__class_weight=balanced, classifier__vc__kernel=linear; total time= 9.1min\n",
      "[CV] END classifier__logreg__class_weight=balanced, classifier__logreg__max_iter=5000, classifier__logreg__multi_class=multinomial, classifier__svc__C=10, classifier__svc__dual=False, classifier__svc__max_iter=500, classifier__svc__penalty=l2, classifier__vc__C=1, classifier__vc__class_weight=balanced, classifier__vc__kernel=linear; total time= 9.0min\n"
     ]
    },
    {
     "name": "stderr",
     "output_type": "stream",
     "text": [
      "/Users/anushkrishnav/.local/share/virtualenvs/newsgroup-u5VajpjS/lib/python3.11/site-packages/sklearn/svm/_base.py:1250: ConvergenceWarning: Liblinear failed to converge, increase the number of iterations.\n",
      "  warnings.warn(\n",
      "/Users/anushkrishnav/.local/share/virtualenvs/newsgroup-u5VajpjS/lib/python3.11/site-packages/sklearn/svm/_base.py:1250: ConvergenceWarning: Liblinear failed to converge, increase the number of iterations.\n",
      "  warnings.warn(\n"
     ]
    },
    {
     "name": "stdout",
     "output_type": "stream",
     "text": [
      "[CV] END classifier__logreg__class_weight=balanced, classifier__logreg__max_iter=5000, classifier__logreg__multi_class=multinomial, classifier__svc__C=10, classifier__svc__dual=False, classifier__svc__max_iter=500, classifier__svc__penalty=l2, classifier__vc__C=1, classifier__vc__class_weight=balanced, classifier__vc__kernel=linear; total time= 2.1min\n",
      "[CV] END classifier__logreg__class_weight=balanced, classifier__logreg__max_iter=5000, classifier__logreg__multi_class=multinomial, classifier__svc__C=10, classifier__svc__dual=False, classifier__svc__max_iter=500, classifier__svc__penalty=l2, classifier__vc__C=10, classifier__vc__class_weight=balanced, classifier__vc__kernel=linear; total time= 2.1min\n",
      "[CV] END classifier__logreg__class_weight=balanced, classifier__logreg__max_iter=5000, classifier__logreg__multi_class=multinomial, classifier__svc__C=10, classifier__svc__dual=False, classifier__svc__max_iter=500, classifier__svc__penalty=l2, classifier__vc__C=10, classifier__vc__class_weight=balanced, classifier__vc__kernel=linear; total time= 2.1min\n",
      "[CV] END classifier__logreg__class_weight=balanced, classifier__logreg__max_iter=5000, classifier__logreg__multi_class=multinomial, classifier__svc__C=10, classifier__svc__dual=False, classifier__svc__max_iter=500, classifier__svc__penalty=l2, classifier__vc__C=10, classifier__vc__class_weight=balanced, classifier__vc__kernel=linear; total time= 2.1min\n"
     ]
    },
    {
     "name": "stderr",
     "output_type": "stream",
     "text": [
      "/Users/anushkrishnav/.local/share/virtualenvs/newsgroup-u5VajpjS/lib/python3.11/site-packages/sklearn/svm/_base.py:1250: ConvergenceWarning: Liblinear failed to converge, increase the number of iterations.\n",
      "  warnings.warn(\n"
     ]
    },
    {
     "name": "stdout",
     "output_type": "stream",
     "text": [
      "[CV] END classifier__logreg__class_weight=balanced, classifier__logreg__max_iter=5000, classifier__logreg__multi_class=multinomial, classifier__svc__C=10, classifier__svc__dual=False, classifier__svc__max_iter=500, classifier__svc__penalty=l2, classifier__vc__C=10, classifier__vc__class_weight=balanced, classifier__vc__kernel=linear; total time= 2.1min\n"
     ]
    },
    {
     "name": "stderr",
     "output_type": "stream",
     "text": [
      "/Users/anushkrishnav/.local/share/virtualenvs/newsgroup-u5VajpjS/lib/python3.11/site-packages/sklearn/svm/_base.py:1250: ConvergenceWarning: Liblinear failed to converge, increase the number of iterations.\n",
      "  warnings.warn(\n"
     ]
    },
    {
     "name": "stdout",
     "output_type": "stream",
     "text": [
      "[CV] END classifier__logreg__class_weight=balanced, classifier__logreg__max_iter=5000, classifier__logreg__multi_class=multinomial, classifier__svc__C=10, classifier__svc__dual=False, classifier__svc__max_iter=500, classifier__svc__penalty=l2, classifier__vc__C=10, classifier__vc__class_weight=balanced, classifier__vc__kernel=linear; total time= 2.0min\n"
     ]
    },
    {
     "name": "stderr",
     "output_type": "stream",
     "text": [
      "/Users/anushkrishnav/.local/share/virtualenvs/newsgroup-u5VajpjS/lib/python3.11/site-packages/sklearn/svm/_base.py:1250: ConvergenceWarning: Liblinear failed to converge, increase the number of iterations.\n",
      "  warnings.warn(\n"
     ]
    },
    {
     "name": "stdout",
     "output_type": "stream",
     "text": [
      "[CV] END classifier__logreg__class_weight=balanced, classifier__logreg__max_iter=5000, classifier__logreg__multi_class=multinomial, classifier__svc__C=10, classifier__svc__dual=False, classifier__svc__max_iter=1000, classifier__svc__penalty=l1, classifier__vc__C=0.1, classifier__vc__class_weight=balanced, classifier__vc__kernel=linear; total time= 2.0min\n"
     ]
    },
    {
     "name": "stderr",
     "output_type": "stream",
     "text": [
      "/Users/anushkrishnav/.local/share/virtualenvs/newsgroup-u5VajpjS/lib/python3.11/site-packages/sklearn/svm/_base.py:1250: ConvergenceWarning: Liblinear failed to converge, increase the number of iterations.\n",
      "  warnings.warn(\n"
     ]
    },
    {
     "name": "stdout",
     "output_type": "stream",
     "text": [
      "[CV] END classifier__logreg__class_weight=balanced, classifier__logreg__max_iter=5000, classifier__logreg__multi_class=multinomial, classifier__svc__C=10, classifier__svc__dual=False, classifier__svc__max_iter=1000, classifier__svc__penalty=l1, classifier__vc__C=0.1, classifier__vc__class_weight=balanced, classifier__vc__kernel=linear; total time= 2.0min\n"
     ]
    },
    {
     "name": "stderr",
     "output_type": "stream",
     "text": [
      "/Users/anushkrishnav/.local/share/virtualenvs/newsgroup-u5VajpjS/lib/python3.11/site-packages/sklearn/svm/_base.py:1250: ConvergenceWarning: Liblinear failed to converge, increase the number of iterations.\n",
      "  warnings.warn(\n",
      "/Users/anushkrishnav/.local/share/virtualenvs/newsgroup-u5VajpjS/lib/python3.11/site-packages/sklearn/svm/_base.py:1250: ConvergenceWarning: Liblinear failed to converge, increase the number of iterations.\n",
      "  warnings.warn(\n",
      "/Users/anushkrishnav/.local/share/virtualenvs/newsgroup-u5VajpjS/lib/python3.11/site-packages/sklearn/svm/_base.py:1250: ConvergenceWarning: Liblinear failed to converge, increase the number of iterations.\n",
      "  warnings.warn(\n",
      "/Users/anushkrishnav/.local/share/virtualenvs/newsgroup-u5VajpjS/lib/python3.11/site-packages/sklearn/svm/_base.py:1250: ConvergenceWarning: Liblinear failed to converge, increase the number of iterations.\n",
      "  warnings.warn(\n"
     ]
    },
    {
     "name": "stdout",
     "output_type": "stream",
     "text": [
      "[CV] END classifier__logreg__class_weight=balanced, classifier__logreg__max_iter=5000, classifier__logreg__multi_class=multinomial, classifier__svc__C=10, classifier__svc__dual=False, classifier__svc__max_iter=1000, classifier__svc__penalty=l1, classifier__vc__C=0.1, classifier__vc__class_weight=balanced, classifier__vc__kernel=linear; total time= 1.9min\n",
      "[CV] END classifier__logreg__class_weight=balanced, classifier__logreg__max_iter=5000, classifier__logreg__multi_class=multinomial, classifier__svc__C=10, classifier__svc__dual=False, classifier__svc__max_iter=1000, classifier__svc__penalty=l1, classifier__vc__C=0.1, classifier__vc__class_weight=balanced, classifier__vc__kernel=linear; total time= 1.9min\n",
      "[CV] END classifier__logreg__class_weight=balanced, classifier__logreg__max_iter=5000, classifier__logreg__multi_class=multinomial, classifier__svc__C=10, classifier__svc__dual=False, classifier__svc__max_iter=1000, classifier__svc__penalty=l1, classifier__vc__C=0.1, classifier__vc__class_weight=balanced, classifier__vc__kernel=linear; total time= 1.9min\n"
     ]
    },
    {
     "name": "stderr",
     "output_type": "stream",
     "text": [
      "/Users/anushkrishnav/.local/share/virtualenvs/newsgroup-u5VajpjS/lib/python3.11/site-packages/sklearn/svm/_base.py:1250: ConvergenceWarning: Liblinear failed to converge, increase the number of iterations.\n",
      "  warnings.warn(\n"
     ]
    },
    {
     "name": "stdout",
     "output_type": "stream",
     "text": [
      "[CV] END classifier__logreg__class_weight=balanced, classifier__logreg__max_iter=5000, classifier__logreg__multi_class=multinomial, classifier__svc__C=10, classifier__svc__dual=False, classifier__svc__max_iter=1000, classifier__svc__penalty=l1, classifier__vc__C=1, classifier__vc__class_weight=balanced, classifier__vc__kernel=linear; total time= 2.0min\n"
     ]
    },
    {
     "name": "stderr",
     "output_type": "stream",
     "text": [
      "/Users/anushkrishnav/.local/share/virtualenvs/newsgroup-u5VajpjS/lib/python3.11/site-packages/sklearn/svm/_base.py:1250: ConvergenceWarning: Liblinear failed to converge, increase the number of iterations.\n",
      "  warnings.warn(\n",
      "/Users/anushkrishnav/.local/share/virtualenvs/newsgroup-u5VajpjS/lib/python3.11/site-packages/sklearn/svm/_base.py:1250: ConvergenceWarning: Liblinear failed to converge, increase the number of iterations.\n",
      "  warnings.warn(\n"
     ]
    },
    {
     "name": "stdout",
     "output_type": "stream",
     "text": [
      "[CV] END classifier__logreg__class_weight=balanced, classifier__logreg__max_iter=5000, classifier__logreg__multi_class=multinomial, classifier__svc__C=10, classifier__svc__dual=False, classifier__svc__max_iter=1000, classifier__svc__penalty=l1, classifier__vc__C=1, classifier__vc__class_weight=balanced, classifier__vc__kernel=linear; total time= 2.1min\n",
      "[CV] END classifier__logreg__class_weight=balanced, classifier__logreg__max_iter=5000, classifier__logreg__multi_class=multinomial, classifier__svc__C=10, classifier__svc__dual=False, classifier__svc__max_iter=1000, classifier__svc__penalty=l1, classifier__vc__C=1, classifier__vc__class_weight=balanced, classifier__vc__kernel=linear; total time= 2.0min\n",
      "[CV] END classifier__logreg__class_weight=balanced, classifier__logreg__max_iter=5000, classifier__logreg__multi_class=multinomial, classifier__svc__C=10, classifier__svc__dual=False, classifier__svc__max_iter=1000, classifier__svc__penalty=l1, classifier__vc__C=1, classifier__vc__class_weight=balanced, classifier__vc__kernel=linear; total time= 2.0min\n"
     ]
    },
    {
     "name": "stderr",
     "output_type": "stream",
     "text": [
      "/Users/anushkrishnav/.local/share/virtualenvs/newsgroup-u5VajpjS/lib/python3.11/site-packages/sklearn/svm/_base.py:1250: ConvergenceWarning: Liblinear failed to converge, increase the number of iterations.\n",
      "  warnings.warn(\n"
     ]
    },
    {
     "name": "stdout",
     "output_type": "stream",
     "text": [
      "[CV] END classifier__logreg__class_weight=balanced, classifier__logreg__max_iter=5000, classifier__logreg__multi_class=multinomial, classifier__svc__C=10, classifier__svc__dual=False, classifier__svc__max_iter=1000, classifier__svc__penalty=l1, classifier__vc__C=1, classifier__vc__class_weight=balanced, classifier__vc__kernel=linear; total time= 2.0min\n"
     ]
    },
    {
     "name": "stderr",
     "output_type": "stream",
     "text": [
      "/Users/anushkrishnav/.local/share/virtualenvs/newsgroup-u5VajpjS/lib/python3.11/site-packages/sklearn/svm/_base.py:1250: ConvergenceWarning: Liblinear failed to converge, increase the number of iterations.\n",
      "  warnings.warn(\n"
     ]
    },
    {
     "name": "stdout",
     "output_type": "stream",
     "text": [
      "[CV] END classifier__logreg__class_weight=balanced, classifier__logreg__max_iter=5000, classifier__logreg__multi_class=multinomial, classifier__svc__C=10, classifier__svc__dual=False, classifier__svc__max_iter=1000, classifier__svc__penalty=l1, classifier__vc__C=10, classifier__vc__class_weight=balanced, classifier__vc__kernel=linear; total time= 2.0min\n",
      "[CV] END classifier__logreg__class_weight=balanced, classifier__logreg__max_iter=5000, classifier__logreg__multi_class=multinomial, classifier__svc__C=10, classifier__svc__dual=False, classifier__svc__max_iter=1000, classifier__svc__penalty=l1, classifier__vc__C=10, classifier__vc__class_weight=balanced, classifier__vc__kernel=linear; total time= 2.0min\n",
      "[CV] END classifier__logreg__class_weight=balanced, classifier__logreg__max_iter=5000, classifier__logreg__multi_class=multinomial, classifier__svc__C=10, classifier__svc__dual=False, classifier__svc__max_iter=1000, classifier__svc__penalty=l1, classifier__vc__C=10, classifier__vc__class_weight=balanced, classifier__vc__kernel=linear; total time= 2.0min\n",
      "[CV] END classifier__logreg__class_weight=balanced, classifier__logreg__max_iter=5000, classifier__logreg__multi_class=multinomial, classifier__svc__C=10, classifier__svc__dual=False, classifier__svc__max_iter=1000, classifier__svc__penalty=l1, classifier__vc__C=10, classifier__vc__class_weight=balanced, classifier__vc__kernel=linear; total time= 2.0min\n",
      "[CV] END classifier__logreg__class_weight=balanced, classifier__logreg__max_iter=5000, classifier__logreg__multi_class=multinomial, classifier__svc__C=10, classifier__svc__dual=False, classifier__svc__max_iter=1000, classifier__svc__penalty=l2, classifier__vc__C=0.1, classifier__vc__class_weight=balanced, classifier__vc__kernel=linear; total time= 1.9min\n",
      "[CV] END classifier__logreg__class_weight=balanced, classifier__logreg__max_iter=5000, classifier__logreg__multi_class=multinomial, classifier__svc__C=10, classifier__svc__dual=False, classifier__svc__max_iter=1000, classifier__svc__penalty=l2, classifier__vc__C=0.1, classifier__vc__class_weight=balanced, classifier__vc__kernel=linear; total time= 1.9min\n",
      "[CV] END classifier__logreg__class_weight=balanced, classifier__logreg__max_iter=5000, classifier__logreg__multi_class=multinomial, classifier__svc__C=10, classifier__svc__dual=False, classifier__svc__max_iter=1000, classifier__svc__penalty=l1, classifier__vc__C=10, classifier__vc__class_weight=balanced, classifier__vc__kernel=linear; total time= 2.0min\n",
      "[CV] END classifier__logreg__class_weight=balanced, classifier__logreg__max_iter=5000, classifier__logreg__multi_class=multinomial, classifier__svc__C=10, classifier__svc__dual=False, classifier__svc__max_iter=1000, classifier__svc__penalty=l2, classifier__vc__C=0.1, classifier__vc__class_weight=balanced, classifier__vc__kernel=linear; total time= 1.9min\n",
      "[CV] END classifier__logreg__class_weight=balanced, classifier__logreg__max_iter=5000, classifier__logreg__multi_class=multinomial, classifier__svc__C=10, classifier__svc__dual=False, classifier__svc__max_iter=1000, classifier__svc__penalty=l2, classifier__vc__C=0.1, classifier__vc__class_weight=balanced, classifier__vc__kernel=linear; total time= 1.8min\n",
      "[CV] END classifier__logreg__class_weight=balanced, classifier__logreg__max_iter=5000, classifier__logreg__multi_class=multinomial, classifier__svc__C=10, classifier__svc__dual=False, classifier__svc__max_iter=1000, classifier__svc__penalty=l2, classifier__vc__C=0.1, classifier__vc__class_weight=balanced, classifier__vc__kernel=linear; total time= 1.9min\n",
      "[CV] END classifier__logreg__class_weight=balanced, classifier__logreg__max_iter=5000, classifier__logreg__multi_class=multinomial, classifier__svc__C=10, classifier__svc__dual=False, classifier__svc__max_iter=1000, classifier__svc__penalty=l2, classifier__vc__C=1, classifier__vc__class_weight=balanced, classifier__vc__kernel=linear; total time= 2.0min\n",
      "[CV] END classifier__logreg__class_weight=balanced, classifier__logreg__max_iter=5000, classifier__logreg__multi_class=multinomial, classifier__svc__C=10, classifier__svc__dual=False, classifier__svc__max_iter=1000, classifier__svc__penalty=l2, classifier__vc__C=1, classifier__vc__class_weight=balanced, classifier__vc__kernel=linear; total time= 2.0min\n",
      "[CV] END classifier__logreg__class_weight=balanced, classifier__logreg__max_iter=5000, classifier__logreg__multi_class=multinomial, classifier__svc__C=10, classifier__svc__dual=False, classifier__svc__max_iter=1000, classifier__svc__penalty=l2, classifier__vc__C=1, classifier__vc__class_weight=balanced, classifier__vc__kernel=linear; total time= 2.0min\n",
      "[CV] END classifier__logreg__class_weight=balanced, classifier__logreg__max_iter=5000, classifier__logreg__multi_class=multinomial, classifier__svc__C=10, classifier__svc__dual=False, classifier__svc__max_iter=1000, classifier__svc__penalty=l2, classifier__vc__C=1, classifier__vc__class_weight=balanced, classifier__vc__kernel=linear; total time= 2.0min\n",
      "[CV] END classifier__logreg__class_weight=balanced, classifier__logreg__max_iter=5000, classifier__logreg__multi_class=multinomial, classifier__svc__C=10, classifier__svc__dual=False, classifier__svc__max_iter=1000, classifier__svc__penalty=l2, classifier__vc__C=10, classifier__vc__class_weight=balanced, classifier__vc__kernel=linear; total time= 2.0min\n",
      "[CV] END classifier__logreg__class_weight=balanced, classifier__logreg__max_iter=5000, classifier__logreg__multi_class=multinomial, classifier__svc__C=10, classifier__svc__dual=False, classifier__svc__max_iter=1000, classifier__svc__penalty=l2, classifier__vc__C=1, classifier__vc__class_weight=balanced, classifier__vc__kernel=linear; total time= 2.0min\n",
      "[CV] END classifier__logreg__class_weight=balanced, classifier__logreg__max_iter=5000, classifier__logreg__multi_class=multinomial, classifier__svc__C=10, classifier__svc__dual=False, classifier__svc__max_iter=1000, classifier__svc__penalty=l2, classifier__vc__C=10, classifier__vc__class_weight=balanced, classifier__vc__kernel=linear; total time= 2.0min\n",
      "[CV] END classifier__logreg__class_weight=balanced, classifier__logreg__max_iter=5000, classifier__logreg__multi_class=multinomial, classifier__svc__C=10, classifier__svc__dual=False, classifier__svc__max_iter=1000, classifier__svc__penalty=l2, classifier__vc__C=10, classifier__vc__class_weight=balanced, classifier__vc__kernel=linear; total time= 2.0min\n",
      "[CV] END classifier__logreg__class_weight=balanced, classifier__logreg__max_iter=5000, classifier__logreg__multi_class=multinomial, classifier__svc__C=10, classifier__svc__dual=False, classifier__svc__max_iter=1000, classifier__svc__penalty=l2, classifier__vc__C=10, classifier__vc__class_weight=balanced, classifier__vc__kernel=linear; total time= 1.9min\n",
      "[CV] END classifier__logreg__class_weight=balanced, classifier__logreg__max_iter=9000, classifier__logreg__multi_class=multinomial, classifier__svc__C=0.1, classifier__svc__dual=False, classifier__svc__max_iter=500, classifier__svc__penalty=l1, classifier__vc__C=0.1, classifier__vc__class_weight=balanced, classifier__vc__kernel=linear; total time= 1.6min\n",
      "[CV] END classifier__logreg__class_weight=balanced, classifier__logreg__max_iter=9000, classifier__logreg__multi_class=multinomial, classifier__svc__C=0.1, classifier__svc__dual=False, classifier__svc__max_iter=500, classifier__svc__penalty=l1, classifier__vc__C=0.1, classifier__vc__class_weight=balanced, classifier__vc__kernel=linear; total time= 1.6min\n",
      "[CV] END classifier__logreg__class_weight=balanced, classifier__logreg__max_iter=9000, classifier__logreg__multi_class=multinomial, classifier__svc__C=0.1, classifier__svc__dual=False, classifier__svc__max_iter=500, classifier__svc__penalty=l1, classifier__vc__C=0.1, classifier__vc__class_weight=balanced, classifier__vc__kernel=linear; total time= 1.6min\n",
      "[CV] END classifier__logreg__class_weight=balanced, classifier__logreg__max_iter=9000, classifier__logreg__multi_class=multinomial, classifier__svc__C=0.1, classifier__svc__dual=False, classifier__svc__max_iter=500, classifier__svc__penalty=l1, classifier__vc__C=0.1, classifier__vc__class_weight=balanced, classifier__vc__kernel=linear; total time= 1.6min\n",
      "[CV] END classifier__logreg__class_weight=balanced, classifier__logreg__max_iter=5000, classifier__logreg__multi_class=multinomial, classifier__svc__C=10, classifier__svc__dual=False, classifier__svc__max_iter=1000, classifier__svc__penalty=l2, classifier__vc__C=10, classifier__vc__class_weight=balanced, classifier__vc__kernel=linear; total time= 1.9min\n",
      "[CV] END classifier__logreg__class_weight=balanced, classifier__logreg__max_iter=9000, classifier__logreg__multi_class=multinomial, classifier__svc__C=0.1, classifier__svc__dual=False, classifier__svc__max_iter=500, classifier__svc__penalty=l1, classifier__vc__C=0.1, classifier__vc__class_weight=balanced, classifier__vc__kernel=linear; total time= 1.6min\n",
      "[CV] END classifier__logreg__class_weight=balanced, classifier__logreg__max_iter=9000, classifier__logreg__multi_class=multinomial, classifier__svc__C=0.1, classifier__svc__dual=False, classifier__svc__max_iter=500, classifier__svc__penalty=l1, classifier__vc__C=1, classifier__vc__class_weight=balanced, classifier__vc__kernel=linear; total time= 1.7min\n",
      "[CV] END classifier__logreg__class_weight=balanced, classifier__logreg__max_iter=9000, classifier__logreg__multi_class=multinomial, classifier__svc__C=0.1, classifier__svc__dual=False, classifier__svc__max_iter=500, classifier__svc__penalty=l1, classifier__vc__C=1, classifier__vc__class_weight=balanced, classifier__vc__kernel=linear; total time= 1.7min\n",
      "[CV] END classifier__logreg__class_weight=balanced, classifier__logreg__max_iter=9000, classifier__logreg__multi_class=multinomial, classifier__svc__C=0.1, classifier__svc__dual=False, classifier__svc__max_iter=500, classifier__svc__penalty=l1, classifier__vc__C=1, classifier__vc__class_weight=balanced, classifier__vc__kernel=linear; total time= 1.8min\n",
      "[CV] END classifier__logreg__class_weight=balanced, classifier__logreg__max_iter=9000, classifier__logreg__multi_class=multinomial, classifier__svc__C=0.1, classifier__svc__dual=False, classifier__svc__max_iter=500, classifier__svc__penalty=l1, classifier__vc__C=1, classifier__vc__class_weight=balanced, classifier__vc__kernel=linear; total time= 1.7min\n",
      "[CV] END classifier__logreg__class_weight=balanced, classifier__logreg__max_iter=9000, classifier__logreg__multi_class=multinomial, classifier__svc__C=0.1, classifier__svc__dual=False, classifier__svc__max_iter=500, classifier__svc__penalty=l1, classifier__vc__C=1, classifier__vc__class_weight=balanced, classifier__vc__kernel=linear; total time= 1.7min\n",
      "[CV] END classifier__logreg__class_weight=balanced, classifier__logreg__max_iter=9000, classifier__logreg__multi_class=multinomial, classifier__svc__C=0.1, classifier__svc__dual=False, classifier__svc__max_iter=500, classifier__svc__penalty=l1, classifier__vc__C=10, classifier__vc__class_weight=balanced, classifier__vc__kernel=linear; total time= 1.7min\n",
      "[CV] END classifier__logreg__class_weight=balanced, classifier__logreg__max_iter=9000, classifier__logreg__multi_class=multinomial, classifier__svc__C=0.1, classifier__svc__dual=False, classifier__svc__max_iter=500, classifier__svc__penalty=l1, classifier__vc__C=10, classifier__vc__class_weight=balanced, classifier__vc__kernel=linear; total time= 1.8min\n",
      "[CV] END classifier__logreg__class_weight=balanced, classifier__logreg__max_iter=9000, classifier__logreg__multi_class=multinomial, classifier__svc__C=0.1, classifier__svc__dual=False, classifier__svc__max_iter=500, classifier__svc__penalty=l1, classifier__vc__C=10, classifier__vc__class_weight=balanced, classifier__vc__kernel=linear; total time= 1.7min\n",
      "[CV] END classifier__logreg__class_weight=balanced, classifier__logreg__max_iter=9000, classifier__logreg__multi_class=multinomial, classifier__svc__C=0.1, classifier__svc__dual=False, classifier__svc__max_iter=500, classifier__svc__penalty=l1, classifier__vc__C=10, classifier__vc__class_weight=balanced, classifier__vc__kernel=linear; total time= 1.7min\n",
      "[CV] END classifier__logreg__class_weight=balanced, classifier__logreg__max_iter=9000, classifier__logreg__multi_class=multinomial, classifier__svc__C=0.1, classifier__svc__dual=False, classifier__svc__max_iter=500, classifier__svc__penalty=l2, classifier__vc__C=0.1, classifier__vc__class_weight=balanced, classifier__vc__kernel=linear; total time= 1.6min\n",
      "[CV] END classifier__logreg__class_weight=balanced, classifier__logreg__max_iter=9000, classifier__logreg__multi_class=multinomial, classifier__svc__C=0.1, classifier__svc__dual=False, classifier__svc__max_iter=500, classifier__svc__penalty=l2, classifier__vc__C=0.1, classifier__vc__class_weight=balanced, classifier__vc__kernel=linear; total time= 1.6min\n",
      "[CV] END classifier__logreg__class_weight=balanced, classifier__logreg__max_iter=9000, classifier__logreg__multi_class=multinomial, classifier__svc__C=0.1, classifier__svc__dual=False, classifier__svc__max_iter=500, classifier__svc__penalty=l2, classifier__vc__C=0.1, classifier__vc__class_weight=balanced, classifier__vc__kernel=linear; total time= 1.6min\n",
      "[CV] END classifier__logreg__class_weight=balanced, classifier__logreg__max_iter=9000, classifier__logreg__multi_class=multinomial, classifier__svc__C=0.1, classifier__svc__dual=False, classifier__svc__max_iter=500, classifier__svc__penalty=l2, classifier__vc__C=0.1, classifier__vc__class_weight=balanced, classifier__vc__kernel=linear; total time= 1.6min\n",
      "[CV] END classifier__logreg__class_weight=balanced, classifier__logreg__max_iter=9000, classifier__logreg__multi_class=multinomial, classifier__svc__C=0.1, classifier__svc__dual=False, classifier__svc__max_iter=500, classifier__svc__penalty=l1, classifier__vc__C=10, classifier__vc__class_weight=balanced, classifier__vc__kernel=linear; total time= 1.8min\n",
      "[CV] END classifier__logreg__class_weight=balanced, classifier__logreg__max_iter=9000, classifier__logreg__multi_class=multinomial, classifier__svc__C=0.1, classifier__svc__dual=False, classifier__svc__max_iter=500, classifier__svc__penalty=l2, classifier__vc__C=0.1, classifier__vc__class_weight=balanced, classifier__vc__kernel=linear; total time= 1.6min\n",
      "[CV] END classifier__logreg__class_weight=balanced, classifier__logreg__max_iter=9000, classifier__logreg__multi_class=multinomial, classifier__svc__C=0.1, classifier__svc__dual=False, classifier__svc__max_iter=500, classifier__svc__penalty=l2, classifier__vc__C=1, classifier__vc__class_weight=balanced, classifier__vc__kernel=linear; total time= 1.8min\n",
      "[CV] END classifier__logreg__class_weight=balanced, classifier__logreg__max_iter=9000, classifier__logreg__multi_class=multinomial, classifier__svc__C=0.1, classifier__svc__dual=False, classifier__svc__max_iter=500, classifier__svc__penalty=l2, classifier__vc__C=1, classifier__vc__class_weight=balanced, classifier__vc__kernel=linear; total time= 1.8min\n",
      "[CV] END classifier__logreg__class_weight=balanced, classifier__logreg__max_iter=9000, classifier__logreg__multi_class=multinomial, classifier__svc__C=0.1, classifier__svc__dual=False, classifier__svc__max_iter=500, classifier__svc__penalty=l2, classifier__vc__C=1, classifier__vc__class_weight=balanced, classifier__vc__kernel=linear; total time= 1.8min\n",
      "[CV] END classifier__logreg__class_weight=balanced, classifier__logreg__max_iter=9000, classifier__logreg__multi_class=multinomial, classifier__svc__C=0.1, classifier__svc__dual=False, classifier__svc__max_iter=500, classifier__svc__penalty=l2, classifier__vc__C=1, classifier__vc__class_weight=balanced, classifier__vc__kernel=linear; total time= 1.8min\n",
      "[CV] END classifier__logreg__class_weight=balanced, classifier__logreg__max_iter=9000, classifier__logreg__multi_class=multinomial, classifier__svc__C=0.1, classifier__svc__dual=False, classifier__svc__max_iter=500, classifier__svc__penalty=l2, classifier__vc__C=1, classifier__vc__class_weight=balanced, classifier__vc__kernel=linear; total time= 1.8min\n",
      "[CV] END classifier__logreg__class_weight=balanced, classifier__logreg__max_iter=9000, classifier__logreg__multi_class=multinomial, classifier__svc__C=0.1, classifier__svc__dual=False, classifier__svc__max_iter=500, classifier__svc__penalty=l2, classifier__vc__C=10, classifier__vc__class_weight=balanced, classifier__vc__kernel=linear; total time= 1.8min\n",
      "[CV] END classifier__logreg__class_weight=balanced, classifier__logreg__max_iter=9000, classifier__logreg__multi_class=multinomial, classifier__svc__C=0.1, classifier__svc__dual=False, classifier__svc__max_iter=500, classifier__svc__penalty=l2, classifier__vc__C=10, classifier__vc__class_weight=balanced, classifier__vc__kernel=linear; total time= 1.8min\n",
      "[CV] END classifier__logreg__class_weight=balanced, classifier__logreg__max_iter=9000, classifier__logreg__multi_class=multinomial, classifier__svc__C=0.1, classifier__svc__dual=False, classifier__svc__max_iter=500, classifier__svc__penalty=l2, classifier__vc__C=10, classifier__vc__class_weight=balanced, classifier__vc__kernel=linear; total time= 1.8min\n",
      "[CV] END classifier__logreg__class_weight=balanced, classifier__logreg__max_iter=9000, classifier__logreg__multi_class=multinomial, classifier__svc__C=0.1, classifier__svc__dual=False, classifier__svc__max_iter=500, classifier__svc__penalty=l2, classifier__vc__C=10, classifier__vc__class_weight=balanced, classifier__vc__kernel=linear; total time= 1.8min\n",
      "[CV] END classifier__logreg__class_weight=balanced, classifier__logreg__max_iter=9000, classifier__logreg__multi_class=multinomial, classifier__svc__C=0.1, classifier__svc__dual=False, classifier__svc__max_iter=1000, classifier__svc__penalty=l1, classifier__vc__C=0.1, classifier__vc__class_weight=balanced, classifier__vc__kernel=linear; total time= 1.6min\n",
      "[CV] END classifier__logreg__class_weight=balanced, classifier__logreg__max_iter=9000, classifier__logreg__multi_class=multinomial, classifier__svc__C=0.1, classifier__svc__dual=False, classifier__svc__max_iter=500, classifier__svc__penalty=l2, classifier__vc__C=10, classifier__vc__class_weight=balanced, classifier__vc__kernel=linear; total time= 1.8min\n",
      "[CV] END classifier__logreg__class_weight=balanced, classifier__logreg__max_iter=9000, classifier__logreg__multi_class=multinomial, classifier__svc__C=0.1, classifier__svc__dual=False, classifier__svc__max_iter=1000, classifier__svc__penalty=l1, classifier__vc__C=0.1, classifier__vc__class_weight=balanced, classifier__vc__kernel=linear; total time= 1.6min\n",
      "[CV] END classifier__logreg__class_weight=balanced, classifier__logreg__max_iter=9000, classifier__logreg__multi_class=multinomial, classifier__svc__C=0.1, classifier__svc__dual=False, classifier__svc__max_iter=1000, classifier__svc__penalty=l1, classifier__vc__C=0.1, classifier__vc__class_weight=balanced, classifier__vc__kernel=linear; total time= 1.6min\n",
      "[CV] END classifier__logreg__class_weight=balanced, classifier__logreg__max_iter=9000, classifier__logreg__multi_class=multinomial, classifier__svc__C=0.1, classifier__svc__dual=False, classifier__svc__max_iter=1000, classifier__svc__penalty=l1, classifier__vc__C=0.1, classifier__vc__class_weight=balanced, classifier__vc__kernel=linear; total time= 1.6min\n",
      "[CV] END classifier__logreg__class_weight=balanced, classifier__logreg__max_iter=9000, classifier__logreg__multi_class=multinomial, classifier__svc__C=0.1, classifier__svc__dual=False, classifier__svc__max_iter=1000, classifier__svc__penalty=l1, classifier__vc__C=0.1, classifier__vc__class_weight=balanced, classifier__vc__kernel=linear; total time= 1.6min\n",
      "[CV] END classifier__logreg__class_weight=balanced, classifier__logreg__max_iter=9000, classifier__logreg__multi_class=multinomial, classifier__svc__C=0.1, classifier__svc__dual=False, classifier__svc__max_iter=1000, classifier__svc__penalty=l1, classifier__vc__C=1, classifier__vc__class_weight=balanced, classifier__vc__kernel=linear; total time= 1.8min\n",
      "[CV] END classifier__logreg__class_weight=balanced, classifier__logreg__max_iter=9000, classifier__logreg__multi_class=multinomial, classifier__svc__C=0.1, classifier__svc__dual=False, classifier__svc__max_iter=1000, classifier__svc__penalty=l1, classifier__vc__C=1, classifier__vc__class_weight=balanced, classifier__vc__kernel=linear; total time= 1.8min\n",
      "[CV] END classifier__logreg__class_weight=balanced, classifier__logreg__max_iter=9000, classifier__logreg__multi_class=multinomial, classifier__svc__C=0.1, classifier__svc__dual=False, classifier__svc__max_iter=1000, classifier__svc__penalty=l1, classifier__vc__C=1, classifier__vc__class_weight=balanced, classifier__vc__kernel=linear; total time= 1.8min\n",
      "[CV] END classifier__logreg__class_weight=balanced, classifier__logreg__max_iter=9000, classifier__logreg__multi_class=multinomial, classifier__svc__C=0.1, classifier__svc__dual=False, classifier__svc__max_iter=1000, classifier__svc__penalty=l1, classifier__vc__C=1, classifier__vc__class_weight=balanced, classifier__vc__kernel=linear; total time= 1.8min\n",
      "[CV] END classifier__logreg__class_weight=balanced, classifier__logreg__max_iter=9000, classifier__logreg__multi_class=multinomial, classifier__svc__C=0.1, classifier__svc__dual=False, classifier__svc__max_iter=1000, classifier__svc__penalty=l1, classifier__vc__C=1, classifier__vc__class_weight=balanced, classifier__vc__kernel=linear; total time= 1.8min\n",
      "[CV] END classifier__logreg__class_weight=balanced, classifier__logreg__max_iter=9000, classifier__logreg__multi_class=multinomial, classifier__svc__C=0.1, classifier__svc__dual=False, classifier__svc__max_iter=1000, classifier__svc__penalty=l1, classifier__vc__C=10, classifier__vc__class_weight=balanced, classifier__vc__kernel=linear; total time= 1.7min\n",
      "[CV] END classifier__logreg__class_weight=balanced, classifier__logreg__max_iter=9000, classifier__logreg__multi_class=multinomial, classifier__svc__C=0.1, classifier__svc__dual=False, classifier__svc__max_iter=1000, classifier__svc__penalty=l1, classifier__vc__C=10, classifier__vc__class_weight=balanced, classifier__vc__kernel=linear; total time= 1.8min\n",
      "[CV] END classifier__logreg__class_weight=balanced, classifier__logreg__max_iter=9000, classifier__logreg__multi_class=multinomial, classifier__svc__C=0.1, classifier__svc__dual=False, classifier__svc__max_iter=1000, classifier__svc__penalty=l1, classifier__vc__C=10, classifier__vc__class_weight=balanced, classifier__vc__kernel=linear; total time= 1.8min\n",
      "[CV] END classifier__logreg__class_weight=balanced, classifier__logreg__max_iter=9000, classifier__logreg__multi_class=multinomial, classifier__svc__C=0.1, classifier__svc__dual=False, classifier__svc__max_iter=1000, classifier__svc__penalty=l1, classifier__vc__C=10, classifier__vc__class_weight=balanced, classifier__vc__kernel=linear; total time= 1.8min\n",
      "[CV] END classifier__logreg__class_weight=balanced, classifier__logreg__max_iter=9000, classifier__logreg__multi_class=multinomial, classifier__svc__C=0.1, classifier__svc__dual=False, classifier__svc__max_iter=1000, classifier__svc__penalty=l1, classifier__vc__C=10, classifier__vc__class_weight=balanced, classifier__vc__kernel=linear; total time= 1.9min\n",
      "[CV] END classifier__logreg__class_weight=balanced, classifier__logreg__max_iter=9000, classifier__logreg__multi_class=multinomial, classifier__svc__C=0.1, classifier__svc__dual=False, classifier__svc__max_iter=1000, classifier__svc__penalty=l2, classifier__vc__C=0.1, classifier__vc__class_weight=balanced, classifier__vc__kernel=linear; total time= 1.8min\n",
      "[CV] END classifier__logreg__class_weight=balanced, classifier__logreg__max_iter=9000, classifier__logreg__multi_class=multinomial, classifier__svc__C=0.1, classifier__svc__dual=False, classifier__svc__max_iter=1000, classifier__svc__penalty=l2, classifier__vc__C=0.1, classifier__vc__class_weight=balanced, classifier__vc__kernel=linear; total time= 1.8min\n",
      "[CV] END classifier__logreg__class_weight=balanced, classifier__logreg__max_iter=9000, classifier__logreg__multi_class=multinomial, classifier__svc__C=0.1, classifier__svc__dual=False, classifier__svc__max_iter=1000, classifier__svc__penalty=l2, classifier__vc__C=0.1, classifier__vc__class_weight=balanced, classifier__vc__kernel=linear; total time= 1.8min\n",
      "[CV] END classifier__logreg__class_weight=balanced, classifier__logreg__max_iter=9000, classifier__logreg__multi_class=multinomial, classifier__svc__C=0.1, classifier__svc__dual=False, classifier__svc__max_iter=1000, classifier__svc__penalty=l2, classifier__vc__C=0.1, classifier__vc__class_weight=balanced, classifier__vc__kernel=linear; total time= 1.9min\n",
      "[CV] END classifier__logreg__class_weight=balanced, classifier__logreg__max_iter=9000, classifier__logreg__multi_class=multinomial, classifier__svc__C=0.1, classifier__svc__dual=False, classifier__svc__max_iter=1000, classifier__svc__penalty=l2, classifier__vc__C=0.1, classifier__vc__class_weight=balanced, classifier__vc__kernel=linear; total time= 1.9min\n",
      "[CV] END classifier__logreg__class_weight=balanced, classifier__logreg__max_iter=9000, classifier__logreg__multi_class=multinomial, classifier__svc__C=0.1, classifier__svc__dual=False, classifier__svc__max_iter=1000, classifier__svc__penalty=l2, classifier__vc__C=1, classifier__vc__class_weight=balanced, classifier__vc__kernel=linear; total time= 2.0min\n",
      "[CV] END classifier__logreg__class_weight=balanced, classifier__logreg__max_iter=9000, classifier__logreg__multi_class=multinomial, classifier__svc__C=0.1, classifier__svc__dual=False, classifier__svc__max_iter=1000, classifier__svc__penalty=l2, classifier__vc__C=1, classifier__vc__class_weight=balanced, classifier__vc__kernel=linear; total time= 1.9min\n",
      "[CV] END classifier__logreg__class_weight=balanced, classifier__logreg__max_iter=9000, classifier__logreg__multi_class=multinomial, classifier__svc__C=0.1, classifier__svc__dual=False, classifier__svc__max_iter=1000, classifier__svc__penalty=l2, classifier__vc__C=1, classifier__vc__class_weight=balanced, classifier__vc__kernel=linear; total time= 1.7min\n",
      "[CV] END classifier__logreg__class_weight=balanced, classifier__logreg__max_iter=9000, classifier__logreg__multi_class=multinomial, classifier__svc__C=0.1, classifier__svc__dual=False, classifier__svc__max_iter=1000, classifier__svc__penalty=l2, classifier__vc__C=1, classifier__vc__class_weight=balanced, classifier__vc__kernel=linear; total time= 1.7min\n",
      "[CV] END classifier__logreg__class_weight=balanced, classifier__logreg__max_iter=9000, classifier__logreg__multi_class=multinomial, classifier__svc__C=0.1, classifier__svc__dual=False, classifier__svc__max_iter=1000, classifier__svc__penalty=l2, classifier__vc__C=1, classifier__vc__class_weight=balanced, classifier__vc__kernel=linear; total time= 1.7min\n"
     ]
    },
    {
     "name": "stderr",
     "output_type": "stream",
     "text": [
      "/Users/anushkrishnav/.local/share/virtualenvs/newsgroup-u5VajpjS/lib/python3.11/site-packages/sklearn/svm/_base.py:1250: ConvergenceWarning: Liblinear failed to converge, increase the number of iterations.\n",
      "  warnings.warn(\n"
     ]
    },
    {
     "name": "stdout",
     "output_type": "stream",
     "text": [
      "[CV] END classifier__logreg__class_weight=balanced, classifier__logreg__max_iter=9000, classifier__logreg__multi_class=multinomial, classifier__svc__C=0.1, classifier__svc__dual=False, classifier__svc__max_iter=1000, classifier__svc__penalty=l2, classifier__vc__C=10, classifier__vc__class_weight=balanced, classifier__vc__kernel=linear; total time= 1.7min\n",
      "[CV] END classifier__logreg__class_weight=balanced, classifier__logreg__max_iter=9000, classifier__logreg__multi_class=multinomial, classifier__svc__C=0.1, classifier__svc__dual=False, classifier__svc__max_iter=1000, classifier__svc__penalty=l2, classifier__vc__C=10, classifier__vc__class_weight=balanced, classifier__vc__kernel=linear; total time= 1.8min\n"
     ]
    },
    {
     "name": "stderr",
     "output_type": "stream",
     "text": [
      "/Users/anushkrishnav/.local/share/virtualenvs/newsgroup-u5VajpjS/lib/python3.11/site-packages/sklearn/svm/_base.py:1250: ConvergenceWarning: Liblinear failed to converge, increase the number of iterations.\n",
      "  warnings.warn(\n"
     ]
    },
    {
     "name": "stdout",
     "output_type": "stream",
     "text": [
      "[CV] END classifier__logreg__class_weight=balanced, classifier__logreg__max_iter=9000, classifier__logreg__multi_class=multinomial, classifier__svc__C=0.1, classifier__svc__dual=False, classifier__svc__max_iter=1000, classifier__svc__penalty=l2, classifier__vc__C=10, classifier__vc__class_weight=balanced, classifier__vc__kernel=linear; total time= 1.7min\n",
      "[CV] END classifier__logreg__class_weight=balanced, classifier__logreg__max_iter=9000, classifier__logreg__multi_class=multinomial, classifier__svc__C=0.1, classifier__svc__dual=False, classifier__svc__max_iter=1000, classifier__svc__penalty=l2, classifier__vc__C=10, classifier__vc__class_weight=balanced, classifier__vc__kernel=linear; total time= 1.7min\n"
     ]
    },
    {
     "name": "stderr",
     "output_type": "stream",
     "text": [
      "/Users/anushkrishnav/.local/share/virtualenvs/newsgroup-u5VajpjS/lib/python3.11/site-packages/sklearn/svm/_base.py:1250: ConvergenceWarning: Liblinear failed to converge, increase the number of iterations.\n",
      "  warnings.warn(\n",
      "/Users/anushkrishnav/.local/share/virtualenvs/newsgroup-u5VajpjS/lib/python3.11/site-packages/sklearn/svm/_base.py:1250: ConvergenceWarning: Liblinear failed to converge, increase the number of iterations.\n",
      "  warnings.warn(\n",
      "/Users/anushkrishnav/.local/share/virtualenvs/newsgroup-u5VajpjS/lib/python3.11/site-packages/sklearn/svm/_base.py:1250: ConvergenceWarning: Liblinear failed to converge, increase the number of iterations.\n",
      "  warnings.warn(\n",
      "/Users/anushkrishnav/.local/share/virtualenvs/newsgroup-u5VajpjS/lib/python3.11/site-packages/sklearn/svm/_base.py:1250: ConvergenceWarning: Liblinear failed to converge, increase the number of iterations.\n",
      "  warnings.warn(\n"
     ]
    },
    {
     "name": "stdout",
     "output_type": "stream",
     "text": [
      "[CV] END classifier__logreg__class_weight=balanced, classifier__logreg__max_iter=9000, classifier__logreg__multi_class=multinomial, classifier__svc__C=0.1, classifier__svc__dual=False, classifier__svc__max_iter=1000, classifier__svc__penalty=l2, classifier__vc__C=10, classifier__vc__class_weight=balanced, classifier__vc__kernel=linear; total time= 1.7min\n"
     ]
    },
    {
     "name": "stderr",
     "output_type": "stream",
     "text": [
      "/Users/anushkrishnav/.local/share/virtualenvs/newsgroup-u5VajpjS/lib/python3.11/site-packages/sklearn/svm/_base.py:1250: ConvergenceWarning: Liblinear failed to converge, increase the number of iterations.\n",
      "  warnings.warn(\n",
      "/Users/anushkrishnav/.local/share/virtualenvs/newsgroup-u5VajpjS/lib/python3.11/site-packages/sklearn/svm/_base.py:1250: ConvergenceWarning: Liblinear failed to converge, increase the number of iterations.\n",
      "  warnings.warn(\n"
     ]
    },
    {
     "name": "stdout",
     "output_type": "stream",
     "text": [
      "[CV] END classifier__logreg__class_weight=balanced, classifier__logreg__max_iter=9000, classifier__logreg__multi_class=multinomial, classifier__svc__C=1, classifier__svc__dual=False, classifier__svc__max_iter=500, classifier__svc__penalty=l1, classifier__vc__C=0.1, classifier__vc__class_weight=balanced, classifier__vc__kernel=linear; total time= 1.7min\n",
      "[CV] END classifier__logreg__class_weight=balanced, classifier__logreg__max_iter=9000, classifier__logreg__multi_class=multinomial, classifier__svc__C=1, classifier__svc__dual=False, classifier__svc__max_iter=500, classifier__svc__penalty=l1, classifier__vc__C=0.1, classifier__vc__class_weight=balanced, classifier__vc__kernel=linear; total time= 1.7min\n"
     ]
    },
    {
     "name": "stderr",
     "output_type": "stream",
     "text": [
      "/Users/anushkrishnav/.local/share/virtualenvs/newsgroup-u5VajpjS/lib/python3.11/site-packages/sklearn/svm/_base.py:1250: ConvergenceWarning: Liblinear failed to converge, increase the number of iterations.\n",
      "  warnings.warn(\n"
     ]
    },
    {
     "name": "stdout",
     "output_type": "stream",
     "text": [
      "[CV] END classifier__logreg__class_weight=balanced, classifier__logreg__max_iter=9000, classifier__logreg__multi_class=multinomial, classifier__svc__C=1, classifier__svc__dual=False, classifier__svc__max_iter=500, classifier__svc__penalty=l1, classifier__vc__C=0.1, classifier__vc__class_weight=balanced, classifier__vc__kernel=linear; total time= 1.7min\n",
      "[CV] END classifier__logreg__class_weight=balanced, classifier__logreg__max_iter=9000, classifier__logreg__multi_class=multinomial, classifier__svc__C=1, classifier__svc__dual=False, classifier__svc__max_iter=500, classifier__svc__penalty=l1, classifier__vc__C=0.1, classifier__vc__class_weight=balanced, classifier__vc__kernel=linear; total time= 1.7min\n",
      "[CV] END classifier__logreg__class_weight=balanced, classifier__logreg__max_iter=9000, classifier__logreg__multi_class=multinomial, classifier__svc__C=1, classifier__svc__dual=False, classifier__svc__max_iter=500, classifier__svc__penalty=l1, classifier__vc__C=0.1, classifier__vc__class_weight=balanced, classifier__vc__kernel=linear; total time= 1.7min\n"
     ]
    },
    {
     "name": "stderr",
     "output_type": "stream",
     "text": [
      "/Users/anushkrishnav/.local/share/virtualenvs/newsgroup-u5VajpjS/lib/python3.11/site-packages/sklearn/svm/_base.py:1250: ConvergenceWarning: Liblinear failed to converge, increase the number of iterations.\n",
      "  warnings.warn(\n",
      "/Users/anushkrishnav/.local/share/virtualenvs/newsgroup-u5VajpjS/lib/python3.11/site-packages/sklearn/svm/_base.py:1250: ConvergenceWarning: Liblinear failed to converge, increase the number of iterations.\n",
      "  warnings.warn(\n",
      "/Users/anushkrishnav/.local/share/virtualenvs/newsgroup-u5VajpjS/lib/python3.11/site-packages/sklearn/svm/_base.py:1250: ConvergenceWarning: Liblinear failed to converge, increase the number of iterations.\n",
      "  warnings.warn(\n"
     ]
    },
    {
     "name": "stdout",
     "output_type": "stream",
     "text": [
      "[CV] END classifier__logreg__class_weight=balanced, classifier__logreg__max_iter=9000, classifier__logreg__multi_class=multinomial, classifier__svc__C=1, classifier__svc__dual=False, classifier__svc__max_iter=500, classifier__svc__penalty=l1, classifier__vc__C=1, classifier__vc__class_weight=balanced, classifier__vc__kernel=linear; total time= 1.9min\n"
     ]
    },
    {
     "name": "stderr",
     "output_type": "stream",
     "text": [
      "/Users/anushkrishnav/.local/share/virtualenvs/newsgroup-u5VajpjS/lib/python3.11/site-packages/sklearn/svm/_base.py:1250: ConvergenceWarning: Liblinear failed to converge, increase the number of iterations.\n",
      "  warnings.warn(\n"
     ]
    },
    {
     "name": "stdout",
     "output_type": "stream",
     "text": [
      "[CV] END classifier__logreg__class_weight=balanced, classifier__logreg__max_iter=9000, classifier__logreg__multi_class=multinomial, classifier__svc__C=1, classifier__svc__dual=False, classifier__svc__max_iter=500, classifier__svc__penalty=l1, classifier__vc__C=1, classifier__vc__class_weight=balanced, classifier__vc__kernel=linear; total time= 1.9min\n"
     ]
    },
    {
     "name": "stderr",
     "output_type": "stream",
     "text": [
      "/Users/anushkrishnav/.local/share/virtualenvs/newsgroup-u5VajpjS/lib/python3.11/site-packages/sklearn/svm/_base.py:1250: ConvergenceWarning: Liblinear failed to converge, increase the number of iterations.\n",
      "  warnings.warn(\n"
     ]
    },
    {
     "name": "stdout",
     "output_type": "stream",
     "text": [
      "[CV] END classifier__logreg__class_weight=balanced, classifier__logreg__max_iter=9000, classifier__logreg__multi_class=multinomial, classifier__svc__C=1, classifier__svc__dual=False, classifier__svc__max_iter=500, classifier__svc__penalty=l1, classifier__vc__C=1, classifier__vc__class_weight=balanced, classifier__vc__kernel=linear; total time= 1.9min\n"
     ]
    },
    {
     "name": "stderr",
     "output_type": "stream",
     "text": [
      "/Users/anushkrishnav/.local/share/virtualenvs/newsgroup-u5VajpjS/lib/python3.11/site-packages/sklearn/svm/_base.py:1250: ConvergenceWarning: Liblinear failed to converge, increase the number of iterations.\n",
      "  warnings.warn(\n"
     ]
    },
    {
     "name": "stdout",
     "output_type": "stream",
     "text": [
      "[CV] END classifier__logreg__class_weight=balanced, classifier__logreg__max_iter=9000, classifier__logreg__multi_class=multinomial, classifier__svc__C=1, classifier__svc__dual=False, classifier__svc__max_iter=500, classifier__svc__penalty=l1, classifier__vc__C=1, classifier__vc__class_weight=balanced, classifier__vc__kernel=linear; total time= 1.8min\n",
      "[CV] END classifier__logreg__class_weight=balanced, classifier__logreg__max_iter=9000, classifier__logreg__multi_class=multinomial, classifier__svc__C=1, classifier__svc__dual=False, classifier__svc__max_iter=500, classifier__svc__penalty=l1, classifier__vc__C=1, classifier__vc__class_weight=balanced, classifier__vc__kernel=linear; total time= 1.8min\n",
      "[CV] END classifier__logreg__class_weight=balanced, classifier__logreg__max_iter=9000, classifier__logreg__multi_class=multinomial, classifier__svc__C=1, classifier__svc__dual=False, classifier__svc__max_iter=500, classifier__svc__penalty=l1, classifier__vc__C=10, classifier__vc__class_weight=balanced, classifier__vc__kernel=linear; total time= 1.8min\n",
      "[CV] END classifier__logreg__class_weight=balanced, classifier__logreg__max_iter=9000, classifier__logreg__multi_class=multinomial, classifier__svc__C=1, classifier__svc__dual=False, classifier__svc__max_iter=500, classifier__svc__penalty=l1, classifier__vc__C=10, classifier__vc__class_weight=balanced, classifier__vc__kernel=linear; total time= 1.9min\n",
      "[CV] END classifier__logreg__class_weight=balanced, classifier__logreg__max_iter=9000, classifier__logreg__multi_class=multinomial, classifier__svc__C=1, classifier__svc__dual=False, classifier__svc__max_iter=500, classifier__svc__penalty=l1, classifier__vc__C=10, classifier__vc__class_weight=balanced, classifier__vc__kernel=linear; total time= 1.9min\n",
      "[CV] END classifier__logreg__class_weight=balanced, classifier__logreg__max_iter=9000, classifier__logreg__multi_class=multinomial, classifier__svc__C=1, classifier__svc__dual=False, classifier__svc__max_iter=500, classifier__svc__penalty=l1, classifier__vc__C=10, classifier__vc__class_weight=balanced, classifier__vc__kernel=linear; total time= 1.8min\n",
      "[CV] END classifier__logreg__class_weight=balanced, classifier__logreg__max_iter=9000, classifier__logreg__multi_class=multinomial, classifier__svc__C=1, classifier__svc__dual=False, classifier__svc__max_iter=500, classifier__svc__penalty=l2, classifier__vc__C=0.1, classifier__vc__class_weight=balanced, classifier__vc__kernel=linear; total time= 1.6min\n",
      "[CV] END classifier__logreg__class_weight=balanced, classifier__logreg__max_iter=9000, classifier__logreg__multi_class=multinomial, classifier__svc__C=1, classifier__svc__dual=False, classifier__svc__max_iter=500, classifier__svc__penalty=l1, classifier__vc__C=10, classifier__vc__class_weight=balanced, classifier__vc__kernel=linear; total time= 1.8min\n",
      "[CV] END classifier__logreg__class_weight=balanced, classifier__logreg__max_iter=9000, classifier__logreg__multi_class=multinomial, classifier__svc__C=1, classifier__svc__dual=False, classifier__svc__max_iter=500, classifier__svc__penalty=l2, classifier__vc__C=0.1, classifier__vc__class_weight=balanced, classifier__vc__kernel=linear; total time= 1.6min\n",
      "[CV] END classifier__logreg__class_weight=balanced, classifier__logreg__max_iter=9000, classifier__logreg__multi_class=multinomial, classifier__svc__C=1, classifier__svc__dual=False, classifier__svc__max_iter=500, classifier__svc__penalty=l2, classifier__vc__C=0.1, classifier__vc__class_weight=balanced, classifier__vc__kernel=linear; total time= 1.6min\n",
      "[CV] END classifier__logreg__class_weight=balanced, classifier__logreg__max_iter=9000, classifier__logreg__multi_class=multinomial, classifier__svc__C=1, classifier__svc__dual=False, classifier__svc__max_iter=500, classifier__svc__penalty=l2, classifier__vc__C=0.1, classifier__vc__class_weight=balanced, classifier__vc__kernel=linear; total time= 1.6min\n",
      "[CV] END classifier__logreg__class_weight=balanced, classifier__logreg__max_iter=9000, classifier__logreg__multi_class=multinomial, classifier__svc__C=1, classifier__svc__dual=False, classifier__svc__max_iter=500, classifier__svc__penalty=l2, classifier__vc__C=0.1, classifier__vc__class_weight=balanced, classifier__vc__kernel=linear; total time= 1.6min\n",
      "[CV] END classifier__logreg__class_weight=balanced, classifier__logreg__max_iter=9000, classifier__logreg__multi_class=multinomial, classifier__svc__C=1, classifier__svc__dual=False, classifier__svc__max_iter=500, classifier__svc__penalty=l2, classifier__vc__C=1, classifier__vc__class_weight=balanced, classifier__vc__kernel=linear; total time= 1.8min\n",
      "[CV] END classifier__logreg__class_weight=balanced, classifier__logreg__max_iter=9000, classifier__logreg__multi_class=multinomial, classifier__svc__C=1, classifier__svc__dual=False, classifier__svc__max_iter=500, classifier__svc__penalty=l2, classifier__vc__C=1, classifier__vc__class_weight=balanced, classifier__vc__kernel=linear; total time= 1.8min\n",
      "[CV] END classifier__logreg__class_weight=balanced, classifier__logreg__max_iter=9000, classifier__logreg__multi_class=multinomial, classifier__svc__C=1, classifier__svc__dual=False, classifier__svc__max_iter=500, classifier__svc__penalty=l2, classifier__vc__C=1, classifier__vc__class_weight=balanced, classifier__vc__kernel=linear; total time= 1.8min\n",
      "[CV] END classifier__logreg__class_weight=balanced, classifier__logreg__max_iter=9000, classifier__logreg__multi_class=multinomial, classifier__svc__C=1, classifier__svc__dual=False, classifier__svc__max_iter=500, classifier__svc__penalty=l2, classifier__vc__C=1, classifier__vc__class_weight=balanced, classifier__vc__kernel=linear; total time= 1.7min\n",
      "[CV] END classifier__logreg__class_weight=balanced, classifier__logreg__max_iter=9000, classifier__logreg__multi_class=multinomial, classifier__svc__C=1, classifier__svc__dual=False, classifier__svc__max_iter=500, classifier__svc__penalty=l2, classifier__vc__C=1, classifier__vc__class_weight=balanced, classifier__vc__kernel=linear; total time= 1.8min\n",
      "[CV] END classifier__logreg__class_weight=balanced, classifier__logreg__max_iter=9000, classifier__logreg__multi_class=multinomial, classifier__svc__C=1, classifier__svc__dual=False, classifier__svc__max_iter=500, classifier__svc__penalty=l2, classifier__vc__C=10, classifier__vc__class_weight=balanced, classifier__vc__kernel=linear; total time= 1.7min\n",
      "[CV] END classifier__logreg__class_weight=balanced, classifier__logreg__max_iter=9000, classifier__logreg__multi_class=multinomial, classifier__svc__C=1, classifier__svc__dual=False, classifier__svc__max_iter=500, classifier__svc__penalty=l2, classifier__vc__C=10, classifier__vc__class_weight=balanced, classifier__vc__kernel=linear; total time= 1.8min\n",
      "[CV] END classifier__logreg__class_weight=balanced, classifier__logreg__max_iter=9000, classifier__logreg__multi_class=multinomial, classifier__svc__C=1, classifier__svc__dual=False, classifier__svc__max_iter=500, classifier__svc__penalty=l2, classifier__vc__C=10, classifier__vc__class_weight=balanced, classifier__vc__kernel=linear; total time= 1.8min\n",
      "[CV] END classifier__logreg__class_weight=balanced, classifier__logreg__max_iter=9000, classifier__logreg__multi_class=multinomial, classifier__svc__C=1, classifier__svc__dual=False, classifier__svc__max_iter=500, classifier__svc__penalty=l2, classifier__vc__C=10, classifier__vc__class_weight=balanced, classifier__vc__kernel=linear; total time= 1.7min\n",
      "[CV] END classifier__logreg__class_weight=balanced, classifier__logreg__max_iter=9000, classifier__logreg__multi_class=multinomial, classifier__svc__C=1, classifier__svc__dual=False, classifier__svc__max_iter=1000, classifier__svc__penalty=l1, classifier__vc__C=0.1, classifier__vc__class_weight=balanced, classifier__vc__kernel=linear; total time= 1.7min\n",
      "[CV] END classifier__logreg__class_weight=balanced, classifier__logreg__max_iter=9000, classifier__logreg__multi_class=multinomial, classifier__svc__C=1, classifier__svc__dual=False, classifier__svc__max_iter=500, classifier__svc__penalty=l2, classifier__vc__C=10, classifier__vc__class_weight=balanced, classifier__vc__kernel=linear; total time= 1.8min\n",
      "[CV] END classifier__logreg__class_weight=balanced, classifier__logreg__max_iter=9000, classifier__logreg__multi_class=multinomial, classifier__svc__C=1, classifier__svc__dual=False, classifier__svc__max_iter=1000, classifier__svc__penalty=l1, classifier__vc__C=0.1, classifier__vc__class_weight=balanced, classifier__vc__kernel=linear; total time= 1.8min\n",
      "[CV] END classifier__logreg__class_weight=balanced, classifier__logreg__max_iter=9000, classifier__logreg__multi_class=multinomial, classifier__svc__C=1, classifier__svc__dual=False, classifier__svc__max_iter=1000, classifier__svc__penalty=l1, classifier__vc__C=0.1, classifier__vc__class_weight=balanced, classifier__vc__kernel=linear; total time= 1.8min\n",
      "[CV] END classifier__logreg__class_weight=balanced, classifier__logreg__max_iter=9000, classifier__logreg__multi_class=multinomial, classifier__svc__C=1, classifier__svc__dual=False, classifier__svc__max_iter=1000, classifier__svc__penalty=l1, classifier__vc__C=0.1, classifier__vc__class_weight=balanced, classifier__vc__kernel=linear; total time= 1.8min\n",
      "[CV] END classifier__logreg__class_weight=balanced, classifier__logreg__max_iter=9000, classifier__logreg__multi_class=multinomial, classifier__svc__C=1, classifier__svc__dual=False, classifier__svc__max_iter=1000, classifier__svc__penalty=l1, classifier__vc__C=0.1, classifier__vc__class_weight=balanced, classifier__vc__kernel=linear; total time= 1.8min\n",
      "[CV] END classifier__logreg__class_weight=balanced, classifier__logreg__max_iter=9000, classifier__logreg__multi_class=multinomial, classifier__svc__C=1, classifier__svc__dual=False, classifier__svc__max_iter=1000, classifier__svc__penalty=l1, classifier__vc__C=1, classifier__vc__class_weight=balanced, classifier__vc__kernel=linear; total time= 1.9min\n",
      "[CV] END classifier__logreg__class_weight=balanced, classifier__logreg__max_iter=9000, classifier__logreg__multi_class=multinomial, classifier__svc__C=1, classifier__svc__dual=False, classifier__svc__max_iter=1000, classifier__svc__penalty=l1, classifier__vc__C=1, classifier__vc__class_weight=balanced, classifier__vc__kernel=linear; total time= 1.9min\n",
      "[CV] END classifier__logreg__class_weight=balanced, classifier__logreg__max_iter=9000, classifier__logreg__multi_class=multinomial, classifier__svc__C=1, classifier__svc__dual=False, classifier__svc__max_iter=1000, classifier__svc__penalty=l1, classifier__vc__C=1, classifier__vc__class_weight=balanced, classifier__vc__kernel=linear; total time= 1.9min\n",
      "[CV] END classifier__logreg__class_weight=balanced, classifier__logreg__max_iter=9000, classifier__logreg__multi_class=multinomial, classifier__svc__C=1, classifier__svc__dual=False, classifier__svc__max_iter=1000, classifier__svc__penalty=l1, classifier__vc__C=1, classifier__vc__class_weight=balanced, classifier__vc__kernel=linear; total time= 1.9min\n",
      "[CV] END classifier__logreg__class_weight=balanced, classifier__logreg__max_iter=9000, classifier__logreg__multi_class=multinomial, classifier__svc__C=1, classifier__svc__dual=False, classifier__svc__max_iter=1000, classifier__svc__penalty=l1, classifier__vc__C=1, classifier__vc__class_weight=balanced, classifier__vc__kernel=linear; total time= 1.9min\n",
      "[CV] END classifier__logreg__class_weight=balanced, classifier__logreg__max_iter=9000, classifier__logreg__multi_class=multinomial, classifier__svc__C=1, classifier__svc__dual=False, classifier__svc__max_iter=1000, classifier__svc__penalty=l1, classifier__vc__C=10, classifier__vc__class_weight=balanced, classifier__vc__kernel=linear; total time= 1.9min\n",
      "[CV] END classifier__logreg__class_weight=balanced, classifier__logreg__max_iter=9000, classifier__logreg__multi_class=multinomial, classifier__svc__C=1, classifier__svc__dual=False, classifier__svc__max_iter=1000, classifier__svc__penalty=l1, classifier__vc__C=10, classifier__vc__class_weight=balanced, classifier__vc__kernel=linear; total time= 1.9min\n",
      "[CV] END classifier__logreg__class_weight=balanced, classifier__logreg__max_iter=9000, classifier__logreg__multi_class=multinomial, classifier__svc__C=1, classifier__svc__dual=False, classifier__svc__max_iter=1000, classifier__svc__penalty=l1, classifier__vc__C=10, classifier__vc__class_weight=balanced, classifier__vc__kernel=linear; total time= 1.9min\n",
      "[CV] END classifier__logreg__class_weight=balanced, classifier__logreg__max_iter=9000, classifier__logreg__multi_class=multinomial, classifier__svc__C=1, classifier__svc__dual=False, classifier__svc__max_iter=1000, classifier__svc__penalty=l1, classifier__vc__C=10, classifier__vc__class_weight=balanced, classifier__vc__kernel=linear; total time= 1.9min\n",
      "[CV] END classifier__logreg__class_weight=balanced, classifier__logreg__max_iter=9000, classifier__logreg__multi_class=multinomial, classifier__svc__C=1, classifier__svc__dual=False, classifier__svc__max_iter=1000, classifier__svc__penalty=l2, classifier__vc__C=0.1, classifier__vc__class_weight=balanced, classifier__vc__kernel=linear; total time= 1.6min\n",
      "[CV] END classifier__logreg__class_weight=balanced, classifier__logreg__max_iter=9000, classifier__logreg__multi_class=multinomial, classifier__svc__C=1, classifier__svc__dual=False, classifier__svc__max_iter=1000, classifier__svc__penalty=l2, classifier__vc__C=0.1, classifier__vc__class_weight=balanced, classifier__vc__kernel=linear; total time= 1.6min\n",
      "[CV] END classifier__logreg__class_weight=balanced, classifier__logreg__max_iter=9000, classifier__logreg__multi_class=multinomial, classifier__svc__C=1, classifier__svc__dual=False, classifier__svc__max_iter=1000, classifier__svc__penalty=l2, classifier__vc__C=0.1, classifier__vc__class_weight=balanced, classifier__vc__kernel=linear; total time= 1.6min\n",
      "[CV] END classifier__logreg__class_weight=balanced, classifier__logreg__max_iter=9000, classifier__logreg__multi_class=multinomial, classifier__svc__C=1, classifier__svc__dual=False, classifier__svc__max_iter=1000, classifier__svc__penalty=l1, classifier__vc__C=10, classifier__vc__class_weight=balanced, classifier__vc__kernel=linear; total time= 1.9min\n",
      "[CV] END classifier__logreg__class_weight=balanced, classifier__logreg__max_iter=9000, classifier__logreg__multi_class=multinomial, classifier__svc__C=1, classifier__svc__dual=False, classifier__svc__max_iter=1000, classifier__svc__penalty=l2, classifier__vc__C=0.1, classifier__vc__class_weight=balanced, classifier__vc__kernel=linear; total time= 1.6min\n",
      "[CV] END classifier__logreg__class_weight=balanced, classifier__logreg__max_iter=9000, classifier__logreg__multi_class=multinomial, classifier__svc__C=1, classifier__svc__dual=False, classifier__svc__max_iter=1000, classifier__svc__penalty=l2, classifier__vc__C=0.1, classifier__vc__class_weight=balanced, classifier__vc__kernel=linear; total time= 1.6min\n",
      "[CV] END classifier__logreg__class_weight=balanced, classifier__logreg__max_iter=9000, classifier__logreg__multi_class=multinomial, classifier__svc__C=1, classifier__svc__dual=False, classifier__svc__max_iter=1000, classifier__svc__penalty=l2, classifier__vc__C=1, classifier__vc__class_weight=balanced, classifier__vc__kernel=linear; total time= 1.7min\n",
      "[CV] END classifier__logreg__class_weight=balanced, classifier__logreg__max_iter=9000, classifier__logreg__multi_class=multinomial, classifier__svc__C=1, classifier__svc__dual=False, classifier__svc__max_iter=1000, classifier__svc__penalty=l2, classifier__vc__C=1, classifier__vc__class_weight=balanced, classifier__vc__kernel=linear; total time= 1.8min\n",
      "[CV] END classifier__logreg__class_weight=balanced, classifier__logreg__max_iter=9000, classifier__logreg__multi_class=multinomial, classifier__svc__C=1, classifier__svc__dual=False, classifier__svc__max_iter=1000, classifier__svc__penalty=l2, classifier__vc__C=1, classifier__vc__class_weight=balanced, classifier__vc__kernel=linear; total time= 1.8min\n",
      "[CV] END classifier__logreg__class_weight=balanced, classifier__logreg__max_iter=9000, classifier__logreg__multi_class=multinomial, classifier__svc__C=1, classifier__svc__dual=False, classifier__svc__max_iter=1000, classifier__svc__penalty=l2, classifier__vc__C=1, classifier__vc__class_weight=balanced, classifier__vc__kernel=linear; total time= 1.8min\n",
      "[CV] END classifier__logreg__class_weight=balanced, classifier__logreg__max_iter=9000, classifier__logreg__multi_class=multinomial, classifier__svc__C=1, classifier__svc__dual=False, classifier__svc__max_iter=1000, classifier__svc__penalty=l2, classifier__vc__C=1, classifier__vc__class_weight=balanced, classifier__vc__kernel=linear; total time= 1.8min\n",
      "[CV] END classifier__logreg__class_weight=balanced, classifier__logreg__max_iter=9000, classifier__logreg__multi_class=multinomial, classifier__svc__C=1, classifier__svc__dual=False, classifier__svc__max_iter=1000, classifier__svc__penalty=l2, classifier__vc__C=10, classifier__vc__class_weight=balanced, classifier__vc__kernel=linear; total time= 1.8min\n"
     ]
    },
    {
     "name": "stderr",
     "output_type": "stream",
     "text": [
      "/Users/anushkrishnav/.local/share/virtualenvs/newsgroup-u5VajpjS/lib/python3.11/site-packages/sklearn/svm/_base.py:1250: ConvergenceWarning: Liblinear failed to converge, increase the number of iterations.\n",
      "  warnings.warn(\n",
      "/Users/anushkrishnav/.local/share/virtualenvs/newsgroup-u5VajpjS/lib/python3.11/site-packages/sklearn/svm/_base.py:1250: ConvergenceWarning: Liblinear failed to converge, increase the number of iterations.\n",
      "  warnings.warn(\n",
      "/Users/anushkrishnav/.local/share/virtualenvs/newsgroup-u5VajpjS/lib/python3.11/site-packages/sklearn/svm/_base.py:1250: ConvergenceWarning: Liblinear failed to converge, increase the number of iterations.\n",
      "  warnings.warn(\n",
      "/Users/anushkrishnav/.local/share/virtualenvs/newsgroup-u5VajpjS/lib/python3.11/site-packages/sklearn/svm/_base.py:1250: ConvergenceWarning: Liblinear failed to converge, increase the number of iterations.\n",
      "  warnings.warn(\n"
     ]
    },
    {
     "name": "stdout",
     "output_type": "stream",
     "text": [
      "[CV] END classifier__logreg__class_weight=balanced, classifier__logreg__max_iter=9000, classifier__logreg__multi_class=multinomial, classifier__svc__C=1, classifier__svc__dual=False, classifier__svc__max_iter=1000, classifier__svc__penalty=l2, classifier__vc__C=10, classifier__vc__class_weight=balanced, classifier__vc__kernel=linear; total time= 1.8min\n",
      "[CV] END classifier__logreg__class_weight=balanced, classifier__logreg__max_iter=9000, classifier__logreg__multi_class=multinomial, classifier__svc__C=1, classifier__svc__dual=False, classifier__svc__max_iter=1000, classifier__svc__penalty=l2, classifier__vc__C=10, classifier__vc__class_weight=balanced, classifier__vc__kernel=linear; total time= 1.8min\n"
     ]
    },
    {
     "name": "stderr",
     "output_type": "stream",
     "text": [
      "/Users/anushkrishnav/.local/share/virtualenvs/newsgroup-u5VajpjS/lib/python3.11/site-packages/sklearn/svm/_base.py:1250: ConvergenceWarning: Liblinear failed to converge, increase the number of iterations.\n",
      "  warnings.warn(\n"
     ]
    },
    {
     "name": "stdout",
     "output_type": "stream",
     "text": [
      "[CV] END classifier__logreg__class_weight=balanced, classifier__logreg__max_iter=9000, classifier__logreg__multi_class=multinomial, classifier__svc__C=1, classifier__svc__dual=False, classifier__svc__max_iter=1000, classifier__svc__penalty=l2, classifier__vc__C=10, classifier__vc__class_weight=balanced, classifier__vc__kernel=linear; total time= 1.8min\n"
     ]
    },
    {
     "name": "stderr",
     "output_type": "stream",
     "text": [
      "/Users/anushkrishnav/.local/share/virtualenvs/newsgroup-u5VajpjS/lib/python3.11/site-packages/sklearn/svm/_base.py:1250: ConvergenceWarning: Liblinear failed to converge, increase the number of iterations.\n",
      "  warnings.warn(\n"
     ]
    },
    {
     "name": "stdout",
     "output_type": "stream",
     "text": [
      "[CV] END classifier__logreg__class_weight=balanced, classifier__logreg__max_iter=9000, classifier__logreg__multi_class=multinomial, classifier__svc__C=1, classifier__svc__dual=False, classifier__svc__max_iter=1000, classifier__svc__penalty=l2, classifier__vc__C=10, classifier__vc__class_weight=balanced, classifier__vc__kernel=linear; total time= 1.8min\n"
     ]
    },
    {
     "name": "stderr",
     "output_type": "stream",
     "text": [
      "/Users/anushkrishnav/.local/share/virtualenvs/newsgroup-u5VajpjS/lib/python3.11/site-packages/sklearn/svm/_base.py:1250: ConvergenceWarning: Liblinear failed to converge, increase the number of iterations.\n",
      "  warnings.warn(\n"
     ]
    },
    {
     "name": "stdout",
     "output_type": "stream",
     "text": [
      "[CV] END classifier__logreg__class_weight=balanced, classifier__logreg__max_iter=9000, classifier__logreg__multi_class=multinomial, classifier__svc__C=10, classifier__svc__dual=False, classifier__svc__max_iter=500, classifier__svc__penalty=l1, classifier__vc__C=0.1, classifier__vc__class_weight=balanced, classifier__vc__kernel=linear; total time= 1.8min\n",
      "[CV] END classifier__logreg__class_weight=balanced, classifier__logreg__max_iter=9000, classifier__logreg__multi_class=multinomial, classifier__svc__C=10, classifier__svc__dual=False, classifier__svc__max_iter=500, classifier__svc__penalty=l1, classifier__vc__C=0.1, classifier__vc__class_weight=balanced, classifier__vc__kernel=linear; total time= 1.8min\n",
      "[CV] END classifier__logreg__class_weight=balanced, classifier__logreg__max_iter=9000, classifier__logreg__multi_class=multinomial, classifier__svc__C=10, classifier__svc__dual=False, classifier__svc__max_iter=500, classifier__svc__penalty=l1, classifier__vc__C=0.1, classifier__vc__class_weight=balanced, classifier__vc__kernel=linear; total time= 1.8min\n",
      "[CV] END classifier__logreg__class_weight=balanced, classifier__logreg__max_iter=9000, classifier__logreg__multi_class=multinomial, classifier__svc__C=10, classifier__svc__dual=False, classifier__svc__max_iter=500, classifier__svc__penalty=l1, classifier__vc__C=0.1, classifier__vc__class_weight=balanced, classifier__vc__kernel=linear; total time= 1.8min\n"
     ]
    },
    {
     "name": "stderr",
     "output_type": "stream",
     "text": [
      "/Users/anushkrishnav/.local/share/virtualenvs/newsgroup-u5VajpjS/lib/python3.11/site-packages/sklearn/svm/_base.py:1250: ConvergenceWarning: Liblinear failed to converge, increase the number of iterations.\n",
      "  warnings.warn(\n",
      "/Users/anushkrishnav/.local/share/virtualenvs/newsgroup-u5VajpjS/lib/python3.11/site-packages/sklearn/svm/_base.py:1250: ConvergenceWarning: Liblinear failed to converge, increase the number of iterations.\n",
      "  warnings.warn(\n",
      "/Users/anushkrishnav/.local/share/virtualenvs/newsgroup-u5VajpjS/lib/python3.11/site-packages/sklearn/svm/_base.py:1250: ConvergenceWarning: Liblinear failed to converge, increase the number of iterations.\n",
      "  warnings.warn(\n",
      "/Users/anushkrishnav/.local/share/virtualenvs/newsgroup-u5VajpjS/lib/python3.11/site-packages/sklearn/svm/_base.py:1250: ConvergenceWarning: Liblinear failed to converge, increase the number of iterations.\n",
      "  warnings.warn(\n",
      "/Users/anushkrishnav/.local/share/virtualenvs/newsgroup-u5VajpjS/lib/python3.11/site-packages/sklearn/svm/_base.py:1250: ConvergenceWarning: Liblinear failed to converge, increase the number of iterations.\n",
      "  warnings.warn(\n"
     ]
    },
    {
     "name": "stdout",
     "output_type": "stream",
     "text": [
      "[CV] END classifier__logreg__class_weight=balanced, classifier__logreg__max_iter=9000, classifier__logreg__multi_class=multinomial, classifier__svc__C=10, classifier__svc__dual=False, classifier__svc__max_iter=500, classifier__svc__penalty=l1, classifier__vc__C=0.1, classifier__vc__class_weight=balanced, classifier__vc__kernel=linear; total time= 1.8min\n"
     ]
    },
    {
     "name": "stderr",
     "output_type": "stream",
     "text": [
      "/Users/anushkrishnav/.local/share/virtualenvs/newsgroup-u5VajpjS/lib/python3.11/site-packages/sklearn/svm/_base.py:1250: ConvergenceWarning: Liblinear failed to converge, increase the number of iterations.\n",
      "  warnings.warn(\n"
     ]
    },
    {
     "name": "stdout",
     "output_type": "stream",
     "text": [
      "[CV] END classifier__logreg__class_weight=balanced, classifier__logreg__max_iter=9000, classifier__logreg__multi_class=multinomial, classifier__svc__C=10, classifier__svc__dual=False, classifier__svc__max_iter=500, classifier__svc__penalty=l1, classifier__vc__C=1, classifier__vc__class_weight=balanced, classifier__vc__kernel=linear; total time= 1.9min\n"
     ]
    },
    {
     "name": "stderr",
     "output_type": "stream",
     "text": [
      "/Users/anushkrishnav/.local/share/virtualenvs/newsgroup-u5VajpjS/lib/python3.11/site-packages/sklearn/svm/_base.py:1250: ConvergenceWarning: Liblinear failed to converge, increase the number of iterations.\n",
      "  warnings.warn(\n"
     ]
    },
    {
     "name": "stdout",
     "output_type": "stream",
     "text": [
      "[CV] END classifier__logreg__class_weight=balanced, classifier__logreg__max_iter=9000, classifier__logreg__multi_class=multinomial, classifier__svc__C=10, classifier__svc__dual=False, classifier__svc__max_iter=500, classifier__svc__penalty=l1, classifier__vc__C=1, classifier__vc__class_weight=balanced, classifier__vc__kernel=linear; total time= 1.9min\n",
      "[CV] END classifier__logreg__class_weight=balanced, classifier__logreg__max_iter=9000, classifier__logreg__multi_class=multinomial, classifier__svc__C=10, classifier__svc__dual=False, classifier__svc__max_iter=500, classifier__svc__penalty=l1, classifier__vc__C=1, classifier__vc__class_weight=balanced, classifier__vc__kernel=linear; total time= 1.9min\n",
      "[CV] END classifier__logreg__class_weight=balanced, classifier__logreg__max_iter=9000, classifier__logreg__multi_class=multinomial, classifier__svc__C=10, classifier__svc__dual=False, classifier__svc__max_iter=500, classifier__svc__penalty=l1, classifier__vc__C=1, classifier__vc__class_weight=balanced, classifier__vc__kernel=linear; total time= 1.9min\n"
     ]
    },
    {
     "name": "stderr",
     "output_type": "stream",
     "text": [
      "/Users/anushkrishnav/.local/share/virtualenvs/newsgroup-u5VajpjS/lib/python3.11/site-packages/sklearn/svm/_base.py:1250: ConvergenceWarning: Liblinear failed to converge, increase the number of iterations.\n",
      "  warnings.warn(\n"
     ]
    },
    {
     "name": "stdout",
     "output_type": "stream",
     "text": [
      "[CV] END classifier__logreg__class_weight=balanced, classifier__logreg__max_iter=9000, classifier__logreg__multi_class=multinomial, classifier__svc__C=10, classifier__svc__dual=False, classifier__svc__max_iter=500, classifier__svc__penalty=l1, classifier__vc__C=1, classifier__vc__class_weight=balanced, classifier__vc__kernel=linear; total time= 1.9min\n",
      "[CV] END classifier__logreg__class_weight=balanced, classifier__logreg__max_iter=9000, classifier__logreg__multi_class=multinomial, classifier__svc__C=10, classifier__svc__dual=False, classifier__svc__max_iter=500, classifier__svc__penalty=l1, classifier__vc__C=10, classifier__vc__class_weight=balanced, classifier__vc__kernel=linear; total time= 1.9min\n",
      "[CV] END classifier__logreg__class_weight=balanced, classifier__logreg__max_iter=9000, classifier__logreg__multi_class=multinomial, classifier__svc__C=10, classifier__svc__dual=False, classifier__svc__max_iter=500, classifier__svc__penalty=l1, classifier__vc__C=10, classifier__vc__class_weight=balanced, classifier__vc__kernel=linear; total time= 1.9min\n",
      "[CV] END classifier__logreg__class_weight=balanced, classifier__logreg__max_iter=9000, classifier__logreg__multi_class=multinomial, classifier__svc__C=10, classifier__svc__dual=False, classifier__svc__max_iter=500, classifier__svc__penalty=l1, classifier__vc__C=10, classifier__vc__class_weight=balanced, classifier__vc__kernel=linear; total time= 2.1min\n",
      "[CV] END classifier__logreg__class_weight=balanced, classifier__logreg__max_iter=9000, classifier__logreg__multi_class=multinomial, classifier__svc__C=10, classifier__svc__dual=False, classifier__svc__max_iter=500, classifier__svc__penalty=l1, classifier__vc__C=10, classifier__vc__class_weight=balanced, classifier__vc__kernel=linear; total time= 2.1min\n",
      "[CV] END classifier__logreg__class_weight=balanced, classifier__logreg__max_iter=9000, classifier__logreg__multi_class=multinomial, classifier__svc__C=10, classifier__svc__dual=False, classifier__svc__max_iter=500, classifier__svc__penalty=l1, classifier__vc__C=10, classifier__vc__class_weight=balanced, classifier__vc__kernel=linear; total time= 2.1min\n",
      "[CV] END classifier__logreg__class_weight=balanced, classifier__logreg__max_iter=9000, classifier__logreg__multi_class=multinomial, classifier__svc__C=10, classifier__svc__dual=False, classifier__svc__max_iter=500, classifier__svc__penalty=l2, classifier__vc__C=0.1, classifier__vc__class_weight=balanced, classifier__vc__kernel=linear; total time= 2.1min\n",
      "[CV] END classifier__logreg__class_weight=balanced, classifier__logreg__max_iter=9000, classifier__logreg__multi_class=multinomial, classifier__svc__C=10, classifier__svc__dual=False, classifier__svc__max_iter=500, classifier__svc__penalty=l2, classifier__vc__C=0.1, classifier__vc__class_weight=balanced, classifier__vc__kernel=linear; total time= 2.2min\n",
      "[CV] END classifier__logreg__class_weight=balanced, classifier__logreg__max_iter=9000, classifier__logreg__multi_class=multinomial, classifier__svc__C=10, classifier__svc__dual=False, classifier__svc__max_iter=500, classifier__svc__penalty=l2, classifier__vc__C=0.1, classifier__vc__class_weight=balanced, classifier__vc__kernel=linear; total time= 2.2min\n",
      "[CV] END classifier__logreg__class_weight=balanced, classifier__logreg__max_iter=9000, classifier__logreg__multi_class=multinomial, classifier__svc__C=10, classifier__svc__dual=False, classifier__svc__max_iter=500, classifier__svc__penalty=l2, classifier__vc__C=0.1, classifier__vc__class_weight=balanced, classifier__vc__kernel=linear; total time= 2.2min\n",
      "[CV] END classifier__logreg__class_weight=balanced, classifier__logreg__max_iter=9000, classifier__logreg__multi_class=multinomial, classifier__svc__C=10, classifier__svc__dual=False, classifier__svc__max_iter=500, classifier__svc__penalty=l2, classifier__vc__C=0.1, classifier__vc__class_weight=balanced, classifier__vc__kernel=linear; total time= 2.2min\n",
      "[CV] END classifier__logreg__class_weight=balanced, classifier__logreg__max_iter=9000, classifier__logreg__multi_class=multinomial, classifier__svc__C=10, classifier__svc__dual=False, classifier__svc__max_iter=500, classifier__svc__penalty=l2, classifier__vc__C=1, classifier__vc__class_weight=balanced, classifier__vc__kernel=linear; total time= 2.2min\n",
      "[CV] END classifier__logreg__class_weight=balanced, classifier__logreg__max_iter=9000, classifier__logreg__multi_class=multinomial, classifier__svc__C=10, classifier__svc__dual=False, classifier__svc__max_iter=500, classifier__svc__penalty=l2, classifier__vc__C=1, classifier__vc__class_weight=balanced, classifier__vc__kernel=linear; total time= 2.2min\n",
      "[CV] END classifier__logreg__class_weight=balanced, classifier__logreg__max_iter=9000, classifier__logreg__multi_class=multinomial, classifier__svc__C=10, classifier__svc__dual=False, classifier__svc__max_iter=500, classifier__svc__penalty=l2, classifier__vc__C=1, classifier__vc__class_weight=balanced, classifier__vc__kernel=linear; total time= 2.2min\n",
      "[CV] END classifier__logreg__class_weight=balanced, classifier__logreg__max_iter=9000, classifier__logreg__multi_class=multinomial, classifier__svc__C=10, classifier__svc__dual=False, classifier__svc__max_iter=500, classifier__svc__penalty=l2, classifier__vc__C=1, classifier__vc__class_weight=balanced, classifier__vc__kernel=linear; total time= 2.3min\n",
      "[CV] END classifier__logreg__class_weight=balanced, classifier__logreg__max_iter=9000, classifier__logreg__multi_class=multinomial, classifier__svc__C=10, classifier__svc__dual=False, classifier__svc__max_iter=500, classifier__svc__penalty=l2, classifier__vc__C=1, classifier__vc__class_weight=balanced, classifier__vc__kernel=linear; total time= 2.3min\n",
      "[CV] END classifier__logreg__class_weight=balanced, classifier__logreg__max_iter=9000, classifier__logreg__multi_class=multinomial, classifier__svc__C=10, classifier__svc__dual=False, classifier__svc__max_iter=500, classifier__svc__penalty=l2, classifier__vc__C=10, classifier__vc__class_weight=balanced, classifier__vc__kernel=linear; total time= 2.3min\n"
     ]
    },
    {
     "name": "stderr",
     "output_type": "stream",
     "text": [
      "/Users/anushkrishnav/.local/share/virtualenvs/newsgroup-u5VajpjS/lib/python3.11/site-packages/sklearn/svm/_base.py:1250: ConvergenceWarning: Liblinear failed to converge, increase the number of iterations.\n",
      "  warnings.warn(\n"
     ]
    },
    {
     "name": "stdout",
     "output_type": "stream",
     "text": [
      "[CV] END classifier__logreg__class_weight=balanced, classifier__logreg__max_iter=9000, classifier__logreg__multi_class=multinomial, classifier__svc__C=10, classifier__svc__dual=False, classifier__svc__max_iter=500, classifier__svc__penalty=l2, classifier__vc__C=10, classifier__vc__class_weight=balanced, classifier__vc__kernel=linear; total time= 2.3min\n",
      "[CV] END classifier__logreg__class_weight=balanced, classifier__logreg__max_iter=9000, classifier__logreg__multi_class=multinomial, classifier__svc__C=10, classifier__svc__dual=False, classifier__svc__max_iter=500, classifier__svc__penalty=l2, classifier__vc__C=10, classifier__vc__class_weight=balanced, classifier__vc__kernel=linear; total time= 2.3min\n"
     ]
    },
    {
     "name": "stderr",
     "output_type": "stream",
     "text": [
      "/Users/anushkrishnav/.local/share/virtualenvs/newsgroup-u5VajpjS/lib/python3.11/site-packages/sklearn/svm/_base.py:1250: ConvergenceWarning: Liblinear failed to converge, increase the number of iterations.\n",
      "  warnings.warn(\n",
      "/Users/anushkrishnav/.local/share/virtualenvs/newsgroup-u5VajpjS/lib/python3.11/site-packages/sklearn/svm/_base.py:1250: ConvergenceWarning: Liblinear failed to converge, increase the number of iterations.\n",
      "  warnings.warn(\n",
      "/Users/anushkrishnav/.local/share/virtualenvs/newsgroup-u5VajpjS/lib/python3.11/site-packages/sklearn/svm/_base.py:1250: ConvergenceWarning: Liblinear failed to converge, increase the number of iterations.\n",
      "  warnings.warn(\n",
      "/Users/anushkrishnav/.local/share/virtualenvs/newsgroup-u5VajpjS/lib/python3.11/site-packages/sklearn/svm/_base.py:1250: ConvergenceWarning: Liblinear failed to converge, increase the number of iterations.\n",
      "  warnings.warn(\n",
      "/Users/anushkrishnav/.local/share/virtualenvs/newsgroup-u5VajpjS/lib/python3.11/site-packages/sklearn/svm/_base.py:1250: ConvergenceWarning: Liblinear failed to converge, increase the number of iterations.\n",
      "  warnings.warn(\n"
     ]
    },
    {
     "name": "stdout",
     "output_type": "stream",
     "text": [
      "[CV] END classifier__logreg__class_weight=balanced, classifier__logreg__max_iter=9000, classifier__logreg__multi_class=multinomial, classifier__svc__C=10, classifier__svc__dual=False, classifier__svc__max_iter=500, classifier__svc__penalty=l2, classifier__vc__C=10, classifier__vc__class_weight=balanced, classifier__vc__kernel=linear; total time= 2.3min\n",
      "[CV] END classifier__logreg__class_weight=balanced, classifier__logreg__max_iter=9000, classifier__logreg__multi_class=multinomial, classifier__svc__C=10, classifier__svc__dual=False, classifier__svc__max_iter=500, classifier__svc__penalty=l2, classifier__vc__C=10, classifier__vc__class_weight=balanced, classifier__vc__kernel=linear; total time= 2.3min\n"
     ]
    },
    {
     "name": "stderr",
     "output_type": "stream",
     "text": [
      "/Users/anushkrishnav/.local/share/virtualenvs/newsgroup-u5VajpjS/lib/python3.11/site-packages/sklearn/svm/_base.py:1250: ConvergenceWarning: Liblinear failed to converge, increase the number of iterations.\n",
      "  warnings.warn(\n"
     ]
    },
    {
     "name": "stdout",
     "output_type": "stream",
     "text": [
      "[CV] END classifier__logreg__class_weight=balanced, classifier__logreg__max_iter=9000, classifier__logreg__multi_class=multinomial, classifier__svc__C=10, classifier__svc__dual=False, classifier__svc__max_iter=1000, classifier__svc__penalty=l1, classifier__vc__C=0.1, classifier__vc__class_weight=balanced, classifier__vc__kernel=linear; total time= 2.2min\n"
     ]
    },
    {
     "name": "stderr",
     "output_type": "stream",
     "text": [
      "/Users/anushkrishnav/.local/share/virtualenvs/newsgroup-u5VajpjS/lib/python3.11/site-packages/sklearn/svm/_base.py:1250: ConvergenceWarning: Liblinear failed to converge, increase the number of iterations.\n",
      "  warnings.warn(\n"
     ]
    },
    {
     "name": "stdout",
     "output_type": "stream",
     "text": [
      "[CV] END classifier__logreg__class_weight=balanced, classifier__logreg__max_iter=9000, classifier__logreg__multi_class=multinomial, classifier__svc__C=10, classifier__svc__dual=False, classifier__svc__max_iter=1000, classifier__svc__penalty=l1, classifier__vc__C=0.1, classifier__vc__class_weight=balanced, classifier__vc__kernel=linear; total time= 2.2min\n",
      "[CV] END classifier__logreg__class_weight=balanced, classifier__logreg__max_iter=9000, classifier__logreg__multi_class=multinomial, classifier__svc__C=10, classifier__svc__dual=False, classifier__svc__max_iter=1000, classifier__svc__penalty=l1, classifier__vc__C=0.1, classifier__vc__class_weight=balanced, classifier__vc__kernel=linear; total time= 2.2min\n",
      "[CV] END classifier__logreg__class_weight=balanced, classifier__logreg__max_iter=9000, classifier__logreg__multi_class=multinomial, classifier__svc__C=10, classifier__svc__dual=False, classifier__svc__max_iter=1000, classifier__svc__penalty=l1, classifier__vc__C=0.1, classifier__vc__class_weight=balanced, classifier__vc__kernel=linear; total time= 2.2min\n"
     ]
    },
    {
     "name": "stderr",
     "output_type": "stream",
     "text": [
      "/Users/anushkrishnav/.local/share/virtualenvs/newsgroup-u5VajpjS/lib/python3.11/site-packages/sklearn/svm/_base.py:1250: ConvergenceWarning: Liblinear failed to converge, increase the number of iterations.\n",
      "  warnings.warn(\n"
     ]
    },
    {
     "name": "stdout",
     "output_type": "stream",
     "text": [
      "[CV] END classifier__logreg__class_weight=balanced, classifier__logreg__max_iter=9000, classifier__logreg__multi_class=multinomial, classifier__svc__C=10, classifier__svc__dual=False, classifier__svc__max_iter=1000, classifier__svc__penalty=l1, classifier__vc__C=0.1, classifier__vc__class_weight=balanced, classifier__vc__kernel=linear; total time= 2.2min\n",
      "[CV] END classifier__logreg__class_weight=balanced, classifier__logreg__max_iter=9000, classifier__logreg__multi_class=multinomial, classifier__svc__C=10, classifier__svc__dual=False, classifier__svc__max_iter=1000, classifier__svc__penalty=l1, classifier__vc__C=1, classifier__vc__class_weight=balanced, classifier__vc__kernel=linear; total time= 2.4min\n"
     ]
    },
    {
     "name": "stderr",
     "output_type": "stream",
     "text": [
      "/Users/anushkrishnav/.local/share/virtualenvs/newsgroup-u5VajpjS/lib/python3.11/site-packages/sklearn/svm/_base.py:1250: ConvergenceWarning: Liblinear failed to converge, increase the number of iterations.\n",
      "  warnings.warn(\n",
      "/Users/anushkrishnav/.local/share/virtualenvs/newsgroup-u5VajpjS/lib/python3.11/site-packages/sklearn/svm/_base.py:1250: ConvergenceWarning: Liblinear failed to converge, increase the number of iterations.\n",
      "  warnings.warn(\n",
      "/Users/anushkrishnav/.local/share/virtualenvs/newsgroup-u5VajpjS/lib/python3.11/site-packages/sklearn/svm/_base.py:1250: ConvergenceWarning: Liblinear failed to converge, increase the number of iterations.\n",
      "  warnings.warn(\n",
      "/Users/anushkrishnav/.local/share/virtualenvs/newsgroup-u5VajpjS/lib/python3.11/site-packages/sklearn/svm/_base.py:1250: ConvergenceWarning: Liblinear failed to converge, increase the number of iterations.\n",
      "  warnings.warn(\n",
      "/Users/anushkrishnav/.local/share/virtualenvs/newsgroup-u5VajpjS/lib/python3.11/site-packages/sklearn/svm/_base.py:1250: ConvergenceWarning: Liblinear failed to converge, increase the number of iterations.\n",
      "  warnings.warn(\n"
     ]
    },
    {
     "name": "stdout",
     "output_type": "stream",
     "text": [
      "[CV] END classifier__logreg__class_weight=balanced, classifier__logreg__max_iter=9000, classifier__logreg__multi_class=multinomial, classifier__svc__C=10, classifier__svc__dual=False, classifier__svc__max_iter=1000, classifier__svc__penalty=l1, classifier__vc__C=1, classifier__vc__class_weight=balanced, classifier__vc__kernel=linear; total time= 2.3min\n",
      "[CV] END classifier__logreg__class_weight=balanced, classifier__logreg__max_iter=9000, classifier__logreg__multi_class=multinomial, classifier__svc__C=10, classifier__svc__dual=False, classifier__svc__max_iter=1000, classifier__svc__penalty=l1, classifier__vc__C=1, classifier__vc__class_weight=balanced, classifier__vc__kernel=linear; total time= 2.2min\n"
     ]
    },
    {
     "name": "stderr",
     "output_type": "stream",
     "text": [
      "/Users/anushkrishnav/.local/share/virtualenvs/newsgroup-u5VajpjS/lib/python3.11/site-packages/sklearn/svm/_base.py:1250: ConvergenceWarning: Liblinear failed to converge, increase the number of iterations.\n",
      "  warnings.warn(\n"
     ]
    },
    {
     "name": "stdout",
     "output_type": "stream",
     "text": [
      "[CV] END classifier__logreg__class_weight=balanced, classifier__logreg__max_iter=9000, classifier__logreg__multi_class=multinomial, classifier__svc__C=10, classifier__svc__dual=False, classifier__svc__max_iter=1000, classifier__svc__penalty=l1, classifier__vc__C=1, classifier__vc__class_weight=balanced, classifier__vc__kernel=linear; total time= 2.2min\n",
      "[CV] END classifier__logreg__class_weight=balanced, classifier__logreg__max_iter=9000, classifier__logreg__multi_class=multinomial, classifier__svc__C=10, classifier__svc__dual=False, classifier__svc__max_iter=1000, classifier__svc__penalty=l1, classifier__vc__C=1, classifier__vc__class_weight=balanced, classifier__vc__kernel=linear; total time= 2.2min\n",
      "[CV] END classifier__logreg__class_weight=balanced, classifier__logreg__max_iter=9000, classifier__logreg__multi_class=multinomial, classifier__svc__C=10, classifier__svc__dual=False, classifier__svc__max_iter=1000, classifier__svc__penalty=l1, classifier__vc__C=10, classifier__vc__class_weight=balanced, classifier__vc__kernel=linear; total time= 2.2min\n",
      "[CV] END classifier__logreg__class_weight=balanced, classifier__logreg__max_iter=9000, classifier__logreg__multi_class=multinomial, classifier__svc__C=10, classifier__svc__dual=False, classifier__svc__max_iter=1000, classifier__svc__penalty=l1, classifier__vc__C=10, classifier__vc__class_weight=balanced, classifier__vc__kernel=linear; total time= 2.2min\n",
      "[CV] END classifier__logreg__class_weight=balanced, classifier__logreg__max_iter=9000, classifier__logreg__multi_class=multinomial, classifier__svc__C=10, classifier__svc__dual=False, classifier__svc__max_iter=1000, classifier__svc__penalty=l1, classifier__vc__C=10, classifier__vc__class_weight=balanced, classifier__vc__kernel=linear; total time= 2.2min\n",
      "[CV] END classifier__logreg__class_weight=balanced, classifier__logreg__max_iter=9000, classifier__logreg__multi_class=multinomial, classifier__svc__C=10, classifier__svc__dual=False, classifier__svc__max_iter=1000, classifier__svc__penalty=l1, classifier__vc__C=10, classifier__vc__class_weight=balanced, classifier__vc__kernel=linear; total time= 2.2min\n",
      "[CV] END classifier__logreg__class_weight=balanced, classifier__logreg__max_iter=9000, classifier__logreg__multi_class=multinomial, classifier__svc__C=10, classifier__svc__dual=False, classifier__svc__max_iter=1000, classifier__svc__penalty=l1, classifier__vc__C=10, classifier__vc__class_weight=balanced, classifier__vc__kernel=linear; total time= 2.2min\n",
      "[CV] END classifier__logreg__class_weight=balanced, classifier__logreg__max_iter=9000, classifier__logreg__multi_class=multinomial, classifier__svc__C=10, classifier__svc__dual=False, classifier__svc__max_iter=1000, classifier__svc__penalty=l2, classifier__vc__C=0.1, classifier__vc__class_weight=balanced, classifier__vc__kernel=linear; total time= 2.0min\n",
      "[CV] END classifier__logreg__class_weight=balanced, classifier__logreg__max_iter=9000, classifier__logreg__multi_class=multinomial, classifier__svc__C=10, classifier__svc__dual=False, classifier__svc__max_iter=1000, classifier__svc__penalty=l2, classifier__vc__C=0.1, classifier__vc__class_weight=balanced, classifier__vc__kernel=linear; total time= 2.1min\n",
      "[CV] END classifier__logreg__class_weight=balanced, classifier__logreg__max_iter=9000, classifier__logreg__multi_class=multinomial, classifier__svc__C=10, classifier__svc__dual=False, classifier__svc__max_iter=1000, classifier__svc__penalty=l2, classifier__vc__C=0.1, classifier__vc__class_weight=balanced, classifier__vc__kernel=linear; total time= 2.1min\n",
      "[CV] END classifier__logreg__class_weight=balanced, classifier__logreg__max_iter=9000, classifier__logreg__multi_class=multinomial, classifier__svc__C=10, classifier__svc__dual=False, classifier__svc__max_iter=1000, classifier__svc__penalty=l2, classifier__vc__C=0.1, classifier__vc__class_weight=balanced, classifier__vc__kernel=linear; total time= 2.1min\n",
      "[CV] END classifier__logreg__class_weight=balanced, classifier__logreg__max_iter=9000, classifier__logreg__multi_class=multinomial, classifier__svc__C=10, classifier__svc__dual=False, classifier__svc__max_iter=1000, classifier__svc__penalty=l2, classifier__vc__C=0.1, classifier__vc__class_weight=balanced, classifier__vc__kernel=linear; total time= 2.1min\n",
      "[CV] END classifier__logreg__class_weight=balanced, classifier__logreg__max_iter=9000, classifier__logreg__multi_class=multinomial, classifier__svc__C=10, classifier__svc__dual=False, classifier__svc__max_iter=1000, classifier__svc__penalty=l2, classifier__vc__C=1, classifier__vc__class_weight=balanced, classifier__vc__kernel=linear; total time= 2.3min\n",
      "[CV] END classifier__logreg__class_weight=balanced, classifier__logreg__max_iter=9000, classifier__logreg__multi_class=multinomial, classifier__svc__C=10, classifier__svc__dual=False, classifier__svc__max_iter=1000, classifier__svc__penalty=l2, classifier__vc__C=1, classifier__vc__class_weight=balanced, classifier__vc__kernel=linear; total time= 2.3min\n",
      "[CV] END classifier__logreg__class_weight=balanced, classifier__logreg__max_iter=9000, classifier__logreg__multi_class=multinomial, classifier__svc__C=10, classifier__svc__dual=False, classifier__svc__max_iter=1000, classifier__svc__penalty=l2, classifier__vc__C=1, classifier__vc__class_weight=balanced, classifier__vc__kernel=linear; total time= 2.4min\n",
      "[CV] END classifier__logreg__class_weight=balanced, classifier__logreg__max_iter=9000, classifier__logreg__multi_class=multinomial, classifier__svc__C=10, classifier__svc__dual=False, classifier__svc__max_iter=1000, classifier__svc__penalty=l2, classifier__vc__C=1, classifier__vc__class_weight=balanced, classifier__vc__kernel=linear; total time= 2.4min\n",
      "[CV] END classifier__logreg__class_weight=balanced, classifier__logreg__max_iter=9000, classifier__logreg__multi_class=multinomial, classifier__svc__C=10, classifier__svc__dual=False, classifier__svc__max_iter=1000, classifier__svc__penalty=l2, classifier__vc__C=1, classifier__vc__class_weight=balanced, classifier__vc__kernel=linear; total time= 2.4min\n",
      "[CV] END classifier__logreg__class_weight=balanced, classifier__logreg__max_iter=9000, classifier__logreg__multi_class=multinomial, classifier__svc__C=10, classifier__svc__dual=False, classifier__svc__max_iter=1000, classifier__svc__penalty=l2, classifier__vc__C=10, classifier__vc__class_weight=balanced, classifier__vc__kernel=linear; total time= 2.4min\n",
      "[CV] END classifier__logreg__class_weight=balanced, classifier__logreg__max_iter=9000, classifier__logreg__multi_class=multinomial, classifier__svc__C=10, classifier__svc__dual=False, classifier__svc__max_iter=1000, classifier__svc__penalty=l2, classifier__vc__C=10, classifier__vc__class_weight=balanced, classifier__vc__kernel=linear; total time= 2.4min\n",
      "[CV] END classifier__logreg__class_weight=balanced, classifier__logreg__max_iter=9000, classifier__logreg__multi_class=multinomial, classifier__svc__C=10, classifier__svc__dual=False, classifier__svc__max_iter=1000, classifier__svc__penalty=l2, classifier__vc__C=10, classifier__vc__class_weight=balanced, classifier__vc__kernel=linear; total time= 2.4min\n",
      "[CV] END classifier__logreg__class_weight=balanced, classifier__logreg__max_iter=9000, classifier__logreg__multi_class=multinomial, classifier__svc__C=10, classifier__svc__dual=False, classifier__svc__max_iter=1000, classifier__svc__penalty=l2, classifier__vc__C=10, classifier__vc__class_weight=balanced, classifier__vc__kernel=linear; total time= 2.3min\n",
      "[CV] END classifier__logreg__class_weight=balanced, classifier__logreg__max_iter=9000, classifier__logreg__multi_class=multinomial, classifier__svc__C=10, classifier__svc__dual=False, classifier__svc__max_iter=1000, classifier__svc__penalty=l2, classifier__vc__C=10, classifier__vc__class_weight=balanced, classifier__vc__kernel=linear; total time= 2.3min\n",
      "[CV] END classifier__logreg__class_weight=balanced, classifier__logreg__max_iter=10000, classifier__logreg__multi_class=multinomial, classifier__svc__C=0.1, classifier__svc__dual=False, classifier__svc__max_iter=500, classifier__svc__penalty=l1, classifier__vc__C=0.1, classifier__vc__class_weight=balanced, classifier__vc__kernel=linear; total time= 1.8min\n",
      "[CV] END classifier__logreg__class_weight=balanced, classifier__logreg__max_iter=10000, classifier__logreg__multi_class=multinomial, classifier__svc__C=0.1, classifier__svc__dual=False, classifier__svc__max_iter=500, classifier__svc__penalty=l1, classifier__vc__C=0.1, classifier__vc__class_weight=balanced, classifier__vc__kernel=linear; total time= 1.8min\n",
      "[CV] END classifier__logreg__class_weight=balanced, classifier__logreg__max_iter=10000, classifier__logreg__multi_class=multinomial, classifier__svc__C=0.1, classifier__svc__dual=False, classifier__svc__max_iter=500, classifier__svc__penalty=l1, classifier__vc__C=0.1, classifier__vc__class_weight=balanced, classifier__vc__kernel=linear; total time= 1.8min\n",
      "[CV] END classifier__logreg__class_weight=balanced, classifier__logreg__max_iter=10000, classifier__logreg__multi_class=multinomial, classifier__svc__C=0.1, classifier__svc__dual=False, classifier__svc__max_iter=500, classifier__svc__penalty=l1, classifier__vc__C=0.1, classifier__vc__class_weight=balanced, classifier__vc__kernel=linear; total time= 1.7min\n",
      "[CV] END classifier__logreg__class_weight=balanced, classifier__logreg__max_iter=10000, classifier__logreg__multi_class=multinomial, classifier__svc__C=0.1, classifier__svc__dual=False, classifier__svc__max_iter=500, classifier__svc__penalty=l1, classifier__vc__C=0.1, classifier__vc__class_weight=balanced, classifier__vc__kernel=linear; total time= 1.7min\n",
      "[CV] END classifier__logreg__class_weight=balanced, classifier__logreg__max_iter=10000, classifier__logreg__multi_class=multinomial, classifier__svc__C=0.1, classifier__svc__dual=False, classifier__svc__max_iter=500, classifier__svc__penalty=l1, classifier__vc__C=1, classifier__vc__class_weight=balanced, classifier__vc__kernel=linear; total time= 1.9min\n",
      "[CV] END classifier__logreg__class_weight=balanced, classifier__logreg__max_iter=10000, classifier__logreg__multi_class=multinomial, classifier__svc__C=0.1, classifier__svc__dual=False, classifier__svc__max_iter=500, classifier__svc__penalty=l1, classifier__vc__C=1, classifier__vc__class_weight=balanced, classifier__vc__kernel=linear; total time= 1.9min\n",
      "[CV] END classifier__logreg__class_weight=balanced, classifier__logreg__max_iter=10000, classifier__logreg__multi_class=multinomial, classifier__svc__C=0.1, classifier__svc__dual=False, classifier__svc__max_iter=500, classifier__svc__penalty=l1, classifier__vc__C=1, classifier__vc__class_weight=balanced, classifier__vc__kernel=linear; total time= 1.9min\n",
      "[CV] END classifier__logreg__class_weight=balanced, classifier__logreg__max_iter=10000, classifier__logreg__multi_class=multinomial, classifier__svc__C=0.1, classifier__svc__dual=False, classifier__svc__max_iter=500, classifier__svc__penalty=l1, classifier__vc__C=1, classifier__vc__class_weight=balanced, classifier__vc__kernel=linear; total time= 1.9min\n",
      "[CV] END classifier__logreg__class_weight=balanced, classifier__logreg__max_iter=10000, classifier__logreg__multi_class=multinomial, classifier__svc__C=0.1, classifier__svc__dual=False, classifier__svc__max_iter=500, classifier__svc__penalty=l1, classifier__vc__C=1, classifier__vc__class_weight=balanced, classifier__vc__kernel=linear; total time= 1.9min\n",
      "[CV] END classifier__logreg__class_weight=balanced, classifier__logreg__max_iter=10000, classifier__logreg__multi_class=multinomial, classifier__svc__C=0.1, classifier__svc__dual=False, classifier__svc__max_iter=500, classifier__svc__penalty=l1, classifier__vc__C=10, classifier__vc__class_weight=balanced, classifier__vc__kernel=linear; total time= 1.9min\n",
      "[CV] END classifier__logreg__class_weight=balanced, classifier__logreg__max_iter=10000, classifier__logreg__multi_class=multinomial, classifier__svc__C=0.1, classifier__svc__dual=False, classifier__svc__max_iter=500, classifier__svc__penalty=l1, classifier__vc__C=10, classifier__vc__class_weight=balanced, classifier__vc__kernel=linear; total time= 1.9min\n",
      "[CV] END classifier__logreg__class_weight=balanced, classifier__logreg__max_iter=10000, classifier__logreg__multi_class=multinomial, classifier__svc__C=0.1, classifier__svc__dual=False, classifier__svc__max_iter=500, classifier__svc__penalty=l1, classifier__vc__C=10, classifier__vc__class_weight=balanced, classifier__vc__kernel=linear; total time= 1.9min\n",
      "[CV] END classifier__logreg__class_weight=balanced, classifier__logreg__max_iter=10000, classifier__logreg__multi_class=multinomial, classifier__svc__C=0.1, classifier__svc__dual=False, classifier__svc__max_iter=500, classifier__svc__penalty=l1, classifier__vc__C=10, classifier__vc__class_weight=balanced, classifier__vc__kernel=linear; total time= 1.9min\n",
      "[CV] END classifier__logreg__class_weight=balanced, classifier__logreg__max_iter=10000, classifier__logreg__multi_class=multinomial, classifier__svc__C=0.1, classifier__svc__dual=False, classifier__svc__max_iter=500, classifier__svc__penalty=l1, classifier__vc__C=10, classifier__vc__class_weight=balanced, classifier__vc__kernel=linear; total time= 1.9min\n",
      "[CV] END classifier__logreg__class_weight=balanced, classifier__logreg__max_iter=10000, classifier__logreg__multi_class=multinomial, classifier__svc__C=0.1, classifier__svc__dual=False, classifier__svc__max_iter=500, classifier__svc__penalty=l2, classifier__vc__C=0.1, classifier__vc__class_weight=balanced, classifier__vc__kernel=linear; total time= 1.8min\n",
      "[CV] END classifier__logreg__class_weight=balanced, classifier__logreg__max_iter=10000, classifier__logreg__multi_class=multinomial, classifier__svc__C=0.1, classifier__svc__dual=False, classifier__svc__max_iter=500, classifier__svc__penalty=l2, classifier__vc__C=0.1, classifier__vc__class_weight=balanced, classifier__vc__kernel=linear; total time= 1.8min\n",
      "[CV] END classifier__logreg__class_weight=balanced, classifier__logreg__max_iter=10000, classifier__logreg__multi_class=multinomial, classifier__svc__C=0.1, classifier__svc__dual=False, classifier__svc__max_iter=500, classifier__svc__penalty=l2, classifier__vc__C=0.1, classifier__vc__class_weight=balanced, classifier__vc__kernel=linear; total time= 1.8min\n",
      "[CV] END classifier__logreg__class_weight=balanced, classifier__logreg__max_iter=10000, classifier__logreg__multi_class=multinomial, classifier__svc__C=0.1, classifier__svc__dual=False, classifier__svc__max_iter=500, classifier__svc__penalty=l2, classifier__vc__C=0.1, classifier__vc__class_weight=balanced, classifier__vc__kernel=linear; total time= 1.8min\n",
      "[CV] END classifier__logreg__class_weight=balanced, classifier__logreg__max_iter=10000, classifier__logreg__multi_class=multinomial, classifier__svc__C=0.1, classifier__svc__dual=False, classifier__svc__max_iter=500, classifier__svc__penalty=l2, classifier__vc__C=0.1, classifier__vc__class_weight=balanced, classifier__vc__kernel=linear; total time= 1.8min\n",
      "[CV] END classifier__logreg__class_weight=balanced, classifier__logreg__max_iter=10000, classifier__logreg__multi_class=multinomial, classifier__svc__C=0.1, classifier__svc__dual=False, classifier__svc__max_iter=500, classifier__svc__penalty=l2, classifier__vc__C=1, classifier__vc__class_weight=balanced, classifier__vc__kernel=linear; total time= 2.0min\n",
      "[CV] END classifier__logreg__class_weight=balanced, classifier__logreg__max_iter=10000, classifier__logreg__multi_class=multinomial, classifier__svc__C=0.1, classifier__svc__dual=False, classifier__svc__max_iter=500, classifier__svc__penalty=l2, classifier__vc__C=1, classifier__vc__class_weight=balanced, classifier__vc__kernel=linear; total time= 2.0min\n",
      "[CV] END classifier__logreg__class_weight=balanced, classifier__logreg__max_iter=10000, classifier__logreg__multi_class=multinomial, classifier__svc__C=0.1, classifier__svc__dual=False, classifier__svc__max_iter=500, classifier__svc__penalty=l2, classifier__vc__C=1, classifier__vc__class_weight=balanced, classifier__vc__kernel=linear; total time= 2.0min\n",
      "[CV] END classifier__logreg__class_weight=balanced, classifier__logreg__max_iter=10000, classifier__logreg__multi_class=multinomial, classifier__svc__C=0.1, classifier__svc__dual=False, classifier__svc__max_iter=500, classifier__svc__penalty=l2, classifier__vc__C=1, classifier__vc__class_weight=balanced, classifier__vc__kernel=linear; total time= 2.0min\n",
      "[CV] END classifier__logreg__class_weight=balanced, classifier__logreg__max_iter=10000, classifier__logreg__multi_class=multinomial, classifier__svc__C=0.1, classifier__svc__dual=False, classifier__svc__max_iter=500, classifier__svc__penalty=l2, classifier__vc__C=1, classifier__vc__class_weight=balanced, classifier__vc__kernel=linear; total time= 1.9min\n",
      "[CV] END classifier__logreg__class_weight=balanced, classifier__logreg__max_iter=10000, classifier__logreg__multi_class=multinomial, classifier__svc__C=0.1, classifier__svc__dual=False, classifier__svc__max_iter=500, classifier__svc__penalty=l2, classifier__vc__C=10, classifier__vc__class_weight=balanced, classifier__vc__kernel=linear; total time= 1.9min\n",
      "[CV] END classifier__logreg__class_weight=balanced, classifier__logreg__max_iter=10000, classifier__logreg__multi_class=multinomial, classifier__svc__C=0.1, classifier__svc__dual=False, classifier__svc__max_iter=500, classifier__svc__penalty=l2, classifier__vc__C=10, classifier__vc__class_weight=balanced, classifier__vc__kernel=linear; total time= 2.0min\n",
      "[CV] END classifier__logreg__class_weight=balanced, classifier__logreg__max_iter=10000, classifier__logreg__multi_class=multinomial, classifier__svc__C=0.1, classifier__svc__dual=False, classifier__svc__max_iter=500, classifier__svc__penalty=l2, classifier__vc__C=10, classifier__vc__class_weight=balanced, classifier__vc__kernel=linear; total time= 1.9min\n",
      "[CV] END classifier__logreg__class_weight=balanced, classifier__logreg__max_iter=10000, classifier__logreg__multi_class=multinomial, classifier__svc__C=0.1, classifier__svc__dual=False, classifier__svc__max_iter=500, classifier__svc__penalty=l2, classifier__vc__C=10, classifier__vc__class_weight=balanced, classifier__vc__kernel=linear; total time= 1.9min\n",
      "[CV] END classifier__logreg__class_weight=balanced, classifier__logreg__max_iter=10000, classifier__logreg__multi_class=multinomial, classifier__svc__C=0.1, classifier__svc__dual=False, classifier__svc__max_iter=500, classifier__svc__penalty=l2, classifier__vc__C=10, classifier__vc__class_weight=balanced, classifier__vc__kernel=linear; total time= 1.9min\n",
      "[CV] END classifier__logreg__class_weight=balanced, classifier__logreg__max_iter=10000, classifier__logreg__multi_class=multinomial, classifier__svc__C=0.1, classifier__svc__dual=False, classifier__svc__max_iter=1000, classifier__svc__penalty=l1, classifier__vc__C=0.1, classifier__vc__class_weight=balanced, classifier__vc__kernel=linear; total time= 1.7min\n",
      "[CV] END classifier__logreg__class_weight=balanced, classifier__logreg__max_iter=10000, classifier__logreg__multi_class=multinomial, classifier__svc__C=0.1, classifier__svc__dual=False, classifier__svc__max_iter=1000, classifier__svc__penalty=l1, classifier__vc__C=0.1, classifier__vc__class_weight=balanced, classifier__vc__kernel=linear; total time= 1.8min\n",
      "[CV] END classifier__logreg__class_weight=balanced, classifier__logreg__max_iter=10000, classifier__logreg__multi_class=multinomial, classifier__svc__C=0.1, classifier__svc__dual=False, classifier__svc__max_iter=1000, classifier__svc__penalty=l1, classifier__vc__C=0.1, classifier__vc__class_weight=balanced, classifier__vc__kernel=linear; total time= 1.7min\n",
      "[CV] END classifier__logreg__class_weight=balanced, classifier__logreg__max_iter=10000, classifier__logreg__multi_class=multinomial, classifier__svc__C=0.1, classifier__svc__dual=False, classifier__svc__max_iter=1000, classifier__svc__penalty=l1, classifier__vc__C=0.1, classifier__vc__class_weight=balanced, classifier__vc__kernel=linear; total time= 1.7min\n",
      "[CV] END classifier__logreg__class_weight=balanced, classifier__logreg__max_iter=10000, classifier__logreg__multi_class=multinomial, classifier__svc__C=0.1, classifier__svc__dual=False, classifier__svc__max_iter=1000, classifier__svc__penalty=l1, classifier__vc__C=0.1, classifier__vc__class_weight=balanced, classifier__vc__kernel=linear; total time= 1.7min\n",
      "[CV] END classifier__logreg__class_weight=balanced, classifier__logreg__max_iter=10000, classifier__logreg__multi_class=multinomial, classifier__svc__C=0.1, classifier__svc__dual=False, classifier__svc__max_iter=1000, classifier__svc__penalty=l1, classifier__vc__C=1, classifier__vc__class_weight=balanced, classifier__vc__kernel=linear; total time= 1.9min\n",
      "[CV] END classifier__logreg__class_weight=balanced, classifier__logreg__max_iter=10000, classifier__logreg__multi_class=multinomial, classifier__svc__C=0.1, classifier__svc__dual=False, classifier__svc__max_iter=1000, classifier__svc__penalty=l1, classifier__vc__C=1, classifier__vc__class_weight=balanced, classifier__vc__kernel=linear; total time= 1.9min\n",
      "[CV] END classifier__logreg__class_weight=balanced, classifier__logreg__max_iter=10000, classifier__logreg__multi_class=multinomial, classifier__svc__C=0.1, classifier__svc__dual=False, classifier__svc__max_iter=1000, classifier__svc__penalty=l1, classifier__vc__C=1, classifier__vc__class_weight=balanced, classifier__vc__kernel=linear; total time= 1.9min\n",
      "[CV] END classifier__logreg__class_weight=balanced, classifier__logreg__max_iter=10000, classifier__logreg__multi_class=multinomial, classifier__svc__C=0.1, classifier__svc__dual=False, classifier__svc__max_iter=1000, classifier__svc__penalty=l1, classifier__vc__C=1, classifier__vc__class_weight=balanced, classifier__vc__kernel=linear; total time= 1.9min\n",
      "[CV] END classifier__logreg__class_weight=balanced, classifier__logreg__max_iter=10000, classifier__logreg__multi_class=multinomial, classifier__svc__C=0.1, classifier__svc__dual=False, classifier__svc__max_iter=1000, classifier__svc__penalty=l1, classifier__vc__C=1, classifier__vc__class_weight=balanced, classifier__vc__kernel=linear; total time= 1.9min\n",
      "[CV] END classifier__logreg__class_weight=balanced, classifier__logreg__max_iter=10000, classifier__logreg__multi_class=multinomial, classifier__svc__C=0.1, classifier__svc__dual=False, classifier__svc__max_iter=1000, classifier__svc__penalty=l1, classifier__vc__C=10, classifier__vc__class_weight=balanced, classifier__vc__kernel=linear; total time= 2.0min\n",
      "[CV] END classifier__logreg__class_weight=balanced, classifier__logreg__max_iter=10000, classifier__logreg__multi_class=multinomial, classifier__svc__C=0.1, classifier__svc__dual=False, classifier__svc__max_iter=1000, classifier__svc__penalty=l1, classifier__vc__C=10, classifier__vc__class_weight=balanced, classifier__vc__kernel=linear; total time= 2.0min\n",
      "[CV] END classifier__logreg__class_weight=balanced, classifier__logreg__max_iter=10000, classifier__logreg__multi_class=multinomial, classifier__svc__C=0.1, classifier__svc__dual=False, classifier__svc__max_iter=1000, classifier__svc__penalty=l1, classifier__vc__C=10, classifier__vc__class_weight=balanced, classifier__vc__kernel=linear; total time= 2.0min\n",
      "[CV] END classifier__logreg__class_weight=balanced, classifier__logreg__max_iter=10000, classifier__logreg__multi_class=multinomial, classifier__svc__C=0.1, classifier__svc__dual=False, classifier__svc__max_iter=1000, classifier__svc__penalty=l1, classifier__vc__C=10, classifier__vc__class_weight=balanced, classifier__vc__kernel=linear; total time= 2.1min\n",
      "[CV] END classifier__logreg__class_weight=balanced, classifier__logreg__max_iter=10000, classifier__logreg__multi_class=multinomial, classifier__svc__C=0.1, classifier__svc__dual=False, classifier__svc__max_iter=1000, classifier__svc__penalty=l1, classifier__vc__C=10, classifier__vc__class_weight=balanced, classifier__vc__kernel=linear; total time= 2.2min\n",
      "[CV] END classifier__logreg__class_weight=balanced, classifier__logreg__max_iter=10000, classifier__logreg__multi_class=multinomial, classifier__svc__C=0.1, classifier__svc__dual=False, classifier__svc__max_iter=1000, classifier__svc__penalty=l2, classifier__vc__C=0.1, classifier__vc__class_weight=balanced, classifier__vc__kernel=linear; total time= 2.1min\n",
      "[CV] END classifier__logreg__class_weight=balanced, classifier__logreg__max_iter=10000, classifier__logreg__multi_class=multinomial, classifier__svc__C=0.1, classifier__svc__dual=False, classifier__svc__max_iter=1000, classifier__svc__penalty=l2, classifier__vc__C=0.1, classifier__vc__class_weight=balanced, classifier__vc__kernel=linear; total time= 2.1min\n",
      "[CV] END classifier__logreg__class_weight=balanced, classifier__logreg__max_iter=10000, classifier__logreg__multi_class=multinomial, classifier__svc__C=0.1, classifier__svc__dual=False, classifier__svc__max_iter=1000, classifier__svc__penalty=l2, classifier__vc__C=0.1, classifier__vc__class_weight=balanced, classifier__vc__kernel=linear; total time= 2.2min\n",
      "[CV] END classifier__logreg__class_weight=balanced, classifier__logreg__max_iter=10000, classifier__logreg__multi_class=multinomial, classifier__svc__C=0.1, classifier__svc__dual=False, classifier__svc__max_iter=1000, classifier__svc__penalty=l2, classifier__vc__C=0.1, classifier__vc__class_weight=balanced, classifier__vc__kernel=linear; total time= 2.5min\n",
      "[CV] END classifier__logreg__class_weight=balanced, classifier__logreg__max_iter=10000, classifier__logreg__multi_class=multinomial, classifier__svc__C=0.1, classifier__svc__dual=False, classifier__svc__max_iter=1000, classifier__svc__penalty=l2, classifier__vc__C=0.1, classifier__vc__class_weight=balanced, classifier__vc__kernel=linear; total time= 2.5min\n",
      "[CV] END classifier__logreg__class_weight=balanced, classifier__logreg__max_iter=10000, classifier__logreg__multi_class=multinomial, classifier__svc__C=0.1, classifier__svc__dual=False, classifier__svc__max_iter=1000, classifier__svc__penalty=l2, classifier__vc__C=1, classifier__vc__class_weight=balanced, classifier__vc__kernel=linear; total time= 2.7min\n",
      "[CV] END classifier__logreg__class_weight=balanced, classifier__logreg__max_iter=10000, classifier__logreg__multi_class=multinomial, classifier__svc__C=0.1, classifier__svc__dual=False, classifier__svc__max_iter=1000, classifier__svc__penalty=l2, classifier__vc__C=1, classifier__vc__class_weight=balanced, classifier__vc__kernel=linear; total time= 2.7min\n",
      "[CV] END classifier__logreg__class_weight=balanced, classifier__logreg__max_iter=10000, classifier__logreg__multi_class=multinomial, classifier__svc__C=0.1, classifier__svc__dual=False, classifier__svc__max_iter=1000, classifier__svc__penalty=l2, classifier__vc__C=1, classifier__vc__class_weight=balanced, classifier__vc__kernel=linear; total time= 2.7min\n",
      "[CV] END classifier__logreg__class_weight=balanced, classifier__logreg__max_iter=10000, classifier__logreg__multi_class=multinomial, classifier__svc__C=0.1, classifier__svc__dual=False, classifier__svc__max_iter=1000, classifier__svc__penalty=l2, classifier__vc__C=1, classifier__vc__class_weight=balanced, classifier__vc__kernel=linear; total time= 2.7min\n",
      "[CV] END classifier__logreg__class_weight=balanced, classifier__logreg__max_iter=10000, classifier__logreg__multi_class=multinomial, classifier__svc__C=0.1, classifier__svc__dual=False, classifier__svc__max_iter=1000, classifier__svc__penalty=l2, classifier__vc__C=1, classifier__vc__class_weight=balanced, classifier__vc__kernel=linear; total time= 2.7min\n",
      "[CV] END classifier__logreg__class_weight=balanced, classifier__logreg__max_iter=10000, classifier__logreg__multi_class=multinomial, classifier__svc__C=0.1, classifier__svc__dual=False, classifier__svc__max_iter=1000, classifier__svc__penalty=l2, classifier__vc__C=10, classifier__vc__class_weight=balanced, classifier__vc__kernel=linear; total time= 2.7min\n"
     ]
    },
    {
     "name": "stderr",
     "output_type": "stream",
     "text": [
      "/Users/anushkrishnav/.local/share/virtualenvs/newsgroup-u5VajpjS/lib/python3.11/site-packages/sklearn/svm/_base.py:1250: ConvergenceWarning: Liblinear failed to converge, increase the number of iterations.\n",
      "  warnings.warn(\n",
      "/Users/anushkrishnav/.local/share/virtualenvs/newsgroup-u5VajpjS/lib/python3.11/site-packages/sklearn/svm/_base.py:1250: ConvergenceWarning: Liblinear failed to converge, increase the number of iterations.\n",
      "  warnings.warn(\n",
      "/Users/anushkrishnav/.local/share/virtualenvs/newsgroup-u5VajpjS/lib/python3.11/site-packages/sklearn/svm/_base.py:1250: ConvergenceWarning: Liblinear failed to converge, increase the number of iterations.\n",
      "  warnings.warn(\n",
      "/Users/anushkrishnav/.local/share/virtualenvs/newsgroup-u5VajpjS/lib/python3.11/site-packages/sklearn/svm/_base.py:1250: ConvergenceWarning: Liblinear failed to converge, increase the number of iterations.\n",
      "  warnings.warn(\n"
     ]
    },
    {
     "name": "stdout",
     "output_type": "stream",
     "text": [
      "[CV] END classifier__logreg__class_weight=balanced, classifier__logreg__max_iter=10000, classifier__logreg__multi_class=multinomial, classifier__svc__C=0.1, classifier__svc__dual=False, classifier__svc__max_iter=1000, classifier__svc__penalty=l2, classifier__vc__C=10, classifier__vc__class_weight=balanced, classifier__vc__kernel=linear; total time= 2.4min\n",
      "[CV] END classifier__logreg__class_weight=balanced, classifier__logreg__max_iter=10000, classifier__logreg__multi_class=multinomial, classifier__svc__C=0.1, classifier__svc__dual=False, classifier__svc__max_iter=1000, classifier__svc__penalty=l2, classifier__vc__C=10, classifier__vc__class_weight=balanced, classifier__vc__kernel=linear; total time= 2.4min\n"
     ]
    },
    {
     "name": "stderr",
     "output_type": "stream",
     "text": [
      "/Users/anushkrishnav/.local/share/virtualenvs/newsgroup-u5VajpjS/lib/python3.11/site-packages/sklearn/svm/_base.py:1250: ConvergenceWarning: Liblinear failed to converge, increase the number of iterations.\n",
      "  warnings.warn(\n"
     ]
    },
    {
     "name": "stdout",
     "output_type": "stream",
     "text": [
      "[CV] END classifier__logreg__class_weight=balanced, classifier__logreg__max_iter=10000, classifier__logreg__multi_class=multinomial, classifier__svc__C=0.1, classifier__svc__dual=False, classifier__svc__max_iter=1000, classifier__svc__penalty=l2, classifier__vc__C=10, classifier__vc__class_weight=balanced, classifier__vc__kernel=linear; total time= 2.3min\n"
     ]
    },
    {
     "name": "stderr",
     "output_type": "stream",
     "text": [
      "/Users/anushkrishnav/.local/share/virtualenvs/newsgroup-u5VajpjS/lib/python3.11/site-packages/sklearn/svm/_base.py:1250: ConvergenceWarning: Liblinear failed to converge, increase the number of iterations.\n",
      "  warnings.warn(\n",
      "/Users/anushkrishnav/.local/share/virtualenvs/newsgroup-u5VajpjS/lib/python3.11/site-packages/sklearn/svm/_base.py:1250: ConvergenceWarning: Liblinear failed to converge, increase the number of iterations.\n",
      "  warnings.warn(\n"
     ]
    },
    {
     "name": "stdout",
     "output_type": "stream",
     "text": [
      "[CV] END classifier__logreg__class_weight=balanced, classifier__logreg__max_iter=10000, classifier__logreg__multi_class=multinomial, classifier__svc__C=0.1, classifier__svc__dual=False, classifier__svc__max_iter=1000, classifier__svc__penalty=l2, classifier__vc__C=10, classifier__vc__class_weight=balanced, classifier__vc__kernel=linear; total time= 2.3min\n"
     ]
    },
    {
     "name": "stderr",
     "output_type": "stream",
     "text": [
      "/Users/anushkrishnav/.local/share/virtualenvs/newsgroup-u5VajpjS/lib/python3.11/site-packages/sklearn/svm/_base.py:1250: ConvergenceWarning: Liblinear failed to converge, increase the number of iterations.\n",
      "  warnings.warn(\n"
     ]
    },
    {
     "name": "stdout",
     "output_type": "stream",
     "text": [
      "[CV] END classifier__logreg__class_weight=balanced, classifier__logreg__max_iter=10000, classifier__logreg__multi_class=multinomial, classifier__svc__C=1, classifier__svc__dual=False, classifier__svc__max_iter=500, classifier__svc__penalty=l1, classifier__vc__C=0.1, classifier__vc__class_weight=balanced, classifier__vc__kernel=linear; total time= 2.0min\n",
      "[CV] END classifier__logreg__class_weight=balanced, classifier__logreg__max_iter=10000, classifier__logreg__multi_class=multinomial, classifier__svc__C=1, classifier__svc__dual=False, classifier__svc__max_iter=500, classifier__svc__penalty=l1, classifier__vc__C=0.1, classifier__vc__class_weight=balanced, classifier__vc__kernel=linear; total time= 2.0min\n",
      "[CV] END classifier__logreg__class_weight=balanced, classifier__logreg__max_iter=10000, classifier__logreg__multi_class=multinomial, classifier__svc__C=1, classifier__svc__dual=False, classifier__svc__max_iter=500, classifier__svc__penalty=l1, classifier__vc__C=0.1, classifier__vc__class_weight=balanced, classifier__vc__kernel=linear; total time= 2.0min\n",
      "[CV] END classifier__logreg__class_weight=balanced, classifier__logreg__max_iter=10000, classifier__logreg__multi_class=multinomial, classifier__svc__C=1, classifier__svc__dual=False, classifier__svc__max_iter=500, classifier__svc__penalty=l1, classifier__vc__C=0.1, classifier__vc__class_weight=balanced, classifier__vc__kernel=linear; total time= 2.0min\n"
     ]
    },
    {
     "name": "stderr",
     "output_type": "stream",
     "text": [
      "/Users/anushkrishnav/.local/share/virtualenvs/newsgroup-u5VajpjS/lib/python3.11/site-packages/sklearn/svm/_base.py:1250: ConvergenceWarning: Liblinear failed to converge, increase the number of iterations.\n",
      "  warnings.warn(\n",
      "/Users/anushkrishnav/.local/share/virtualenvs/newsgroup-u5VajpjS/lib/python3.11/site-packages/sklearn/svm/_base.py:1250: ConvergenceWarning: Liblinear failed to converge, increase the number of iterations.\n",
      "  warnings.warn(\n",
      "/Users/anushkrishnav/.local/share/virtualenvs/newsgroup-u5VajpjS/lib/python3.11/site-packages/sklearn/svm/_base.py:1250: ConvergenceWarning: Liblinear failed to converge, increase the number of iterations.\n",
      "  warnings.warn(\n",
      "/Users/anushkrishnav/.local/share/virtualenvs/newsgroup-u5VajpjS/lib/python3.11/site-packages/sklearn/svm/_base.py:1250: ConvergenceWarning: Liblinear failed to converge, increase the number of iterations.\n",
      "  warnings.warn(\n"
     ]
    },
    {
     "name": "stdout",
     "output_type": "stream",
     "text": [
      "[CV] END classifier__logreg__class_weight=balanced, classifier__logreg__max_iter=10000, classifier__logreg__multi_class=multinomial, classifier__svc__C=1, classifier__svc__dual=False, classifier__svc__max_iter=500, classifier__svc__penalty=l1, classifier__vc__C=0.1, classifier__vc__class_weight=balanced, classifier__vc__kernel=linear; total time= 2.0min\n"
     ]
    },
    {
     "name": "stderr",
     "output_type": "stream",
     "text": [
      "/Users/anushkrishnav/.local/share/virtualenvs/newsgroup-u5VajpjS/lib/python3.11/site-packages/sklearn/svm/_base.py:1250: ConvergenceWarning: Liblinear failed to converge, increase the number of iterations.\n",
      "  warnings.warn(\n"
     ]
    },
    {
     "name": "stdout",
     "output_type": "stream",
     "text": [
      "[CV] END classifier__logreg__class_weight=balanced, classifier__logreg__max_iter=10000, classifier__logreg__multi_class=multinomial, classifier__svc__C=1, classifier__svc__dual=False, classifier__svc__max_iter=500, classifier__svc__penalty=l1, classifier__vc__C=1, classifier__vc__class_weight=balanced, classifier__vc__kernel=linear; total time= 2.2min\n",
      "[CV] END classifier__logreg__class_weight=balanced, classifier__logreg__max_iter=10000, classifier__logreg__multi_class=multinomial, classifier__svc__C=1, classifier__svc__dual=False, classifier__svc__max_iter=500, classifier__svc__penalty=l1, classifier__vc__C=1, classifier__vc__class_weight=balanced, classifier__vc__kernel=linear; total time= 2.2min\n"
     ]
    },
    {
     "name": "stderr",
     "output_type": "stream",
     "text": [
      "/Users/anushkrishnav/.local/share/virtualenvs/newsgroup-u5VajpjS/lib/python3.11/site-packages/sklearn/svm/_base.py:1250: ConvergenceWarning: Liblinear failed to converge, increase the number of iterations.\n",
      "  warnings.warn(\n",
      "/Users/anushkrishnav/.local/share/virtualenvs/newsgroup-u5VajpjS/lib/python3.11/site-packages/sklearn/svm/_base.py:1250: ConvergenceWarning: Liblinear failed to converge, increase the number of iterations.\n",
      "  warnings.warn(\n"
     ]
    },
    {
     "name": "stdout",
     "output_type": "stream",
     "text": [
      "[CV] END classifier__logreg__class_weight=balanced, classifier__logreg__max_iter=10000, classifier__logreg__multi_class=multinomial, classifier__svc__C=1, classifier__svc__dual=False, classifier__svc__max_iter=500, classifier__svc__penalty=l1, classifier__vc__C=1, classifier__vc__class_weight=balanced, classifier__vc__kernel=linear; total time= 2.3min\n",
      "[CV] END classifier__logreg__class_weight=balanced, classifier__logreg__max_iter=10000, classifier__logreg__multi_class=multinomial, classifier__svc__C=1, classifier__svc__dual=False, classifier__svc__max_iter=500, classifier__svc__penalty=l1, classifier__vc__C=1, classifier__vc__class_weight=balanced, classifier__vc__kernel=linear; total time= 2.3min\n",
      "[CV] END classifier__logreg__class_weight=balanced, classifier__logreg__max_iter=10000, classifier__logreg__multi_class=multinomial, classifier__svc__C=1, classifier__svc__dual=False, classifier__svc__max_iter=500, classifier__svc__penalty=l1, classifier__vc__C=1, classifier__vc__class_weight=balanced, classifier__vc__kernel=linear; total time= 2.3min\n",
      "[CV] END classifier__logreg__class_weight=balanced, classifier__logreg__max_iter=10000, classifier__logreg__multi_class=multinomial, classifier__svc__C=1, classifier__svc__dual=False, classifier__svc__max_iter=500, classifier__svc__penalty=l1, classifier__vc__C=10, classifier__vc__class_weight=balanced, classifier__vc__kernel=linear; total time= 2.3min\n",
      "[CV] END classifier__logreg__class_weight=balanced, classifier__logreg__max_iter=10000, classifier__logreg__multi_class=multinomial, classifier__svc__C=1, classifier__svc__dual=False, classifier__svc__max_iter=500, classifier__svc__penalty=l1, classifier__vc__C=10, classifier__vc__class_weight=balanced, classifier__vc__kernel=linear; total time= 2.3min\n",
      "[CV] END classifier__logreg__class_weight=balanced, classifier__logreg__max_iter=10000, classifier__logreg__multi_class=multinomial, classifier__svc__C=1, classifier__svc__dual=False, classifier__svc__max_iter=500, classifier__svc__penalty=l1, classifier__vc__C=10, classifier__vc__class_weight=balanced, classifier__vc__kernel=linear; total time= 2.3min\n",
      "[CV] END classifier__logreg__class_weight=balanced, classifier__logreg__max_iter=10000, classifier__logreg__multi_class=multinomial, classifier__svc__C=1, classifier__svc__dual=False, classifier__svc__max_iter=500, classifier__svc__penalty=l1, classifier__vc__C=10, classifier__vc__class_weight=balanced, classifier__vc__kernel=linear; total time= 2.2min\n",
      "[CV] END classifier__logreg__class_weight=balanced, classifier__logreg__max_iter=10000, classifier__logreg__multi_class=multinomial, classifier__svc__C=1, classifier__svc__dual=False, classifier__svc__max_iter=500, classifier__svc__penalty=l1, classifier__vc__C=10, classifier__vc__class_weight=balanced, classifier__vc__kernel=linear; total time= 2.3min\n",
      "[CV] END classifier__logreg__class_weight=balanced, classifier__logreg__max_iter=10000, classifier__logreg__multi_class=multinomial, classifier__svc__C=1, classifier__svc__dual=False, classifier__svc__max_iter=500, classifier__svc__penalty=l2, classifier__vc__C=0.1, classifier__vc__class_weight=balanced, classifier__vc__kernel=linear; total time= 2.0min\n",
      "[CV] END classifier__logreg__class_weight=balanced, classifier__logreg__max_iter=10000, classifier__logreg__multi_class=multinomial, classifier__svc__C=1, classifier__svc__dual=False, classifier__svc__max_iter=500, classifier__svc__penalty=l2, classifier__vc__C=0.1, classifier__vc__class_weight=balanced, classifier__vc__kernel=linear; total time= 2.0min\n",
      "[CV] END classifier__logreg__class_weight=balanced, classifier__logreg__max_iter=10000, classifier__logreg__multi_class=multinomial, classifier__svc__C=1, classifier__svc__dual=False, classifier__svc__max_iter=500, classifier__svc__penalty=l2, classifier__vc__C=0.1, classifier__vc__class_weight=balanced, classifier__vc__kernel=linear; total time= 2.0min\n",
      "[CV] END classifier__logreg__class_weight=balanced, classifier__logreg__max_iter=10000, classifier__logreg__multi_class=multinomial, classifier__svc__C=1, classifier__svc__dual=False, classifier__svc__max_iter=500, classifier__svc__penalty=l2, classifier__vc__C=0.1, classifier__vc__class_weight=balanced, classifier__vc__kernel=linear; total time= 2.0min\n",
      "[CV] END classifier__logreg__class_weight=balanced, classifier__logreg__max_iter=10000, classifier__logreg__multi_class=multinomial, classifier__svc__C=1, classifier__svc__dual=False, classifier__svc__max_iter=500, classifier__svc__penalty=l2, classifier__vc__C=0.1, classifier__vc__class_weight=balanced, classifier__vc__kernel=linear; total time= 2.1min\n",
      "[CV] END classifier__logreg__class_weight=balanced, classifier__logreg__max_iter=10000, classifier__logreg__multi_class=multinomial, classifier__svc__C=1, classifier__svc__dual=False, classifier__svc__max_iter=500, classifier__svc__penalty=l2, classifier__vc__C=1, classifier__vc__class_weight=balanced, classifier__vc__kernel=linear; total time= 2.8min\n",
      "[CV] END classifier__logreg__class_weight=balanced, classifier__logreg__max_iter=10000, classifier__logreg__multi_class=multinomial, classifier__svc__C=1, classifier__svc__dual=False, classifier__svc__max_iter=500, classifier__svc__penalty=l2, classifier__vc__C=1, classifier__vc__class_weight=balanced, classifier__vc__kernel=linear; total time= 2.8min\n",
      "[CV] END classifier__logreg__class_weight=balanced, classifier__logreg__max_iter=10000, classifier__logreg__multi_class=multinomial, classifier__svc__C=1, classifier__svc__dual=False, classifier__svc__max_iter=500, classifier__svc__penalty=l2, classifier__vc__C=1, classifier__vc__class_weight=balanced, classifier__vc__kernel=linear; total time= 2.8min\n",
      "[CV] END classifier__logreg__class_weight=balanced, classifier__logreg__max_iter=10000, classifier__logreg__multi_class=multinomial, classifier__svc__C=1, classifier__svc__dual=False, classifier__svc__max_iter=500, classifier__svc__penalty=l2, classifier__vc__C=1, classifier__vc__class_weight=balanced, classifier__vc__kernel=linear; total time= 2.8min\n",
      "[CV] END classifier__logreg__class_weight=balanced, classifier__logreg__max_iter=10000, classifier__logreg__multi_class=multinomial, classifier__svc__C=1, classifier__svc__dual=False, classifier__svc__max_iter=500, classifier__svc__penalty=l2, classifier__vc__C=1, classifier__vc__class_weight=balanced, classifier__vc__kernel=linear; total time= 2.8min\n",
      "[CV] END classifier__logreg__class_weight=balanced, classifier__logreg__max_iter=10000, classifier__logreg__multi_class=multinomial, classifier__svc__C=1, classifier__svc__dual=False, classifier__svc__max_iter=500, classifier__svc__penalty=l2, classifier__vc__C=10, classifier__vc__class_weight=balanced, classifier__vc__kernel=linear; total time= 2.8min\n",
      "[CV] END classifier__logreg__class_weight=balanced, classifier__logreg__max_iter=10000, classifier__logreg__multi_class=multinomial, classifier__svc__C=1, classifier__svc__dual=False, classifier__svc__max_iter=500, classifier__svc__penalty=l2, classifier__vc__C=10, classifier__vc__class_weight=balanced, classifier__vc__kernel=linear; total time= 2.8min\n",
      "[CV] END classifier__logreg__class_weight=balanced, classifier__logreg__max_iter=10000, classifier__logreg__multi_class=multinomial, classifier__svc__C=1, classifier__svc__dual=False, classifier__svc__max_iter=500, classifier__svc__penalty=l2, classifier__vc__C=10, classifier__vc__class_weight=balanced, classifier__vc__kernel=linear; total time= 2.7min\n"
     ]
    },
    {
     "name": "stderr",
     "output_type": "stream",
     "text": [
      "/Users/anushkrishnav/.local/share/virtualenvs/newsgroup-u5VajpjS/lib/python3.11/site-packages/sklearn/svm/_base.py:1250: ConvergenceWarning: Liblinear failed to converge, increase the number of iterations.\n",
      "  warnings.warn(\n"
     ]
    },
    {
     "name": "stdout",
     "output_type": "stream",
     "text": [
      "[CV] END classifier__logreg__class_weight=balanced, classifier__logreg__max_iter=10000, classifier__logreg__multi_class=multinomial, classifier__svc__C=1, classifier__svc__dual=False, classifier__svc__max_iter=500, classifier__svc__penalty=l2, classifier__vc__C=10, classifier__vc__class_weight=balanced, classifier__vc__kernel=linear; total time= 2.1min\n",
      "[CV] END classifier__logreg__class_weight=balanced, classifier__logreg__max_iter=10000, classifier__logreg__multi_class=multinomial, classifier__svc__C=1, classifier__svc__dual=False, classifier__svc__max_iter=500, classifier__svc__penalty=l2, classifier__vc__C=10, classifier__vc__class_weight=balanced, classifier__vc__kernel=linear; total time= 2.1min\n",
      "[CV] END classifier__logreg__class_weight=balanced, classifier__logreg__max_iter=10000, classifier__logreg__multi_class=multinomial, classifier__svc__C=1, classifier__svc__dual=False, classifier__svc__max_iter=1000, classifier__svc__penalty=l1, classifier__vc__C=0.1, classifier__vc__class_weight=balanced, classifier__vc__kernel=linear; total time= 2.1min\n",
      "[CV] END classifier__logreg__class_weight=balanced, classifier__logreg__max_iter=10000, classifier__logreg__multi_class=multinomial, classifier__svc__C=1, classifier__svc__dual=False, classifier__svc__max_iter=1000, classifier__svc__penalty=l1, classifier__vc__C=0.1, classifier__vc__class_weight=balanced, classifier__vc__kernel=linear; total time= 2.1min\n"
     ]
    },
    {
     "name": "stderr",
     "output_type": "stream",
     "text": [
      "/Users/anushkrishnav/.local/share/virtualenvs/newsgroup-u5VajpjS/lib/python3.11/site-packages/sklearn/svm/_base.py:1250: ConvergenceWarning: Liblinear failed to converge, increase the number of iterations.\n",
      "  warnings.warn(\n"
     ]
    },
    {
     "name": "stdout",
     "output_type": "stream",
     "text": [
      "[CV] END classifier__logreg__class_weight=balanced, classifier__logreg__max_iter=10000, classifier__logreg__multi_class=multinomial, classifier__svc__C=1, classifier__svc__dual=False, classifier__svc__max_iter=1000, classifier__svc__penalty=l1, classifier__vc__C=0.1, classifier__vc__class_weight=balanced, classifier__vc__kernel=linear; total time= 2.1min\n",
      "[CV] END classifier__logreg__class_weight=balanced, classifier__logreg__max_iter=10000, classifier__logreg__multi_class=multinomial, classifier__svc__C=1, classifier__svc__dual=False, classifier__svc__max_iter=1000, classifier__svc__penalty=l1, classifier__vc__C=0.1, classifier__vc__class_weight=balanced, classifier__vc__kernel=linear; total time= 2.1min\n",
      "[CV] END classifier__logreg__class_weight=balanced, classifier__logreg__max_iter=10000, classifier__logreg__multi_class=multinomial, classifier__svc__C=1, classifier__svc__dual=False, classifier__svc__max_iter=1000, classifier__svc__penalty=l1, classifier__vc__C=0.1, classifier__vc__class_weight=balanced, classifier__vc__kernel=linear; total time= 2.1min\n",
      "[CV] END classifier__logreg__class_weight=balanced, classifier__logreg__max_iter=10000, classifier__logreg__multi_class=multinomial, classifier__svc__C=1, classifier__svc__dual=False, classifier__svc__max_iter=1000, classifier__svc__penalty=l1, classifier__vc__C=1, classifier__vc__class_weight=balanced, classifier__vc__kernel=linear; total time= 2.3min\n"
     ]
    },
    {
     "name": "stderr",
     "output_type": "stream",
     "text": [
      "/Users/anushkrishnav/.local/share/virtualenvs/newsgroup-u5VajpjS/lib/python3.11/site-packages/sklearn/svm/_base.py:1250: ConvergenceWarning: Liblinear failed to converge, increase the number of iterations.\n",
      "  warnings.warn(\n",
      "/Users/anushkrishnav/.local/share/virtualenvs/newsgroup-u5VajpjS/lib/python3.11/site-packages/sklearn/svm/_base.py:1250: ConvergenceWarning: Liblinear failed to converge, increase the number of iterations.\n",
      "  warnings.warn(\n"
     ]
    },
    {
     "name": "stdout",
     "output_type": "stream",
     "text": [
      "[CV] END classifier__logreg__class_weight=balanced, classifier__logreg__max_iter=10000, classifier__logreg__multi_class=multinomial, classifier__svc__C=1, classifier__svc__dual=False, classifier__svc__max_iter=1000, classifier__svc__penalty=l1, classifier__vc__C=1, classifier__vc__class_weight=balanced, classifier__vc__kernel=linear; total time= 2.2min\n",
      "[CV] END classifier__logreg__class_weight=balanced, classifier__logreg__max_iter=10000, classifier__logreg__multi_class=multinomial, classifier__svc__C=1, classifier__svc__dual=False, classifier__svc__max_iter=1000, classifier__svc__penalty=l1, classifier__vc__C=1, classifier__vc__class_weight=balanced, classifier__vc__kernel=linear; total time= 2.2min\n",
      "[CV] END classifier__logreg__class_weight=balanced, classifier__logreg__max_iter=10000, classifier__logreg__multi_class=multinomial, classifier__svc__C=1, classifier__svc__dual=False, classifier__svc__max_iter=1000, classifier__svc__penalty=l1, classifier__vc__C=1, classifier__vc__class_weight=balanced, classifier__vc__kernel=linear; total time= 2.1min\n",
      "[CV] END classifier__logreg__class_weight=balanced, classifier__logreg__max_iter=10000, classifier__logreg__multi_class=multinomial, classifier__svc__C=1, classifier__svc__dual=False, classifier__svc__max_iter=1000, classifier__svc__penalty=l1, classifier__vc__C=1, classifier__vc__class_weight=balanced, classifier__vc__kernel=linear; total time= 2.1min\n",
      "[CV] END classifier__logreg__class_weight=balanced, classifier__logreg__max_iter=10000, classifier__logreg__multi_class=multinomial, classifier__svc__C=1, classifier__svc__dual=False, classifier__svc__max_iter=1000, classifier__svc__penalty=l1, classifier__vc__C=10, classifier__vc__class_weight=balanced, classifier__vc__kernel=linear; total time= 2.1min\n",
      "[CV] END classifier__logreg__class_weight=balanced, classifier__logreg__max_iter=10000, classifier__logreg__multi_class=multinomial, classifier__svc__C=1, classifier__svc__dual=False, classifier__svc__max_iter=1000, classifier__svc__penalty=l1, classifier__vc__C=10, classifier__vc__class_weight=balanced, classifier__vc__kernel=linear; total time= 2.1min\n",
      "[CV] END classifier__logreg__class_weight=balanced, classifier__logreg__max_iter=10000, classifier__logreg__multi_class=multinomial, classifier__svc__C=1, classifier__svc__dual=False, classifier__svc__max_iter=1000, classifier__svc__penalty=l1, classifier__vc__C=10, classifier__vc__class_weight=balanced, classifier__vc__kernel=linear; total time= 2.1min\n",
      "[CV] END classifier__logreg__class_weight=balanced, classifier__logreg__max_iter=10000, classifier__logreg__multi_class=multinomial, classifier__svc__C=1, classifier__svc__dual=False, classifier__svc__max_iter=1000, classifier__svc__penalty=l1, classifier__vc__C=10, classifier__vc__class_weight=balanced, classifier__vc__kernel=linear; total time= 2.1min\n",
      "[CV] END classifier__logreg__class_weight=balanced, classifier__logreg__max_iter=10000, classifier__logreg__multi_class=multinomial, classifier__svc__C=1, classifier__svc__dual=False, classifier__svc__max_iter=1000, classifier__svc__penalty=l2, classifier__vc__C=0.1, classifier__vc__class_weight=balanced, classifier__vc__kernel=linear; total time= 1.7min\n",
      "[CV] END classifier__logreg__class_weight=balanced, classifier__logreg__max_iter=10000, classifier__logreg__multi_class=multinomial, classifier__svc__C=1, classifier__svc__dual=False, classifier__svc__max_iter=1000, classifier__svc__penalty=l1, classifier__vc__C=10, classifier__vc__class_weight=balanced, classifier__vc__kernel=linear; total time= 2.0min\n",
      "[CV] END classifier__logreg__class_weight=balanced, classifier__logreg__max_iter=10000, classifier__logreg__multi_class=multinomial, classifier__svc__C=1, classifier__svc__dual=False, classifier__svc__max_iter=1000, classifier__svc__penalty=l2, classifier__vc__C=0.1, classifier__vc__class_weight=balanced, classifier__vc__kernel=linear; total time= 1.7min\n",
      "[CV] END classifier__logreg__class_weight=balanced, classifier__logreg__max_iter=10000, classifier__logreg__multi_class=multinomial, classifier__svc__C=1, classifier__svc__dual=False, classifier__svc__max_iter=1000, classifier__svc__penalty=l2, classifier__vc__C=0.1, classifier__vc__class_weight=balanced, classifier__vc__kernel=linear; total time= 1.8min\n",
      "[CV] END classifier__logreg__class_weight=balanced, classifier__logreg__max_iter=10000, classifier__logreg__multi_class=multinomial, classifier__svc__C=1, classifier__svc__dual=False, classifier__svc__max_iter=1000, classifier__svc__penalty=l2, classifier__vc__C=0.1, classifier__vc__class_weight=balanced, classifier__vc__kernel=linear; total time= 1.8min\n",
      "[CV] END classifier__logreg__class_weight=balanced, classifier__logreg__max_iter=10000, classifier__logreg__multi_class=multinomial, classifier__svc__C=1, classifier__svc__dual=False, classifier__svc__max_iter=1000, classifier__svc__penalty=l2, classifier__vc__C=0.1, classifier__vc__class_weight=balanced, classifier__vc__kernel=linear; total time= 1.8min\n",
      "[CV] END classifier__logreg__class_weight=balanced, classifier__logreg__max_iter=10000, classifier__logreg__multi_class=multinomial, classifier__svc__C=1, classifier__svc__dual=False, classifier__svc__max_iter=1000, classifier__svc__penalty=l2, classifier__vc__C=1, classifier__vc__class_weight=balanced, classifier__vc__kernel=linear; total time= 1.9min\n",
      "[CV] END classifier__logreg__class_weight=balanced, classifier__logreg__max_iter=10000, classifier__logreg__multi_class=multinomial, classifier__svc__C=1, classifier__svc__dual=False, classifier__svc__max_iter=1000, classifier__svc__penalty=l2, classifier__vc__C=1, classifier__vc__class_weight=balanced, classifier__vc__kernel=linear; total time= 1.9min\n",
      "[CV] END classifier__logreg__class_weight=balanced, classifier__logreg__max_iter=10000, classifier__logreg__multi_class=multinomial, classifier__svc__C=1, classifier__svc__dual=False, classifier__svc__max_iter=1000, classifier__svc__penalty=l2, classifier__vc__C=1, classifier__vc__class_weight=balanced, classifier__vc__kernel=linear; total time= 1.9min\n",
      "[CV] END classifier__logreg__class_weight=balanced, classifier__logreg__max_iter=10000, classifier__logreg__multi_class=multinomial, classifier__svc__C=1, classifier__svc__dual=False, classifier__svc__max_iter=1000, classifier__svc__penalty=l2, classifier__vc__C=1, classifier__vc__class_weight=balanced, classifier__vc__kernel=linear; total time= 1.9min\n",
      "[CV] END classifier__logreg__class_weight=balanced, classifier__logreg__max_iter=10000, classifier__logreg__multi_class=multinomial, classifier__svc__C=1, classifier__svc__dual=False, classifier__svc__max_iter=1000, classifier__svc__penalty=l2, classifier__vc__C=1, classifier__vc__class_weight=balanced, classifier__vc__kernel=linear; total time= 1.9min\n"
     ]
    },
    {
     "name": "stderr",
     "output_type": "stream",
     "text": [
      "/Users/anushkrishnav/.local/share/virtualenvs/newsgroup-u5VajpjS/lib/python3.11/site-packages/sklearn/svm/_base.py:1250: ConvergenceWarning: Liblinear failed to converge, increase the number of iterations.\n",
      "  warnings.warn(\n",
      "/Users/anushkrishnav/.local/share/virtualenvs/newsgroup-u5VajpjS/lib/python3.11/site-packages/sklearn/svm/_base.py:1250: ConvergenceWarning: Liblinear failed to converge, increase the number of iterations.\n",
      "  warnings.warn(\n"
     ]
    },
    {
     "name": "stdout",
     "output_type": "stream",
     "text": [
      "[CV] END classifier__logreg__class_weight=balanced, classifier__logreg__max_iter=10000, classifier__logreg__multi_class=multinomial, classifier__svc__C=1, classifier__svc__dual=False, classifier__svc__max_iter=1000, classifier__svc__penalty=l2, classifier__vc__C=10, classifier__vc__class_weight=balanced, classifier__vc__kernel=linear; total time= 1.9min\n"
     ]
    },
    {
     "name": "stderr",
     "output_type": "stream",
     "text": [
      "/Users/anushkrishnav/.local/share/virtualenvs/newsgroup-u5VajpjS/lib/python3.11/site-packages/sklearn/svm/_base.py:1250: ConvergenceWarning: Liblinear failed to converge, increase the number of iterations.\n",
      "  warnings.warn(\n",
      "/Users/anushkrishnav/.local/share/virtualenvs/newsgroup-u5VajpjS/lib/python3.11/site-packages/sklearn/svm/_base.py:1250: ConvergenceWarning: Liblinear failed to converge, increase the number of iterations.\n",
      "  warnings.warn(\n"
     ]
    },
    {
     "name": "stdout",
     "output_type": "stream",
     "text": [
      "[CV] END classifier__logreg__class_weight=balanced, classifier__logreg__max_iter=10000, classifier__logreg__multi_class=multinomial, classifier__svc__C=1, classifier__svc__dual=False, classifier__svc__max_iter=1000, classifier__svc__penalty=l2, classifier__vc__C=10, classifier__vc__class_weight=balanced, classifier__vc__kernel=linear; total time= 1.9min\n",
      "[CV] END classifier__logreg__class_weight=balanced, classifier__logreg__max_iter=10000, classifier__logreg__multi_class=multinomial, classifier__svc__C=1, classifier__svc__dual=False, classifier__svc__max_iter=1000, classifier__svc__penalty=l2, classifier__vc__C=10, classifier__vc__class_weight=balanced, classifier__vc__kernel=linear; total time= 1.9min\n",
      "[CV] END classifier__logreg__class_weight=balanced, classifier__logreg__max_iter=10000, classifier__logreg__multi_class=multinomial, classifier__svc__C=1, classifier__svc__dual=False, classifier__svc__max_iter=1000, classifier__svc__penalty=l2, classifier__vc__C=10, classifier__vc__class_weight=balanced, classifier__vc__kernel=linear; total time= 1.8min\n"
     ]
    },
    {
     "name": "stderr",
     "output_type": "stream",
     "text": [
      "/Users/anushkrishnav/.local/share/virtualenvs/newsgroup-u5VajpjS/lib/python3.11/site-packages/sklearn/svm/_base.py:1250: ConvergenceWarning: Liblinear failed to converge, increase the number of iterations.\n",
      "  warnings.warn(\n",
      "/Users/anushkrishnav/.local/share/virtualenvs/newsgroup-u5VajpjS/lib/python3.11/site-packages/sklearn/svm/_base.py:1250: ConvergenceWarning: Liblinear failed to converge, increase the number of iterations.\n",
      "  warnings.warn(\n",
      "/Users/anushkrishnav/.local/share/virtualenvs/newsgroup-u5VajpjS/lib/python3.11/site-packages/sklearn/svm/_base.py:1250: ConvergenceWarning: Liblinear failed to converge, increase the number of iterations.\n",
      "  warnings.warn(\n"
     ]
    },
    {
     "name": "stdout",
     "output_type": "stream",
     "text": [
      "[CV] END classifier__logreg__class_weight=balanced, classifier__logreg__max_iter=10000, classifier__logreg__multi_class=multinomial, classifier__svc__C=1, classifier__svc__dual=False, classifier__svc__max_iter=1000, classifier__svc__penalty=l2, classifier__vc__C=10, classifier__vc__class_weight=balanced, classifier__vc__kernel=linear; total time= 1.9min\n"
     ]
    },
    {
     "name": "stderr",
     "output_type": "stream",
     "text": [
      "/Users/anushkrishnav/.local/share/virtualenvs/newsgroup-u5VajpjS/lib/python3.11/site-packages/sklearn/svm/_base.py:1250: ConvergenceWarning: Liblinear failed to converge, increase the number of iterations.\n",
      "  warnings.warn(\n"
     ]
    },
    {
     "name": "stdout",
     "output_type": "stream",
     "text": [
      "[CV] END classifier__logreg__class_weight=balanced, classifier__logreg__max_iter=10000, classifier__logreg__multi_class=multinomial, classifier__svc__C=10, classifier__svc__dual=False, classifier__svc__max_iter=500, classifier__svc__penalty=l1, classifier__vc__C=0.1, classifier__vc__class_weight=balanced, classifier__vc__kernel=linear; total time= 1.9min\n",
      "[CV] END classifier__logreg__class_weight=balanced, classifier__logreg__max_iter=10000, classifier__logreg__multi_class=multinomial, classifier__svc__C=10, classifier__svc__dual=False, classifier__svc__max_iter=500, classifier__svc__penalty=l1, classifier__vc__C=0.1, classifier__vc__class_weight=balanced, classifier__vc__kernel=linear; total time= 1.9min\n",
      "[CV] END classifier__logreg__class_weight=balanced, classifier__logreg__max_iter=10000, classifier__logreg__multi_class=multinomial, classifier__svc__C=10, classifier__svc__dual=False, classifier__svc__max_iter=500, classifier__svc__penalty=l1, classifier__vc__C=0.1, classifier__vc__class_weight=balanced, classifier__vc__kernel=linear; total time= 1.9min\n"
     ]
    },
    {
     "name": "stderr",
     "output_type": "stream",
     "text": [
      "/Users/anushkrishnav/.local/share/virtualenvs/newsgroup-u5VajpjS/lib/python3.11/site-packages/sklearn/svm/_base.py:1250: ConvergenceWarning: Liblinear failed to converge, increase the number of iterations.\n",
      "  warnings.warn(\n"
     ]
    },
    {
     "name": "stdout",
     "output_type": "stream",
     "text": [
      "[CV] END classifier__logreg__class_weight=balanced, classifier__logreg__max_iter=10000, classifier__logreg__multi_class=multinomial, classifier__svc__C=10, classifier__svc__dual=False, classifier__svc__max_iter=500, classifier__svc__penalty=l1, classifier__vc__C=0.1, classifier__vc__class_weight=balanced, classifier__vc__kernel=linear; total time= 1.9min\n"
     ]
    },
    {
     "name": "stderr",
     "output_type": "stream",
     "text": [
      "/Users/anushkrishnav/.local/share/virtualenvs/newsgroup-u5VajpjS/lib/python3.11/site-packages/sklearn/svm/_base.py:1250: ConvergenceWarning: Liblinear failed to converge, increase the number of iterations.\n",
      "  warnings.warn(\n",
      "/Users/anushkrishnav/.local/share/virtualenvs/newsgroup-u5VajpjS/lib/python3.11/site-packages/sklearn/svm/_base.py:1250: ConvergenceWarning: Liblinear failed to converge, increase the number of iterations.\n",
      "  warnings.warn(\n",
      "/Users/anushkrishnav/.local/share/virtualenvs/newsgroup-u5VajpjS/lib/python3.11/site-packages/sklearn/svm/_base.py:1250: ConvergenceWarning: Liblinear failed to converge, increase the number of iterations.\n",
      "  warnings.warn(\n"
     ]
    },
    {
     "name": "stdout",
     "output_type": "stream",
     "text": [
      "[CV] END classifier__logreg__class_weight=balanced, classifier__logreg__max_iter=10000, classifier__logreg__multi_class=multinomial, classifier__svc__C=10, classifier__svc__dual=False, classifier__svc__max_iter=500, classifier__svc__penalty=l1, classifier__vc__C=0.1, classifier__vc__class_weight=balanced, classifier__vc__kernel=linear; total time= 1.9min\n",
      "[CV] END classifier__logreg__class_weight=balanced, classifier__logreg__max_iter=10000, classifier__logreg__multi_class=multinomial, classifier__svc__C=10, classifier__svc__dual=False, classifier__svc__max_iter=500, classifier__svc__penalty=l1, classifier__vc__C=1, classifier__vc__class_weight=balanced, classifier__vc__kernel=linear; total time= 2.0min\n"
     ]
    },
    {
     "name": "stderr",
     "output_type": "stream",
     "text": [
      "/Users/anushkrishnav/.local/share/virtualenvs/newsgroup-u5VajpjS/lib/python3.11/site-packages/sklearn/svm/_base.py:1250: ConvergenceWarning: Liblinear failed to converge, increase the number of iterations.\n",
      "  warnings.warn(\n"
     ]
    },
    {
     "name": "stdout",
     "output_type": "stream",
     "text": [
      "[CV] END classifier__logreg__class_weight=balanced, classifier__logreg__max_iter=10000, classifier__logreg__multi_class=multinomial, classifier__svc__C=10, classifier__svc__dual=False, classifier__svc__max_iter=500, classifier__svc__penalty=l1, classifier__vc__C=1, classifier__vc__class_weight=balanced, classifier__vc__kernel=linear; total time= 2.1min\n"
     ]
    },
    {
     "name": "stderr",
     "output_type": "stream",
     "text": [
      "/Users/anushkrishnav/.local/share/virtualenvs/newsgroup-u5VajpjS/lib/python3.11/site-packages/sklearn/svm/_base.py:1250: ConvergenceWarning: Liblinear failed to converge, increase the number of iterations.\n",
      "  warnings.warn(\n",
      "/Users/anushkrishnav/.local/share/virtualenvs/newsgroup-u5VajpjS/lib/python3.11/site-packages/sklearn/svm/_base.py:1250: ConvergenceWarning: Liblinear failed to converge, increase the number of iterations.\n",
      "  warnings.warn(\n"
     ]
    },
    {
     "name": "stdout",
     "output_type": "stream",
     "text": [
      "[CV] END classifier__logreg__class_weight=balanced, classifier__logreg__max_iter=10000, classifier__logreg__multi_class=multinomial, classifier__svc__C=10, classifier__svc__dual=False, classifier__svc__max_iter=500, classifier__svc__penalty=l1, classifier__vc__C=1, classifier__vc__class_weight=balanced, classifier__vc__kernel=linear; total time= 2.1min\n",
      "[CV] END classifier__logreg__class_weight=balanced, classifier__logreg__max_iter=10000, classifier__logreg__multi_class=multinomial, classifier__svc__C=10, classifier__svc__dual=False, classifier__svc__max_iter=500, classifier__svc__penalty=l1, classifier__vc__C=1, classifier__vc__class_weight=balanced, classifier__vc__kernel=linear; total time= 2.0min\n",
      "[CV] END classifier__logreg__class_weight=balanced, classifier__logreg__max_iter=10000, classifier__logreg__multi_class=multinomial, classifier__svc__C=10, classifier__svc__dual=False, classifier__svc__max_iter=500, classifier__svc__penalty=l1, classifier__vc__C=1, classifier__vc__class_weight=balanced, classifier__vc__kernel=linear; total time= 2.0min\n",
      "[CV] END classifier__logreg__class_weight=balanced, classifier__logreg__max_iter=10000, classifier__logreg__multi_class=multinomial, classifier__svc__C=10, classifier__svc__dual=False, classifier__svc__max_iter=500, classifier__svc__penalty=l1, classifier__vc__C=10, classifier__vc__class_weight=balanced, classifier__vc__kernel=linear; total time= 2.0min\n",
      "[CV] END classifier__logreg__class_weight=balanced, classifier__logreg__max_iter=10000, classifier__logreg__multi_class=multinomial, classifier__svc__C=10, classifier__svc__dual=False, classifier__svc__max_iter=500, classifier__svc__penalty=l1, classifier__vc__C=10, classifier__vc__class_weight=balanced, classifier__vc__kernel=linear; total time= 2.0min\n",
      "[CV] END classifier__logreg__class_weight=balanced, classifier__logreg__max_iter=10000, classifier__logreg__multi_class=multinomial, classifier__svc__C=10, classifier__svc__dual=False, classifier__svc__max_iter=500, classifier__svc__penalty=l1, classifier__vc__C=10, classifier__vc__class_weight=balanced, classifier__vc__kernel=linear; total time= 2.1min\n",
      "[CV] END classifier__logreg__class_weight=balanced, classifier__logreg__max_iter=10000, classifier__logreg__multi_class=multinomial, classifier__svc__C=10, classifier__svc__dual=False, classifier__svc__max_iter=500, classifier__svc__penalty=l1, classifier__vc__C=10, classifier__vc__class_weight=balanced, classifier__vc__kernel=linear; total time= 2.0min\n",
      "[CV] END classifier__logreg__class_weight=balanced, classifier__logreg__max_iter=10000, classifier__logreg__multi_class=multinomial, classifier__svc__C=10, classifier__svc__dual=False, classifier__svc__max_iter=500, classifier__svc__penalty=l1, classifier__vc__C=10, classifier__vc__class_weight=balanced, classifier__vc__kernel=linear; total time= 2.1min\n",
      "[CV] END classifier__logreg__class_weight=balanced, classifier__logreg__max_iter=10000, classifier__logreg__multi_class=multinomial, classifier__svc__C=10, classifier__svc__dual=False, classifier__svc__max_iter=500, classifier__svc__penalty=l2, classifier__vc__C=0.1, classifier__vc__class_weight=balanced, classifier__vc__kernel=linear; total time= 2.0min\n",
      "[CV] END classifier__logreg__class_weight=balanced, classifier__logreg__max_iter=10000, classifier__logreg__multi_class=multinomial, classifier__svc__C=10, classifier__svc__dual=False, classifier__svc__max_iter=500, classifier__svc__penalty=l2, classifier__vc__C=0.1, classifier__vc__class_weight=balanced, classifier__vc__kernel=linear; total time= 2.1min\n",
      "[CV] END classifier__logreg__class_weight=balanced, classifier__logreg__max_iter=10000, classifier__logreg__multi_class=multinomial, classifier__svc__C=10, classifier__svc__dual=False, classifier__svc__max_iter=500, classifier__svc__penalty=l2, classifier__vc__C=0.1, classifier__vc__class_weight=balanced, classifier__vc__kernel=linear; total time= 2.1min\n",
      "[CV] END classifier__logreg__class_weight=balanced, classifier__logreg__max_iter=10000, classifier__logreg__multi_class=multinomial, classifier__svc__C=10, classifier__svc__dual=False, classifier__svc__max_iter=500, classifier__svc__penalty=l2, classifier__vc__C=0.1, classifier__vc__class_weight=balanced, classifier__vc__kernel=linear; total time= 2.1min\n",
      "[CV] END classifier__logreg__class_weight=balanced, classifier__logreg__max_iter=10000, classifier__logreg__multi_class=multinomial, classifier__svc__C=10, classifier__svc__dual=False, classifier__svc__max_iter=500, classifier__svc__penalty=l2, classifier__vc__C=0.1, classifier__vc__class_weight=balanced, classifier__vc__kernel=linear; total time= 2.1min\n",
      "[CV] END classifier__logreg__class_weight=balanced, classifier__logreg__max_iter=10000, classifier__logreg__multi_class=multinomial, classifier__svc__C=10, classifier__svc__dual=False, classifier__svc__max_iter=500, classifier__svc__penalty=l2, classifier__vc__C=1, classifier__vc__class_weight=balanced, classifier__vc__kernel=linear; total time= 2.1min\n",
      "[CV] END classifier__logreg__class_weight=balanced, classifier__logreg__max_iter=10000, classifier__logreg__multi_class=multinomial, classifier__svc__C=10, classifier__svc__dual=False, classifier__svc__max_iter=500, classifier__svc__penalty=l2, classifier__vc__C=1, classifier__vc__class_weight=balanced, classifier__vc__kernel=linear; total time= 2.2min\n",
      "[CV] END classifier__logreg__class_weight=balanced, classifier__logreg__max_iter=10000, classifier__logreg__multi_class=multinomial, classifier__svc__C=10, classifier__svc__dual=False, classifier__svc__max_iter=500, classifier__svc__penalty=l2, classifier__vc__C=1, classifier__vc__class_weight=balanced, classifier__vc__kernel=linear; total time= 2.2min\n",
      "[CV] END classifier__logreg__class_weight=balanced, classifier__logreg__max_iter=10000, classifier__logreg__multi_class=multinomial, classifier__svc__C=10, classifier__svc__dual=False, classifier__svc__max_iter=500, classifier__svc__penalty=l2, classifier__vc__C=1, classifier__vc__class_weight=balanced, classifier__vc__kernel=linear; total time= 2.1min\n"
     ]
    },
    {
     "name": "stderr",
     "output_type": "stream",
     "text": [
      "/Users/anushkrishnav/.local/share/virtualenvs/newsgroup-u5VajpjS/lib/python3.11/site-packages/sklearn/svm/_base.py:1250: ConvergenceWarning: Liblinear failed to converge, increase the number of iterations.\n",
      "  warnings.warn(\n",
      "/Users/anushkrishnav/.local/share/virtualenvs/newsgroup-u5VajpjS/lib/python3.11/site-packages/sklearn/svm/_base.py:1250: ConvergenceWarning: Liblinear failed to converge, increase the number of iterations.\n",
      "  warnings.warn(\n"
     ]
    },
    {
     "name": "stdout",
     "output_type": "stream",
     "text": [
      "[CV] END classifier__logreg__class_weight=balanced, classifier__logreg__max_iter=10000, classifier__logreg__multi_class=multinomial, classifier__svc__C=10, classifier__svc__dual=False, classifier__svc__max_iter=500, classifier__svc__penalty=l2, classifier__vc__C=1, classifier__vc__class_weight=balanced, classifier__vc__kernel=linear; total time= 2.2min\n",
      "[CV] END classifier__logreg__class_weight=balanced, classifier__logreg__max_iter=10000, classifier__logreg__multi_class=multinomial, classifier__svc__C=10, classifier__svc__dual=False, classifier__svc__max_iter=500, classifier__svc__penalty=l2, classifier__vc__C=10, classifier__vc__class_weight=balanced, classifier__vc__kernel=linear; total time= 2.2min\n",
      "[CV] END classifier__logreg__class_weight=balanced, classifier__logreg__max_iter=10000, classifier__logreg__multi_class=multinomial, classifier__svc__C=10, classifier__svc__dual=False, classifier__svc__max_iter=500, classifier__svc__penalty=l2, classifier__vc__C=10, classifier__vc__class_weight=balanced, classifier__vc__kernel=linear; total time= 2.2min\n",
      "[CV] END classifier__logreg__class_weight=balanced, classifier__logreg__max_iter=10000, classifier__logreg__multi_class=multinomial, classifier__svc__C=10, classifier__svc__dual=False, classifier__svc__max_iter=500, classifier__svc__penalty=l2, classifier__vc__C=10, classifier__vc__class_weight=balanced, classifier__vc__kernel=linear; total time= 2.2min\n"
     ]
    },
    {
     "name": "stderr",
     "output_type": "stream",
     "text": [
      "/Users/anushkrishnav/.local/share/virtualenvs/newsgroup-u5VajpjS/lib/python3.11/site-packages/sklearn/svm/_base.py:1250: ConvergenceWarning: Liblinear failed to converge, increase the number of iterations.\n",
      "  warnings.warn(\n",
      "/Users/anushkrishnav/.local/share/virtualenvs/newsgroup-u5VajpjS/lib/python3.11/site-packages/sklearn/svm/_base.py:1250: ConvergenceWarning: Liblinear failed to converge, increase the number of iterations.\n",
      "  warnings.warn(\n"
     ]
    },
    {
     "name": "stdout",
     "output_type": "stream",
     "text": [
      "[CV] END classifier__logreg__class_weight=balanced, classifier__logreg__max_iter=10000, classifier__logreg__multi_class=multinomial, classifier__svc__C=10, classifier__svc__dual=False, classifier__svc__max_iter=500, classifier__svc__penalty=l2, classifier__vc__C=10, classifier__vc__class_weight=balanced, classifier__vc__kernel=linear; total time= 2.1min\n"
     ]
    },
    {
     "name": "stderr",
     "output_type": "stream",
     "text": [
      "/Users/anushkrishnav/.local/share/virtualenvs/newsgroup-u5VajpjS/lib/python3.11/site-packages/sklearn/svm/_base.py:1250: ConvergenceWarning: Liblinear failed to converge, increase the number of iterations.\n",
      "  warnings.warn(\n",
      "/Users/anushkrishnav/.local/share/virtualenvs/newsgroup-u5VajpjS/lib/python3.11/site-packages/sklearn/svm/_base.py:1250: ConvergenceWarning: Liblinear failed to converge, increase the number of iterations.\n",
      "  warnings.warn(\n"
     ]
    },
    {
     "name": "stdout",
     "output_type": "stream",
     "text": [
      "[CV] END classifier__logreg__class_weight=balanced, classifier__logreg__max_iter=10000, classifier__logreg__multi_class=multinomial, classifier__svc__C=10, classifier__svc__dual=False, classifier__svc__max_iter=500, classifier__svc__penalty=l2, classifier__vc__C=10, classifier__vc__class_weight=balanced, classifier__vc__kernel=linear; total time= 2.1min\n",
      "[CV] END classifier__logreg__class_weight=balanced, classifier__logreg__max_iter=10000, classifier__logreg__multi_class=multinomial, classifier__svc__C=10, classifier__svc__dual=False, classifier__svc__max_iter=1000, classifier__svc__penalty=l1, classifier__vc__C=0.1, classifier__vc__class_weight=balanced, classifier__vc__kernel=linear; total time= 2.0min\n"
     ]
    },
    {
     "name": "stderr",
     "output_type": "stream",
     "text": [
      "/Users/anushkrishnav/.local/share/virtualenvs/newsgroup-u5VajpjS/lib/python3.11/site-packages/sklearn/svm/_base.py:1250: ConvergenceWarning: Liblinear failed to converge, increase the number of iterations.\n",
      "  warnings.warn(\n"
     ]
    },
    {
     "name": "stdout",
     "output_type": "stream",
     "text": [
      "[CV] END classifier__logreg__class_weight=balanced, classifier__logreg__max_iter=10000, classifier__logreg__multi_class=multinomial, classifier__svc__C=10, classifier__svc__dual=False, classifier__svc__max_iter=1000, classifier__svc__penalty=l1, classifier__vc__C=0.1, classifier__vc__class_weight=balanced, classifier__vc__kernel=linear; total time= 2.0min\n"
     ]
    },
    {
     "name": "stderr",
     "output_type": "stream",
     "text": [
      "/Users/anushkrishnav/.local/share/virtualenvs/newsgroup-u5VajpjS/lib/python3.11/site-packages/sklearn/svm/_base.py:1250: ConvergenceWarning: Liblinear failed to converge, increase the number of iterations.\n",
      "  warnings.warn(\n",
      "/Users/anushkrishnav/.local/share/virtualenvs/newsgroup-u5VajpjS/lib/python3.11/site-packages/sklearn/svm/_base.py:1250: ConvergenceWarning: Liblinear failed to converge, increase the number of iterations.\n",
      "  warnings.warn(\n",
      "/Users/anushkrishnav/.local/share/virtualenvs/newsgroup-u5VajpjS/lib/python3.11/site-packages/sklearn/svm/_base.py:1250: ConvergenceWarning: Liblinear failed to converge, increase the number of iterations.\n",
      "  warnings.warn(\n"
     ]
    },
    {
     "name": "stdout",
     "output_type": "stream",
     "text": [
      "[CV] END classifier__logreg__class_weight=balanced, classifier__logreg__max_iter=10000, classifier__logreg__multi_class=multinomial, classifier__svc__C=10, classifier__svc__dual=False, classifier__svc__max_iter=1000, classifier__svc__penalty=l1, classifier__vc__C=0.1, classifier__vc__class_weight=balanced, classifier__vc__kernel=linear; total time= 2.1min\n",
      "[CV] END classifier__logreg__class_weight=balanced, classifier__logreg__max_iter=10000, classifier__logreg__multi_class=multinomial, classifier__svc__C=10, classifier__svc__dual=False, classifier__svc__max_iter=1000, classifier__svc__penalty=l1, classifier__vc__C=0.1, classifier__vc__class_weight=balanced, classifier__vc__kernel=linear; total time= 2.1min\n",
      "[CV] END classifier__logreg__class_weight=balanced, classifier__logreg__max_iter=10000, classifier__logreg__multi_class=multinomial, classifier__svc__C=10, classifier__svc__dual=False, classifier__svc__max_iter=1000, classifier__svc__penalty=l1, classifier__vc__C=0.1, classifier__vc__class_weight=balanced, classifier__vc__kernel=linear; total time= 2.1min\n"
     ]
    },
    {
     "name": "stderr",
     "output_type": "stream",
     "text": [
      "/Users/anushkrishnav/.local/share/virtualenvs/newsgroup-u5VajpjS/lib/python3.11/site-packages/sklearn/svm/_base.py:1250: ConvergenceWarning: Liblinear failed to converge, increase the number of iterations.\n",
      "  warnings.warn(\n",
      "/Users/anushkrishnav/.local/share/virtualenvs/newsgroup-u5VajpjS/lib/python3.11/site-packages/sklearn/svm/_base.py:1250: ConvergenceWarning: Liblinear failed to converge, increase the number of iterations.\n",
      "  warnings.warn(\n"
     ]
    },
    {
     "name": "stdout",
     "output_type": "stream",
     "text": [
      "[CV] END classifier__logreg__class_weight=balanced, classifier__logreg__max_iter=10000, classifier__logreg__multi_class=multinomial, classifier__svc__C=10, classifier__svc__dual=False, classifier__svc__max_iter=1000, classifier__svc__penalty=l1, classifier__vc__C=1, classifier__vc__class_weight=balanced, classifier__vc__kernel=linear; total time= 2.3min\n"
     ]
    },
    {
     "name": "stderr",
     "output_type": "stream",
     "text": [
      "/Users/anushkrishnav/.local/share/virtualenvs/newsgroup-u5VajpjS/lib/python3.11/site-packages/sklearn/svm/_base.py:1250: ConvergenceWarning: Liblinear failed to converge, increase the number of iterations.\n",
      "  warnings.warn(\n"
     ]
    },
    {
     "name": "stdout",
     "output_type": "stream",
     "text": [
      "[CV] END classifier__logreg__class_weight=balanced, classifier__logreg__max_iter=10000, classifier__logreg__multi_class=multinomial, classifier__svc__C=10, classifier__svc__dual=False, classifier__svc__max_iter=1000, classifier__svc__penalty=l1, classifier__vc__C=1, classifier__vc__class_weight=balanced, classifier__vc__kernel=linear; total time= 2.3min\n"
     ]
    },
    {
     "name": "stderr",
     "output_type": "stream",
     "text": [
      "/Users/anushkrishnav/.local/share/virtualenvs/newsgroup-u5VajpjS/lib/python3.11/site-packages/sklearn/svm/_base.py:1250: ConvergenceWarning: Liblinear failed to converge, increase the number of iterations.\n",
      "  warnings.warn(\n"
     ]
    },
    {
     "name": "stdout",
     "output_type": "stream",
     "text": [
      "[CV] END classifier__logreg__class_weight=balanced, classifier__logreg__max_iter=10000, classifier__logreg__multi_class=multinomial, classifier__svc__C=10, classifier__svc__dual=False, classifier__svc__max_iter=1000, classifier__svc__penalty=l1, classifier__vc__C=1, classifier__vc__class_weight=balanced, classifier__vc__kernel=linear; total time= 2.3min\n",
      "[CV] END classifier__logreg__class_weight=balanced, classifier__logreg__max_iter=10000, classifier__logreg__multi_class=multinomial, classifier__svc__C=10, classifier__svc__dual=False, classifier__svc__max_iter=1000, classifier__svc__penalty=l1, classifier__vc__C=1, classifier__vc__class_weight=balanced, classifier__vc__kernel=linear; total time= 2.2min\n"
     ]
    },
    {
     "name": "stderr",
     "output_type": "stream",
     "text": [
      "/Users/anushkrishnav/.local/share/virtualenvs/newsgroup-u5VajpjS/lib/python3.11/site-packages/sklearn/svm/_base.py:1250: ConvergenceWarning: Liblinear failed to converge, increase the number of iterations.\n",
      "  warnings.warn(\n"
     ]
    },
    {
     "name": "stdout",
     "output_type": "stream",
     "text": [
      "[CV] END classifier__logreg__class_weight=balanced, classifier__logreg__max_iter=10000, classifier__logreg__multi_class=multinomial, classifier__svc__C=10, classifier__svc__dual=False, classifier__svc__max_iter=1000, classifier__svc__penalty=l1, classifier__vc__C=1, classifier__vc__class_weight=balanced, classifier__vc__kernel=linear; total time= 2.2min\n",
      "[CV] END classifier__logreg__class_weight=balanced, classifier__logreg__max_iter=10000, classifier__logreg__multi_class=multinomial, classifier__svc__C=10, classifier__svc__dual=False, classifier__svc__max_iter=1000, classifier__svc__penalty=l1, classifier__vc__C=10, classifier__vc__class_weight=balanced, classifier__vc__kernel=linear; total time= 2.2min\n",
      "[CV] END classifier__logreg__class_weight=balanced, classifier__logreg__max_iter=10000, classifier__logreg__multi_class=multinomial, classifier__svc__C=10, classifier__svc__dual=False, classifier__svc__max_iter=1000, classifier__svc__penalty=l1, classifier__vc__C=10, classifier__vc__class_weight=balanced, classifier__vc__kernel=linear; total time= 2.3min\n",
      "[CV] END classifier__logreg__class_weight=balanced, classifier__logreg__max_iter=10000, classifier__logreg__multi_class=multinomial, classifier__svc__C=10, classifier__svc__dual=False, classifier__svc__max_iter=1000, classifier__svc__penalty=l1, classifier__vc__C=10, classifier__vc__class_weight=balanced, classifier__vc__kernel=linear; total time= 2.2min\n",
      "[CV] END classifier__logreg__class_weight=balanced, classifier__logreg__max_iter=10000, classifier__logreg__multi_class=multinomial, classifier__svc__C=10, classifier__svc__dual=False, classifier__svc__max_iter=1000, classifier__svc__penalty=l1, classifier__vc__C=10, classifier__vc__class_weight=balanced, classifier__vc__kernel=linear; total time= 2.2min\n",
      "[CV] END classifier__logreg__class_weight=balanced, classifier__logreg__max_iter=10000, classifier__logreg__multi_class=multinomial, classifier__svc__C=10, classifier__svc__dual=False, classifier__svc__max_iter=1000, classifier__svc__penalty=l2, classifier__vc__C=0.1, classifier__vc__class_weight=balanced, classifier__vc__kernel=linear; total time= 2.0min\n",
      "[CV] END classifier__logreg__class_weight=balanced, classifier__logreg__max_iter=10000, classifier__logreg__multi_class=multinomial, classifier__svc__C=10, classifier__svc__dual=False, classifier__svc__max_iter=1000, classifier__svc__penalty=l1, classifier__vc__C=10, classifier__vc__class_weight=balanced, classifier__vc__kernel=linear; total time= 2.2min\n",
      "[CV] END classifier__logreg__class_weight=balanced, classifier__logreg__max_iter=10000, classifier__logreg__multi_class=multinomial, classifier__svc__C=10, classifier__svc__dual=False, classifier__svc__max_iter=1000, classifier__svc__penalty=l2, classifier__vc__C=0.1, classifier__vc__class_weight=balanced, classifier__vc__kernel=linear; total time= 2.0min\n",
      "[CV] END classifier__logreg__class_weight=balanced, classifier__logreg__max_iter=10000, classifier__logreg__multi_class=multinomial, classifier__svc__C=10, classifier__svc__dual=False, classifier__svc__max_iter=1000, classifier__svc__penalty=l2, classifier__vc__C=0.1, classifier__vc__class_weight=balanced, classifier__vc__kernel=linear; total time= 2.0min\n",
      "[CV] END classifier__logreg__class_weight=balanced, classifier__logreg__max_iter=10000, classifier__logreg__multi_class=multinomial, classifier__svc__C=10, classifier__svc__dual=False, classifier__svc__max_iter=1000, classifier__svc__penalty=l2, classifier__vc__C=0.1, classifier__vc__class_weight=balanced, classifier__vc__kernel=linear; total time= 2.1min\n",
      "[CV] END classifier__logreg__class_weight=balanced, classifier__logreg__max_iter=10000, classifier__logreg__multi_class=multinomial, classifier__svc__C=10, classifier__svc__dual=False, classifier__svc__max_iter=1000, classifier__svc__penalty=l2, classifier__vc__C=0.1, classifier__vc__class_weight=balanced, classifier__vc__kernel=linear; total time= 2.1min\n",
      "[CV] END classifier__logreg__class_weight=balanced, classifier__logreg__max_iter=10000, classifier__logreg__multi_class=multinomial, classifier__svc__C=10, classifier__svc__dual=False, classifier__svc__max_iter=1000, classifier__svc__penalty=l2, classifier__vc__C=1, classifier__vc__class_weight=balanced, classifier__vc__kernel=linear; total time= 2.2min\n",
      "[CV] END classifier__logreg__class_weight=balanced, classifier__logreg__max_iter=10000, classifier__logreg__multi_class=multinomial, classifier__svc__C=10, classifier__svc__dual=False, classifier__svc__max_iter=1000, classifier__svc__penalty=l2, classifier__vc__C=1, classifier__vc__class_weight=balanced, classifier__vc__kernel=linear; total time= 2.2min\n",
      "[CV] END classifier__logreg__class_weight=balanced, classifier__logreg__max_iter=10000, classifier__logreg__multi_class=multinomial, classifier__svc__C=10, classifier__svc__dual=False, classifier__svc__max_iter=1000, classifier__svc__penalty=l2, classifier__vc__C=1, classifier__vc__class_weight=balanced, classifier__vc__kernel=linear; total time= 2.2min\n",
      "[CV] END classifier__logreg__class_weight=balanced, classifier__logreg__max_iter=10000, classifier__logreg__multi_class=multinomial, classifier__svc__C=10, classifier__svc__dual=False, classifier__svc__max_iter=1000, classifier__svc__penalty=l2, classifier__vc__C=1, classifier__vc__class_weight=balanced, classifier__vc__kernel=linear; total time= 2.3min\n",
      "[CV] END classifier__logreg__class_weight=balanced, classifier__logreg__max_iter=10000, classifier__logreg__multi_class=multinomial, classifier__svc__C=10, classifier__svc__dual=False, classifier__svc__max_iter=1000, classifier__svc__penalty=l2, classifier__vc__C=1, classifier__vc__class_weight=balanced, classifier__vc__kernel=linear; total time= 2.2min\n",
      "[CV] END classifier__logreg__class_weight=balanced, classifier__logreg__max_iter=10000, classifier__logreg__multi_class=multinomial, classifier__svc__C=10, classifier__svc__dual=False, classifier__svc__max_iter=1000, classifier__svc__penalty=l2, classifier__vc__C=10, classifier__vc__class_weight=balanced, classifier__vc__kernel=linear; total time= 2.2min\n",
      "[CV] END classifier__logreg__class_weight=balanced, classifier__logreg__max_iter=10000, classifier__logreg__multi_class=multinomial, classifier__svc__C=10, classifier__svc__dual=False, classifier__svc__max_iter=1000, classifier__svc__penalty=l2, classifier__vc__C=10, classifier__vc__class_weight=balanced, classifier__vc__kernel=linear; total time= 1.9min\n",
      "[CV] END classifier__logreg__class_weight=balanced, classifier__logreg__max_iter=10000, classifier__logreg__multi_class=multinomial, classifier__svc__C=10, classifier__svc__dual=False, classifier__svc__max_iter=1000, classifier__svc__penalty=l2, classifier__vc__C=10, classifier__vc__class_weight=balanced, classifier__vc__kernel=linear; total time= 1.8min\n",
      "[CV] END classifier__logreg__class_weight=balanced, classifier__logreg__max_iter=10000, classifier__logreg__multi_class=multinomial, classifier__svc__C=10, classifier__svc__dual=False, classifier__svc__max_iter=1000, classifier__svc__penalty=l2, classifier__vc__C=10, classifier__vc__class_weight=balanced, classifier__vc__kernel=linear; total time= 1.7min\n",
      "[CV] END classifier__logreg__class_weight=balanced, classifier__logreg__max_iter=10000, classifier__logreg__multi_class=multinomial, classifier__svc__C=10, classifier__svc__dual=False, classifier__svc__max_iter=1000, classifier__svc__penalty=l2, classifier__vc__C=10, classifier__vc__class_weight=balanced, classifier__vc__kernel=linear; total time= 1.6min\n",
      "{'classifier__logreg__class_weight': 'balanced', 'classifier__logreg__max_iter': 5000, 'classifier__logreg__multi_class': 'multinomial', 'classifier__svc__C': 0.1, 'classifier__svc__dual': False, 'classifier__svc__max_iter': 500, 'classifier__svc__penalty': 'l2', 'classifier__vc__C': 10, 'classifier__vc__class_weight': 'balanced', 'classifier__vc__kernel': 'linear'}\n",
      "0.8798479376364867\n",
      "Pipeline(steps=[('preprocessor',\n",
      "                 ColumnTransformer(transformers=[('text',\n",
      "                                                  Pipeline(steps=[('tfidf',\n",
      "                                                                   TfidfVectorizer(max_features=12000)),\n",
      "                                                                  ('scaler',\n",
      "                                                                   MaxAbsScaler())]),\n",
      "                                                  'clean_text'),\n",
      "                                                 ('numeric', 'passthrough',\n",
      "                                                  ['ibm_hardware_freq'])])),\n",
      "                ('classifier',\n",
      "                 VotingClassifier(estimators=[('svc',\n",
      "                                               LinearSVC(C=0.1, dual=False,\n",
      "                                                         max_iter=500)),\n",
      "                                              ('logreg',\n",
      "                                               LogisticRegression(class_weight='balanced',\n",
      "                                                                  max_iter=5000,\n",
      "                                                                  multi_class='multinomial')),\n",
      "                                              ('vc',\n",
      "                                               SVC(C=10,\n",
      "                                                   class_weight='balanced',\n",
      "                                                   kernel='linear'))]))])\n",
      "5\n",
      "{'mean_fit_time': array([ 82.65670238,  90.74088225,  88.67555099,  82.40642285,\n",
      "        90.9438839 ,  90.12405834,  80.7583591 ,  88.58653388,\n",
      "        88.02768669, 114.57872124, 173.91713581, 106.62671137,\n",
      "        88.48152113,  96.00195603,  97.69713655,  85.53908787,\n",
      "        90.60376301,  90.57100534,  89.53772497, 135.8490694 ,\n",
      "       200.39689536, 479.72685633, 253.85108342,  93.67535324,\n",
      "       128.47585721, 214.10526376,  96.2065485 , 433.41481142,\n",
      "       444.09618764, 109.96206303,  99.68759313, 105.95245428,\n",
      "       105.86933217,  96.72753172, 106.48842969, 102.96722035,\n",
      "        80.10423641,  89.66170282,  88.97518525,  82.4833334 ,\n",
      "        91.91196594,  92.83390675,  81.75611248,  92.07256675,\n",
      "        92.61254535,  94.97168221,  93.55162096,  87.11872921,\n",
      "        88.87903013,  95.95041876,  95.11006594,  81.76974754,\n",
      "        90.48524127,  90.35492902,  90.59395547,  98.76196275,\n",
      "        98.20029774,  82.48857188,  90.68456078,  91.55291209,\n",
      "        90.55597029,  98.81098118, 104.85353174, 112.88552437,\n",
      "       117.69283361, 121.59240031, 116.26027746, 119.31369619,\n",
      "       115.36790757, 108.13416243, 123.38587222, 124.5236937 ,\n",
      "        90.43762021,  97.1145071 ,  98.81055336,  92.71791863,\n",
      "       102.59115419,  99.10378308,  88.58302765,  98.49703841,\n",
      "       105.07332325, 112.80032468, 137.28356023, 126.26142335,\n",
      "       104.64830194, 117.23973761, 118.99723773, 102.33840742,\n",
      "       149.83723483, 131.96381049, 108.75689783, 114.90540462,\n",
      "       108.0201488 ,  88.47196522,  99.35360332,  96.08294506,\n",
      "        98.92042251, 106.83531876, 105.10049376, 107.07642403,\n",
      "       113.48494582, 113.21513996, 107.49530439, 118.37558002,\n",
      "       117.46385303, 106.24846029, 117.92164059,  97.69254155]), 'std_fit_time': array([  0.58880084,   1.14466153,   1.34289003,   0.99681336,\n",
      "         1.28550927,   1.42951079,   0.74377315,   1.13281479,\n",
      "         1.64795017,  41.32783238,   1.51453166,  33.45734739,\n",
      "         0.73732421,   1.47050185,   1.53402735,   1.12428009,\n",
      "         0.79787253,   0.96956595,   0.48830482,  19.93350364,\n",
      "       148.1115701 ,   0.85962152, 192.96419924,   2.17774666,\n",
      "        77.79153368,  96.83839906,   1.70990069, 171.50637217,\n",
      "       167.51149452,   2.25379927,   1.75746171,   1.54167814,\n",
      "         1.35075655,   1.12183736,   1.32960233,   1.92594034,\n",
      "         1.08463656,   0.71175631,   1.14807281,   0.65474622,\n",
      "         0.63129871,   0.66777528,   0.26395808,   1.63859306,\n",
      "         4.55158203,   0.75601515,   6.40273352,   2.32200793,\n",
      "         0.37725994,   0.42900726,   1.69928645,   1.71584522,\n",
      "         0.89670894,   1.25206154,   1.64310002,   0.95847624,\n",
      "         1.49257724,   0.67166696,   0.74327909,   1.64767223,\n",
      "         0.76950744,   0.85661945,   5.7464005 ,   0.96503665,\n",
      "         2.71968255,   1.33268684,   0.5766289 ,   3.60820487,\n",
      "         1.40551424,   1.95962301,   3.10198637,   1.55260535,\n",
      "         2.47091752,   1.46508887,   1.65009781,   2.2306501 ,\n",
      "         1.57985554,   1.4509864 ,   0.52208235,   1.46043234,\n",
      "         2.39477166,  15.07094531,   3.80988982,   5.30424362,\n",
      "         1.23375167,   2.24605774,   1.56645926,   1.33022508,\n",
      "         2.29519669,  18.76217635,   0.55711421,   3.20261032,\n",
      "         1.84461937,   0.83951365,   0.81901341,   0.76772632,\n",
      "         1.12223509,   1.0404212 ,   0.9435197 ,   2.44128593,\n",
      "         1.17748356,   2.65812145,   1.54687354,   1.35029857,\n",
      "         2.36231247,   3.04819847,   1.33799485,  10.08088999]), 'mean_score_time': array([ 14.70927787,  15.28765202,  14.81512518,  14.74653993,\n",
      "        15.00920515,  15.09553976,  15.08202896,  15.25878315,\n",
      "        14.73554015,  15.11546459,  14.83548036,  14.87083797,\n",
      "        14.91538005,  14.65985575,  15.23610444,  15.69932351,\n",
      "        14.66360087,  14.47280641,  20.23015184,  24.67330027,\n",
      "        15.26208229,  16.21846895,  15.15977478,  14.9800138 ,\n",
      "       170.72017007,  14.71822963,  14.68293061,  15.50532174,\n",
      "        15.18181214,  14.98598657,  15.23265657,  14.91521521,\n",
      "        14.74247174,  14.96494083,  14.49683623,  14.7525136 ,\n",
      "        15.09916148,  14.55715227,  15.13287716,  15.65507798,\n",
      "        15.71822767,  16.12184868,  16.58728929,  15.32040739,\n",
      "        15.65916581,  15.28567939,  14.72784286,  15.40548677,\n",
      "        14.68042707,  15.14611077,  15.15509486,  14.92308741,\n",
      "        14.91135683,  15.23350439,  15.28176327,  15.52328725,\n",
      "        14.79285722,  15.11028056,  14.99503078,  15.03637166,\n",
      "        15.45937119,  14.97005081,  16.25341582,  16.4997788 ,\n",
      "        17.1703836 ,  17.42365479,  17.31832495,  16.04640522,\n",
      "        16.45170965,  17.33988843,  17.56299214,  17.58799939,\n",
      "        15.61881499,  16.65310488,  16.19056206,  16.47137222,\n",
      "        16.17041297,  15.79533234,  16.03366156,  16.91909828,\n",
      "        19.0834188 ,  24.51886892,  24.03271933,  18.06773667,\n",
      "        16.79675503,  17.94730258,  17.59476647,  20.14662156,\n",
      "        18.28619819,  17.9154788 ,  18.67373176,  16.01703162,\n",
      "        16.07461929,  16.82467589,  15.79690742,  16.65538917,\n",
      "        16.25733175,  15.69283972,  17.07920532,  16.23352108,\n",
      "        16.17487917,  16.39657669,  16.60144343,  16.85644484,\n",
      "        16.11282654,  17.28213735,  16.53839688,  12.40524845]), 'std_score_time': array([ 0.16355783,  0.72254272,  0.24308519,  0.09490927,  0.28812094,\n",
      "        0.59500768,  0.40509723,  0.29788625,  0.30266252,  0.19956262,\n",
      "        0.20907084,  0.25510356,  0.19722537,  0.24183709,  0.10398107,\n",
      "        0.51404084,  0.13876823,  0.58457977, 11.76065656, 18.92769925,\n",
      "        0.46787756,  0.21673399,  0.64624455,  0.42770207, 77.18747716,\n",
      "        0.31606128,  0.24445592,  0.37342409,  0.25490313,  0.15191161,\n",
      "        0.21949294,  0.33528532,  0.38772043,  0.24731563,  0.15245631,\n",
      "        0.27341345,  0.20809502,  0.09731646,  0.4472003 ,  0.23348368,\n",
      "        0.59102073,  0.76477993,  0.51428782,  0.63399209,  1.11238251,\n",
      "        0.21695075,  0.80773682,  0.68010545,  0.36923474,  0.87762418,\n",
      "        0.48061202,  0.45876994,  0.34694424,  0.53179359,  0.71659112,\n",
      "        0.11233992,  0.46868703,  0.42126626,  0.24255703,  0.50126237,\n",
      "        0.52164981,  0.20765748,  0.72263617,  0.2957772 ,  0.65508233,\n",
      "        1.14281837,  0.17301129,  0.87631831,  0.19863267,  0.53359442,\n",
      "        0.40729447,  0.8153412 ,  0.31082246,  1.04859592,  0.33500592,\n",
      "        0.3070704 ,  0.30613934,  0.21718528,  0.41801372,  0.65101223,\n",
      "        3.25513757,  4.54396992,  4.07395825,  4.73460457,  0.29603118,\n",
      "        0.76408391,  0.29775373,  1.38006974,  1.51524844,  0.61030822,\n",
      "        0.28888561,  0.67449101,  0.55749629,  1.01093078,  0.4020381 ,\n",
      "        0.22050738,  0.64912884,  0.43314683,  1.49643538,  0.5163272 ,\n",
      "        0.53285995,  0.67086863,  1.10783641,  0.42732111,  0.68448572,\n",
      "        1.19415317,  0.22849779,  1.10598098]), 'param_classifier__logreg__class_weight': masked_array(data=['balanced', 'balanced', 'balanced', 'balanced',\n",
      "                   'balanced', 'balanced', 'balanced', 'balanced',\n",
      "                   'balanced', 'balanced', 'balanced', 'balanced',\n",
      "                   'balanced', 'balanced', 'balanced', 'balanced',\n",
      "                   'balanced', 'balanced', 'balanced', 'balanced',\n",
      "                   'balanced', 'balanced', 'balanced', 'balanced',\n",
      "                   'balanced', 'balanced', 'balanced', 'balanced',\n",
      "                   'balanced', 'balanced', 'balanced', 'balanced',\n",
      "                   'balanced', 'balanced', 'balanced', 'balanced',\n",
      "                   'balanced', 'balanced', 'balanced', 'balanced',\n",
      "                   'balanced', 'balanced', 'balanced', 'balanced',\n",
      "                   'balanced', 'balanced', 'balanced', 'balanced',\n",
      "                   'balanced', 'balanced', 'balanced', 'balanced',\n",
      "                   'balanced', 'balanced', 'balanced', 'balanced',\n",
      "                   'balanced', 'balanced', 'balanced', 'balanced',\n",
      "                   'balanced', 'balanced', 'balanced', 'balanced',\n",
      "                   'balanced', 'balanced', 'balanced', 'balanced',\n",
      "                   'balanced', 'balanced', 'balanced', 'balanced',\n",
      "                   'balanced', 'balanced', 'balanced', 'balanced',\n",
      "                   'balanced', 'balanced', 'balanced', 'balanced',\n",
      "                   'balanced', 'balanced', 'balanced', 'balanced',\n",
      "                   'balanced', 'balanced', 'balanced', 'balanced',\n",
      "                   'balanced', 'balanced', 'balanced', 'balanced',\n",
      "                   'balanced', 'balanced', 'balanced', 'balanced',\n",
      "                   'balanced', 'balanced', 'balanced', 'balanced',\n",
      "                   'balanced', 'balanced', 'balanced', 'balanced',\n",
      "                   'balanced', 'balanced', 'balanced', 'balanced'],\n",
      "             mask=[False, False, False, False, False, False, False, False,\n",
      "                   False, False, False, False, False, False, False, False,\n",
      "                   False, False, False, False, False, False, False, False,\n",
      "                   False, False, False, False, False, False, False, False,\n",
      "                   False, False, False, False, False, False, False, False,\n",
      "                   False, False, False, False, False, False, False, False,\n",
      "                   False, False, False, False, False, False, False, False,\n",
      "                   False, False, False, False, False, False, False, False,\n",
      "                   False, False, False, False, False, False, False, False,\n",
      "                   False, False, False, False, False, False, False, False,\n",
      "                   False, False, False, False, False, False, False, False,\n",
      "                   False, False, False, False, False, False, False, False,\n",
      "                   False, False, False, False, False, False, False, False,\n",
      "                   False, False, False, False],\n",
      "       fill_value='?',\n",
      "            dtype=object), 'param_classifier__logreg__max_iter': masked_array(data=[5000, 5000, 5000, 5000, 5000, 5000, 5000, 5000, 5000,\n",
      "                   5000, 5000, 5000, 5000, 5000, 5000, 5000, 5000, 5000,\n",
      "                   5000, 5000, 5000, 5000, 5000, 5000, 5000, 5000, 5000,\n",
      "                   5000, 5000, 5000, 5000, 5000, 5000, 5000, 5000, 5000,\n",
      "                   9000, 9000, 9000, 9000, 9000, 9000, 9000, 9000, 9000,\n",
      "                   9000, 9000, 9000, 9000, 9000, 9000, 9000, 9000, 9000,\n",
      "                   9000, 9000, 9000, 9000, 9000, 9000, 9000, 9000, 9000,\n",
      "                   9000, 9000, 9000, 9000, 9000, 9000, 9000, 9000, 9000,\n",
      "                   10000, 10000, 10000, 10000, 10000, 10000, 10000, 10000,\n",
      "                   10000, 10000, 10000, 10000, 10000, 10000, 10000, 10000,\n",
      "                   10000, 10000, 10000, 10000, 10000, 10000, 10000, 10000,\n",
      "                   10000, 10000, 10000, 10000, 10000, 10000, 10000, 10000,\n",
      "                   10000, 10000, 10000, 10000],\n",
      "             mask=[False, False, False, False, False, False, False, False,\n",
      "                   False, False, False, False, False, False, False, False,\n",
      "                   False, False, False, False, False, False, False, False,\n",
      "                   False, False, False, False, False, False, False, False,\n",
      "                   False, False, False, False, False, False, False, False,\n",
      "                   False, False, False, False, False, False, False, False,\n",
      "                   False, False, False, False, False, False, False, False,\n",
      "                   False, False, False, False, False, False, False, False,\n",
      "                   False, False, False, False, False, False, False, False,\n",
      "                   False, False, False, False, False, False, False, False,\n",
      "                   False, False, False, False, False, False, False, False,\n",
      "                   False, False, False, False, False, False, False, False,\n",
      "                   False, False, False, False, False, False, False, False,\n",
      "                   False, False, False, False],\n",
      "       fill_value='?',\n",
      "            dtype=object), 'param_classifier__logreg__multi_class': masked_array(data=['multinomial', 'multinomial', 'multinomial',\n",
      "                   'multinomial', 'multinomial', 'multinomial',\n",
      "                   'multinomial', 'multinomial', 'multinomial',\n",
      "                   'multinomial', 'multinomial', 'multinomial',\n",
      "                   'multinomial', 'multinomial', 'multinomial',\n",
      "                   'multinomial', 'multinomial', 'multinomial',\n",
      "                   'multinomial', 'multinomial', 'multinomial',\n",
      "                   'multinomial', 'multinomial', 'multinomial',\n",
      "                   'multinomial', 'multinomial', 'multinomial',\n",
      "                   'multinomial', 'multinomial', 'multinomial',\n",
      "                   'multinomial', 'multinomial', 'multinomial',\n",
      "                   'multinomial', 'multinomial', 'multinomial',\n",
      "                   'multinomial', 'multinomial', 'multinomial',\n",
      "                   'multinomial', 'multinomial', 'multinomial',\n",
      "                   'multinomial', 'multinomial', 'multinomial',\n",
      "                   'multinomial', 'multinomial', 'multinomial',\n",
      "                   'multinomial', 'multinomial', 'multinomial',\n",
      "                   'multinomial', 'multinomial', 'multinomial',\n",
      "                   'multinomial', 'multinomial', 'multinomial',\n",
      "                   'multinomial', 'multinomial', 'multinomial',\n",
      "                   'multinomial', 'multinomial', 'multinomial',\n",
      "                   'multinomial', 'multinomial', 'multinomial',\n",
      "                   'multinomial', 'multinomial', 'multinomial',\n",
      "                   'multinomial', 'multinomial', 'multinomial',\n",
      "                   'multinomial', 'multinomial', 'multinomial',\n",
      "                   'multinomial', 'multinomial', 'multinomial',\n",
      "                   'multinomial', 'multinomial', 'multinomial',\n",
      "                   'multinomial', 'multinomial', 'multinomial',\n",
      "                   'multinomial', 'multinomial', 'multinomial',\n",
      "                   'multinomial', 'multinomial', 'multinomial',\n",
      "                   'multinomial', 'multinomial', 'multinomial',\n",
      "                   'multinomial', 'multinomial', 'multinomial',\n",
      "                   'multinomial', 'multinomial', 'multinomial',\n",
      "                   'multinomial', 'multinomial', 'multinomial',\n",
      "                   'multinomial', 'multinomial', 'multinomial',\n",
      "                   'multinomial', 'multinomial', 'multinomial'],\n",
      "             mask=[False, False, False, False, False, False, False, False,\n",
      "                   False, False, False, False, False, False, False, False,\n",
      "                   False, False, False, False, False, False, False, False,\n",
      "                   False, False, False, False, False, False, False, False,\n",
      "                   False, False, False, False, False, False, False, False,\n",
      "                   False, False, False, False, False, False, False, False,\n",
      "                   False, False, False, False, False, False, False, False,\n",
      "                   False, False, False, False, False, False, False, False,\n",
      "                   False, False, False, False, False, False, False, False,\n",
      "                   False, False, False, False, False, False, False, False,\n",
      "                   False, False, False, False, False, False, False, False,\n",
      "                   False, False, False, False, False, False, False, False,\n",
      "                   False, False, False, False, False, False, False, False,\n",
      "                   False, False, False, False],\n",
      "       fill_value='?',\n",
      "            dtype=object), 'param_classifier__svc__C': masked_array(data=[0.1, 0.1, 0.1, 0.1, 0.1, 0.1, 0.1, 0.1, 0.1, 0.1, 0.1,\n",
      "                   0.1, 1, 1, 1, 1, 1, 1, 1, 1, 1, 1, 1, 1, 10, 10, 10,\n",
      "                   10, 10, 10, 10, 10, 10, 10, 10, 10, 0.1, 0.1, 0.1, 0.1,\n",
      "                   0.1, 0.1, 0.1, 0.1, 0.1, 0.1, 0.1, 0.1, 1, 1, 1, 1, 1,\n",
      "                   1, 1, 1, 1, 1, 1, 1, 10, 10, 10, 10, 10, 10, 10, 10,\n",
      "                   10, 10, 10, 10, 0.1, 0.1, 0.1, 0.1, 0.1, 0.1, 0.1, 0.1,\n",
      "                   0.1, 0.1, 0.1, 0.1, 1, 1, 1, 1, 1, 1, 1, 1, 1, 1, 1, 1,\n",
      "                   10, 10, 10, 10, 10, 10, 10, 10, 10, 10, 10, 10],\n",
      "             mask=[False, False, False, False, False, False, False, False,\n",
      "                   False, False, False, False, False, False, False, False,\n",
      "                   False, False, False, False, False, False, False, False,\n",
      "                   False, False, False, False, False, False, False, False,\n",
      "                   False, False, False, False, False, False, False, False,\n",
      "                   False, False, False, False, False, False, False, False,\n",
      "                   False, False, False, False, False, False, False, False,\n",
      "                   False, False, False, False, False, False, False, False,\n",
      "                   False, False, False, False, False, False, False, False,\n",
      "                   False, False, False, False, False, False, False, False,\n",
      "                   False, False, False, False, False, False, False, False,\n",
      "                   False, False, False, False, False, False, False, False,\n",
      "                   False, False, False, False, False, False, False, False,\n",
      "                   False, False, False, False],\n",
      "       fill_value='?',\n",
      "            dtype=object), 'param_classifier__svc__dual': masked_array(data=[False, False, False, False, False, False, False, False,\n",
      "                   False, False, False, False, False, False, False, False,\n",
      "                   False, False, False, False, False, False, False, False,\n",
      "                   False, False, False, False, False, False, False, False,\n",
      "                   False, False, False, False, False, False, False, False,\n",
      "                   False, False, False, False, False, False, False, False,\n",
      "                   False, False, False, False, False, False, False, False,\n",
      "                   False, False, False, False, False, False, False, False,\n",
      "                   False, False, False, False, False, False, False, False,\n",
      "                   False, False, False, False, False, False, False, False,\n",
      "                   False, False, False, False, False, False, False, False,\n",
      "                   False, False, False, False, False, False, False, False,\n",
      "                   False, False, False, False, False, False, False, False,\n",
      "                   False, False, False, False],\n",
      "             mask=[False, False, False, False, False, False, False, False,\n",
      "                   False, False, False, False, False, False, False, False,\n",
      "                   False, False, False, False, False, False, False, False,\n",
      "                   False, False, False, False, False, False, False, False,\n",
      "                   False, False, False, False, False, False, False, False,\n",
      "                   False, False, False, False, False, False, False, False,\n",
      "                   False, False, False, False, False, False, False, False,\n",
      "                   False, False, False, False, False, False, False, False,\n",
      "                   False, False, False, False, False, False, False, False,\n",
      "                   False, False, False, False, False, False, False, False,\n",
      "                   False, False, False, False, False, False, False, False,\n",
      "                   False, False, False, False, False, False, False, False,\n",
      "                   False, False, False, False, False, False, False, False,\n",
      "                   False, False, False, False],\n",
      "       fill_value='?',\n",
      "            dtype=object), 'param_classifier__svc__max_iter': masked_array(data=[500, 500, 500, 500, 500, 500, 1000, 1000, 1000, 1000,\n",
      "                   1000, 1000, 500, 500, 500, 500, 500, 500, 1000, 1000,\n",
      "                   1000, 1000, 1000, 1000, 500, 500, 500, 500, 500, 500,\n",
      "                   1000, 1000, 1000, 1000, 1000, 1000, 500, 500, 500, 500,\n",
      "                   500, 500, 1000, 1000, 1000, 1000, 1000, 1000, 500, 500,\n",
      "                   500, 500, 500, 500, 1000, 1000, 1000, 1000, 1000, 1000,\n",
      "                   500, 500, 500, 500, 500, 500, 1000, 1000, 1000, 1000,\n",
      "                   1000, 1000, 500, 500, 500, 500, 500, 500, 1000, 1000,\n",
      "                   1000, 1000, 1000, 1000, 500, 500, 500, 500, 500, 500,\n",
      "                   1000, 1000, 1000, 1000, 1000, 1000, 500, 500, 500, 500,\n",
      "                   500, 500, 1000, 1000, 1000, 1000, 1000, 1000],\n",
      "             mask=[False, False, False, False, False, False, False, False,\n",
      "                   False, False, False, False, False, False, False, False,\n",
      "                   False, False, False, False, False, False, False, False,\n",
      "                   False, False, False, False, False, False, False, False,\n",
      "                   False, False, False, False, False, False, False, False,\n",
      "                   False, False, False, False, False, False, False, False,\n",
      "                   False, False, False, False, False, False, False, False,\n",
      "                   False, False, False, False, False, False, False, False,\n",
      "                   False, False, False, False, False, False, False, False,\n",
      "                   False, False, False, False, False, False, False, False,\n",
      "                   False, False, False, False, False, False, False, False,\n",
      "                   False, False, False, False, False, False, False, False,\n",
      "                   False, False, False, False, False, False, False, False,\n",
      "                   False, False, False, False],\n",
      "       fill_value='?',\n",
      "            dtype=object), 'param_classifier__svc__penalty': masked_array(data=['l1', 'l1', 'l1', 'l2', 'l2', 'l2', 'l1', 'l1', 'l1',\n",
      "                   'l2', 'l2', 'l2', 'l1', 'l1', 'l1', 'l2', 'l2', 'l2',\n",
      "                   'l1', 'l1', 'l1', 'l2', 'l2', 'l2', 'l1', 'l1', 'l1',\n",
      "                   'l2', 'l2', 'l2', 'l1', 'l1', 'l1', 'l2', 'l2', 'l2',\n",
      "                   'l1', 'l1', 'l1', 'l2', 'l2', 'l2', 'l1', 'l1', 'l1',\n",
      "                   'l2', 'l2', 'l2', 'l1', 'l1', 'l1', 'l2', 'l2', 'l2',\n",
      "                   'l1', 'l1', 'l1', 'l2', 'l2', 'l2', 'l1', 'l1', 'l1',\n",
      "                   'l2', 'l2', 'l2', 'l1', 'l1', 'l1', 'l2', 'l2', 'l2',\n",
      "                   'l1', 'l1', 'l1', 'l2', 'l2', 'l2', 'l1', 'l1', 'l1',\n",
      "                   'l2', 'l2', 'l2', 'l1', 'l1', 'l1', 'l2', 'l2', 'l2',\n",
      "                   'l1', 'l1', 'l1', 'l2', 'l2', 'l2', 'l1', 'l1', 'l1',\n",
      "                   'l2', 'l2', 'l2', 'l1', 'l1', 'l1', 'l2', 'l2', 'l2'],\n",
      "             mask=[False, False, False, False, False, False, False, False,\n",
      "                   False, False, False, False, False, False, False, False,\n",
      "                   False, False, False, False, False, False, False, False,\n",
      "                   False, False, False, False, False, False, False, False,\n",
      "                   False, False, False, False, False, False, False, False,\n",
      "                   False, False, False, False, False, False, False, False,\n",
      "                   False, False, False, False, False, False, False, False,\n",
      "                   False, False, False, False, False, False, False, False,\n",
      "                   False, False, False, False, False, False, False, False,\n",
      "                   False, False, False, False, False, False, False, False,\n",
      "                   False, False, False, False, False, False, False, False,\n",
      "                   False, False, False, False, False, False, False, False,\n",
      "                   False, False, False, False, False, False, False, False,\n",
      "                   False, False, False, False],\n",
      "       fill_value='?',\n",
      "            dtype=object), 'param_classifier__vc__C': masked_array(data=[0.1, 1, 10, 0.1, 1, 10, 0.1, 1, 10, 0.1, 1, 10, 0.1, 1,\n",
      "                   10, 0.1, 1, 10, 0.1, 1, 10, 0.1, 1, 10, 0.1, 1, 10,\n",
      "                   0.1, 1, 10, 0.1, 1, 10, 0.1, 1, 10, 0.1, 1, 10, 0.1, 1,\n",
      "                   10, 0.1, 1, 10, 0.1, 1, 10, 0.1, 1, 10, 0.1, 1, 10,\n",
      "                   0.1, 1, 10, 0.1, 1, 10, 0.1, 1, 10, 0.1, 1, 10, 0.1, 1,\n",
      "                   10, 0.1, 1, 10, 0.1, 1, 10, 0.1, 1, 10, 0.1, 1, 10,\n",
      "                   0.1, 1, 10, 0.1, 1, 10, 0.1, 1, 10, 0.1, 1, 10, 0.1, 1,\n",
      "                   10, 0.1, 1, 10, 0.1, 1, 10, 0.1, 1, 10, 0.1, 1, 10],\n",
      "             mask=[False, False, False, False, False, False, False, False,\n",
      "                   False, False, False, False, False, False, False, False,\n",
      "                   False, False, False, False, False, False, False, False,\n",
      "                   False, False, False, False, False, False, False, False,\n",
      "                   False, False, False, False, False, False, False, False,\n",
      "                   False, False, False, False, False, False, False, False,\n",
      "                   False, False, False, False, False, False, False, False,\n",
      "                   False, False, False, False, False, False, False, False,\n",
      "                   False, False, False, False, False, False, False, False,\n",
      "                   False, False, False, False, False, False, False, False,\n",
      "                   False, False, False, False, False, False, False, False,\n",
      "                   False, False, False, False, False, False, False, False,\n",
      "                   False, False, False, False, False, False, False, False,\n",
      "                   False, False, False, False],\n",
      "       fill_value='?',\n",
      "            dtype=object), 'param_classifier__vc__class_weight': masked_array(data=['balanced', 'balanced', 'balanced', 'balanced',\n",
      "                   'balanced', 'balanced', 'balanced', 'balanced',\n",
      "                   'balanced', 'balanced', 'balanced', 'balanced',\n",
      "                   'balanced', 'balanced', 'balanced', 'balanced',\n",
      "                   'balanced', 'balanced', 'balanced', 'balanced',\n",
      "                   'balanced', 'balanced', 'balanced', 'balanced',\n",
      "                   'balanced', 'balanced', 'balanced', 'balanced',\n",
      "                   'balanced', 'balanced', 'balanced', 'balanced',\n",
      "                   'balanced', 'balanced', 'balanced', 'balanced',\n",
      "                   'balanced', 'balanced', 'balanced', 'balanced',\n",
      "                   'balanced', 'balanced', 'balanced', 'balanced',\n",
      "                   'balanced', 'balanced', 'balanced', 'balanced',\n",
      "                   'balanced', 'balanced', 'balanced', 'balanced',\n",
      "                   'balanced', 'balanced', 'balanced', 'balanced',\n",
      "                   'balanced', 'balanced', 'balanced', 'balanced',\n",
      "                   'balanced', 'balanced', 'balanced', 'balanced',\n",
      "                   'balanced', 'balanced', 'balanced', 'balanced',\n",
      "                   'balanced', 'balanced', 'balanced', 'balanced',\n",
      "                   'balanced', 'balanced', 'balanced', 'balanced',\n",
      "                   'balanced', 'balanced', 'balanced', 'balanced',\n",
      "                   'balanced', 'balanced', 'balanced', 'balanced',\n",
      "                   'balanced', 'balanced', 'balanced', 'balanced',\n",
      "                   'balanced', 'balanced', 'balanced', 'balanced',\n",
      "                   'balanced', 'balanced', 'balanced', 'balanced',\n",
      "                   'balanced', 'balanced', 'balanced', 'balanced',\n",
      "                   'balanced', 'balanced', 'balanced', 'balanced',\n",
      "                   'balanced', 'balanced', 'balanced', 'balanced'],\n",
      "             mask=[False, False, False, False, False, False, False, False,\n",
      "                   False, False, False, False, False, False, False, False,\n",
      "                   False, False, False, False, False, False, False, False,\n",
      "                   False, False, False, False, False, False, False, False,\n",
      "                   False, False, False, False, False, False, False, False,\n",
      "                   False, False, False, False, False, False, False, False,\n",
      "                   False, False, False, False, False, False, False, False,\n",
      "                   False, False, False, False, False, False, False, False,\n",
      "                   False, False, False, False, False, False, False, False,\n",
      "                   False, False, False, False, False, False, False, False,\n",
      "                   False, False, False, False, False, False, False, False,\n",
      "                   False, False, False, False, False, False, False, False,\n",
      "                   False, False, False, False, False, False, False, False,\n",
      "                   False, False, False, False],\n",
      "       fill_value='?',\n",
      "            dtype=object), 'param_classifier__vc__kernel': masked_array(data=['linear', 'linear', 'linear', 'linear', 'linear',\n",
      "                   'linear', 'linear', 'linear', 'linear', 'linear',\n",
      "                   'linear', 'linear', 'linear', 'linear', 'linear',\n",
      "                   'linear', 'linear', 'linear', 'linear', 'linear',\n",
      "                   'linear', 'linear', 'linear', 'linear', 'linear',\n",
      "                   'linear', 'linear', 'linear', 'linear', 'linear',\n",
      "                   'linear', 'linear', 'linear', 'linear', 'linear',\n",
      "                   'linear', 'linear', 'linear', 'linear', 'linear',\n",
      "                   'linear', 'linear', 'linear', 'linear', 'linear',\n",
      "                   'linear', 'linear', 'linear', 'linear', 'linear',\n",
      "                   'linear', 'linear', 'linear', 'linear', 'linear',\n",
      "                   'linear', 'linear', 'linear', 'linear', 'linear',\n",
      "                   'linear', 'linear', 'linear', 'linear', 'linear',\n",
      "                   'linear', 'linear', 'linear', 'linear', 'linear',\n",
      "                   'linear', 'linear', 'linear', 'linear', 'linear',\n",
      "                   'linear', 'linear', 'linear', 'linear', 'linear',\n",
      "                   'linear', 'linear', 'linear', 'linear', 'linear',\n",
      "                   'linear', 'linear', 'linear', 'linear', 'linear',\n",
      "                   'linear', 'linear', 'linear', 'linear', 'linear',\n",
      "                   'linear', 'linear', 'linear', 'linear', 'linear',\n",
      "                   'linear', 'linear', 'linear', 'linear', 'linear',\n",
      "                   'linear', 'linear', 'linear'],\n",
      "             mask=[False, False, False, False, False, False, False, False,\n",
      "                   False, False, False, False, False, False, False, False,\n",
      "                   False, False, False, False, False, False, False, False,\n",
      "                   False, False, False, False, False, False, False, False,\n",
      "                   False, False, False, False, False, False, False, False,\n",
      "                   False, False, False, False, False, False, False, False,\n",
      "                   False, False, False, False, False, False, False, False,\n",
      "                   False, False, False, False, False, False, False, False,\n",
      "                   False, False, False, False, False, False, False, False,\n",
      "                   False, False, False, False, False, False, False, False,\n",
      "                   False, False, False, False, False, False, False, False,\n",
      "                   False, False, False, False, False, False, False, False,\n",
      "                   False, False, False, False, False, False, False, False,\n",
      "                   False, False, False, False],\n",
      "       fill_value='?',\n",
      "            dtype=object), 'params': [{'classifier__logreg__class_weight': 'balanced', 'classifier__logreg__max_iter': 5000, 'classifier__logreg__multi_class': 'multinomial', 'classifier__svc__C': 0.1, 'classifier__svc__dual': False, 'classifier__svc__max_iter': 500, 'classifier__svc__penalty': 'l1', 'classifier__vc__C': 0.1, 'classifier__vc__class_weight': 'balanced', 'classifier__vc__kernel': 'linear'}, {'classifier__logreg__class_weight': 'balanced', 'classifier__logreg__max_iter': 5000, 'classifier__logreg__multi_class': 'multinomial', 'classifier__svc__C': 0.1, 'classifier__svc__dual': False, 'classifier__svc__max_iter': 500, 'classifier__svc__penalty': 'l1', 'classifier__vc__C': 1, 'classifier__vc__class_weight': 'balanced', 'classifier__vc__kernel': 'linear'}, {'classifier__logreg__class_weight': 'balanced', 'classifier__logreg__max_iter': 5000, 'classifier__logreg__multi_class': 'multinomial', 'classifier__svc__C': 0.1, 'classifier__svc__dual': False, 'classifier__svc__max_iter': 500, 'classifier__svc__penalty': 'l1', 'classifier__vc__C': 10, 'classifier__vc__class_weight': 'balanced', 'classifier__vc__kernel': 'linear'}, {'classifier__logreg__class_weight': 'balanced', 'classifier__logreg__max_iter': 5000, 'classifier__logreg__multi_class': 'multinomial', 'classifier__svc__C': 0.1, 'classifier__svc__dual': False, 'classifier__svc__max_iter': 500, 'classifier__svc__penalty': 'l2', 'classifier__vc__C': 0.1, 'classifier__vc__class_weight': 'balanced', 'classifier__vc__kernel': 'linear'}, {'classifier__logreg__class_weight': 'balanced', 'classifier__logreg__max_iter': 5000, 'classifier__logreg__multi_class': 'multinomial', 'classifier__svc__C': 0.1, 'classifier__svc__dual': False, 'classifier__svc__max_iter': 500, 'classifier__svc__penalty': 'l2', 'classifier__vc__C': 1, 'classifier__vc__class_weight': 'balanced', 'classifier__vc__kernel': 'linear'}, {'classifier__logreg__class_weight': 'balanced', 'classifier__logreg__max_iter': 5000, 'classifier__logreg__multi_class': 'multinomial', 'classifier__svc__C': 0.1, 'classifier__svc__dual': False, 'classifier__svc__max_iter': 500, 'classifier__svc__penalty': 'l2', 'classifier__vc__C': 10, 'classifier__vc__class_weight': 'balanced', 'classifier__vc__kernel': 'linear'}, {'classifier__logreg__class_weight': 'balanced', 'classifier__logreg__max_iter': 5000, 'classifier__logreg__multi_class': 'multinomial', 'classifier__svc__C': 0.1, 'classifier__svc__dual': False, 'classifier__svc__max_iter': 1000, 'classifier__svc__penalty': 'l1', 'classifier__vc__C': 0.1, 'classifier__vc__class_weight': 'balanced', 'classifier__vc__kernel': 'linear'}, {'classifier__logreg__class_weight': 'balanced', 'classifier__logreg__max_iter': 5000, 'classifier__logreg__multi_class': 'multinomial', 'classifier__svc__C': 0.1, 'classifier__svc__dual': False, 'classifier__svc__max_iter': 1000, 'classifier__svc__penalty': 'l1', 'classifier__vc__C': 1, 'classifier__vc__class_weight': 'balanced', 'classifier__vc__kernel': 'linear'}, {'classifier__logreg__class_weight': 'balanced', 'classifier__logreg__max_iter': 5000, 'classifier__logreg__multi_class': 'multinomial', 'classifier__svc__C': 0.1, 'classifier__svc__dual': False, 'classifier__svc__max_iter': 1000, 'classifier__svc__penalty': 'l1', 'classifier__vc__C': 10, 'classifier__vc__class_weight': 'balanced', 'classifier__vc__kernel': 'linear'}, {'classifier__logreg__class_weight': 'balanced', 'classifier__logreg__max_iter': 5000, 'classifier__logreg__multi_class': 'multinomial', 'classifier__svc__C': 0.1, 'classifier__svc__dual': False, 'classifier__svc__max_iter': 1000, 'classifier__svc__penalty': 'l2', 'classifier__vc__C': 0.1, 'classifier__vc__class_weight': 'balanced', 'classifier__vc__kernel': 'linear'}, {'classifier__logreg__class_weight': 'balanced', 'classifier__logreg__max_iter': 5000, 'classifier__logreg__multi_class': 'multinomial', 'classifier__svc__C': 0.1, 'classifier__svc__dual': False, 'classifier__svc__max_iter': 1000, 'classifier__svc__penalty': 'l2', 'classifier__vc__C': 1, 'classifier__vc__class_weight': 'balanced', 'classifier__vc__kernel': 'linear'}, {'classifier__logreg__class_weight': 'balanced', 'classifier__logreg__max_iter': 5000, 'classifier__logreg__multi_class': 'multinomial', 'classifier__svc__C': 0.1, 'classifier__svc__dual': False, 'classifier__svc__max_iter': 1000, 'classifier__svc__penalty': 'l2', 'classifier__vc__C': 10, 'classifier__vc__class_weight': 'balanced', 'classifier__vc__kernel': 'linear'}, {'classifier__logreg__class_weight': 'balanced', 'classifier__logreg__max_iter': 5000, 'classifier__logreg__multi_class': 'multinomial', 'classifier__svc__C': 1, 'classifier__svc__dual': False, 'classifier__svc__max_iter': 500, 'classifier__svc__penalty': 'l1', 'classifier__vc__C': 0.1, 'classifier__vc__class_weight': 'balanced', 'classifier__vc__kernel': 'linear'}, {'classifier__logreg__class_weight': 'balanced', 'classifier__logreg__max_iter': 5000, 'classifier__logreg__multi_class': 'multinomial', 'classifier__svc__C': 1, 'classifier__svc__dual': False, 'classifier__svc__max_iter': 500, 'classifier__svc__penalty': 'l1', 'classifier__vc__C': 1, 'classifier__vc__class_weight': 'balanced', 'classifier__vc__kernel': 'linear'}, {'classifier__logreg__class_weight': 'balanced', 'classifier__logreg__max_iter': 5000, 'classifier__logreg__multi_class': 'multinomial', 'classifier__svc__C': 1, 'classifier__svc__dual': False, 'classifier__svc__max_iter': 500, 'classifier__svc__penalty': 'l1', 'classifier__vc__C': 10, 'classifier__vc__class_weight': 'balanced', 'classifier__vc__kernel': 'linear'}, {'classifier__logreg__class_weight': 'balanced', 'classifier__logreg__max_iter': 5000, 'classifier__logreg__multi_class': 'multinomial', 'classifier__svc__C': 1, 'classifier__svc__dual': False, 'classifier__svc__max_iter': 500, 'classifier__svc__penalty': 'l2', 'classifier__vc__C': 0.1, 'classifier__vc__class_weight': 'balanced', 'classifier__vc__kernel': 'linear'}, {'classifier__logreg__class_weight': 'balanced', 'classifier__logreg__max_iter': 5000, 'classifier__logreg__multi_class': 'multinomial', 'classifier__svc__C': 1, 'classifier__svc__dual': False, 'classifier__svc__max_iter': 500, 'classifier__svc__penalty': 'l2', 'classifier__vc__C': 1, 'classifier__vc__class_weight': 'balanced', 'classifier__vc__kernel': 'linear'}, {'classifier__logreg__class_weight': 'balanced', 'classifier__logreg__max_iter': 5000, 'classifier__logreg__multi_class': 'multinomial', 'classifier__svc__C': 1, 'classifier__svc__dual': False, 'classifier__svc__max_iter': 500, 'classifier__svc__penalty': 'l2', 'classifier__vc__C': 10, 'classifier__vc__class_weight': 'balanced', 'classifier__vc__kernel': 'linear'}, {'classifier__logreg__class_weight': 'balanced', 'classifier__logreg__max_iter': 5000, 'classifier__logreg__multi_class': 'multinomial', 'classifier__svc__C': 1, 'classifier__svc__dual': False, 'classifier__svc__max_iter': 1000, 'classifier__svc__penalty': 'l1', 'classifier__vc__C': 0.1, 'classifier__vc__class_weight': 'balanced', 'classifier__vc__kernel': 'linear'}, {'classifier__logreg__class_weight': 'balanced', 'classifier__logreg__max_iter': 5000, 'classifier__logreg__multi_class': 'multinomial', 'classifier__svc__C': 1, 'classifier__svc__dual': False, 'classifier__svc__max_iter': 1000, 'classifier__svc__penalty': 'l1', 'classifier__vc__C': 1, 'classifier__vc__class_weight': 'balanced', 'classifier__vc__kernel': 'linear'}, {'classifier__logreg__class_weight': 'balanced', 'classifier__logreg__max_iter': 5000, 'classifier__logreg__multi_class': 'multinomial', 'classifier__svc__C': 1, 'classifier__svc__dual': False, 'classifier__svc__max_iter': 1000, 'classifier__svc__penalty': 'l1', 'classifier__vc__C': 10, 'classifier__vc__class_weight': 'balanced', 'classifier__vc__kernel': 'linear'}, {'classifier__logreg__class_weight': 'balanced', 'classifier__logreg__max_iter': 5000, 'classifier__logreg__multi_class': 'multinomial', 'classifier__svc__C': 1, 'classifier__svc__dual': False, 'classifier__svc__max_iter': 1000, 'classifier__svc__penalty': 'l2', 'classifier__vc__C': 0.1, 'classifier__vc__class_weight': 'balanced', 'classifier__vc__kernel': 'linear'}, {'classifier__logreg__class_weight': 'balanced', 'classifier__logreg__max_iter': 5000, 'classifier__logreg__multi_class': 'multinomial', 'classifier__svc__C': 1, 'classifier__svc__dual': False, 'classifier__svc__max_iter': 1000, 'classifier__svc__penalty': 'l2', 'classifier__vc__C': 1, 'classifier__vc__class_weight': 'balanced', 'classifier__vc__kernel': 'linear'}, {'classifier__logreg__class_weight': 'balanced', 'classifier__logreg__max_iter': 5000, 'classifier__logreg__multi_class': 'multinomial', 'classifier__svc__C': 1, 'classifier__svc__dual': False, 'classifier__svc__max_iter': 1000, 'classifier__svc__penalty': 'l2', 'classifier__vc__C': 10, 'classifier__vc__class_weight': 'balanced', 'classifier__vc__kernel': 'linear'}, {'classifier__logreg__class_weight': 'balanced', 'classifier__logreg__max_iter': 5000, 'classifier__logreg__multi_class': 'multinomial', 'classifier__svc__C': 10, 'classifier__svc__dual': False, 'classifier__svc__max_iter': 500, 'classifier__svc__penalty': 'l1', 'classifier__vc__C': 0.1, 'classifier__vc__class_weight': 'balanced', 'classifier__vc__kernel': 'linear'}, {'classifier__logreg__class_weight': 'balanced', 'classifier__logreg__max_iter': 5000, 'classifier__logreg__multi_class': 'multinomial', 'classifier__svc__C': 10, 'classifier__svc__dual': False, 'classifier__svc__max_iter': 500, 'classifier__svc__penalty': 'l1', 'classifier__vc__C': 1, 'classifier__vc__class_weight': 'balanced', 'classifier__vc__kernel': 'linear'}, {'classifier__logreg__class_weight': 'balanced', 'classifier__logreg__max_iter': 5000, 'classifier__logreg__multi_class': 'multinomial', 'classifier__svc__C': 10, 'classifier__svc__dual': False, 'classifier__svc__max_iter': 500, 'classifier__svc__penalty': 'l1', 'classifier__vc__C': 10, 'classifier__vc__class_weight': 'balanced', 'classifier__vc__kernel': 'linear'}, {'classifier__logreg__class_weight': 'balanced', 'classifier__logreg__max_iter': 5000, 'classifier__logreg__multi_class': 'multinomial', 'classifier__svc__C': 10, 'classifier__svc__dual': False, 'classifier__svc__max_iter': 500, 'classifier__svc__penalty': 'l2', 'classifier__vc__C': 0.1, 'classifier__vc__class_weight': 'balanced', 'classifier__vc__kernel': 'linear'}, {'classifier__logreg__class_weight': 'balanced', 'classifier__logreg__max_iter': 5000, 'classifier__logreg__multi_class': 'multinomial', 'classifier__svc__C': 10, 'classifier__svc__dual': False, 'classifier__svc__max_iter': 500, 'classifier__svc__penalty': 'l2', 'classifier__vc__C': 1, 'classifier__vc__class_weight': 'balanced', 'classifier__vc__kernel': 'linear'}, {'classifier__logreg__class_weight': 'balanced', 'classifier__logreg__max_iter': 5000, 'classifier__logreg__multi_class': 'multinomial', 'classifier__svc__C': 10, 'classifier__svc__dual': False, 'classifier__svc__max_iter': 500, 'classifier__svc__penalty': 'l2', 'classifier__vc__C': 10, 'classifier__vc__class_weight': 'balanced', 'classifier__vc__kernel': 'linear'}, {'classifier__logreg__class_weight': 'balanced', 'classifier__logreg__max_iter': 5000, 'classifier__logreg__multi_class': 'multinomial', 'classifier__svc__C': 10, 'classifier__svc__dual': False, 'classifier__svc__max_iter': 1000, 'classifier__svc__penalty': 'l1', 'classifier__vc__C': 0.1, 'classifier__vc__class_weight': 'balanced', 'classifier__vc__kernel': 'linear'}, {'classifier__logreg__class_weight': 'balanced', 'classifier__logreg__max_iter': 5000, 'classifier__logreg__multi_class': 'multinomial', 'classifier__svc__C': 10, 'classifier__svc__dual': False, 'classifier__svc__max_iter': 1000, 'classifier__svc__penalty': 'l1', 'classifier__vc__C': 1, 'classifier__vc__class_weight': 'balanced', 'classifier__vc__kernel': 'linear'}, {'classifier__logreg__class_weight': 'balanced', 'classifier__logreg__max_iter': 5000, 'classifier__logreg__multi_class': 'multinomial', 'classifier__svc__C': 10, 'classifier__svc__dual': False, 'classifier__svc__max_iter': 1000, 'classifier__svc__penalty': 'l1', 'classifier__vc__C': 10, 'classifier__vc__class_weight': 'balanced', 'classifier__vc__kernel': 'linear'}, {'classifier__logreg__class_weight': 'balanced', 'classifier__logreg__max_iter': 5000, 'classifier__logreg__multi_class': 'multinomial', 'classifier__svc__C': 10, 'classifier__svc__dual': False, 'classifier__svc__max_iter': 1000, 'classifier__svc__penalty': 'l2', 'classifier__vc__C': 0.1, 'classifier__vc__class_weight': 'balanced', 'classifier__vc__kernel': 'linear'}, {'classifier__logreg__class_weight': 'balanced', 'classifier__logreg__max_iter': 5000, 'classifier__logreg__multi_class': 'multinomial', 'classifier__svc__C': 10, 'classifier__svc__dual': False, 'classifier__svc__max_iter': 1000, 'classifier__svc__penalty': 'l2', 'classifier__vc__C': 1, 'classifier__vc__class_weight': 'balanced', 'classifier__vc__kernel': 'linear'}, {'classifier__logreg__class_weight': 'balanced', 'classifier__logreg__max_iter': 5000, 'classifier__logreg__multi_class': 'multinomial', 'classifier__svc__C': 10, 'classifier__svc__dual': False, 'classifier__svc__max_iter': 1000, 'classifier__svc__penalty': 'l2', 'classifier__vc__C': 10, 'classifier__vc__class_weight': 'balanced', 'classifier__vc__kernel': 'linear'}, {'classifier__logreg__class_weight': 'balanced', 'classifier__logreg__max_iter': 9000, 'classifier__logreg__multi_class': 'multinomial', 'classifier__svc__C': 0.1, 'classifier__svc__dual': False, 'classifier__svc__max_iter': 500, 'classifier__svc__penalty': 'l1', 'classifier__vc__C': 0.1, 'classifier__vc__class_weight': 'balanced', 'classifier__vc__kernel': 'linear'}, {'classifier__logreg__class_weight': 'balanced', 'classifier__logreg__max_iter': 9000, 'classifier__logreg__multi_class': 'multinomial', 'classifier__svc__C': 0.1, 'classifier__svc__dual': False, 'classifier__svc__max_iter': 500, 'classifier__svc__penalty': 'l1', 'classifier__vc__C': 1, 'classifier__vc__class_weight': 'balanced', 'classifier__vc__kernel': 'linear'}, {'classifier__logreg__class_weight': 'balanced', 'classifier__logreg__max_iter': 9000, 'classifier__logreg__multi_class': 'multinomial', 'classifier__svc__C': 0.1, 'classifier__svc__dual': False, 'classifier__svc__max_iter': 500, 'classifier__svc__penalty': 'l1', 'classifier__vc__C': 10, 'classifier__vc__class_weight': 'balanced', 'classifier__vc__kernel': 'linear'}, {'classifier__logreg__class_weight': 'balanced', 'classifier__logreg__max_iter': 9000, 'classifier__logreg__multi_class': 'multinomial', 'classifier__svc__C': 0.1, 'classifier__svc__dual': False, 'classifier__svc__max_iter': 500, 'classifier__svc__penalty': 'l2', 'classifier__vc__C': 0.1, 'classifier__vc__class_weight': 'balanced', 'classifier__vc__kernel': 'linear'}, {'classifier__logreg__class_weight': 'balanced', 'classifier__logreg__max_iter': 9000, 'classifier__logreg__multi_class': 'multinomial', 'classifier__svc__C': 0.1, 'classifier__svc__dual': False, 'classifier__svc__max_iter': 500, 'classifier__svc__penalty': 'l2', 'classifier__vc__C': 1, 'classifier__vc__class_weight': 'balanced', 'classifier__vc__kernel': 'linear'}, {'classifier__logreg__class_weight': 'balanced', 'classifier__logreg__max_iter': 9000, 'classifier__logreg__multi_class': 'multinomial', 'classifier__svc__C': 0.1, 'classifier__svc__dual': False, 'classifier__svc__max_iter': 500, 'classifier__svc__penalty': 'l2', 'classifier__vc__C': 10, 'classifier__vc__class_weight': 'balanced', 'classifier__vc__kernel': 'linear'}, {'classifier__logreg__class_weight': 'balanced', 'classifier__logreg__max_iter': 9000, 'classifier__logreg__multi_class': 'multinomial', 'classifier__svc__C': 0.1, 'classifier__svc__dual': False, 'classifier__svc__max_iter': 1000, 'classifier__svc__penalty': 'l1', 'classifier__vc__C': 0.1, 'classifier__vc__class_weight': 'balanced', 'classifier__vc__kernel': 'linear'}, {'classifier__logreg__class_weight': 'balanced', 'classifier__logreg__max_iter': 9000, 'classifier__logreg__multi_class': 'multinomial', 'classifier__svc__C': 0.1, 'classifier__svc__dual': False, 'classifier__svc__max_iter': 1000, 'classifier__svc__penalty': 'l1', 'classifier__vc__C': 1, 'classifier__vc__class_weight': 'balanced', 'classifier__vc__kernel': 'linear'}, {'classifier__logreg__class_weight': 'balanced', 'classifier__logreg__max_iter': 9000, 'classifier__logreg__multi_class': 'multinomial', 'classifier__svc__C': 0.1, 'classifier__svc__dual': False, 'classifier__svc__max_iter': 1000, 'classifier__svc__penalty': 'l1', 'classifier__vc__C': 10, 'classifier__vc__class_weight': 'balanced', 'classifier__vc__kernel': 'linear'}, {'classifier__logreg__class_weight': 'balanced', 'classifier__logreg__max_iter': 9000, 'classifier__logreg__multi_class': 'multinomial', 'classifier__svc__C': 0.1, 'classifier__svc__dual': False, 'classifier__svc__max_iter': 1000, 'classifier__svc__penalty': 'l2', 'classifier__vc__C': 0.1, 'classifier__vc__class_weight': 'balanced', 'classifier__vc__kernel': 'linear'}, {'classifier__logreg__class_weight': 'balanced', 'classifier__logreg__max_iter': 9000, 'classifier__logreg__multi_class': 'multinomial', 'classifier__svc__C': 0.1, 'classifier__svc__dual': False, 'classifier__svc__max_iter': 1000, 'classifier__svc__penalty': 'l2', 'classifier__vc__C': 1, 'classifier__vc__class_weight': 'balanced', 'classifier__vc__kernel': 'linear'}, {'classifier__logreg__class_weight': 'balanced', 'classifier__logreg__max_iter': 9000, 'classifier__logreg__multi_class': 'multinomial', 'classifier__svc__C': 0.1, 'classifier__svc__dual': False, 'classifier__svc__max_iter': 1000, 'classifier__svc__penalty': 'l2', 'classifier__vc__C': 10, 'classifier__vc__class_weight': 'balanced', 'classifier__vc__kernel': 'linear'}, {'classifier__logreg__class_weight': 'balanced', 'classifier__logreg__max_iter': 9000, 'classifier__logreg__multi_class': 'multinomial', 'classifier__svc__C': 1, 'classifier__svc__dual': False, 'classifier__svc__max_iter': 500, 'classifier__svc__penalty': 'l1', 'classifier__vc__C': 0.1, 'classifier__vc__class_weight': 'balanced', 'classifier__vc__kernel': 'linear'}, {'classifier__logreg__class_weight': 'balanced', 'classifier__logreg__max_iter': 9000, 'classifier__logreg__multi_class': 'multinomial', 'classifier__svc__C': 1, 'classifier__svc__dual': False, 'classifier__svc__max_iter': 500, 'classifier__svc__penalty': 'l1', 'classifier__vc__C': 1, 'classifier__vc__class_weight': 'balanced', 'classifier__vc__kernel': 'linear'}, {'classifier__logreg__class_weight': 'balanced', 'classifier__logreg__max_iter': 9000, 'classifier__logreg__multi_class': 'multinomial', 'classifier__svc__C': 1, 'classifier__svc__dual': False, 'classifier__svc__max_iter': 500, 'classifier__svc__penalty': 'l1', 'classifier__vc__C': 10, 'classifier__vc__class_weight': 'balanced', 'classifier__vc__kernel': 'linear'}, {'classifier__logreg__class_weight': 'balanced', 'classifier__logreg__max_iter': 9000, 'classifier__logreg__multi_class': 'multinomial', 'classifier__svc__C': 1, 'classifier__svc__dual': False, 'classifier__svc__max_iter': 500, 'classifier__svc__penalty': 'l2', 'classifier__vc__C': 0.1, 'classifier__vc__class_weight': 'balanced', 'classifier__vc__kernel': 'linear'}, {'classifier__logreg__class_weight': 'balanced', 'classifier__logreg__max_iter': 9000, 'classifier__logreg__multi_class': 'multinomial', 'classifier__svc__C': 1, 'classifier__svc__dual': False, 'classifier__svc__max_iter': 500, 'classifier__svc__penalty': 'l2', 'classifier__vc__C': 1, 'classifier__vc__class_weight': 'balanced', 'classifier__vc__kernel': 'linear'}, {'classifier__logreg__class_weight': 'balanced', 'classifier__logreg__max_iter': 9000, 'classifier__logreg__multi_class': 'multinomial', 'classifier__svc__C': 1, 'classifier__svc__dual': False, 'classifier__svc__max_iter': 500, 'classifier__svc__penalty': 'l2', 'classifier__vc__C': 10, 'classifier__vc__class_weight': 'balanced', 'classifier__vc__kernel': 'linear'}, {'classifier__logreg__class_weight': 'balanced', 'classifier__logreg__max_iter': 9000, 'classifier__logreg__multi_class': 'multinomial', 'classifier__svc__C': 1, 'classifier__svc__dual': False, 'classifier__svc__max_iter': 1000, 'classifier__svc__penalty': 'l1', 'classifier__vc__C': 0.1, 'classifier__vc__class_weight': 'balanced', 'classifier__vc__kernel': 'linear'}, {'classifier__logreg__class_weight': 'balanced', 'classifier__logreg__max_iter': 9000, 'classifier__logreg__multi_class': 'multinomial', 'classifier__svc__C': 1, 'classifier__svc__dual': False, 'classifier__svc__max_iter': 1000, 'classifier__svc__penalty': 'l1', 'classifier__vc__C': 1, 'classifier__vc__class_weight': 'balanced', 'classifier__vc__kernel': 'linear'}, {'classifier__logreg__class_weight': 'balanced', 'classifier__logreg__max_iter': 9000, 'classifier__logreg__multi_class': 'multinomial', 'classifier__svc__C': 1, 'classifier__svc__dual': False, 'classifier__svc__max_iter': 1000, 'classifier__svc__penalty': 'l1', 'classifier__vc__C': 10, 'classifier__vc__class_weight': 'balanced', 'classifier__vc__kernel': 'linear'}, {'classifier__logreg__class_weight': 'balanced', 'classifier__logreg__max_iter': 9000, 'classifier__logreg__multi_class': 'multinomial', 'classifier__svc__C': 1, 'classifier__svc__dual': False, 'classifier__svc__max_iter': 1000, 'classifier__svc__penalty': 'l2', 'classifier__vc__C': 0.1, 'classifier__vc__class_weight': 'balanced', 'classifier__vc__kernel': 'linear'}, {'classifier__logreg__class_weight': 'balanced', 'classifier__logreg__max_iter': 9000, 'classifier__logreg__multi_class': 'multinomial', 'classifier__svc__C': 1, 'classifier__svc__dual': False, 'classifier__svc__max_iter': 1000, 'classifier__svc__penalty': 'l2', 'classifier__vc__C': 1, 'classifier__vc__class_weight': 'balanced', 'classifier__vc__kernel': 'linear'}, {'classifier__logreg__class_weight': 'balanced', 'classifier__logreg__max_iter': 9000, 'classifier__logreg__multi_class': 'multinomial', 'classifier__svc__C': 1, 'classifier__svc__dual': False, 'classifier__svc__max_iter': 1000, 'classifier__svc__penalty': 'l2', 'classifier__vc__C': 10, 'classifier__vc__class_weight': 'balanced', 'classifier__vc__kernel': 'linear'}, {'classifier__logreg__class_weight': 'balanced', 'classifier__logreg__max_iter': 9000, 'classifier__logreg__multi_class': 'multinomial', 'classifier__svc__C': 10, 'classifier__svc__dual': False, 'classifier__svc__max_iter': 500, 'classifier__svc__penalty': 'l1', 'classifier__vc__C': 0.1, 'classifier__vc__class_weight': 'balanced', 'classifier__vc__kernel': 'linear'}, {'classifier__logreg__class_weight': 'balanced', 'classifier__logreg__max_iter': 9000, 'classifier__logreg__multi_class': 'multinomial', 'classifier__svc__C': 10, 'classifier__svc__dual': False, 'classifier__svc__max_iter': 500, 'classifier__svc__penalty': 'l1', 'classifier__vc__C': 1, 'classifier__vc__class_weight': 'balanced', 'classifier__vc__kernel': 'linear'}, {'classifier__logreg__class_weight': 'balanced', 'classifier__logreg__max_iter': 9000, 'classifier__logreg__multi_class': 'multinomial', 'classifier__svc__C': 10, 'classifier__svc__dual': False, 'classifier__svc__max_iter': 500, 'classifier__svc__penalty': 'l1', 'classifier__vc__C': 10, 'classifier__vc__class_weight': 'balanced', 'classifier__vc__kernel': 'linear'}, {'classifier__logreg__class_weight': 'balanced', 'classifier__logreg__max_iter': 9000, 'classifier__logreg__multi_class': 'multinomial', 'classifier__svc__C': 10, 'classifier__svc__dual': False, 'classifier__svc__max_iter': 500, 'classifier__svc__penalty': 'l2', 'classifier__vc__C': 0.1, 'classifier__vc__class_weight': 'balanced', 'classifier__vc__kernel': 'linear'}, {'classifier__logreg__class_weight': 'balanced', 'classifier__logreg__max_iter': 9000, 'classifier__logreg__multi_class': 'multinomial', 'classifier__svc__C': 10, 'classifier__svc__dual': False, 'classifier__svc__max_iter': 500, 'classifier__svc__penalty': 'l2', 'classifier__vc__C': 1, 'classifier__vc__class_weight': 'balanced', 'classifier__vc__kernel': 'linear'}, {'classifier__logreg__class_weight': 'balanced', 'classifier__logreg__max_iter': 9000, 'classifier__logreg__multi_class': 'multinomial', 'classifier__svc__C': 10, 'classifier__svc__dual': False, 'classifier__svc__max_iter': 500, 'classifier__svc__penalty': 'l2', 'classifier__vc__C': 10, 'classifier__vc__class_weight': 'balanced', 'classifier__vc__kernel': 'linear'}, {'classifier__logreg__class_weight': 'balanced', 'classifier__logreg__max_iter': 9000, 'classifier__logreg__multi_class': 'multinomial', 'classifier__svc__C': 10, 'classifier__svc__dual': False, 'classifier__svc__max_iter': 1000, 'classifier__svc__penalty': 'l1', 'classifier__vc__C': 0.1, 'classifier__vc__class_weight': 'balanced', 'classifier__vc__kernel': 'linear'}, {'classifier__logreg__class_weight': 'balanced', 'classifier__logreg__max_iter': 9000, 'classifier__logreg__multi_class': 'multinomial', 'classifier__svc__C': 10, 'classifier__svc__dual': False, 'classifier__svc__max_iter': 1000, 'classifier__svc__penalty': 'l1', 'classifier__vc__C': 1, 'classifier__vc__class_weight': 'balanced', 'classifier__vc__kernel': 'linear'}, {'classifier__logreg__class_weight': 'balanced', 'classifier__logreg__max_iter': 9000, 'classifier__logreg__multi_class': 'multinomial', 'classifier__svc__C': 10, 'classifier__svc__dual': False, 'classifier__svc__max_iter': 1000, 'classifier__svc__penalty': 'l1', 'classifier__vc__C': 10, 'classifier__vc__class_weight': 'balanced', 'classifier__vc__kernel': 'linear'}, {'classifier__logreg__class_weight': 'balanced', 'classifier__logreg__max_iter': 9000, 'classifier__logreg__multi_class': 'multinomial', 'classifier__svc__C': 10, 'classifier__svc__dual': False, 'classifier__svc__max_iter': 1000, 'classifier__svc__penalty': 'l2', 'classifier__vc__C': 0.1, 'classifier__vc__class_weight': 'balanced', 'classifier__vc__kernel': 'linear'}, {'classifier__logreg__class_weight': 'balanced', 'classifier__logreg__max_iter': 9000, 'classifier__logreg__multi_class': 'multinomial', 'classifier__svc__C': 10, 'classifier__svc__dual': False, 'classifier__svc__max_iter': 1000, 'classifier__svc__penalty': 'l2', 'classifier__vc__C': 1, 'classifier__vc__class_weight': 'balanced', 'classifier__vc__kernel': 'linear'}, {'classifier__logreg__class_weight': 'balanced', 'classifier__logreg__max_iter': 9000, 'classifier__logreg__multi_class': 'multinomial', 'classifier__svc__C': 10, 'classifier__svc__dual': False, 'classifier__svc__max_iter': 1000, 'classifier__svc__penalty': 'l2', 'classifier__vc__C': 10, 'classifier__vc__class_weight': 'balanced', 'classifier__vc__kernel': 'linear'}, {'classifier__logreg__class_weight': 'balanced', 'classifier__logreg__max_iter': 10000, 'classifier__logreg__multi_class': 'multinomial', 'classifier__svc__C': 0.1, 'classifier__svc__dual': False, 'classifier__svc__max_iter': 500, 'classifier__svc__penalty': 'l1', 'classifier__vc__C': 0.1, 'classifier__vc__class_weight': 'balanced', 'classifier__vc__kernel': 'linear'}, {'classifier__logreg__class_weight': 'balanced', 'classifier__logreg__max_iter': 10000, 'classifier__logreg__multi_class': 'multinomial', 'classifier__svc__C': 0.1, 'classifier__svc__dual': False, 'classifier__svc__max_iter': 500, 'classifier__svc__penalty': 'l1', 'classifier__vc__C': 1, 'classifier__vc__class_weight': 'balanced', 'classifier__vc__kernel': 'linear'}, {'classifier__logreg__class_weight': 'balanced', 'classifier__logreg__max_iter': 10000, 'classifier__logreg__multi_class': 'multinomial', 'classifier__svc__C': 0.1, 'classifier__svc__dual': False, 'classifier__svc__max_iter': 500, 'classifier__svc__penalty': 'l1', 'classifier__vc__C': 10, 'classifier__vc__class_weight': 'balanced', 'classifier__vc__kernel': 'linear'}, {'classifier__logreg__class_weight': 'balanced', 'classifier__logreg__max_iter': 10000, 'classifier__logreg__multi_class': 'multinomial', 'classifier__svc__C': 0.1, 'classifier__svc__dual': False, 'classifier__svc__max_iter': 500, 'classifier__svc__penalty': 'l2', 'classifier__vc__C': 0.1, 'classifier__vc__class_weight': 'balanced', 'classifier__vc__kernel': 'linear'}, {'classifier__logreg__class_weight': 'balanced', 'classifier__logreg__max_iter': 10000, 'classifier__logreg__multi_class': 'multinomial', 'classifier__svc__C': 0.1, 'classifier__svc__dual': False, 'classifier__svc__max_iter': 500, 'classifier__svc__penalty': 'l2', 'classifier__vc__C': 1, 'classifier__vc__class_weight': 'balanced', 'classifier__vc__kernel': 'linear'}, {'classifier__logreg__class_weight': 'balanced', 'classifier__logreg__max_iter': 10000, 'classifier__logreg__multi_class': 'multinomial', 'classifier__svc__C': 0.1, 'classifier__svc__dual': False, 'classifier__svc__max_iter': 500, 'classifier__svc__penalty': 'l2', 'classifier__vc__C': 10, 'classifier__vc__class_weight': 'balanced', 'classifier__vc__kernel': 'linear'}, {'classifier__logreg__class_weight': 'balanced', 'classifier__logreg__max_iter': 10000, 'classifier__logreg__multi_class': 'multinomial', 'classifier__svc__C': 0.1, 'classifier__svc__dual': False, 'classifier__svc__max_iter': 1000, 'classifier__svc__penalty': 'l1', 'classifier__vc__C': 0.1, 'classifier__vc__class_weight': 'balanced', 'classifier__vc__kernel': 'linear'}, {'classifier__logreg__class_weight': 'balanced', 'classifier__logreg__max_iter': 10000, 'classifier__logreg__multi_class': 'multinomial', 'classifier__svc__C': 0.1, 'classifier__svc__dual': False, 'classifier__svc__max_iter': 1000, 'classifier__svc__penalty': 'l1', 'classifier__vc__C': 1, 'classifier__vc__class_weight': 'balanced', 'classifier__vc__kernel': 'linear'}, {'classifier__logreg__class_weight': 'balanced', 'classifier__logreg__max_iter': 10000, 'classifier__logreg__multi_class': 'multinomial', 'classifier__svc__C': 0.1, 'classifier__svc__dual': False, 'classifier__svc__max_iter': 1000, 'classifier__svc__penalty': 'l1', 'classifier__vc__C': 10, 'classifier__vc__class_weight': 'balanced', 'classifier__vc__kernel': 'linear'}, {'classifier__logreg__class_weight': 'balanced', 'classifier__logreg__max_iter': 10000, 'classifier__logreg__multi_class': 'multinomial', 'classifier__svc__C': 0.1, 'classifier__svc__dual': False, 'classifier__svc__max_iter': 1000, 'classifier__svc__penalty': 'l2', 'classifier__vc__C': 0.1, 'classifier__vc__class_weight': 'balanced', 'classifier__vc__kernel': 'linear'}, {'classifier__logreg__class_weight': 'balanced', 'classifier__logreg__max_iter': 10000, 'classifier__logreg__multi_class': 'multinomial', 'classifier__svc__C': 0.1, 'classifier__svc__dual': False, 'classifier__svc__max_iter': 1000, 'classifier__svc__penalty': 'l2', 'classifier__vc__C': 1, 'classifier__vc__class_weight': 'balanced', 'classifier__vc__kernel': 'linear'}, {'classifier__logreg__class_weight': 'balanced', 'classifier__logreg__max_iter': 10000, 'classifier__logreg__multi_class': 'multinomial', 'classifier__svc__C': 0.1, 'classifier__svc__dual': False, 'classifier__svc__max_iter': 1000, 'classifier__svc__penalty': 'l2', 'classifier__vc__C': 10, 'classifier__vc__class_weight': 'balanced', 'classifier__vc__kernel': 'linear'}, {'classifier__logreg__class_weight': 'balanced', 'classifier__logreg__max_iter': 10000, 'classifier__logreg__multi_class': 'multinomial', 'classifier__svc__C': 1, 'classifier__svc__dual': False, 'classifier__svc__max_iter': 500, 'classifier__svc__penalty': 'l1', 'classifier__vc__C': 0.1, 'classifier__vc__class_weight': 'balanced', 'classifier__vc__kernel': 'linear'}, {'classifier__logreg__class_weight': 'balanced', 'classifier__logreg__max_iter': 10000, 'classifier__logreg__multi_class': 'multinomial', 'classifier__svc__C': 1, 'classifier__svc__dual': False, 'classifier__svc__max_iter': 500, 'classifier__svc__penalty': 'l1', 'classifier__vc__C': 1, 'classifier__vc__class_weight': 'balanced', 'classifier__vc__kernel': 'linear'}, {'classifier__logreg__class_weight': 'balanced', 'classifier__logreg__max_iter': 10000, 'classifier__logreg__multi_class': 'multinomial', 'classifier__svc__C': 1, 'classifier__svc__dual': False, 'classifier__svc__max_iter': 500, 'classifier__svc__penalty': 'l1', 'classifier__vc__C': 10, 'classifier__vc__class_weight': 'balanced', 'classifier__vc__kernel': 'linear'}, {'classifier__logreg__class_weight': 'balanced', 'classifier__logreg__max_iter': 10000, 'classifier__logreg__multi_class': 'multinomial', 'classifier__svc__C': 1, 'classifier__svc__dual': False, 'classifier__svc__max_iter': 500, 'classifier__svc__penalty': 'l2', 'classifier__vc__C': 0.1, 'classifier__vc__class_weight': 'balanced', 'classifier__vc__kernel': 'linear'}, {'classifier__logreg__class_weight': 'balanced', 'classifier__logreg__max_iter': 10000, 'classifier__logreg__multi_class': 'multinomial', 'classifier__svc__C': 1, 'classifier__svc__dual': False, 'classifier__svc__max_iter': 500, 'classifier__svc__penalty': 'l2', 'classifier__vc__C': 1, 'classifier__vc__class_weight': 'balanced', 'classifier__vc__kernel': 'linear'}, {'classifier__logreg__class_weight': 'balanced', 'classifier__logreg__max_iter': 10000, 'classifier__logreg__multi_class': 'multinomial', 'classifier__svc__C': 1, 'classifier__svc__dual': False, 'classifier__svc__max_iter': 500, 'classifier__svc__penalty': 'l2', 'classifier__vc__C': 10, 'classifier__vc__class_weight': 'balanced', 'classifier__vc__kernel': 'linear'}, {'classifier__logreg__class_weight': 'balanced', 'classifier__logreg__max_iter': 10000, 'classifier__logreg__multi_class': 'multinomial', 'classifier__svc__C': 1, 'classifier__svc__dual': False, 'classifier__svc__max_iter': 1000, 'classifier__svc__penalty': 'l1', 'classifier__vc__C': 0.1, 'classifier__vc__class_weight': 'balanced', 'classifier__vc__kernel': 'linear'}, {'classifier__logreg__class_weight': 'balanced', 'classifier__logreg__max_iter': 10000, 'classifier__logreg__multi_class': 'multinomial', 'classifier__svc__C': 1, 'classifier__svc__dual': False, 'classifier__svc__max_iter': 1000, 'classifier__svc__penalty': 'l1', 'classifier__vc__C': 1, 'classifier__vc__class_weight': 'balanced', 'classifier__vc__kernel': 'linear'}, {'classifier__logreg__class_weight': 'balanced', 'classifier__logreg__max_iter': 10000, 'classifier__logreg__multi_class': 'multinomial', 'classifier__svc__C': 1, 'classifier__svc__dual': False, 'classifier__svc__max_iter': 1000, 'classifier__svc__penalty': 'l1', 'classifier__vc__C': 10, 'classifier__vc__class_weight': 'balanced', 'classifier__vc__kernel': 'linear'}, {'classifier__logreg__class_weight': 'balanced', 'classifier__logreg__max_iter': 10000, 'classifier__logreg__multi_class': 'multinomial', 'classifier__svc__C': 1, 'classifier__svc__dual': False, 'classifier__svc__max_iter': 1000, 'classifier__svc__penalty': 'l2', 'classifier__vc__C': 0.1, 'classifier__vc__class_weight': 'balanced', 'classifier__vc__kernel': 'linear'}, {'classifier__logreg__class_weight': 'balanced', 'classifier__logreg__max_iter': 10000, 'classifier__logreg__multi_class': 'multinomial', 'classifier__svc__C': 1, 'classifier__svc__dual': False, 'classifier__svc__max_iter': 1000, 'classifier__svc__penalty': 'l2', 'classifier__vc__C': 1, 'classifier__vc__class_weight': 'balanced', 'classifier__vc__kernel': 'linear'}, {'classifier__logreg__class_weight': 'balanced', 'classifier__logreg__max_iter': 10000, 'classifier__logreg__multi_class': 'multinomial', 'classifier__svc__C': 1, 'classifier__svc__dual': False, 'classifier__svc__max_iter': 1000, 'classifier__svc__penalty': 'l2', 'classifier__vc__C': 10, 'classifier__vc__class_weight': 'balanced', 'classifier__vc__kernel': 'linear'}, {'classifier__logreg__class_weight': 'balanced', 'classifier__logreg__max_iter': 10000, 'classifier__logreg__multi_class': 'multinomial', 'classifier__svc__C': 10, 'classifier__svc__dual': False, 'classifier__svc__max_iter': 500, 'classifier__svc__penalty': 'l1', 'classifier__vc__C': 0.1, 'classifier__vc__class_weight': 'balanced', 'classifier__vc__kernel': 'linear'}, {'classifier__logreg__class_weight': 'balanced', 'classifier__logreg__max_iter': 10000, 'classifier__logreg__multi_class': 'multinomial', 'classifier__svc__C': 10, 'classifier__svc__dual': False, 'classifier__svc__max_iter': 500, 'classifier__svc__penalty': 'l1', 'classifier__vc__C': 1, 'classifier__vc__class_weight': 'balanced', 'classifier__vc__kernel': 'linear'}, {'classifier__logreg__class_weight': 'balanced', 'classifier__logreg__max_iter': 10000, 'classifier__logreg__multi_class': 'multinomial', 'classifier__svc__C': 10, 'classifier__svc__dual': False, 'classifier__svc__max_iter': 500, 'classifier__svc__penalty': 'l1', 'classifier__vc__C': 10, 'classifier__vc__class_weight': 'balanced', 'classifier__vc__kernel': 'linear'}, {'classifier__logreg__class_weight': 'balanced', 'classifier__logreg__max_iter': 10000, 'classifier__logreg__multi_class': 'multinomial', 'classifier__svc__C': 10, 'classifier__svc__dual': False, 'classifier__svc__max_iter': 500, 'classifier__svc__penalty': 'l2', 'classifier__vc__C': 0.1, 'classifier__vc__class_weight': 'balanced', 'classifier__vc__kernel': 'linear'}, {'classifier__logreg__class_weight': 'balanced', 'classifier__logreg__max_iter': 10000, 'classifier__logreg__multi_class': 'multinomial', 'classifier__svc__C': 10, 'classifier__svc__dual': False, 'classifier__svc__max_iter': 500, 'classifier__svc__penalty': 'l2', 'classifier__vc__C': 1, 'classifier__vc__class_weight': 'balanced', 'classifier__vc__kernel': 'linear'}, {'classifier__logreg__class_weight': 'balanced', 'classifier__logreg__max_iter': 10000, 'classifier__logreg__multi_class': 'multinomial', 'classifier__svc__C': 10, 'classifier__svc__dual': False, 'classifier__svc__max_iter': 500, 'classifier__svc__penalty': 'l2', 'classifier__vc__C': 10, 'classifier__vc__class_weight': 'balanced', 'classifier__vc__kernel': 'linear'}, {'classifier__logreg__class_weight': 'balanced', 'classifier__logreg__max_iter': 10000, 'classifier__logreg__multi_class': 'multinomial', 'classifier__svc__C': 10, 'classifier__svc__dual': False, 'classifier__svc__max_iter': 1000, 'classifier__svc__penalty': 'l1', 'classifier__vc__C': 0.1, 'classifier__vc__class_weight': 'balanced', 'classifier__vc__kernel': 'linear'}, {'classifier__logreg__class_weight': 'balanced', 'classifier__logreg__max_iter': 10000, 'classifier__logreg__multi_class': 'multinomial', 'classifier__svc__C': 10, 'classifier__svc__dual': False, 'classifier__svc__max_iter': 1000, 'classifier__svc__penalty': 'l1', 'classifier__vc__C': 1, 'classifier__vc__class_weight': 'balanced', 'classifier__vc__kernel': 'linear'}, {'classifier__logreg__class_weight': 'balanced', 'classifier__logreg__max_iter': 10000, 'classifier__logreg__multi_class': 'multinomial', 'classifier__svc__C': 10, 'classifier__svc__dual': False, 'classifier__svc__max_iter': 1000, 'classifier__svc__penalty': 'l1', 'classifier__vc__C': 10, 'classifier__vc__class_weight': 'balanced', 'classifier__vc__kernel': 'linear'}, {'classifier__logreg__class_weight': 'balanced', 'classifier__logreg__max_iter': 10000, 'classifier__logreg__multi_class': 'multinomial', 'classifier__svc__C': 10, 'classifier__svc__dual': False, 'classifier__svc__max_iter': 1000, 'classifier__svc__penalty': 'l2', 'classifier__vc__C': 0.1, 'classifier__vc__class_weight': 'balanced', 'classifier__vc__kernel': 'linear'}, {'classifier__logreg__class_weight': 'balanced', 'classifier__logreg__max_iter': 10000, 'classifier__logreg__multi_class': 'multinomial', 'classifier__svc__C': 10, 'classifier__svc__dual': False, 'classifier__svc__max_iter': 1000, 'classifier__svc__penalty': 'l2', 'classifier__vc__C': 1, 'classifier__vc__class_weight': 'balanced', 'classifier__vc__kernel': 'linear'}, {'classifier__logreg__class_weight': 'balanced', 'classifier__logreg__max_iter': 10000, 'classifier__logreg__multi_class': 'multinomial', 'classifier__svc__C': 10, 'classifier__svc__dual': False, 'classifier__svc__max_iter': 1000, 'classifier__svc__penalty': 'l2', 'classifier__vc__C': 10, 'classifier__vc__class_weight': 'balanced', 'classifier__vc__kernel': 'linear'}], 'split0_test_score': array([0.87520472, 0.87553226, 0.87553226, 0.87946282, 0.87848018,\n",
      "       0.87848018, 0.87520472, 0.87553226, 0.87553226, 0.87946282,\n",
      "       0.87848018, 0.87848018, 0.88011792, 0.87913528, 0.88011792,\n",
      "       0.87848018, 0.87717   , 0.87717   , 0.88011792, 0.87946282,\n",
      "       0.88011792, 0.87848018, 0.87717   , 0.87717   , 0.87618736,\n",
      "       0.87946282, 0.87946282, 0.87946282, 0.87782509, 0.87815264,\n",
      "       0.87618736, 0.87848018, 0.87815264, 0.87946282, 0.87782509,\n",
      "       0.87815264, 0.87520472, 0.87553226, 0.87553226, 0.87946282,\n",
      "       0.87848018, 0.87848018, 0.87520472, 0.87553226, 0.87553226,\n",
      "       0.87946282, 0.87848018, 0.87848018, 0.88011792, 0.87946282,\n",
      "       0.88011792, 0.87848018, 0.87717   , 0.87717   , 0.88011792,\n",
      "       0.87946282, 0.88011792, 0.87848018, 0.87717   , 0.87717   ,\n",
      "       0.87913528, 0.87782509, 0.88011792, 0.87946282, 0.87782509,\n",
      "       0.87815264, 0.87946282, 0.87946282, 0.87749754, 0.87946282,\n",
      "       0.87782509, 0.87815264, 0.87520472, 0.87553226, 0.87553226,\n",
      "       0.87946282, 0.87848018, 0.87848018, 0.87520472, 0.87553226,\n",
      "       0.87553226, 0.87946282, 0.87848018, 0.87848018, 0.88011792,\n",
      "       0.87979037, 0.88011792, 0.87848018, 0.87717   , 0.87717   ,\n",
      "       0.88011792, 0.87946282, 0.88011792, 0.87848018, 0.87717   ,\n",
      "       0.87717   , 0.87979037, 0.87880773, 0.87946282, 0.87946282,\n",
      "       0.87782509, 0.87815264, 0.87815264, 0.87815264, 0.87782509,\n",
      "       0.87946282, 0.87782509, 0.87815264]), 'split1_test_score': array([0.87717   , 0.8820832 , 0.88241074, 0.88175565, 0.88339338,\n",
      "       0.88372093, 0.87717   , 0.8820832 , 0.88241074, 0.88175565,\n",
      "       0.88339338, 0.88372093, 0.88110056, 0.88273829, 0.88306584,\n",
      "       0.8814281 , 0.88437602, 0.88470357, 0.8814281 , 0.88241074,\n",
      "       0.88306584, 0.8814281 , 0.88437602, 0.88470357, 0.87618736,\n",
      "       0.88044546, 0.88241074, 0.88077301, 0.88404848, 0.88339338,\n",
      "       0.88011792, 0.88077301, 0.88175565, 0.88077301, 0.88404848,\n",
      "       0.88339338, 0.87717   , 0.8820832 , 0.88241074, 0.88175565,\n",
      "       0.88339338, 0.88372093, 0.87717   , 0.8820832 , 0.88241074,\n",
      "       0.88175565, 0.88339338, 0.88372093, 0.8814281 , 0.88273829,\n",
      "       0.88306584, 0.8814281 , 0.88437602, 0.88470357, 0.88175565,\n",
      "       0.88241074, 0.88306584, 0.8814281 , 0.88437602, 0.88470357,\n",
      "       0.87749754, 0.87815264, 0.88077301, 0.88077301, 0.88404848,\n",
      "       0.88339338, 0.87815264, 0.88241074, 0.88044546, 0.88077301,\n",
      "       0.88404848, 0.88339338, 0.87717   , 0.8820832 , 0.88241074,\n",
      "       0.88175565, 0.88339338, 0.88372093, 0.87717   , 0.8820832 ,\n",
      "       0.88241074, 0.88175565, 0.88339338, 0.88372093, 0.88175565,\n",
      "       0.88241074, 0.88306584, 0.8814281 , 0.88437602, 0.88470357,\n",
      "       0.8814281 , 0.88273829, 0.88306584, 0.8814281 , 0.88437602,\n",
      "       0.88470357, 0.87487717, 0.88077301, 0.88241074, 0.88077301,\n",
      "       0.88404848, 0.88339338, 0.87979037, 0.87979037, 0.87979037,\n",
      "       0.88077301, 0.88404848, 0.88339338]), 'split2_test_score': array([0.87749754, 0.88339338, 0.88437602, 0.88077301, 0.88273829,\n",
      "       0.88339338, 0.87749754, 0.88339338, 0.88437602, 0.88077301,\n",
      "       0.88273829, 0.88339338, 0.87946282, 0.8820832 , 0.88273829,\n",
      "       0.87815264, 0.88306584, 0.88241074, 0.87946282, 0.8820832 ,\n",
      "       0.88273829, 0.87815264, 0.88306584, 0.88241074, 0.87618736,\n",
      "       0.88175565, 0.8814281 , 0.87880773, 0.88273829, 0.88241074,\n",
      "       0.87815264, 0.87913528, 0.87979037, 0.87880773, 0.88273829,\n",
      "       0.88241074, 0.87749754, 0.88339338, 0.88437602, 0.88077301,\n",
      "       0.88273829, 0.88339338, 0.87749754, 0.88339338, 0.88437602,\n",
      "       0.88077301, 0.88273829, 0.88339338, 0.87946282, 0.8820832 ,\n",
      "       0.88273829, 0.87815264, 0.88306584, 0.88241074, 0.87946282,\n",
      "       0.8820832 , 0.88273829, 0.87815264, 0.88306584, 0.88241074,\n",
      "       0.87717   , 0.88339338, 0.87979037, 0.87880773, 0.88273829,\n",
      "       0.88241074, 0.87749754, 0.87979037, 0.87880773, 0.87880773,\n",
      "       0.88273829, 0.88241074, 0.87749754, 0.88339338, 0.88437602,\n",
      "       0.88077301, 0.88273829, 0.88339338, 0.87749754, 0.88339338,\n",
      "       0.88437602, 0.88077301, 0.88273829, 0.88339338, 0.87979037,\n",
      "       0.8820832 , 0.88306584, 0.87815264, 0.88306584, 0.88241074,\n",
      "       0.87946282, 0.8820832 , 0.88273829, 0.87815264, 0.88306584,\n",
      "       0.88241074, 0.87815264, 0.88044546, 0.87979037, 0.87880773,\n",
      "       0.88273829, 0.88241074, 0.87684245, 0.87880773, 0.88339338,\n",
      "       0.87880773, 0.88273829, 0.88241074]), 'split3_test_score': array([0.86996397, 0.86963642, 0.87029152, 0.87291189, 0.87454962,\n",
      "       0.87487717, 0.86996397, 0.86963642, 0.87029152, 0.87291189,\n",
      "       0.87454962, 0.87487717, 0.87094661, 0.87061906, 0.87029152,\n",
      "       0.86898133, 0.86799869, 0.86865378, 0.8716017 , 0.87094661,\n",
      "       0.87029152, 0.86898133, 0.86799869, 0.86865378, 0.86930888,\n",
      "       0.86832624, 0.86898133, 0.86996397, 0.86832624, 0.86865378,\n",
      "       0.87127416, 0.86930888, 0.86799869, 0.86996397, 0.86832624,\n",
      "       0.86865378, 0.86996397, 0.86963642, 0.87029152, 0.87291189,\n",
      "       0.87454962, 0.87487717, 0.86996397, 0.86963642, 0.87029152,\n",
      "       0.87291189, 0.87454962, 0.87487717, 0.8716017 , 0.87061906,\n",
      "       0.86996397, 0.86898133, 0.86799869, 0.86865378, 0.8716017 ,\n",
      "       0.87061906, 0.87029152, 0.86898133, 0.86799869, 0.86865378,\n",
      "       0.87127416, 0.86996397, 0.86537832, 0.86996397, 0.86832624,\n",
      "       0.86865378, 0.86963642, 0.86898133, 0.87192925, 0.86996397,\n",
      "       0.86832624, 0.86865378, 0.86996397, 0.86963642, 0.87029152,\n",
      "       0.87291189, 0.87454962, 0.87487717, 0.86996397, 0.86963642,\n",
      "       0.87029152, 0.87291189, 0.87454962, 0.87487717, 0.8716017 ,\n",
      "       0.87029152, 0.86996397, 0.86898133, 0.86799869, 0.86865378,\n",
      "       0.8716017 , 0.87094661, 0.87029152, 0.86898133, 0.86799869,\n",
      "       0.86865378, 0.87061906, 0.86898133, 0.86701605, 0.86996397,\n",
      "       0.86832624, 0.86865378, 0.86898133, 0.87029152, 0.86930888,\n",
      "       0.86996397, 0.86832624, 0.86865378]), 'split4_test_score': array([0.87483617, 0.87549148, 0.87647444, 0.8774574 , 0.87844037,\n",
      "       0.87876802, 0.87483617, 0.87549148, 0.87647444, 0.8774574 ,\n",
      "       0.87844037, 0.87876802, 0.87614679, 0.87942333, 0.87975098,\n",
      "       0.87450852, 0.87418087, 0.87483617, 0.87614679, 0.87909567,\n",
      "       0.88007864, 0.87450852, 0.87418087, 0.87483617, 0.87352556,\n",
      "       0.87712975, 0.87549148, 0.87385321, 0.87287025, 0.87385321,\n",
      "       0.87418087, 0.87549148, 0.87385321, 0.87385321, 0.87287025,\n",
      "       0.87385321, 0.87483617, 0.87549148, 0.87647444, 0.8774574 ,\n",
      "       0.87844037, 0.87876802, 0.87483617, 0.87549148, 0.87647444,\n",
      "       0.8774574 , 0.87844037, 0.87876802, 0.87614679, 0.87909567,\n",
      "       0.88007864, 0.87450852, 0.87418087, 0.87483617, 0.87614679,\n",
      "       0.87909567, 0.88007864, 0.87450852, 0.87418087, 0.87483617,\n",
      "       0.87581913, 0.87516383, 0.87778506, 0.87385321, 0.87287025,\n",
      "       0.87385321, 0.87549148, 0.8768021 , 0.87647444, 0.87385321,\n",
      "       0.87287025, 0.87385321, 0.87483617, 0.87549148, 0.87647444,\n",
      "       0.8774574 , 0.87844037, 0.87876802, 0.87483617, 0.87549148,\n",
      "       0.87647444, 0.8774574 , 0.87844037, 0.87876802, 0.87614679,\n",
      "       0.87844037, 0.88007864, 0.87450852, 0.87418087, 0.87483617,\n",
      "       0.87614679, 0.87909567, 0.88040629, 0.87450852, 0.87418087,\n",
      "       0.87483617, 0.87418087, 0.87385321, 0.87811271, 0.87385321,\n",
      "       0.87287025, 0.87385321, 0.87483617, 0.87418087, 0.87450852,\n",
      "       0.87385321, 0.87287025, 0.87385321]), 'mean_test_score': array([0.87493448, 0.87722735, 0.877817  , 0.87847216, 0.87952037,\n",
      "       0.87984794, 0.87493448, 0.87722735, 0.877817  , 0.87847216,\n",
      "       0.87952037, 0.87984794, 0.87755494, 0.87879983, 0.87919291,\n",
      "       0.87631015, 0.87735828, 0.87755485, 0.87775147, 0.87879981,\n",
      "       0.87925844, 0.87631015, 0.87735828, 0.87755485, 0.8742793 ,\n",
      "       0.87742398, 0.8775549 , 0.87657215, 0.87716167, 0.87729275,\n",
      "       0.87598259, 0.87663777, 0.87631011, 0.87657215, 0.87716167,\n",
      "       0.87729275, 0.87493448, 0.87722735, 0.877817  , 0.87847216,\n",
      "       0.87952037, 0.87984794, 0.87493448, 0.87722735, 0.877817  ,\n",
      "       0.87847216, 0.87952037, 0.87984794, 0.87775147, 0.87879981,\n",
      "       0.87919293, 0.87631015, 0.87735828, 0.87755485, 0.87781698,\n",
      "       0.8787343 , 0.87925844, 0.87631015, 0.87735828, 0.87755485,\n",
      "       0.87617922, 0.87689978, 0.87676893, 0.87657215, 0.87716167,\n",
      "       0.87729275, 0.87604818, 0.87748947, 0.87703089, 0.87657215,\n",
      "       0.87716167, 0.87729275, 0.87493448, 0.87722735, 0.877817  ,\n",
      "       0.87847216, 0.87952037, 0.87984794, 0.87493448, 0.87722735,\n",
      "       0.877817  , 0.87847216, 0.87952037, 0.87984794, 0.87788249,\n",
      "       0.87860324, 0.87925844, 0.87631015, 0.87735828, 0.87755485,\n",
      "       0.87775147, 0.87886532, 0.87932397, 0.87631015, 0.87735828,\n",
      "       0.87755485, 0.87552402, 0.87657215, 0.87735854, 0.87657215,\n",
      "       0.87716167, 0.87729275, 0.87572059, 0.87624462, 0.87696525,\n",
      "       0.87657215, 0.87716167, 0.87729275]), 'std_test_score': array([0.0026965 , 0.00500216, 0.00505527, 0.00313059, 0.00323456,\n",
      "       0.00332613, 0.0026965 , 0.00500216, 0.00505527, 0.00313059,\n",
      "       0.00323456, 0.00332613, 0.00369955, 0.00432939, 0.00464696,\n",
      "       0.00427211, 0.00599263, 0.00568247, 0.00353387, 0.00414775,\n",
      "       0.00465667, 0.00427211, 0.00599263, 0.00568247, 0.00269055,\n",
      "       0.00479385, 0.00489867, 0.00405121, 0.00592365, 0.00548841,\n",
      "       0.00307466, 0.00404373, 0.00490463, 0.00405121, 0.00592365,\n",
      "       0.00548841, 0.0026965 , 0.00500216, 0.00505527, 0.00313059,\n",
      "       0.00323456, 0.00332613, 0.0026965 , 0.00500216, 0.00505527,\n",
      "       0.00313059, 0.00323456, 0.00332613, 0.00353387, 0.00432999,\n",
      "       0.00478294, 0.00427211, 0.00599263, 0.00568247, 0.00360376,\n",
      "       0.004272  , 0.00465667, 0.00427211, 0.00599263, 0.00568247,\n",
      "       0.0026701 , 0.0043752 , 0.00578197, 0.00405121, 0.00592365,\n",
      "       0.00548841, 0.00345282, 0.00461017, 0.00287648, 0.00405121,\n",
      "       0.00592365, 0.00548841, 0.0026965 , 0.00500216, 0.00505527,\n",
      "       0.00313059, 0.00323456, 0.00332613, 0.0026965 , 0.00500216,\n",
      "       0.00505527, 0.00313059, 0.00323456, 0.00332613, 0.00363592,\n",
      "       0.00440744, 0.00483304, 0.00427211, 0.00599263, 0.00568247,\n",
      "       0.00353387, 0.00420644, 0.00467004, 0.00427211, 0.00599263,\n",
      "       0.00568247, 0.00320601, 0.00453124, 0.00535542, 0.00405121,\n",
      "       0.00592365, 0.00548841, 0.00373996, 0.00353499, 0.00478951,\n",
      "       0.00405121, 0.00592365, 0.00548841]), 'rank_test_score': array([102,  65,  32,  25,   7,   1, 102,  65,  32,  25,   7,   1,  42,\n",
      "        20,  18,  89,  53,  44,  39,  21,  14,  89,  53,  44, 108,  51,\n",
      "        43,  82,  71,  59,  99,  81,  95,  82,  71,  59, 102,  65,  32,\n",
      "        25,   7,   1, 102,  65,  32,  25,   7,   1,  39,  21,  17,  89,\n",
      "        53,  44,  38,  23,  14,  89,  53,  44,  97,  79,  80,  82,  71,\n",
      "        59,  98,  50,  77,  82,  71,  59, 102,  65,  32,  25,   7,   1,\n",
      "       102,  65,  32,  25,   7,   1,  31,  24,  14,  89,  53,  44,  39,\n",
      "        19,  13,  89,  53,  44, 101,  82,  52,  82,  71,  59, 100,  96,\n",
      "        78,  82,  71,  59], dtype=int32)}\n"
     ]
    }
   ],
   "source": [
    "from sklearn.svm import SVC, LinearSVC\n",
    "from sklearn.ensemble import VotingClassifier\n",
    "from sklearn.linear_model import LogisticRegression\n",
    "from sklearn.pipeline import Pipeline\n",
    "from sklearn.compose import ColumnTransformer\n",
    "from sklearn.metrics import classification_report, f1_score\n",
    "from sklearn.preprocessing import MaxAbsScaler\n",
    "from sklearn.feature_extraction.text import TfidfVectorizer\n",
    "from sklearn.model_selection import train_test_split\n",
    "from sklearn.model_selection import GridSearchCV\n",
    "\n",
    "# Assuming df contains the dataset\n",
    "\n",
    "# Split the data into train (75%), validation (10%), and test (15%) sets\n",
    "X_train, X_temp, y_train, y_temp = train_test_split(df[['clean_text', 'ibm_hardware_freq', 'sale_price_freq','graphic_imag_freq']], df['topic'], test_size=0.25, random_state=42, stratify=df['topic'])\n",
    "X_val, X_test, y_val, y_test = train_test_split(X_temp, y_temp, test_size=0.6, random_state=42, stratify=y_temp)\n",
    "\n",
    "text_transformer = ('text', Pipeline([('tfidf', TfidfVectorizer(analyzer='word', max_features=10000)), \n",
    "                                      ('scaler', MaxAbsScaler())]), 'clean_text')\n",
    "\n",
    "numeric_transformer = ('numeric', 'passthrough', ['ibm_hardware_freq', 'sale_price_freq', 'graphic_imag_freq'])\n",
    "\n",
    "preprocessor = ColumnTransformer(\n",
    "    transformers=[\n",
    "        text_transformer,\n",
    "        numeric_transformer,\n",
    "    ]\n",
    ")\n",
    "\n",
    "# Create a parameter grid\n",
    "\n",
    "param_grid = {\n",
    "    'classifier__svc__C': [0.1, 1, 10],\n",
    "    'classifier__svc__penalty': ['l1', 'l2'],\n",
    "    'classifier__svc__max_iter': [500, 1000],\n",
    "    'classifier__svc__dual': [False],\n",
    "    'classifier__logreg__multi_class': ['multinomial'],\n",
    "    'classifier__logreg__max_iter': [5000, 10000],\n",
    "}\n",
    "\n",
    "pipeline = Pipeline(steps=[('preprocessor', preprocessor),\n",
    "                             ('classifier',\n",
    "                              VotingClassifier(estimators=[('svc', LinearSVC(C=0.1, dual=False, max_iter=500)),\n",
    "                                                         ('logreg', LogisticRegression(class_weight='balanced', max_iter=5000, multi_class='multinomial')),\n",
    "                                                         ]))])\n",
    "\n",
    "# Instantiate the grid search model\n",
    "grid_search = GridSearchCV(estimator=pipeline, param_grid=param_grid, cv=5, n_jobs=-1, verbose=2)\n",
    "\n",
    "# Fit the grid search to the data\n",
    "grid_search.fit(X_train, y_train)\n",
    "\n",
    "# Best params\n",
    "print(grid_search.best_params_)\n",
    "# Best score\n",
    "print(grid_search.best_score_)\n",
    "# Best estimator\n",
    "print(grid_search.best_estimator_)\n",
    "# Best index\n",
    "print(grid_search.best_index_)\n",
    "# Best results\n",
    "print(grid_search.cv_results_)\n",
    "# Best F1\n",
    "\n",
    "\n"
   ]
  },
  {
   "cell_type": "code",
   "execution_count": 69,
   "metadata": {},
   "outputs": [
    {
     "name": "stdout",
     "output_type": "stream",
     "text": [
      "0.8976127320954908\n",
      "                          precision    recall  f1-score   support\n",
      "\n",
      "             alt.atheism       0.88      0.89      0.88        80\n",
      "           comp.graphics       0.80      0.86      0.83        97\n",
      " comp.os.ms-windows.misc       0.83      0.80      0.81        99\n",
      "comp.sys.ibm.pc.hardware       0.78      0.84      0.81        98\n",
      "   comp.sys.mac.hardware       0.84      0.84      0.84        96\n",
      "          comp.windows.x       0.86      0.88      0.87        99\n",
      "            misc.forsale       0.78      0.76      0.77        98\n",
      "               rec.autos       0.89      0.89      0.89        99\n",
      "         rec.motorcycles       0.92      0.92      0.92       100\n",
      "      rec.sport.baseball       0.98      0.94      0.96        99\n",
      "        rec.sport.hockey       0.97      0.98      0.98       100\n",
      "               sci.crypt       0.98      0.97      0.97        99\n",
      "         sci.electronics       0.84      0.89      0.87        98\n",
      "                 sci.med       0.92      0.95      0.94        99\n",
      "               sci.space       0.98      0.94      0.96        99\n",
      "  soc.religion.christian       0.95      0.91      0.93       100\n",
      "      talk.politics.guns       1.00      0.93      0.97        91\n",
      "   talk.politics.mideast       0.97      0.98      0.97        94\n",
      "      talk.politics.misc       0.94      0.95      0.94        77\n",
      "      talk.religion.misc       0.87      0.84      0.85        63\n",
      "\n",
      "                accuracy                           0.90      1885\n",
      "               macro avg       0.90      0.90      0.90      1885\n",
      "            weighted avg       0.90      0.90      0.90      1885\n",
      "\n"
     ]
    }
   ],
   "source": [
    "print(grid_search.best_estimator_.score(X_test, y_test))\n",
    "# classification report\n",
    "y_pred = grid_search.best_estimator_.predict(X_test)\n",
    "print(classification_report(y_test, y_pred))\n"
   ]
  },
  {
   "cell_type": "code",
   "execution_count": null,
   "metadata": {},
   "outputs": [],
   "source": [
    "Pipeline(steps=[('preprocessor',\n",
    "                 ColumnTransformer(transformers=[('text',\n",
    "                                                  Pipeline(steps=[('tfidf',\n",
    "                                                                   TfidfVectorizer(max_features=12000)),\n",
    "                                                                  ('scaler',\n",
    "                                                                   MaxAbsScaler())]),\n",
    "                                                  'clean_text'),\n",
    "                                                 ('numeric', 'passthrough',\n",
    "                                                  ['ibm_hardware_freq'])])),\n",
    "                ('classifier',\n",
    "                 VotingClassifier(estimators=[('svc',\n",
    "                                               LinearSVC(C=0.1, dual=False,\n",
    "                                                         max_iter=500)),\n",
    "                                              ('logreg',\n",
    "                                               LogisticRegression(class_weight='balanced',\n",
    "                                                                  max_iter=5000,\n",
    "                                                                  multi_class='multinomial')),\n",
    "                                              ('vc',\n",
    "                                               SVC(C=10,\n",
    "                                                   class_weight='balanced',\n",
    "                                                   kernel='linear'))]))])"
   ]
  },
  {
   "cell_type": "code",
   "execution_count": 22,
   "metadata": {},
   "outputs": [
    {
     "data": {
      "image/png": "[encoded data removed]",
      "text/plain": [
       "<Figure size 1000x1000 with 2 Axes>"
      ]
     },
     "metadata": {},
     "output_type": "display_data"
    }
   ],
   "source": [
    "# heatmap\n",
    "from sklearn.metrics import confusion_matrix\n",
    "import seaborn as sns\n",
    "\n",
    "cm = confusion_matrix(y_test, y_pred)\n",
    "plt.figure(figsize=(10, 10))\n",
    "sns.heatmap(cm, annot=True, fmt='d', cmap='Blues')\n",
    "plt.xlabel('Predicted')\n",
    "plt.ylabel('Actual')\n",
    "plt.show()\n"
   ]
  }
 ],
 "metadata": {
  "kernelspec": {
   "display_name": "Newsgroup-h-5eaQBu",
   "language": "python",
   "name": "python3"
  },
  "language_info": {
   "codemirror_mode": {
    "name": "ipython",
    "version": 3
   },
   "file_extension": ".py",
   "mimetype": "text/x-python",
   "name": "python",
   "nbconvert_exporter": "python",
   "pygments_lexer": "ipython3",
   "version": "3.11.5"
  }
 },
 "nbformat": 4,
 "nbformat_minor": 2
}
