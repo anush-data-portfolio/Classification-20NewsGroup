{
 "cells": [
  {
   "cell_type": "code",
   "execution_count": 13,
   "metadata": {},
   "outputs": [
    {
     "data": {
      "text/html": [
       "<div>\n",
       "<style scoped>\n",
       "    .dataframe tbody tr th:only-of-type {\n",
       "        vertical-align: middle;\n",
       "    }\n",
       "\n",
       "    .dataframe tbody tr th {\n",
       "        vertical-align: top;\n",
       "    }\n",
       "\n",
       "    .dataframe thead th {\n",
       "        text-align: right;\n",
       "    }\n",
       "</style>\n",
       "<table border=\"1\" class=\"dataframe\">\n",
       "  <thead>\n",
       "    <tr style=\"text-align: right;\">\n",
       "      <th></th>\n",
       "      <th>text</th>\n",
       "      <th>category</th>\n",
       "      <th>filename</th>\n",
       "      <th>topic</th>\n",
       "    </tr>\n",
       "  </thead>\n",
       "  <tbody>\n",
       "    <tr>\n",
       "      <th>0</th>\n",
       "      <td>From: Mamatha Devineni Ratnam &lt;mr47+@andrew.cm...</td>\n",
       "      <td>10</td>\n",
       "      <td>/home/codespace/scikit_learn_data/20news_home/...</td>\n",
       "      <td>rec.sport.hockey</td>\n",
       "    </tr>\n",
       "    <tr>\n",
       "      <th>7</th>\n",
       "      <td>From: dchhabra@stpl.ists.ca (Deepak Chhabra)\\n...</td>\n",
       "      <td>10</td>\n",
       "      <td>/home/codespace/scikit_learn_data/20news_home/...</td>\n",
       "      <td>rec.sport.hockey</td>\n",
       "    </tr>\n",
       "    <tr>\n",
       "      <th>8</th>\n",
       "      <td>From: dchhabra@stpl.ists.ca (Deepak Chhabra)\\n...</td>\n",
       "      <td>10</td>\n",
       "      <td>/home/codespace/scikit_learn_data/20news_home/...</td>\n",
       "      <td>rec.sport.hockey</td>\n",
       "    </tr>\n",
       "    <tr>\n",
       "      <th>24</th>\n",
       "      <td>From: cs902043@ariel.yorku.ca (SHAWN LUDDINGTO...</td>\n",
       "      <td>10</td>\n",
       "      <td>/home/codespace/scikit_learn_data/20news_home/...</td>\n",
       "      <td>rec.sport.hockey</td>\n",
       "    </tr>\n",
       "    <tr>\n",
       "      <th>44</th>\n",
       "      <td>From: gritter@cs.purdue.edu (Carl Gritter)\\nSu...</td>\n",
       "      <td>10</td>\n",
       "      <td>/home/codespace/scikit_learn_data/20news_home/...</td>\n",
       "      <td>rec.sport.hockey</td>\n",
       "    </tr>\n",
       "  </tbody>\n",
       "</table>\n",
       "</div>"
      ],
      "text/plain": [
       "                                                 text  category  \\\n",
       "0   From: Mamatha Devineni Ratnam <mr47+@andrew.cm...        10   \n",
       "7   From: dchhabra@stpl.ists.ca (Deepak Chhabra)\\n...        10   \n",
       "8   From: dchhabra@stpl.ists.ca (Deepak Chhabra)\\n...        10   \n",
       "24  From: cs902043@ariel.yorku.ca (SHAWN LUDDINGTO...        10   \n",
       "44  From: gritter@cs.purdue.edu (Carl Gritter)\\nSu...        10   \n",
       "\n",
       "                                             filename             topic  \n",
       "0   /home/codespace/scikit_learn_data/20news_home/...  rec.sport.hockey  \n",
       "7   /home/codespace/scikit_learn_data/20news_home/...  rec.sport.hockey  \n",
       "8   /home/codespace/scikit_learn_data/20news_home/...  rec.sport.hockey  \n",
       "24  /home/codespace/scikit_learn_data/20news_home/...  rec.sport.hockey  \n",
       "44  /home/codespace/scikit_learn_data/20news_home/...  rec.sport.hockey  "
      ]
     },
     "execution_count": 13,
     "metadata": {},
     "output_type": "execute_result"
    }
   ],
   "source": [
    "from sklearn.datasets import fetch_20newsgroups\n",
    "import numpy as np\n",
    "import pandas as pd\n",
    "import matplotlib.pyplot as plt\n",
    "\n",
    "news = fetch_20newsgroups(subset='all') # subset='all' means we want all the data ( train + test)\n",
    "prefix = \"/home/codespace/scikit_learn_data/20news_home/\"\n",
    "df = pd.DataFrame({'text': news.data, 'category': news.target, 'filename': news.filenames})\n",
    "# removing the prefix from the filename\n",
    "df['topic'] = df['filename'].apply(lambda x: x.replace(prefix, \"\").split(\"/\")[1])\n",
    "df.head()\n",
    "# filter rows with category 10\n",
    "df[df['category'] == 10].head()"
   ]
  },
  {
   "cell_type": "code",
   "execution_count": 38,
   "metadata": {},
   "outputs": [
    {
     "name": "stdout",
     "output_type": "stream",
     "text": [
      "                                                text  category  \\\n",
      "0  From: Mamatha Devineni Ratnam <mr47+@andrew.cm...        10   \n",
      "1  From: mblawson@midway.ecn.uoknor.edu (Matthew ...         3   \n",
      "2  From: hilmi-er@dsv.su.se (Hilmi Eren)\\nSubject...        17   \n",
      "3  From: guyd@austin.ibm.com (Guy Dawson)\\nSubjec...         3   \n",
      "4  From: Alexander Samuel McDiarmid <am2o+@andrew...         4   \n",
      "\n",
      "                                            filename  \\\n",
      "0  /home/codespace/scikit_learn_data/20news_home/...   \n",
      "1  /home/codespace/scikit_learn_data/20news_home/...   \n",
      "2  /home/codespace/scikit_learn_data/20news_home/...   \n",
      "3  /home/codespace/scikit_learn_data/20news_home/...   \n",
      "4  /home/codespace/scikit_learn_data/20news_home/...   \n",
      "\n",
      "                      topic        user_name email  \n",
      "0          rec.sport.hockey             Pens  None  \n",
      "1  comp.sys.ibm.pc.hardware  B.C.             None  \n",
      "2     talk.politics.mideast       Hilmi Eren  None  \n",
      "3  comp.sys.ibm.pc.hardware      Tel Hoskyns  None  \n",
      "4     comp.sys.mac.hardware          Jasmine  None  \n",
      "                                                 text  category  \\\n",
      "0   From: Mamatha Devineni Ratnam <mr47+@andrew.cm...        10   \n",
      "7   From: dchhabra@stpl.ists.ca (Deepak Chhabra)\\n...        10   \n",
      "8   From: dchhabra@stpl.ists.ca (Deepak Chhabra)\\n...        10   \n",
      "24  From: cs902043@ariel.yorku.ca (SHAWN LUDDINGTO...        10   \n",
      "44  From: gritter@cs.purdue.edu (Carl Gritter)\\nSu...        10   \n",
      "\n",
      "                                             filename             topic  \\\n",
      "0   /home/codespace/scikit_learn_data/20news_home/...  rec.sport.hockey   \n",
      "7   /home/codespace/scikit_learn_data/20news_home/...  rec.sport.hockey   \n",
      "8   /home/codespace/scikit_learn_data/20news_home/...  rec.sport.hockey   \n",
      "24  /home/codespace/scikit_learn_data/20news_home/...  rec.sport.hockey   \n",
      "44  /home/codespace/scikit_learn_data/20news_home/...  rec.sport.hockey   \n",
      "\n",
      "             user_name email  \n",
      "0                 Pens  None  \n",
      "7                  Btw  None  \n",
      "8   Valerie S. Hammerl  None  \n",
      "24               Shawn  None  \n",
      "44      Joe Nieuwendyk  None  \n"
     ]
    }
   ],
   "source": [
    "import re\n",
    "import spacy\n",
    "import numpy as np\n",
    "import pandas as pd\n",
    "from sklearn.datasets import fetch_20newsgroups\n",
    "\n",
    "# Load spaCy's English NER model\n",
    "nlp = spacy.load(\"en_core_web_sm\")\n",
    "\n",
    "def extract_user_info_ml(article):\n",
    "    # Process the article using spaCy\n",
    "    doc = nlp(article)\n",
    "    \n",
    "    user_name = None\n",
    "    email = None\n",
    "\n",
    "    # Extract user name and email from PERSON and EMAIL entities\n",
    "    for ent in doc.ents:\n",
    "        if ent.label_ == \"PERSON\":\n",
    "            user_name = ent.text\n",
    "        elif ent.label_ == \"EMAIL\":\n",
    "            email = ent.text\n",
    "\n",
    "    return user_name, email\n",
    "\n",
    "# Fetch the 20 Newsgroups dataset\n",
    "news = fetch_20newsgroups(subset='all')\n",
    "prefix = \"/home/codespace/scikit_learn_data/20news_home/\"\n",
    "\n",
    "# Create a DataFrame\n",
    "df = pd.DataFrame({'text': news.data, 'category': news.target, 'filename': news.filenames})\n",
    "df['topic'] = df['filename'].apply(lambda x: x.replace(prefix, \"\").split(\"/\")[1])\n",
    "\n",
    "# Extract user name and email for each article\n",
    "df['user_name'], df['email'] = zip(*df['text'].apply(extract_user_info_ml).apply(lambda x: (x[0], x[1])))\n",
    "\n",
    "# Display the DataFrame\n",
    "print(df.head())\n",
    "\n",
    "# Filter rows with category 10\n",
    "df_category_10 = df[df['category'] == 10]\n",
    "print(df_category_10.head())\n",
    "\n"
   ]
  },
  {
   "cell_type": "code",
   "execution_count": 37,
   "metadata": {},
   "outputs": [
    {
     "name": "stdout",
     "output_type": "stream",
     "text": [
      "Collecting en-core-web-sm==3.7.1\n",
      "  Downloading https://github.com/explosion/spacy-models/releases/download/en_core_web_sm-3.7.1/en_core_web_sm-3.7.1-py3-none-any.whl (12.8 MB)\n",
      "\u001b[2K     \u001b[90m━━━━━━━━━━━━━━━━━━━━━━━━━━━━━━━━━━━━━━━━\u001b[0m \u001b[32m12.8/12.8 MB\u001b[0m \u001b[31m57.2 MB/s\u001b[0m eta \u001b[36m0:00:00\u001b[0m00:01\u001b[0m00:01\u001b[0m\n",
      "\u001b[?25hRequirement already satisfied: spacy<3.8.0,>=3.7.2 in /home/codespace/.local/share/virtualenvs/Newsgroup-h-5eaQBu/lib/python3.10/site-packages (from en-core-web-sm==3.7.1) (3.7.2)\n",
      "Requirement already satisfied: spacy-legacy<3.1.0,>=3.0.11 in /home/codespace/.local/share/virtualenvs/Newsgroup-h-5eaQBu/lib/python3.10/site-packages (from spacy<3.8.0,>=3.7.2->en-core-web-sm==3.7.1) (3.0.12)\n",
      "Requirement already satisfied: spacy-loggers<2.0.0,>=1.0.0 in /home/codespace/.local/share/virtualenvs/Newsgroup-h-5eaQBu/lib/python3.10/site-packages (from spacy<3.8.0,>=3.7.2->en-core-web-sm==3.7.1) (1.0.5)\n",
      "Requirement already satisfied: murmurhash<1.1.0,>=0.28.0 in /home/codespace/.local/share/virtualenvs/Newsgroup-h-5eaQBu/lib/python3.10/site-packages (from spacy<3.8.0,>=3.7.2->en-core-web-sm==3.7.1) (1.0.10)\n",
      "Requirement already satisfied: cymem<2.1.0,>=2.0.2 in /home/codespace/.local/share/virtualenvs/Newsgroup-h-5eaQBu/lib/python3.10/site-packages (from spacy<3.8.0,>=3.7.2->en-core-web-sm==3.7.1) (2.0.8)\n",
      "Requirement already satisfied: preshed<3.1.0,>=3.0.2 in /home/codespace/.local/share/virtualenvs/Newsgroup-h-5eaQBu/lib/python3.10/site-packages (from spacy<3.8.0,>=3.7.2->en-core-web-sm==3.7.1) (3.0.9)\n",
      "Requirement already satisfied: thinc<8.3.0,>=8.1.8 in /home/codespace/.local/share/virtualenvs/Newsgroup-h-5eaQBu/lib/python3.10/site-packages (from spacy<3.8.0,>=3.7.2->en-core-web-sm==3.7.1) (8.2.1)\n",
      "Requirement already satisfied: wasabi<1.2.0,>=0.9.1 in /home/codespace/.local/share/virtualenvs/Newsgroup-h-5eaQBu/lib/python3.10/site-packages (from spacy<3.8.0,>=3.7.2->en-core-web-sm==3.7.1) (1.1.2)\n",
      "Requirement already satisfied: srsly<3.0.0,>=2.4.3 in /home/codespace/.local/share/virtualenvs/Newsgroup-h-5eaQBu/lib/python3.10/site-packages (from spacy<3.8.0,>=3.7.2->en-core-web-sm==3.7.1) (2.4.8)\n",
      "Requirement already satisfied: catalogue<2.1.0,>=2.0.6 in /home/codespace/.local/share/virtualenvs/Newsgroup-h-5eaQBu/lib/python3.10/site-packages (from spacy<3.8.0,>=3.7.2->en-core-web-sm==3.7.1) (2.0.10)\n",
      "Requirement already satisfied: weasel<0.4.0,>=0.1.0 in /home/codespace/.local/share/virtualenvs/Newsgroup-h-5eaQBu/lib/python3.10/site-packages (from spacy<3.8.0,>=3.7.2->en-core-web-sm==3.7.1) (0.3.4)\n",
      "Requirement already satisfied: typer<0.10.0,>=0.3.0 in /home/codespace/.local/share/virtualenvs/Newsgroup-h-5eaQBu/lib/python3.10/site-packages (from spacy<3.8.0,>=3.7.2->en-core-web-sm==3.7.1) (0.9.0)\n",
      "Requirement already satisfied: smart-open<7.0.0,>=5.2.1 in /home/codespace/.local/share/virtualenvs/Newsgroup-h-5eaQBu/lib/python3.10/site-packages (from spacy<3.8.0,>=3.7.2->en-core-web-sm==3.7.1) (6.4.0)\n",
      "Requirement already satisfied: tqdm<5.0.0,>=4.38.0 in /home/codespace/.local/share/virtualenvs/Newsgroup-h-5eaQBu/lib/python3.10/site-packages (from spacy<3.8.0,>=3.7.2->en-core-web-sm==3.7.1) (4.66.1)\n",
      "Requirement already satisfied: requests<3.0.0,>=2.13.0 in /home/codespace/.local/share/virtualenvs/Newsgroup-h-5eaQBu/lib/python3.10/site-packages (from spacy<3.8.0,>=3.7.2->en-core-web-sm==3.7.1) (2.31.0)\n",
      "Requirement already satisfied: pydantic!=1.8,!=1.8.1,<3.0.0,>=1.7.4 in /home/codespace/.local/share/virtualenvs/Newsgroup-h-5eaQBu/lib/python3.10/site-packages (from spacy<3.8.0,>=3.7.2->en-core-web-sm==3.7.1) (2.5.1)\n",
      "Requirement already satisfied: jinja2 in /home/codespace/.local/share/virtualenvs/Newsgroup-h-5eaQBu/lib/python3.10/site-packages (from spacy<3.8.0,>=3.7.2->en-core-web-sm==3.7.1) (3.1.2)\n",
      "Requirement already satisfied: setuptools in /home/codespace/.local/share/virtualenvs/Newsgroup-h-5eaQBu/lib/python3.10/site-packages (from spacy<3.8.0,>=3.7.2->en-core-web-sm==3.7.1) (68.2.0)\n",
      "Requirement already satisfied: packaging>=20.0 in /home/codespace/.local/share/virtualenvs/Newsgroup-h-5eaQBu/lib/python3.10/site-packages (from spacy<3.8.0,>=3.7.2->en-core-web-sm==3.7.1) (23.2)\n",
      "Requirement already satisfied: langcodes<4.0.0,>=3.2.0 in /home/codespace/.local/share/virtualenvs/Newsgroup-h-5eaQBu/lib/python3.10/site-packages (from spacy<3.8.0,>=3.7.2->en-core-web-sm==3.7.1) (3.3.0)\n",
      "Requirement already satisfied: numpy>=1.19.0 in /home/codespace/.local/share/virtualenvs/Newsgroup-h-5eaQBu/lib/python3.10/site-packages (from spacy<3.8.0,>=3.7.2->en-core-web-sm==3.7.1) (1.26.2)\n",
      "Requirement already satisfied: annotated-types>=0.4.0 in /home/codespace/.local/share/virtualenvs/Newsgroup-h-5eaQBu/lib/python3.10/site-packages (from pydantic!=1.8,!=1.8.1,<3.0.0,>=1.7.4->spacy<3.8.0,>=3.7.2->en-core-web-sm==3.7.1) (0.6.0)\n",
      "Requirement already satisfied: pydantic-core==2.14.3 in /home/codespace/.local/share/virtualenvs/Newsgroup-h-5eaQBu/lib/python3.10/site-packages (from pydantic!=1.8,!=1.8.1,<3.0.0,>=1.7.4->spacy<3.8.0,>=3.7.2->en-core-web-sm==3.7.1) (2.14.3)\n",
      "Requirement already satisfied: typing-extensions>=4.6.1 in /home/codespace/.local/share/virtualenvs/Newsgroup-h-5eaQBu/lib/python3.10/site-packages (from pydantic!=1.8,!=1.8.1,<3.0.0,>=1.7.4->spacy<3.8.0,>=3.7.2->en-core-web-sm==3.7.1) (4.8.0)\n",
      "Requirement already satisfied: charset-normalizer<4,>=2 in /home/codespace/.local/share/virtualenvs/Newsgroup-h-5eaQBu/lib/python3.10/site-packages (from requests<3.0.0,>=2.13.0->spacy<3.8.0,>=3.7.2->en-core-web-sm==3.7.1) (3.3.2)\n",
      "Requirement already satisfied: idna<4,>=2.5 in /home/codespace/.local/share/virtualenvs/Newsgroup-h-5eaQBu/lib/python3.10/site-packages (from requests<3.0.0,>=2.13.0->spacy<3.8.0,>=3.7.2->en-core-web-sm==3.7.1) (3.4)\n",
      "Requirement already satisfied: urllib3<3,>=1.21.1 in /home/codespace/.local/share/virtualenvs/Newsgroup-h-5eaQBu/lib/python3.10/site-packages (from requests<3.0.0,>=2.13.0->spacy<3.8.0,>=3.7.2->en-core-web-sm==3.7.1) (2.1.0)\n",
      "Requirement already satisfied: certifi>=2017.4.17 in /home/codespace/.local/share/virtualenvs/Newsgroup-h-5eaQBu/lib/python3.10/site-packages (from requests<3.0.0,>=2.13.0->spacy<3.8.0,>=3.7.2->en-core-web-sm==3.7.1) (2023.11.17)\n",
      "Requirement already satisfied: blis<0.8.0,>=0.7.8 in /home/codespace/.local/share/virtualenvs/Newsgroup-h-5eaQBu/lib/python3.10/site-packages (from thinc<8.3.0,>=8.1.8->spacy<3.8.0,>=3.7.2->en-core-web-sm==3.7.1) (0.7.11)\n",
      "Requirement already satisfied: confection<1.0.0,>=0.0.1 in /home/codespace/.local/share/virtualenvs/Newsgroup-h-5eaQBu/lib/python3.10/site-packages (from thinc<8.3.0,>=8.1.8->spacy<3.8.0,>=3.7.2->en-core-web-sm==3.7.1) (0.1.3)\n",
      "Requirement already satisfied: click<9.0.0,>=7.1.1 in /home/codespace/.local/share/virtualenvs/Newsgroup-h-5eaQBu/lib/python3.10/site-packages (from typer<0.10.0,>=0.3.0->spacy<3.8.0,>=3.7.2->en-core-web-sm==3.7.1) (8.1.7)\n",
      "Requirement already satisfied: cloudpathlib<0.17.0,>=0.7.0 in /home/codespace/.local/share/virtualenvs/Newsgroup-h-5eaQBu/lib/python3.10/site-packages (from weasel<0.4.0,>=0.1.0->spacy<3.8.0,>=3.7.2->en-core-web-sm==3.7.1) (0.16.0)\n",
      "Requirement already satisfied: MarkupSafe>=2.0 in /home/codespace/.local/share/virtualenvs/Newsgroup-h-5eaQBu/lib/python3.10/site-packages (from jinja2->spacy<3.8.0,>=3.7.2->en-core-web-sm==3.7.1) (2.1.3)\n",
      "Installing collected packages: en-core-web-sm\n",
      "Successfully installed en-core-web-sm-3.7.1\n",
      "\n",
      "\u001b[1m[\u001b[0m\u001b[34;49mnotice\u001b[0m\u001b[1;39;49m]\u001b[0m\u001b[39;49m A new release of pip is available: \u001b[0m\u001b[31;49m23.2.1\u001b[0m\u001b[39;49m -> \u001b[0m\u001b[32;49m23.3.1\u001b[0m\n",
      "\u001b[1m[\u001b[0m\u001b[34;49mnotice\u001b[0m\u001b[1;39;49m]\u001b[0m\u001b[39;49m To update, run: \u001b[0m\u001b[32;49mpip install --upgrade pip\u001b[0m\n",
      "\u001b[38;5;2m✔ Download and installation successful\u001b[0m\n",
      "You can now load the package via spacy.load('en_core_web_sm')\n"
     ]
    }
   ],
   "source": [
    "!pip install spacy\n",
    "!python -m spacy download en_core_web_sm\n"
   ]
  },
  {
   "cell_type": "markdown",
   "metadata": {},
   "source": []
  },
  {
   "cell_type": "code",
   "execution_count": 14,
   "metadata": {},
   "outputs": [
    {
     "name": "stderr",
     "output_type": "stream",
     "text": [
      "[nltk_data] Downloading package stopwords to\n",
      "[nltk_data]     /home/codespace/nltk_data...\n",
      "[nltk_data]   Package stopwords is already up-to-date!\n"
     ]
    }
   ],
   "source": [
    "import nltk\n",
    "nltk.download('stopwords')\n",
    "from nltk.corpus import stopwords\n",
    "\n",
    "\n",
    "\n",
    "def remove_stopwords(text):\n",
    "    \"\"\"Remove stopwords from a text\"\"\"\n",
    "    words = text.split()\n",
    "    return \" \".join([word for word in words if word not in stop_words])\n",
    "\n"
   ]
  },
  {
   "cell_type": "code",
   "execution_count": 15,
   "metadata": {},
   "outputs": [
    {
     "name": "stdout",
     "output_type": "stream",
     "text": [
      "Requirement already satisfied: beautifulsoup4 in /home/codespace/.local/share/virtualenvs/Newsgroup-h-5eaQBu/lib/python3.10/site-packages (4.12.2)\n",
      "Requirement already satisfied: soupsieve>1.2 in /home/codespace/.local/share/virtualenvs/Newsgroup-h-5eaQBu/lib/python3.10/site-packages (from beautifulsoup4) (2.5)\n",
      "\n",
      "\u001b[1m[\u001b[0m\u001b[34;49mnotice\u001b[0m\u001b[1;39;49m]\u001b[0m\u001b[39;49m A new release of pip is available: \u001b[0m\u001b[31;49m23.2.1\u001b[0m\u001b[39;49m -> \u001b[0m\u001b[32;49m23.3.1\u001b[0m\n",
      "\u001b[1m[\u001b[0m\u001b[34;49mnotice\u001b[0m\u001b[1;39;49m]\u001b[0m\u001b[39;49m To update, run: \u001b[0m\u001b[32;49mpip install --upgrade pip\u001b[0m\n"
     ]
    }
   ],
   "source": [
    "!pip3 install beautifulsoup4"
   ]
  },
  {
   "cell_type": "code",
   "execution_count": 16,
   "metadata": {},
   "outputs": [
    {
     "name": "stderr",
     "output_type": "stream",
     "text": [
      "[nltk_data] Downloading package stopwords to\n",
      "[nltk_data]     /home/codespace/nltk_data...\n",
      "[nltk_data]   Package stopwords is already up-to-date!\n",
      "[nltk_data] Downloading package punkt to /home/codespace/nltk_data...\n",
      "[nltk_data]   Package punkt is already up-to-date!\n",
      "/tmp/ipykernel_1658/1955126427.py:11: MarkupResemblesLocatorWarning: The input looks more like a filename than markup. You may want to open this file and pass the filehandle into Beautiful Soup.\n",
      "  soup = BeautifulSoup(text, \"html.parser\")\n"
     ]
    }
   ],
   "source": [
    "# A test attempt to extract name and email from text\n",
    "import re\n",
    "from nltk.corpus import stopwords\n",
    "from nltk.tokenize import word_tokenize\n",
    "from nltk.stem import PorterStemmer\n",
    "from bs4 import BeautifulSoup\n",
    "\n",
    "nltk.download('stopwords')\n",
    "nltk.download('punkt')\n",
    "\n",
    "def strip_tags(text):\n",
    "    soup = BeautifulSoup(text, \"html.parser\")\n",
    "    return soup.get_text()\n",
    "\n",
    "def strip_numeric(text):\n",
    "    return re.sub(r'\\d+', '', text)\n",
    "\n",
    "def strip_punctuation(text):\n",
    "    return re.sub(r'[^\\w\\s]', '', text)\n",
    "\n",
    "def strip_multiple_whitespaces(text):\n",
    "    return re.sub(r'\\s+', ' ', text).strip()\n",
    "\n",
    "def transform_to_lower(text):\n",
    "    return text.lower()\n",
    "\n",
    "def remove_stopwords(text):\n",
    "    stop_words = set(stopwords.words('english'))\n",
    "    words = word_tokenize(text)\n",
    "    filtered_words = [word for word in words if word.lower() not in stop_words]\n",
    "    return ' '.join(filtered_words)\n",
    "\n",
    "def remove_single_char(text):\n",
    "    words = word_tokenize(text)\n",
    "    filtered_words = [word for word in words if len(word) > 1]\n",
    "    return ' '.join(filtered_words)\n",
    "\n",
    "def clean_text(text):\n",
    "    if text is None:\n",
    "        return \"\"\n",
    "    text = strip_tags(text)\n",
    "    text = strip_numeric(text)\n",
    "    text = strip_punctuation(text)\n",
    "    text = strip_multiple_whitespaces(text)\n",
    "    text = transform_to_lower(text)\n",
    "    text = remove_stopwords(text)\n",
    "    text = remove_single_char(text)\n",
    "    return text\n",
    "\n",
    "df['clean_text'] = df['text'].apply(clean_text)\n"
   ]
  },
  {
   "cell_type": "code",
   "execution_count": 17,
   "metadata": {},
   "outputs": [
    {
     "data": {
      "text/html": [
       "<div>\n",
       "<style scoped>\n",
       "    .dataframe tbody tr th:only-of-type {\n",
       "        vertical-align: middle;\n",
       "    }\n",
       "\n",
       "    .dataframe tbody tr th {\n",
       "        vertical-align: top;\n",
       "    }\n",
       "\n",
       "    .dataframe thead th {\n",
       "        text-align: right;\n",
       "    }\n",
       "</style>\n",
       "<table border=\"1\" class=\"dataframe\">\n",
       "  <thead>\n",
       "    <tr style=\"text-align: right;\">\n",
       "      <th></th>\n",
       "      <th>text</th>\n",
       "      <th>category</th>\n",
       "      <th>filename</th>\n",
       "      <th>topic</th>\n",
       "      <th>clean_text</th>\n",
       "    </tr>\n",
       "  </thead>\n",
       "  <tbody>\n",
       "    <tr>\n",
       "      <th>0</th>\n",
       "      <td>From: Mamatha Devineni Ratnam &lt;mr47+@andrew.cm...</td>\n",
       "      <td>10</td>\n",
       "      <td>/home/codespace/scikit_learn_data/20news_home/...</td>\n",
       "      <td>rec.sport.hockey</td>\n",
       "      <td>mamatha devineni ratnam subject pens fans reac...</td>\n",
       "    </tr>\n",
       "    <tr>\n",
       "      <th>1</th>\n",
       "      <td>From: mblawson@midway.ecn.uoknor.edu (Matthew ...</td>\n",
       "      <td>3</td>\n",
       "      <td>/home/codespace/scikit_learn_data/20news_home/...</td>\n",
       "      <td>comp.sys.ibm.pc.hardware</td>\n",
       "      <td>mblawsonmidwayecnuoknoredu matthew lawson subj...</td>\n",
       "    </tr>\n",
       "    <tr>\n",
       "      <th>2</th>\n",
       "      <td>From: hilmi-er@dsv.su.se (Hilmi Eren)\\nSubject...</td>\n",
       "      <td>17</td>\n",
       "      <td>/home/codespace/scikit_learn_data/20news_home/...</td>\n",
       "      <td>talk.politics.mideast</td>\n",
       "      <td>hilmierdsvsuse hilmi eren subject armenia says...</td>\n",
       "    </tr>\n",
       "    <tr>\n",
       "      <th>3</th>\n",
       "      <td>From: guyd@austin.ibm.com (Guy Dawson)\\nSubjec...</td>\n",
       "      <td>3</td>\n",
       "      <td>/home/codespace/scikit_learn_data/20news_home/...</td>\n",
       "      <td>comp.sys.ibm.pc.hardware</td>\n",
       "      <td>guydaustinibmcom guy dawson subject ide vs scs...</td>\n",
       "    </tr>\n",
       "    <tr>\n",
       "      <th>4</th>\n",
       "      <td>From: Alexander Samuel McDiarmid &lt;am2o+@andrew...</td>\n",
       "      <td>4</td>\n",
       "      <td>/home/codespace/scikit_learn_data/20news_home/...</td>\n",
       "      <td>comp.sys.mac.hardware</td>\n",
       "      <td>alexander samuel mcdiarmid subject driver orga...</td>\n",
       "    </tr>\n",
       "  </tbody>\n",
       "</table>\n",
       "</div>"
      ],
      "text/plain": [
       "                                                text  category  \\\n",
       "0  From: Mamatha Devineni Ratnam <mr47+@andrew.cm...        10   \n",
       "1  From: mblawson@midway.ecn.uoknor.edu (Matthew ...         3   \n",
       "2  From: hilmi-er@dsv.su.se (Hilmi Eren)\\nSubject...        17   \n",
       "3  From: guyd@austin.ibm.com (Guy Dawson)\\nSubjec...         3   \n",
       "4  From: Alexander Samuel McDiarmid <am2o+@andrew...         4   \n",
       "\n",
       "                                            filename  \\\n",
       "0  /home/codespace/scikit_learn_data/20news_home/...   \n",
       "1  /home/codespace/scikit_learn_data/20news_home/...   \n",
       "2  /home/codespace/scikit_learn_data/20news_home/...   \n",
       "3  /home/codespace/scikit_learn_data/20news_home/...   \n",
       "4  /home/codespace/scikit_learn_data/20news_home/...   \n",
       "\n",
       "                      topic                                         clean_text  \n",
       "0          rec.sport.hockey  mamatha devineni ratnam subject pens fans reac...  \n",
       "1  comp.sys.ibm.pc.hardware  mblawsonmidwayecnuoknoredu matthew lawson subj...  \n",
       "2     talk.politics.mideast  hilmierdsvsuse hilmi eren subject armenia says...  \n",
       "3  comp.sys.ibm.pc.hardware  guydaustinibmcom guy dawson subject ide vs scs...  \n",
       "4     comp.sys.mac.hardware  alexander samuel mcdiarmid subject driver orga...  "
      ]
     },
     "execution_count": 17,
     "metadata": {},
     "output_type": "execute_result"
    }
   ],
   "source": [
    "df.head()"
   ]
  },
  {
   "cell_type": "code",
   "execution_count": 30,
   "metadata": {},
   "outputs": [],
   "source": [
    "# write the first 5 texts to a file\n",
    "with open('sample.txt', 'w') as f:\n",
    "    for text in df['text'][:5]:\n",
    "        f.write(text + '\\n')"
   ]
  },
  {
   "cell_type": "code",
   "execution_count": 23,
   "metadata": {},
   "outputs": [
    {
     "data": {
      "text/plain": [
       "<Axes: xlabel='topic'>"
      ]
     },
     "execution_count": 23,
     "metadata": {},
     "output_type": "execute_result"
    },
    {
     "data": {
      "image/png": "[encoded data removed]",
      "text/plain": [
       "<Figure size 640x480 with 1 Axes>"
      ]
     },
     "metadata": {},
     "output_type": "display_data"
    }
   ],
   "source": [
    "# count of  articles that start with From in the text\n",
    "df[df['text'].str.startswith(\"From\")].shape[0]\n",
    "\n",
    "# count of  articles that start withou From in the text\n",
    "df[~df['text'].str.startswith(\"From\")].shape[0]\n",
    "\n",
    "without_from = df[~df['text'].str.startswith(\"From\")]\n",
    "without_from.head()\n",
    "\n",
    "# bar plot of the categories of without_from\n",
    "without_from['topic'].value_counts().plot(kind='bar')\n"
   ]
  },
  {
   "cell_type": "code",
   "execution_count": 26,
   "metadata": {},
   "outputs": [
    {
     "name": "stderr",
     "output_type": "stream",
     "text": [
      "/tmp/ipykernel_1658/344941306.py:3: SettingWithCopyWarning: \n",
      "A value is trying to be set on a copy of a slice from a DataFrame.\n",
      "Try using .loc[row_indexer,col_indexer] = value instead\n",
      "\n",
      "See the caveats in the documentation: https://pandas.pydata.org/pandas-docs/stable/user_guide/indexing.html#returning-a-view-versus-a-copy\n",
      "  without_from['starting_word'] = without_from['text'].apply(lambda x: x.split()[0])\n"
     ]
    }
   ],
   "source": [
    "without_from\n",
    "# starting word of the text in a new column\n",
    "without_from['starting_word'] = without_from['text'].apply(lambda x: x.split()[0])"
   ]
  },
  {
   "cell_type": "code",
   "execution_count": 28,
   "metadata": {},
   "outputs": [
    {
     "data": {
      "text/plain": [
       "array(['Subject:', 'Organization:', 'Distribution:',\n",
       "       'egsner!ernest!m2.dseg.ti.com!tilde.csc.ti.com!mksol!kerr.dseg.ti.com!kkerr@mkcase1.dseg.ti.com',\n",
       "       'howland.reston.ans.net!europa.eng.gtefsd.com!uunet!mcsun!Germany.EU.net!news.dfn.de!tubsibr!dbstu1.rz.tu-bs.de!I3150101',\n",
       "       'Nntp-Posting-Host:',\n",
       "       'zaphod.mps.ohio-state.edu!wupost!uunet!olivea!sgigate!odin!fido!solntze.wpd.sgi.com!livesey',\n",
       "       'Reply-To:',\n",
       "       'uunet!olivea!sgigate!sgiblab!adagio.panasonic.com!nntp-server.caltech.edu!keith',\n",
       "       'X-Mailer:',\n",
       "       'agate!iat.holonet.net!psinntp!psinntp!megatest!mithril!alung',\n",
       "       'howland.reston.ans.net!usenet.ins.cwru.edu!news.csuohio.edu!vmcms.csuohio.edu!R1328',\n",
       "       'howland.reston.ans.net!noc.near.net!uunet!newsstand.cit.cornell.edu!vax5.cit.cornell.edu!yecx',\n",
       "       'agate!ames!purdue!mentor.cc.purdue.edu!sage.cc.purdue.edu!kari',\n",
       "       'zaphod.mps.ohio-state.edu!usc!elroy.jpl.nasa.gov!nntp-server.caltech.edu!juliet.caltech.edu!lmh',\n",
       "       'wupost!uunet!olivea!sgigate!sgi!fido!solntze.wpd.sgi.com!livesey',\n",
       "       'To:',\n",
       "       'howland.reston.ans.net!europa.eng.gtefsd.com!fs7.ece.cmu.edu!news.sei.cmu.edu!dpw',\n",
       "       'cs.utexas.edu!uunet!olivea!sgigate!sgiblab!adagio.panasonic.com!nntp-server.caltech.edu!keith',\n",
       "       'cs.utexas.edu!geraldo.cc.utexas.edu!portal.austin.ibm.com!awdprime.austin.ibm.com!zazen',\n",
       "       'sgiblab!adagio.panasonic.com!nntp-server.caltech.edu!keith',\n",
       "       'X-To:',\n",
       "       'ftpbox!mothost!motsrd!white!sapphire.rtsg.mot.com!shale!dusek',\n",
       "       'cs.utexas.edu!uunet!olivea!sgigate!sgiblab!adagio.panasonic.com!nntp-server.caltech.edu!bdunn',\n",
       "       'cs.utexas.edu!geraldo.cc.utexas.edu!portal.austin.ibm.com!awdprime.austin.ibm.com!karner',\n",
       "       'Orginization:', 'pashosh.wisdom.weizmann.ac.il',\n",
       "       'wiscon.weizmann.ac.il!jhsegal', 'organization:'], dtype=object)"
      ]
     },
     "execution_count": 28,
     "metadata": {},
     "output_type": "execute_result"
    }
   ],
   "source": [
    "# unique starting words\n",
    "without_from['starting_word'].unique()"
   ]
  },
  {
   "cell_type": "code",
   "execution_count": 20,
   "metadata": {},
   "outputs": [
    {
     "data": {
      "text/plain": [
       "18846"
      ]
     },
     "execution_count": 20,
     "metadata": {},
     "output_type": "execute_result"
    }
   ],
   "source": [
    "df.shape[0]"
   ]
  }
 ],
 "metadata": {
  "kernelspec": {
   "display_name": "Newsgroup-h-5eaQBu",
   "language": "python",
   "name": "python3"
  },
  "language_info": {
   "codemirror_mode": {
    "name": "ipython",
    "version": 3
   },
   "file_extension": ".py",
   "mimetype": "text/x-python",
   "name": "python",
   "nbconvert_exporter": "python",
   "pygments_lexer": "ipython3",
   "version": "3.10.8"
  }
 },
 "nbformat": 4,
 "nbformat_minor": 2
}
